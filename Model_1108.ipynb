{
  "nbformat": 4,
  "nbformat_minor": 0,
  "metadata": {
    "colab": {
      "provenance": [],
      "collapsed_sections": [],
      "authorship_tag": "ABX9TyPWaAHTIYpUoqTrmmpUlhiU",
      "include_colab_link": true
    },
    "kernelspec": {
      "name": "python3",
      "display_name": "Python 3"
    },
    "language_info": {
      "name": "python"
    }
  },
  "cells": [
    {
      "cell_type": "markdown",
      "metadata": {
        "id": "view-in-github",
        "colab_type": "text"
      },
      "source": [
        "<a href=\"https://colab.research.google.com/github/cool60334/Team_Project_Model/blob/main/Model_1108.ipynb\" target=\"_parent\"><img src=\"https://colab.research.google.com/assets/colab-badge.svg\" alt=\"Open In Colab\"/></a>"
      ]
    },
    {
      "cell_type": "code",
      "execution_count": null,
      "metadata": {
        "id": "3rxA003vQEbC"
      },
      "outputs": [],
      "source": [
        "import pandas as pd"
      ]
    },
    {
      "cell_type": "markdown",
      "source": [
        "台北市房屋交易_1110_2.csv 在github\n"
      ],
      "metadata": {
        "id": "9_vXXWkAeFPd"
      }
    },
    {
      "cell_type": "code",
      "source": [
        "# 讀取csv檔案\n",
        "f = pd.read_csv(\"台北市房屋交易_1110_2.csv\", encoding = \"utf-8\")\n",
        "pd.set_option('display.max_columns', 200)  # 增加顯示的列數"
      ],
      "metadata": {
        "id": "oJCZtzKlQMeN"
      },
      "execution_count": null,
      "outputs": []
    },
    {
      "cell_type": "code",
      "source": [
        "# 去除非數值欄位(鄉鎮市區、地址、交易年月日、建築完成年月、交易年分、建築年分、緯度、經度)\n",
        "# 去除已轉換成one-hot欄位(交易標的、土地使用分區、建築型態、主要用途、主要建材、車位類別)\n",
        "\n",
        "f = f.drop([\"dis\", \"sign\", \"add\", \"zone\", \"tradeymd\", \"state\", \"mainuse\", \"mater\", \"comy\", \"parkcat\", \"tradeyr\", \"buildyr\", \"lat\", \"lng\"], axis=1)"
      ],
      "metadata": {
        "id": "3ixgnf4xbrcG"
      },
      "execution_count": null,
      "outputs": []
    },
    {
      "cell_type": "code",
      "source": [
        "from sklearn.model_selection import train_test_split "
      ],
      "metadata": {
        "id": "H_muP-dLzGrz"
      },
      "execution_count": null,
      "outputs": []
    },
    {
      "cell_type": "code",
      "source": [
        "import numpy as np"
      ],
      "metadata": {
        "id": "9t2YhPOuzS0F"
      },
      "execution_count": null,
      "outputs": []
    },
    {
      "cell_type": "code",
      "source": [
        "# 將土地移轉總面積平方公尺 標準化\n",
        "f[\"totalm2\"] = (f[\"totalm2\"] - f[\"totalm2\"].mean())/\\\n",
        "            (f[\"totalm2\"].std())"
      ],
      "metadata": {
        "id": "QJOlbwLGFPsh"
      },
      "execution_count": null,
      "outputs": []
    },
    {
      "cell_type": "code",
      "source": [
        "# 將建物移轉總面積平方公尺 標準化\n",
        "f[\"totalbm2\"] = (f[\"totalbm2\"] - f[\"totalbm2\"].mean())/\\\n",
        "            (f[\"totalbm2\"].std()) "
      ],
      "metadata": {
        "id": "7FDKz99hGnC5"
      },
      "execution_count": null,
      "outputs": []
    },
    {
      "cell_type": "code",
      "source": [
        "# 總價 標準化\n",
        "f[\"tp\"] = (f[\"tp\"] - f[\"tp\"].mean())/\\\n",
        "            (f[\"tp\"].std())"
      ],
      "metadata": {
        "id": "tw_mkcsPIKuz"
      },
      "execution_count": null,
      "outputs": []
    },
    {
      "cell_type": "code",
      "source": [
        "# 將車位移轉總面積(平方公尺) 標準化\n",
        "f[\"parkm2\"] = (f[\"parkm2\"] - f[\"parkm2\"].mean())/\\\n",
        "            (f[\"parkm2\"].std())"
      ],
      "metadata": {
        "id": "HgYRajSnIjOX"
      },
      "execution_count": null,
      "outputs": []
    },
    {
      "cell_type": "code",
      "source": [
        "# 將車位總價元 標準化\n",
        "f[\"parkp\"] = (f[\"parkp\"] - f[\"parkp\"].mean())/\\\n",
        "            (f[\"parkp\"].std())"
      ],
      "metadata": {
        "id": "kKImlD-PI3dq"
      },
      "execution_count": null,
      "outputs": []
    },
    {
      "cell_type": "code",
      "source": [
        "# 將主建物面積 標準化\n",
        "f[\"mainbm2\"] = (f[\"mainbm2\"] - f[\"mainbm2\"].mean())/\\\n",
        "            (f[\"mainbm2\"].std())"
      ],
      "metadata": {
        "id": "M8b3C1LDJB-B"
      },
      "execution_count": null,
      "outputs": []
    },
    {
      "cell_type": "code",
      "source": [
        "# 將附屬建物面積 標準化\n",
        "f[\"auxbm2\"] = (f[\"auxbm2\"] - f[\"auxbm2\"].mean())/\\\n",
        "            (f[\"auxbm2\"].std())"
      ],
      "metadata": {
        "id": "21J9OWavJSCA"
      },
      "execution_count": null,
      "outputs": []
    },
    {
      "cell_type": "code",
      "source": [
        "# 將陽台面積 標準化\n",
        "f[\"balm2\"] = (f[\"balm2\"] - f[\"balm2\"].mean())/\\\n",
        "            (f[\"balm2\"].std())"
      ],
      "metadata": {
        "id": "ifUm5E8lJkGm"
      },
      "execution_count": null,
      "outputs": []
    },
    {
      "cell_type": "code",
      "source": [
        "# 將所得中位數 標準化\n",
        "f[\"med\"] = (f[\"med\"] - f[\"med\"].mean())/\\\n",
        "            (f[\"med\"].std())"
      ],
      "metadata": {
        "id": "ZJePogX1JuqI"
      },
      "execution_count": null,
      "outputs": []
    },
    {
      "cell_type": "code",
      "source": [
        "f.head()\n",
        "f = f.drop([\"year_average_cpi\", \"year_increase_cpi\", \"med\", \"park_d\", \"park_q\", \"mu_d\", \"mu_q\", \"lib_d\", \"lib_q\", \"mrt_d\", \"mrt_q\", \n",
        "        \"edu_d\", \"edu_q\", \"fire_d\", \"fire_q\", \"dead_d\", \"dead_q\", \"pol_d\", \"pol_q\", \"post_d\", \"post_q\", \"hosp_d\", \"hosp_q\",\n",
        "            \"fin_d\", \"fin_q\"], axis=1)"
      ],
      "metadata": {
        "id": "9HdIRv7kYcKZ"
      },
      "execution_count": null,
      "outputs": []
    },
    {
      "cell_type": "code",
      "source": [
        "f.head()"
      ],
      "metadata": {
        "colab": {
          "base_uri": "https://localhost:8080/",
          "height": 461
        },
        "id": "uD6kCnCAZzZi",
        "outputId": "92bd33cd-ae09-4acd-8112-e10b71b9edfd"
      },
      "execution_count": null,
      "outputs": [
        {
          "output_type": "execute_result",
          "data": {
            "text/plain": [
              "    totalm2  tradef  totalf  totalbm2  room  hall  health  sep  org        tp  \\\n",
              "0  0.689639       6      11  2.196536     0     0       0    0    1  2.414124   \n",
              "1  0.078852       2       5 -0.127611     3     2       2    1    0 -0.637805   \n",
              "2  0.057990       3       4 -0.306758     2     1       1    1    0 -0.167940   \n",
              "3  0.095078       3       4 -0.293217     3     1       2    1    0 -0.769543   \n",
              "4 -0.491370     100       3 -0.676030     3     3       3    1    0 -0.923237   \n",
              "\n",
              "    unitp    parkm2     parkp   mainbm2    auxbm2     balm2  ele  建物  \\\n",
              "0  178307  2.983514  3.149126  0.984512  0.662454 -1.069258    1   0   \n",
              "1  102820 -0.398459 -0.334222  0.054407 -0.300273  0.935205    0   0   \n",
              "2  291409 -0.398459 -0.334222 -0.072108 -0.300273 -1.069258    0   0   \n",
              "3  100040 -0.398459 -0.334222 -0.125819 -0.300273  0.465764    0   0   \n",
              "4  327600 -0.398459 -0.334222 -0.521931 -0.300273 -1.069258    0   0   \n",
              "\n",
              "   房地(土地+建物)  房地(土地+建物)+車位  住  其他都市土地使用分區  商  住商用  住家用  其他主要用途  商業用  工業用  辦公用  \\\n",
              "0          0             1  0           1  0    0    0       0    0    0    1   \n",
              "1          1             0  1           0  0    0    1       0    0    0    0   \n",
              "2          1             0  1           0  0    0    1       0    0    0    0   \n",
              "3          1             0  1           0  0    0    1       0    0    0    0   \n",
              "4          1             0  0           0  1    0    1       0    0    0    0   \n",
              "\n",
              "   磚造  鋼筋混凝土造  鋼骨造  其他車位類別  坡道平面  機械車位  無車位  age  住宅大樓(11層含以上有電梯)  \\\n",
              "0   0       0    1       0     1     0    0   15                1   \n",
              "1   0       1    0       0     0     0    1   45                0   \n",
              "2   1       0    0       0     0     0    1   53                0   \n",
              "3   0       1    0       0     0     0    1   41                0   \n",
              "4   1       0    0       0     0     0    1   28                0   \n",
              "\n",
              "   公寓(5樓含以下無電梯)  華廈(10層含以下有電梯)  透天厝  \n",
              "0             0              0    0  \n",
              "1             1              0    0  \n",
              "2             1              0    0  \n",
              "3             1              0    0  \n",
              "4             0              0    1  "
            ],
            "text/html": [
              "\n",
              "  <div id=\"df-9046ce32-56fd-47b0-8ff0-a9425417a2da\">\n",
              "    <div class=\"colab-df-container\">\n",
              "      <div>\n",
              "<style scoped>\n",
              "    .dataframe tbody tr th:only-of-type {\n",
              "        vertical-align: middle;\n",
              "    }\n",
              "\n",
              "    .dataframe tbody tr th {\n",
              "        vertical-align: top;\n",
              "    }\n",
              "\n",
              "    .dataframe thead th {\n",
              "        text-align: right;\n",
              "    }\n",
              "</style>\n",
              "<table border=\"1\" class=\"dataframe\">\n",
              "  <thead>\n",
              "    <tr style=\"text-align: right;\">\n",
              "      <th></th>\n",
              "      <th>totalm2</th>\n",
              "      <th>tradef</th>\n",
              "      <th>totalf</th>\n",
              "      <th>totalbm2</th>\n",
              "      <th>room</th>\n",
              "      <th>hall</th>\n",
              "      <th>health</th>\n",
              "      <th>sep</th>\n",
              "      <th>org</th>\n",
              "      <th>tp</th>\n",
              "      <th>unitp</th>\n",
              "      <th>parkm2</th>\n",
              "      <th>parkp</th>\n",
              "      <th>mainbm2</th>\n",
              "      <th>auxbm2</th>\n",
              "      <th>balm2</th>\n",
              "      <th>ele</th>\n",
              "      <th>建物</th>\n",
              "      <th>房地(土地+建物)</th>\n",
              "      <th>房地(土地+建物)+車位</th>\n",
              "      <th>住</th>\n",
              "      <th>其他都市土地使用分區</th>\n",
              "      <th>商</th>\n",
              "      <th>住商用</th>\n",
              "      <th>住家用</th>\n",
              "      <th>其他主要用途</th>\n",
              "      <th>商業用</th>\n",
              "      <th>工業用</th>\n",
              "      <th>辦公用</th>\n",
              "      <th>磚造</th>\n",
              "      <th>鋼筋混凝土造</th>\n",
              "      <th>鋼骨造</th>\n",
              "      <th>其他車位類別</th>\n",
              "      <th>坡道平面</th>\n",
              "      <th>機械車位</th>\n",
              "      <th>無車位</th>\n",
              "      <th>age</th>\n",
              "      <th>住宅大樓(11層含以上有電梯)</th>\n",
              "      <th>公寓(5樓含以下無電梯)</th>\n",
              "      <th>華廈(10層含以下有電梯)</th>\n",
              "      <th>透天厝</th>\n",
              "    </tr>\n",
              "  </thead>\n",
              "  <tbody>\n",
              "    <tr>\n",
              "      <th>0</th>\n",
              "      <td>0.689639</td>\n",
              "      <td>6</td>\n",
              "      <td>11</td>\n",
              "      <td>2.196536</td>\n",
              "      <td>0</td>\n",
              "      <td>0</td>\n",
              "      <td>0</td>\n",
              "      <td>0</td>\n",
              "      <td>1</td>\n",
              "      <td>2.414124</td>\n",
              "      <td>178307</td>\n",
              "      <td>2.983514</td>\n",
              "      <td>3.149126</td>\n",
              "      <td>0.984512</td>\n",
              "      <td>0.662454</td>\n",
              "      <td>-1.069258</td>\n",
              "      <td>1</td>\n",
              "      <td>0</td>\n",
              "      <td>0</td>\n",
              "      <td>1</td>\n",
              "      <td>0</td>\n",
              "      <td>1</td>\n",
              "      <td>0</td>\n",
              "      <td>0</td>\n",
              "      <td>0</td>\n",
              "      <td>0</td>\n",
              "      <td>0</td>\n",
              "      <td>0</td>\n",
              "      <td>1</td>\n",
              "      <td>0</td>\n",
              "      <td>0</td>\n",
              "      <td>1</td>\n",
              "      <td>0</td>\n",
              "      <td>1</td>\n",
              "      <td>0</td>\n",
              "      <td>0</td>\n",
              "      <td>15</td>\n",
              "      <td>1</td>\n",
              "      <td>0</td>\n",
              "      <td>0</td>\n",
              "      <td>0</td>\n",
              "    </tr>\n",
              "    <tr>\n",
              "      <th>1</th>\n",
              "      <td>0.078852</td>\n",
              "      <td>2</td>\n",
              "      <td>5</td>\n",
              "      <td>-0.127611</td>\n",
              "      <td>3</td>\n",
              "      <td>2</td>\n",
              "      <td>2</td>\n",
              "      <td>1</td>\n",
              "      <td>0</td>\n",
              "      <td>-0.637805</td>\n",
              "      <td>102820</td>\n",
              "      <td>-0.398459</td>\n",
              "      <td>-0.334222</td>\n",
              "      <td>0.054407</td>\n",
              "      <td>-0.300273</td>\n",
              "      <td>0.935205</td>\n",
              "      <td>0</td>\n",
              "      <td>0</td>\n",
              "      <td>1</td>\n",
              "      <td>0</td>\n",
              "      <td>1</td>\n",
              "      <td>0</td>\n",
              "      <td>0</td>\n",
              "      <td>0</td>\n",
              "      <td>1</td>\n",
              "      <td>0</td>\n",
              "      <td>0</td>\n",
              "      <td>0</td>\n",
              "      <td>0</td>\n",
              "      <td>0</td>\n",
              "      <td>1</td>\n",
              "      <td>0</td>\n",
              "      <td>0</td>\n",
              "      <td>0</td>\n",
              "      <td>0</td>\n",
              "      <td>1</td>\n",
              "      <td>45</td>\n",
              "      <td>0</td>\n",
              "      <td>1</td>\n",
              "      <td>0</td>\n",
              "      <td>0</td>\n",
              "    </tr>\n",
              "    <tr>\n",
              "      <th>2</th>\n",
              "      <td>0.057990</td>\n",
              "      <td>3</td>\n",
              "      <td>4</td>\n",
              "      <td>-0.306758</td>\n",
              "      <td>2</td>\n",
              "      <td>1</td>\n",
              "      <td>1</td>\n",
              "      <td>1</td>\n",
              "      <td>0</td>\n",
              "      <td>-0.167940</td>\n",
              "      <td>291409</td>\n",
              "      <td>-0.398459</td>\n",
              "      <td>-0.334222</td>\n",
              "      <td>-0.072108</td>\n",
              "      <td>-0.300273</td>\n",
              "      <td>-1.069258</td>\n",
              "      <td>0</td>\n",
              "      <td>0</td>\n",
              "      <td>1</td>\n",
              "      <td>0</td>\n",
              "      <td>1</td>\n",
              "      <td>0</td>\n",
              "      <td>0</td>\n",
              "      <td>0</td>\n",
              "      <td>1</td>\n",
              "      <td>0</td>\n",
              "      <td>0</td>\n",
              "      <td>0</td>\n",
              "      <td>0</td>\n",
              "      <td>1</td>\n",
              "      <td>0</td>\n",
              "      <td>0</td>\n",
              "      <td>0</td>\n",
              "      <td>0</td>\n",
              "      <td>0</td>\n",
              "      <td>1</td>\n",
              "      <td>53</td>\n",
              "      <td>0</td>\n",
              "      <td>1</td>\n",
              "      <td>0</td>\n",
              "      <td>0</td>\n",
              "    </tr>\n",
              "    <tr>\n",
              "      <th>3</th>\n",
              "      <td>0.095078</td>\n",
              "      <td>3</td>\n",
              "      <td>4</td>\n",
              "      <td>-0.293217</td>\n",
              "      <td>3</td>\n",
              "      <td>1</td>\n",
              "      <td>2</td>\n",
              "      <td>1</td>\n",
              "      <td>0</td>\n",
              "      <td>-0.769543</td>\n",
              "      <td>100040</td>\n",
              "      <td>-0.398459</td>\n",
              "      <td>-0.334222</td>\n",
              "      <td>-0.125819</td>\n",
              "      <td>-0.300273</td>\n",
              "      <td>0.465764</td>\n",
              "      <td>0</td>\n",
              "      <td>0</td>\n",
              "      <td>1</td>\n",
              "      <td>0</td>\n",
              "      <td>1</td>\n",
              "      <td>0</td>\n",
              "      <td>0</td>\n",
              "      <td>0</td>\n",
              "      <td>1</td>\n",
              "      <td>0</td>\n",
              "      <td>0</td>\n",
              "      <td>0</td>\n",
              "      <td>0</td>\n",
              "      <td>0</td>\n",
              "      <td>1</td>\n",
              "      <td>0</td>\n",
              "      <td>0</td>\n",
              "      <td>0</td>\n",
              "      <td>0</td>\n",
              "      <td>1</td>\n",
              "      <td>41</td>\n",
              "      <td>0</td>\n",
              "      <td>1</td>\n",
              "      <td>0</td>\n",
              "      <td>0</td>\n",
              "    </tr>\n",
              "    <tr>\n",
              "      <th>4</th>\n",
              "      <td>-0.491370</td>\n",
              "      <td>100</td>\n",
              "      <td>3</td>\n",
              "      <td>-0.676030</td>\n",
              "      <td>3</td>\n",
              "      <td>3</td>\n",
              "      <td>3</td>\n",
              "      <td>1</td>\n",
              "      <td>0</td>\n",
              "      <td>-0.923237</td>\n",
              "      <td>327600</td>\n",
              "      <td>-0.398459</td>\n",
              "      <td>-0.334222</td>\n",
              "      <td>-0.521931</td>\n",
              "      <td>-0.300273</td>\n",
              "      <td>-1.069258</td>\n",
              "      <td>0</td>\n",
              "      <td>0</td>\n",
              "      <td>1</td>\n",
              "      <td>0</td>\n",
              "      <td>0</td>\n",
              "      <td>0</td>\n",
              "      <td>1</td>\n",
              "      <td>0</td>\n",
              "      <td>1</td>\n",
              "      <td>0</td>\n",
              "      <td>0</td>\n",
              "      <td>0</td>\n",
              "      <td>0</td>\n",
              "      <td>1</td>\n",
              "      <td>0</td>\n",
              "      <td>0</td>\n",
              "      <td>0</td>\n",
              "      <td>0</td>\n",
              "      <td>0</td>\n",
              "      <td>1</td>\n",
              "      <td>28</td>\n",
              "      <td>0</td>\n",
              "      <td>0</td>\n",
              "      <td>0</td>\n",
              "      <td>1</td>\n",
              "    </tr>\n",
              "  </tbody>\n",
              "</table>\n",
              "</div>\n",
              "      <button class=\"colab-df-convert\" onclick=\"convertToInteractive('df-9046ce32-56fd-47b0-8ff0-a9425417a2da')\"\n",
              "              title=\"Convert this dataframe to an interactive table.\"\n",
              "              style=\"display:none;\">\n",
              "        \n",
              "  <svg xmlns=\"http://www.w3.org/2000/svg\" height=\"24px\"viewBox=\"0 0 24 24\"\n",
              "       width=\"24px\">\n",
              "    <path d=\"M0 0h24v24H0V0z\" fill=\"none\"/>\n",
              "    <path d=\"M18.56 5.44l.94 2.06.94-2.06 2.06-.94-2.06-.94-.94-2.06-.94 2.06-2.06.94zm-11 1L8.5 8.5l.94-2.06 2.06-.94-2.06-.94L8.5 2.5l-.94 2.06-2.06.94zm10 10l.94 2.06.94-2.06 2.06-.94-2.06-.94-.94-2.06-.94 2.06-2.06.94z\"/><path d=\"M17.41 7.96l-1.37-1.37c-.4-.4-.92-.59-1.43-.59-.52 0-1.04.2-1.43.59L10.3 9.45l-7.72 7.72c-.78.78-.78 2.05 0 2.83L4 21.41c.39.39.9.59 1.41.59.51 0 1.02-.2 1.41-.59l7.78-7.78 2.81-2.81c.8-.78.8-2.07 0-2.86zM5.41 20L4 18.59l7.72-7.72 1.47 1.35L5.41 20z\"/>\n",
              "  </svg>\n",
              "      </button>\n",
              "      \n",
              "  <style>\n",
              "    .colab-df-container {\n",
              "      display:flex;\n",
              "      flex-wrap:wrap;\n",
              "      gap: 12px;\n",
              "    }\n",
              "\n",
              "    .colab-df-convert {\n",
              "      background-color: #E8F0FE;\n",
              "      border: none;\n",
              "      border-radius: 50%;\n",
              "      cursor: pointer;\n",
              "      display: none;\n",
              "      fill: #1967D2;\n",
              "      height: 32px;\n",
              "      padding: 0 0 0 0;\n",
              "      width: 32px;\n",
              "    }\n",
              "\n",
              "    .colab-df-convert:hover {\n",
              "      background-color: #E2EBFA;\n",
              "      box-shadow: 0px 1px 2px rgba(60, 64, 67, 0.3), 0px 1px 3px 1px rgba(60, 64, 67, 0.15);\n",
              "      fill: #174EA6;\n",
              "    }\n",
              "\n",
              "    [theme=dark] .colab-df-convert {\n",
              "      background-color: #3B4455;\n",
              "      fill: #D2E3FC;\n",
              "    }\n",
              "\n",
              "    [theme=dark] .colab-df-convert:hover {\n",
              "      background-color: #434B5C;\n",
              "      box-shadow: 0px 1px 3px 1px rgba(0, 0, 0, 0.15);\n",
              "      filter: drop-shadow(0px 1px 2px rgba(0, 0, 0, 0.3));\n",
              "      fill: #FFFFFF;\n",
              "    }\n",
              "  </style>\n",
              "\n",
              "      <script>\n",
              "        const buttonEl =\n",
              "          document.querySelector('#df-9046ce32-56fd-47b0-8ff0-a9425417a2da button.colab-df-convert');\n",
              "        buttonEl.style.display =\n",
              "          google.colab.kernel.accessAllowed ? 'block' : 'none';\n",
              "\n",
              "        async function convertToInteractive(key) {\n",
              "          const element = document.querySelector('#df-9046ce32-56fd-47b0-8ff0-a9425417a2da');\n",
              "          const dataTable =\n",
              "            await google.colab.kernel.invokeFunction('convertToInteractive',\n",
              "                                                     [key], {});\n",
              "          if (!dataTable) return;\n",
              "\n",
              "          const docLinkHtml = 'Like what you see? Visit the ' +\n",
              "            '<a target=\"_blank\" href=https://colab.research.google.com/notebooks/data_table.ipynb>data table notebook</a>'\n",
              "            + ' to learn more about interactive tables.';\n",
              "          element.innerHTML = '';\n",
              "          dataTable['output_type'] = 'display_data';\n",
              "          await google.colab.output.renderOutput(dataTable, element);\n",
              "          const docLink = document.createElement('div');\n",
              "          docLink.innerHTML = docLinkHtml;\n",
              "          element.appendChild(docLink);\n",
              "        }\n",
              "      </script>\n",
              "    </div>\n",
              "  </div>\n",
              "  "
            ]
          },
          "metadata": {},
          "execution_count": 16
        }
      ]
    },
    {
      "cell_type": "code",
      "source": [
        "# 特徵(去除總價元、單價元平方公尺、車位總價元)\n",
        "\n",
        "x = np.array(f.drop([\"tp\",\"unitp\",\"parkp\"], axis = 1))"
      ],
      "metadata": {
        "id": "hGjkKQQUzKFV"
      },
      "execution_count": null,
      "outputs": []
    },
    {
      "cell_type": "code",
      "source": [
        "# 目標(取得總價元)\n",
        "\n",
        "y = np.array(f[\"tp\"])"
      ],
      "metadata": {
        "id": "be8nst1KzhR8"
      },
      "execution_count": null,
      "outputs": []
    },
    {
      "cell_type": "code",
      "source": [
        "# 切分資料(特徵90%，特徵10%，目標90%，目標10%)\n",
        "\n",
        "# x_train, x_test, y_train, y_test = train_test_split(x, y, test_size=0.1)"
      ],
      "metadata": {
        "id": "FSNpXBjMzq3c"
      },
      "execution_count": null,
      "outputs": []
    },
    {
      "cell_type": "markdown",
      "source": [
        "#### 以迴圈跑5~12層決策樹各30次"
      ],
      "metadata": {
        "id": "9iMzcafOlfvd"
      }
    },
    {
      "cell_type": "code",
      "source": [
        "df = pd.DataFrame(columns =[\"d5\", \"d6\", \"d7\", \"d8\", \"d9\", \"d10\", \"d11\"])"
      ],
      "metadata": {
        "id": "b59_Qvl9wapo"
      },
      "execution_count": null,
      "outputs": []
    },
    {
      "cell_type": "code",
      "source": [
        "\n",
        "\n",
        "from sklearn.tree import DecisionTreeRegressor\n",
        "\n",
        "for d in range(5,12):\n",
        "  \n",
        "  s_list=[]\n",
        "  i = 0\n",
        "  for i in range(0, 30):\n",
        "    x_train, x_test, y_train, y_test = train_test_split(x, y, test_size=0.1)\n",
        "    \n",
        "    # 建立迴歸決策樹\n",
        "    reg = DecisionTreeRegressor(max_depth=d)\n",
        "\n",
        "    # 訓練迴歸決策樹\n",
        "    reg.fit(x_train, y_train)\n",
        "\n",
        "    from sklearn.metrics import r2_score\n",
        "\n",
        "    # 將測試用特徵帶入模型做預測\n",
        "    pre = reg.predict(x_test)\n",
        "\n",
        "    # 預測準確度\n",
        "    s = r2_score(y_test, pre)\n",
        "    i = i + 1\n",
        "    s_list.append(s)\n",
        "\n",
        "  df[\"d\" + str(d)] = s_list\n"
      ],
      "metadata": {
        "id": "pD5s9G8vzw00"
      },
      "execution_count": null,
      "outputs": []
    },
    {
      "cell_type": "code",
      "source": [
        "df"
      ],
      "metadata": {
        "id": "P5G4riOCzt0N",
        "colab": {
          "base_uri": "https://localhost:8080/",
          "height": 990
        },
        "outputId": "433b7573-3853-4cb9-e601-f2d464fd5b69"
      },
      "execution_count": null,
      "outputs": [
        {
          "output_type": "execute_result",
          "data": {
            "text/plain": [
              "          d5        d6        d7        d8        d9       d10       d11\n",
              "0   0.379887  0.574197  0.211686  0.248843 -0.917457  0.241995  0.571578\n",
              "1   0.344623  0.071804  0.353098  0.709961  0.706850  0.696455  0.553651\n",
              "2   0.641789  0.586331  0.786645  0.470591 -3.245045  0.447419 -1.134295\n",
              "3  -0.233161  0.605976  0.512770 -2.013456  0.660608  0.307132  0.395593\n",
              "4  -0.821348 -0.455261  0.498021  0.537552  0.723912  0.441527 -1.280413\n",
              "5   0.565897  0.492639 -0.950383  0.121802 -0.053212  0.535021 -1.487107\n",
              "6   0.189031 -2.241350 -0.041569 -3.299938  0.465898  0.411175  0.456302\n",
              "7  -0.497752  0.552091  0.319417  0.422273  0.364032  0.473796  0.512750\n",
              "8   0.307658  0.551492  0.584359 -0.991341  0.210263 -0.550226  0.364825\n",
              "9   0.643315  0.289862  0.576849  0.156099  0.501881  0.637391  0.560788\n",
              "10  0.615209  0.332750  0.612813  0.615007  0.706480  0.290008 -2.231097\n",
              "11 -0.559932  0.298132  0.453117  0.311622  0.499361 -0.404803 -1.014301\n",
              "12  0.578799  0.396422  0.613982  0.223683  0.565371  0.194349  0.417984\n",
              "13  0.774938 -1.164261  0.550915  0.345253  0.553731  0.297683  0.271523\n",
              "14 -0.074449  0.339665  0.597937 -0.843145  0.318539 -0.785621  0.429831\n",
              "15  0.598657  0.318369  0.297646  0.458131  0.651069  0.674334 -1.990721\n",
              "16  0.640032  0.388353  0.499857 -0.771554  0.249699  0.408176  0.306966\n",
              "17  0.651765  0.537074  0.264571  0.634288  0.274533 -1.762284 -0.912330\n",
              "18 -0.968119  0.421402  0.761237  0.360754  0.335797  0.519734  0.438062\n",
              "19 -0.033832  0.255292  0.486941  0.632969  0.339194  0.723875  0.268770\n",
              "20  0.523363  0.754908  0.633404  0.776571  0.183277  0.153040 -1.052001\n",
              "21  0.075077  0.650893  0.615772 -0.653412  0.616432  0.621858  0.341984\n",
              "22  0.332294 -0.095500  0.399339 -1.137211  0.237400 -0.614270  0.475465\n",
              "23  0.668115 -0.761346  0.313974  0.532251  0.783746  0.340088 -0.781585\n",
              "24 -0.273482  0.275797 -0.140278 -0.143314  0.148401 -0.278638  0.106516\n",
              "25  0.227371  0.813604  0.617463  0.508199  0.596794  0.588825  0.083062\n",
              "26  0.181596  0.664591  0.611366  0.383130  0.444193  0.373141  0.148685\n",
              "27  0.132820 -0.491321 -0.913477  0.759334  0.584746  0.324173  0.655116\n",
              "28  0.647077  0.360026  0.535567  0.682374  0.352359  0.353684  0.171405\n",
              "29 -0.741821  0.384646  0.711514  0.511506  0.444239  0.264384 -1.632086"
            ],
            "text/html": [
              "\n",
              "  <div id=\"df-b3bf7b42-0319-4fb6-b80b-d2f72840a8ec\">\n",
              "    <div class=\"colab-df-container\">\n",
              "      <div>\n",
              "<style scoped>\n",
              "    .dataframe tbody tr th:only-of-type {\n",
              "        vertical-align: middle;\n",
              "    }\n",
              "\n",
              "    .dataframe tbody tr th {\n",
              "        vertical-align: top;\n",
              "    }\n",
              "\n",
              "    .dataframe thead th {\n",
              "        text-align: right;\n",
              "    }\n",
              "</style>\n",
              "<table border=\"1\" class=\"dataframe\">\n",
              "  <thead>\n",
              "    <tr style=\"text-align: right;\">\n",
              "      <th></th>\n",
              "      <th>d5</th>\n",
              "      <th>d6</th>\n",
              "      <th>d7</th>\n",
              "      <th>d8</th>\n",
              "      <th>d9</th>\n",
              "      <th>d10</th>\n",
              "      <th>d11</th>\n",
              "    </tr>\n",
              "  </thead>\n",
              "  <tbody>\n",
              "    <tr>\n",
              "      <th>0</th>\n",
              "      <td>0.379887</td>\n",
              "      <td>0.574197</td>\n",
              "      <td>0.211686</td>\n",
              "      <td>0.248843</td>\n",
              "      <td>-0.917457</td>\n",
              "      <td>0.241995</td>\n",
              "      <td>0.571578</td>\n",
              "    </tr>\n",
              "    <tr>\n",
              "      <th>1</th>\n",
              "      <td>0.344623</td>\n",
              "      <td>0.071804</td>\n",
              "      <td>0.353098</td>\n",
              "      <td>0.709961</td>\n",
              "      <td>0.706850</td>\n",
              "      <td>0.696455</td>\n",
              "      <td>0.553651</td>\n",
              "    </tr>\n",
              "    <tr>\n",
              "      <th>2</th>\n",
              "      <td>0.641789</td>\n",
              "      <td>0.586331</td>\n",
              "      <td>0.786645</td>\n",
              "      <td>0.470591</td>\n",
              "      <td>-3.245045</td>\n",
              "      <td>0.447419</td>\n",
              "      <td>-1.134295</td>\n",
              "    </tr>\n",
              "    <tr>\n",
              "      <th>3</th>\n",
              "      <td>-0.233161</td>\n",
              "      <td>0.605976</td>\n",
              "      <td>0.512770</td>\n",
              "      <td>-2.013456</td>\n",
              "      <td>0.660608</td>\n",
              "      <td>0.307132</td>\n",
              "      <td>0.395593</td>\n",
              "    </tr>\n",
              "    <tr>\n",
              "      <th>4</th>\n",
              "      <td>-0.821348</td>\n",
              "      <td>-0.455261</td>\n",
              "      <td>0.498021</td>\n",
              "      <td>0.537552</td>\n",
              "      <td>0.723912</td>\n",
              "      <td>0.441527</td>\n",
              "      <td>-1.280413</td>\n",
              "    </tr>\n",
              "    <tr>\n",
              "      <th>5</th>\n",
              "      <td>0.565897</td>\n",
              "      <td>0.492639</td>\n",
              "      <td>-0.950383</td>\n",
              "      <td>0.121802</td>\n",
              "      <td>-0.053212</td>\n",
              "      <td>0.535021</td>\n",
              "      <td>-1.487107</td>\n",
              "    </tr>\n",
              "    <tr>\n",
              "      <th>6</th>\n",
              "      <td>0.189031</td>\n",
              "      <td>-2.241350</td>\n",
              "      <td>-0.041569</td>\n",
              "      <td>-3.299938</td>\n",
              "      <td>0.465898</td>\n",
              "      <td>0.411175</td>\n",
              "      <td>0.456302</td>\n",
              "    </tr>\n",
              "    <tr>\n",
              "      <th>7</th>\n",
              "      <td>-0.497752</td>\n",
              "      <td>0.552091</td>\n",
              "      <td>0.319417</td>\n",
              "      <td>0.422273</td>\n",
              "      <td>0.364032</td>\n",
              "      <td>0.473796</td>\n",
              "      <td>0.512750</td>\n",
              "    </tr>\n",
              "    <tr>\n",
              "      <th>8</th>\n",
              "      <td>0.307658</td>\n",
              "      <td>0.551492</td>\n",
              "      <td>0.584359</td>\n",
              "      <td>-0.991341</td>\n",
              "      <td>0.210263</td>\n",
              "      <td>-0.550226</td>\n",
              "      <td>0.364825</td>\n",
              "    </tr>\n",
              "    <tr>\n",
              "      <th>9</th>\n",
              "      <td>0.643315</td>\n",
              "      <td>0.289862</td>\n",
              "      <td>0.576849</td>\n",
              "      <td>0.156099</td>\n",
              "      <td>0.501881</td>\n",
              "      <td>0.637391</td>\n",
              "      <td>0.560788</td>\n",
              "    </tr>\n",
              "    <tr>\n",
              "      <th>10</th>\n",
              "      <td>0.615209</td>\n",
              "      <td>0.332750</td>\n",
              "      <td>0.612813</td>\n",
              "      <td>0.615007</td>\n",
              "      <td>0.706480</td>\n",
              "      <td>0.290008</td>\n",
              "      <td>-2.231097</td>\n",
              "    </tr>\n",
              "    <tr>\n",
              "      <th>11</th>\n",
              "      <td>-0.559932</td>\n",
              "      <td>0.298132</td>\n",
              "      <td>0.453117</td>\n",
              "      <td>0.311622</td>\n",
              "      <td>0.499361</td>\n",
              "      <td>-0.404803</td>\n",
              "      <td>-1.014301</td>\n",
              "    </tr>\n",
              "    <tr>\n",
              "      <th>12</th>\n",
              "      <td>0.578799</td>\n",
              "      <td>0.396422</td>\n",
              "      <td>0.613982</td>\n",
              "      <td>0.223683</td>\n",
              "      <td>0.565371</td>\n",
              "      <td>0.194349</td>\n",
              "      <td>0.417984</td>\n",
              "    </tr>\n",
              "    <tr>\n",
              "      <th>13</th>\n",
              "      <td>0.774938</td>\n",
              "      <td>-1.164261</td>\n",
              "      <td>0.550915</td>\n",
              "      <td>0.345253</td>\n",
              "      <td>0.553731</td>\n",
              "      <td>0.297683</td>\n",
              "      <td>0.271523</td>\n",
              "    </tr>\n",
              "    <tr>\n",
              "      <th>14</th>\n",
              "      <td>-0.074449</td>\n",
              "      <td>0.339665</td>\n",
              "      <td>0.597937</td>\n",
              "      <td>-0.843145</td>\n",
              "      <td>0.318539</td>\n",
              "      <td>-0.785621</td>\n",
              "      <td>0.429831</td>\n",
              "    </tr>\n",
              "    <tr>\n",
              "      <th>15</th>\n",
              "      <td>0.598657</td>\n",
              "      <td>0.318369</td>\n",
              "      <td>0.297646</td>\n",
              "      <td>0.458131</td>\n",
              "      <td>0.651069</td>\n",
              "      <td>0.674334</td>\n",
              "      <td>-1.990721</td>\n",
              "    </tr>\n",
              "    <tr>\n",
              "      <th>16</th>\n",
              "      <td>0.640032</td>\n",
              "      <td>0.388353</td>\n",
              "      <td>0.499857</td>\n",
              "      <td>-0.771554</td>\n",
              "      <td>0.249699</td>\n",
              "      <td>0.408176</td>\n",
              "      <td>0.306966</td>\n",
              "    </tr>\n",
              "    <tr>\n",
              "      <th>17</th>\n",
              "      <td>0.651765</td>\n",
              "      <td>0.537074</td>\n",
              "      <td>0.264571</td>\n",
              "      <td>0.634288</td>\n",
              "      <td>0.274533</td>\n",
              "      <td>-1.762284</td>\n",
              "      <td>-0.912330</td>\n",
              "    </tr>\n",
              "    <tr>\n",
              "      <th>18</th>\n",
              "      <td>-0.968119</td>\n",
              "      <td>0.421402</td>\n",
              "      <td>0.761237</td>\n",
              "      <td>0.360754</td>\n",
              "      <td>0.335797</td>\n",
              "      <td>0.519734</td>\n",
              "      <td>0.438062</td>\n",
              "    </tr>\n",
              "    <tr>\n",
              "      <th>19</th>\n",
              "      <td>-0.033832</td>\n",
              "      <td>0.255292</td>\n",
              "      <td>0.486941</td>\n",
              "      <td>0.632969</td>\n",
              "      <td>0.339194</td>\n",
              "      <td>0.723875</td>\n",
              "      <td>0.268770</td>\n",
              "    </tr>\n",
              "    <tr>\n",
              "      <th>20</th>\n",
              "      <td>0.523363</td>\n",
              "      <td>0.754908</td>\n",
              "      <td>0.633404</td>\n",
              "      <td>0.776571</td>\n",
              "      <td>0.183277</td>\n",
              "      <td>0.153040</td>\n",
              "      <td>-1.052001</td>\n",
              "    </tr>\n",
              "    <tr>\n",
              "      <th>21</th>\n",
              "      <td>0.075077</td>\n",
              "      <td>0.650893</td>\n",
              "      <td>0.615772</td>\n",
              "      <td>-0.653412</td>\n",
              "      <td>0.616432</td>\n",
              "      <td>0.621858</td>\n",
              "      <td>0.341984</td>\n",
              "    </tr>\n",
              "    <tr>\n",
              "      <th>22</th>\n",
              "      <td>0.332294</td>\n",
              "      <td>-0.095500</td>\n",
              "      <td>0.399339</td>\n",
              "      <td>-1.137211</td>\n",
              "      <td>0.237400</td>\n",
              "      <td>-0.614270</td>\n",
              "      <td>0.475465</td>\n",
              "    </tr>\n",
              "    <tr>\n",
              "      <th>23</th>\n",
              "      <td>0.668115</td>\n",
              "      <td>-0.761346</td>\n",
              "      <td>0.313974</td>\n",
              "      <td>0.532251</td>\n",
              "      <td>0.783746</td>\n",
              "      <td>0.340088</td>\n",
              "      <td>-0.781585</td>\n",
              "    </tr>\n",
              "    <tr>\n",
              "      <th>24</th>\n",
              "      <td>-0.273482</td>\n",
              "      <td>0.275797</td>\n",
              "      <td>-0.140278</td>\n",
              "      <td>-0.143314</td>\n",
              "      <td>0.148401</td>\n",
              "      <td>-0.278638</td>\n",
              "      <td>0.106516</td>\n",
              "    </tr>\n",
              "    <tr>\n",
              "      <th>25</th>\n",
              "      <td>0.227371</td>\n",
              "      <td>0.813604</td>\n",
              "      <td>0.617463</td>\n",
              "      <td>0.508199</td>\n",
              "      <td>0.596794</td>\n",
              "      <td>0.588825</td>\n",
              "      <td>0.083062</td>\n",
              "    </tr>\n",
              "    <tr>\n",
              "      <th>26</th>\n",
              "      <td>0.181596</td>\n",
              "      <td>0.664591</td>\n",
              "      <td>0.611366</td>\n",
              "      <td>0.383130</td>\n",
              "      <td>0.444193</td>\n",
              "      <td>0.373141</td>\n",
              "      <td>0.148685</td>\n",
              "    </tr>\n",
              "    <tr>\n",
              "      <th>27</th>\n",
              "      <td>0.132820</td>\n",
              "      <td>-0.491321</td>\n",
              "      <td>-0.913477</td>\n",
              "      <td>0.759334</td>\n",
              "      <td>0.584746</td>\n",
              "      <td>0.324173</td>\n",
              "      <td>0.655116</td>\n",
              "    </tr>\n",
              "    <tr>\n",
              "      <th>28</th>\n",
              "      <td>0.647077</td>\n",
              "      <td>0.360026</td>\n",
              "      <td>0.535567</td>\n",
              "      <td>0.682374</td>\n",
              "      <td>0.352359</td>\n",
              "      <td>0.353684</td>\n",
              "      <td>0.171405</td>\n",
              "    </tr>\n",
              "    <tr>\n",
              "      <th>29</th>\n",
              "      <td>-0.741821</td>\n",
              "      <td>0.384646</td>\n",
              "      <td>0.711514</td>\n",
              "      <td>0.511506</td>\n",
              "      <td>0.444239</td>\n",
              "      <td>0.264384</td>\n",
              "      <td>-1.632086</td>\n",
              "    </tr>\n",
              "  </tbody>\n",
              "</table>\n",
              "</div>\n",
              "      <button class=\"colab-df-convert\" onclick=\"convertToInteractive('df-b3bf7b42-0319-4fb6-b80b-d2f72840a8ec')\"\n",
              "              title=\"Convert this dataframe to an interactive table.\"\n",
              "              style=\"display:none;\">\n",
              "        \n",
              "  <svg xmlns=\"http://www.w3.org/2000/svg\" height=\"24px\"viewBox=\"0 0 24 24\"\n",
              "       width=\"24px\">\n",
              "    <path d=\"M0 0h24v24H0V0z\" fill=\"none\"/>\n",
              "    <path d=\"M18.56 5.44l.94 2.06.94-2.06 2.06-.94-2.06-.94-.94-2.06-.94 2.06-2.06.94zm-11 1L8.5 8.5l.94-2.06 2.06-.94-2.06-.94L8.5 2.5l-.94 2.06-2.06.94zm10 10l.94 2.06.94-2.06 2.06-.94-2.06-.94-.94-2.06-.94 2.06-2.06.94z\"/><path d=\"M17.41 7.96l-1.37-1.37c-.4-.4-.92-.59-1.43-.59-.52 0-1.04.2-1.43.59L10.3 9.45l-7.72 7.72c-.78.78-.78 2.05 0 2.83L4 21.41c.39.39.9.59 1.41.59.51 0 1.02-.2 1.41-.59l7.78-7.78 2.81-2.81c.8-.78.8-2.07 0-2.86zM5.41 20L4 18.59l7.72-7.72 1.47 1.35L5.41 20z\"/>\n",
              "  </svg>\n",
              "      </button>\n",
              "      \n",
              "  <style>\n",
              "    .colab-df-container {\n",
              "      display:flex;\n",
              "      flex-wrap:wrap;\n",
              "      gap: 12px;\n",
              "    }\n",
              "\n",
              "    .colab-df-convert {\n",
              "      background-color: #E8F0FE;\n",
              "      border: none;\n",
              "      border-radius: 50%;\n",
              "      cursor: pointer;\n",
              "      display: none;\n",
              "      fill: #1967D2;\n",
              "      height: 32px;\n",
              "      padding: 0 0 0 0;\n",
              "      width: 32px;\n",
              "    }\n",
              "\n",
              "    .colab-df-convert:hover {\n",
              "      background-color: #E2EBFA;\n",
              "      box-shadow: 0px 1px 2px rgba(60, 64, 67, 0.3), 0px 1px 3px 1px rgba(60, 64, 67, 0.15);\n",
              "      fill: #174EA6;\n",
              "    }\n",
              "\n",
              "    [theme=dark] .colab-df-convert {\n",
              "      background-color: #3B4455;\n",
              "      fill: #D2E3FC;\n",
              "    }\n",
              "\n",
              "    [theme=dark] .colab-df-convert:hover {\n",
              "      background-color: #434B5C;\n",
              "      box-shadow: 0px 1px 3px 1px rgba(0, 0, 0, 0.15);\n",
              "      filter: drop-shadow(0px 1px 2px rgba(0, 0, 0, 0.3));\n",
              "      fill: #FFFFFF;\n",
              "    }\n",
              "  </style>\n",
              "\n",
              "      <script>\n",
              "        const buttonEl =\n",
              "          document.querySelector('#df-b3bf7b42-0319-4fb6-b80b-d2f72840a8ec button.colab-df-convert');\n",
              "        buttonEl.style.display =\n",
              "          google.colab.kernel.accessAllowed ? 'block' : 'none';\n",
              "\n",
              "        async function convertToInteractive(key) {\n",
              "          const element = document.querySelector('#df-b3bf7b42-0319-4fb6-b80b-d2f72840a8ec');\n",
              "          const dataTable =\n",
              "            await google.colab.kernel.invokeFunction('convertToInteractive',\n",
              "                                                     [key], {});\n",
              "          if (!dataTable) return;\n",
              "\n",
              "          const docLinkHtml = 'Like what you see? Visit the ' +\n",
              "            '<a target=\"_blank\" href=https://colab.research.google.com/notebooks/data_table.ipynb>data table notebook</a>'\n",
              "            + ' to learn more about interactive tables.';\n",
              "          element.innerHTML = '';\n",
              "          dataTable['output_type'] = 'display_data';\n",
              "          await google.colab.output.renderOutput(dataTable, element);\n",
              "          const docLink = document.createElement('div');\n",
              "          docLink.innerHTML = docLinkHtml;\n",
              "          element.appendChild(docLink);\n",
              "        }\n",
              "      </script>\n",
              "    </div>\n",
              "  </div>\n",
              "  "
            ]
          },
          "metadata": {},
          "execution_count": 22
        }
      ]
    },
    {
      "cell_type": "code",
      "source": [
        "import statistics"
      ],
      "metadata": {
        "id": "-ewt6m-D0kh0"
      },
      "execution_count": null,
      "outputs": []
    },
    {
      "cell_type": "code",
      "source": [
        "mean_list = []\n",
        "for i in range(5, 12):\n",
        "\n",
        "  d_list = df[\"d\" + str(i)].values.tolist()\n",
        "  mean = statistics.mean(d_list)\n",
        "  mean_list.append(mean)"
      ],
      "metadata": {
        "id": "811k0JGf0pc-"
      },
      "execution_count": null,
      "outputs": []
    },
    {
      "cell_type": "code",
      "source": [
        "# 訓練30次後，每層決策樹的平均r2_score\n",
        "\n",
        "mean_list"
      ],
      "metadata": {
        "colab": {
          "base_uri": "https://localhost:8080/"
        },
        "id": "9Mnm8MhPvlaK",
        "outputId": "28901fed-de1e-4fc5-f70f-a25881c0966c"
      },
      "execution_count": null,
      "outputs": [
        {
          "output_type": "execute_result",
          "data": {
            "text/plain": [
              "[0.18384732084964656,\n",
              " 0.19024254560657575,\n",
              " 0.37915179284546713,\n",
              " 0.018293982714033076,\n",
              " 0.2767696460139677,\n",
              " 0.19744730276079095,\n",
              " -0.19950267870579147]"
            ]
          },
          "metadata": {},
          "execution_count": 25
        }
      ]
    },
    {
      "cell_type": "code",
      "source": [
        "# df.loc[5] = mean_list # 新增橫列"
      ],
      "metadata": {
        "id": "5QA8xUiy4NXP"
      },
      "execution_count": null,
      "outputs": []
    },
    {
      "cell_type": "markdown",
      "source": [
        "#### 跑單次決策樹"
      ],
      "metadata": {
        "id": "ifpUGSBqGCAD"
      }
    },
    {
      "cell_type": "code",
      "source": [
        "x_train, x_test, y_train, y_test = train_test_split(x, y, test_size=0.1)"
      ],
      "metadata": {
        "id": "R7sxBgIsbGSA"
      },
      "execution_count": null,
      "outputs": []
    },
    {
      "cell_type": "code",
      "source": [
        "from sklearn.tree import DecisionTreeRegressor\n",
        "# 建立迴歸決策樹\n",
        "reg = DecisionTreeRegressor(max_depth=8)\n",
        "\n",
        "# 訓練迴歸決策樹\n",
        "reg.fit(x_train, y_train)\n",
        "\n",
        "from sklearn.metrics import r2_score\n",
        "\n",
        "# 將測試用特徵帶入模型做預測\n",
        "pre = reg.predict(x_test)\n",
        "\n",
        "# 預測準確度\n",
        "r2_score(y_test, pre)"
      ],
      "metadata": {
        "colab": {
          "base_uri": "https://localhost:8080/"
        },
        "id": "Y7LOUm-64WPG",
        "outputId": "03495cf2-e77b-4321-9af3-82d112209350"
      },
      "execution_count": null,
      "outputs": [
        {
          "output_type": "execute_result",
          "data": {
            "text/plain": [
              "0.3591789971967966"
            ]
          },
          "metadata": {},
          "execution_count": 28
        }
      ]
    },
    {
      "cell_type": "code",
      "source": [
        "# from sklearn import feature_importances\n",
        "reg.feature_importances_"
      ],
      "metadata": {
        "colab": {
          "base_uri": "https://localhost:8080/"
        },
        "id": "NxDZqV4vNEfM",
        "outputId": "b6bdd3ef-e079-4e56-cc65-209265b46bc3"
      },
      "execution_count": null,
      "outputs": [
        {
          "output_type": "execute_result",
          "data": {
            "text/plain": [
              "array([1.10110251e-01, 7.05810607e-03, 1.24701397e-02, 7.30190349e-01,\n",
              "       6.53613889e-04, 5.50277564e-03, 0.00000000e+00, 0.00000000e+00,\n",
              "       2.84411330e-05, 0.00000000e+00, 1.50027301e-02, 4.50131295e-04,\n",
              "       1.42645746e-02, 0.00000000e+00, 0.00000000e+00, 0.00000000e+00,\n",
              "       0.00000000e+00, 2.64544498e-04, 6.59176056e-04, 0.00000000e+00,\n",
              "       0.00000000e+00, 1.02688605e-04, 0.00000000e+00, 0.00000000e+00,\n",
              "       0.00000000e+00, 3.09312803e-05, 0.00000000e+00, 0.00000000e+00,\n",
              "       1.14656971e-03, 8.09507742e-03, 8.88207748e-05, 3.23507389e-03,\n",
              "       0.00000000e+00, 8.13131966e-02, 1.57811372e-03, 6.04978804e-03,\n",
              "       1.70490700e-03, 0.00000000e+00])"
            ]
          },
          "metadata": {},
          "execution_count": 29
        }
      ]
    },
    {
      "cell_type": "code",
      "source": [
        "from sklearn.tree import export_graphviz\n",
        "import graphviz\n",
        "\n",
        "g = export_graphviz(reg, out_file=None, \n",
        "            feature_names=f.drop([\"tp\",\"unitp\",\"parkp\"], axis = 1).columns,     \n",
        "            filled=True, special_characters=True)\n",
        "\n",
        "graph = graphviz.Source(g)\n",
        "graph"
      ],
      "metadata": {
        "id": "U2M5avZ3BcYX",
        "colab": {
          "base_uri": "https://localhost:8080/",
          "height": 1000
        },
        "outputId": "246b170a-f336-4843-ffd3-9c1092fecd1e"
      },
      "execution_count": null,
      "outputs": [
        {
          "output_type": "execute_result",
          "data": {
            "text/plain": [
              "<graphviz.files.Source at 0x7fe16c7bbb50>"
            ],
            "image/svg+xml": "<?xml version=\"1.0\" encoding=\"UTF-8\" standalone=\"no\"?>\n<!DOCTYPE svg PUBLIC \"-//W3C//DTD SVG 1.1//EN\"\n \"http://www.w3.org/Graphics/SVG/1.1/DTD/svg11.dtd\">\n<!-- Generated by graphviz version 2.40.1 (20161225.0304)\n -->\n<!-- Title: Tree Pages: 1 -->\n<svg width=\"13101pt\" height=\"893pt\"\n viewBox=\"0.00 0.00 13100.50 893.00\" xmlns=\"http://www.w3.org/2000/svg\" xmlns:xlink=\"http://www.w3.org/1999/xlink\">\n<g id=\"graph0\" class=\"graph\" transform=\"scale(1 1) rotate(0) translate(4 889)\">\n<title>Tree</title>\n<polygon fill=\"#ffffff\" stroke=\"transparent\" points=\"-4,4 -4,-889 13096.5,-889 13096.5,4 -4,4\"/>\n<!-- 0 -->\n<g id=\"node1\" class=\"node\">\n<title>0</title>\n<polygon fill=\"#fcefe6\" stroke=\"#000000\" points=\"12062.5,-885 11901.5,-885 11901.5,-817 12062.5,-817 12062.5,-885\"/>\n<text text-anchor=\"start\" x=\"11932\" y=\"-869.8\" font-family=\"Helvetica,sans-Serif\" font-size=\"14.00\" fill=\"#000000\">totalbm2 ≤ 1.01</text>\n<text text-anchor=\"start\" x=\"11909.5\" y=\"-854.8\" font-family=\"Helvetica,sans-Serif\" font-size=\"14.00\" fill=\"#000000\">squared_error = 1.053</text>\n<text text-anchor=\"start\" x=\"11934\" y=\"-839.8\" font-family=\"Helvetica,sans-Serif\" font-size=\"14.00\" fill=\"#000000\">samples = 406</text>\n<text text-anchor=\"start\" x=\"11938\" y=\"-824.8\" font-family=\"Helvetica,sans-Serif\" font-size=\"14.00\" fill=\"#000000\">value = 0.005</text>\n</g>\n<!-- 1 -->\n<g id=\"node2\" class=\"node\">\n<title>1</title>\n<polygon fill=\"#fcf1e9\" stroke=\"#000000\" points=\"10580.5,-781 10419.5,-781 10419.5,-713 10580.5,-713 10580.5,-781\"/>\n<text text-anchor=\"start\" x=\"10444\" y=\"-765.8\" font-family=\"Helvetica,sans-Serif\" font-size=\"14.00\" fill=\"#000000\">totalbm2 ≤ &#45;0.014</text>\n<text text-anchor=\"start\" x=\"10427.5\" y=\"-750.8\" font-family=\"Helvetica,sans-Serif\" font-size=\"14.00\" fill=\"#000000\">squared_error = 0.403</text>\n<text text-anchor=\"start\" x=\"10452\" y=\"-735.8\" font-family=\"Helvetica,sans-Serif\" font-size=\"14.00\" fill=\"#000000\">samples = 392</text>\n<text text-anchor=\"start\" x=\"10453.5\" y=\"-720.8\" font-family=\"Helvetica,sans-Serif\" font-size=\"14.00\" fill=\"#000000\">value = &#45;0.121</text>\n</g>\n<!-- 0&#45;&gt;1 -->\n<g id=\"edge1\" class=\"edge\">\n<title>0&#45;&gt;1</title>\n<path fill=\"none\" stroke=\"#000000\" d=\"M11901.2688,-845.3347C11646.3268,-827.444 10859.4518,-772.2247 10590.9045,-753.3793\"/>\n<polygon fill=\"#000000\" stroke=\"#000000\" points=\"10591.0249,-749.8792 10580.8044,-752.6705 10590.5348,-756.862 10591.0249,-749.8792\"/>\n<text text-anchor=\"middle\" x=\"10597.2012\" y=\"-767.8423\" font-family=\"Helvetica,sans-Serif\" font-size=\"14.00\" fill=\"#000000\">True</text>\n</g>\n<!-- 178 -->\n<g id=\"node179\" class=\"node\">\n<title>178</title>\n<polygon fill=\"#f1bc96\" stroke=\"#000000\" points=\"12584.5,-781 12423.5,-781 12423.5,-713 12584.5,-713 12584.5,-781\"/>\n<text text-anchor=\"start\" x=\"12454\" y=\"-765.8\" font-family=\"Helvetica,sans-Serif\" font-size=\"14.00\" fill=\"#000000\">totalm2 ≤ 4.914</text>\n<text text-anchor=\"start\" x=\"12431.5\" y=\"-750.8\" font-family=\"Helvetica,sans-Serif\" font-size=\"14.00\" fill=\"#000000\">squared_error = 6.288</text>\n<text text-anchor=\"start\" x=\"12460\" y=\"-735.8\" font-family=\"Helvetica,sans-Serif\" font-size=\"14.00\" fill=\"#000000\">samples = 14</text>\n<text text-anchor=\"start\" x=\"12460\" y=\"-720.8\" font-family=\"Helvetica,sans-Serif\" font-size=\"14.00\" fill=\"#000000\">value = 3.542</text>\n</g>\n<!-- 0&#45;&gt;178 -->\n<g id=\"edge178\" class=\"edge\">\n<title>0&#45;&gt;178</title>\n<path fill=\"none\" stroke=\"#000000\" d=\"M12062.704,-834.9211C12157.4654,-816.0414 12314.2346,-784.8077 12413.1712,-765.0962\"/>\n<polygon fill=\"#000000\" stroke=\"#000000\" points=\"12414.0318,-768.4936 12423.1551,-763.107 12412.664,-761.6285 12414.0318,-768.4936\"/>\n<text text-anchor=\"middle\" x=\"12409.2723\" y=\"-780.1981\" font-family=\"Helvetica,sans-Serif\" font-size=\"14.00\" fill=\"#000000\">False</text>\n</g>\n<!-- 2 -->\n<g id=\"node3\" class=\"node\">\n<title>2</title>\n<polygon fill=\"#fdf6f0\" stroke=\"#000000\" points=\"5636.5,-677 5475.5,-677 5475.5,-609 5636.5,-609 5636.5,-677\"/>\n<text text-anchor=\"start\" x=\"5500\" y=\"-661.8\" font-family=\"Helvetica,sans-Serif\" font-size=\"14.00\" fill=\"#000000\">totalbm2 ≤ &#45;0.381</text>\n<text text-anchor=\"start\" x=\"5483.5\" y=\"-646.8\" font-family=\"Helvetica,sans-Serif\" font-size=\"14.00\" fill=\"#000000\">squared_error = 0.111</text>\n<text text-anchor=\"start\" x=\"5508\" y=\"-631.8\" font-family=\"Helvetica,sans-Serif\" font-size=\"14.00\" fill=\"#000000\">samples = 254</text>\n<text text-anchor=\"start\" x=\"5509.5\" y=\"-616.8\" font-family=\"Helvetica,sans-Serif\" font-size=\"14.00\" fill=\"#000000\">value = &#45;0.442</text>\n</g>\n<!-- 1&#45;&gt;2 -->\n<g id=\"edge2\" class=\"edge\">\n<title>1&#45;&gt;2</title>\n<path fill=\"none\" stroke=\"#000000\" d=\"M10419.3288,-745.303C9835.7038,-733.0261 6265.2913,-657.9204 5647.1487,-644.9174\"/>\n<polygon fill=\"#000000\" stroke=\"#000000\" points=\"5647.0318,-641.4142 5636.9604,-644.703 5646.8845,-648.4127 5647.0318,-641.4142\"/>\n</g>\n<!-- 105 -->\n<g id=\"node106\" class=\"node\">\n<title>105</title>\n<polygon fill=\"#fae9dc\" stroke=\"#000000\" points=\"10580.5,-677 10419.5,-677 10419.5,-609 10580.5,-609 10580.5,-677\"/>\n<text text-anchor=\"start\" x=\"10446\" y=\"-661.8\" font-family=\"Helvetica,sans-Serif\" font-size=\"14.00\" fill=\"#000000\">totalbm2 ≤ 0.438</text>\n<text text-anchor=\"start\" x=\"10427.5\" y=\"-646.8\" font-family=\"Helvetica,sans-Serif\" font-size=\"14.00\" fill=\"#000000\">squared_error = 0.403</text>\n<text text-anchor=\"start\" x=\"10452\" y=\"-631.8\" font-family=\"Helvetica,sans-Serif\" font-size=\"14.00\" fill=\"#000000\">samples = 138</text>\n<text text-anchor=\"start\" x=\"10460\" y=\"-616.8\" font-family=\"Helvetica,sans-Serif\" font-size=\"14.00\" fill=\"#000000\">value = 0.47</text>\n</g>\n<!-- 1&#45;&gt;105 -->\n<g id=\"edge105\" class=\"edge\">\n<title>1&#45;&gt;105</title>\n<path fill=\"none\" stroke=\"#000000\" d=\"M10500,-712.9465C10500,-704.776 10500,-695.9318 10500,-687.3697\"/>\n<polygon fill=\"#000000\" stroke=\"#000000\" points=\"10503.5001,-687.13 10500,-677.13 10496.5001,-687.13 10503.5001,-687.13\"/>\n</g>\n<!-- 3 -->\n<g id=\"node4\" class=\"node\">\n<title>3</title>\n<polygon fill=\"#fef9f6\" stroke=\"#000000\" points=\"2737.5,-573 2576.5,-573 2576.5,-505 2737.5,-505 2737.5,-573\"/>\n<text text-anchor=\"start\" x=\"2601\" y=\"-557.8\" font-family=\"Helvetica,sans-Serif\" font-size=\"14.00\" fill=\"#000000\">totalbm2 ≤ &#45;0.556</text>\n<text text-anchor=\"start\" x=\"2584.5\" y=\"-542.8\" font-family=\"Helvetica,sans-Serif\" font-size=\"14.00\" fill=\"#000000\">squared_error = 0.042</text>\n<text text-anchor=\"start\" x=\"2613\" y=\"-527.8\" font-family=\"Helvetica,sans-Serif\" font-size=\"14.00\" fill=\"#000000\">samples = 92</text>\n<text text-anchor=\"start\" x=\"2610.5\" y=\"-512.8\" font-family=\"Helvetica,sans-Serif\" font-size=\"14.00\" fill=\"#000000\">value = &#45;0.678</text>\n</g>\n<!-- 2&#45;&gt;3 -->\n<g id=\"edge3\" class=\"edge\">\n<title>2&#45;&gt;3</title>\n<path fill=\"none\" stroke=\"#000000\" d=\"M5475.4384,-640.1099C5062.2641,-625.2875 3183.5082,-557.8882 2747.5433,-542.2482\"/>\n<polygon fill=\"#000000\" stroke=\"#000000\" points=\"2747.6338,-538.7493 2737.5147,-541.8884 2747.3828,-545.7448 2747.6338,-538.7493\"/>\n</g>\n<!-- 56 -->\n<g id=\"node57\" class=\"node\">\n<title>56</title>\n<polygon fill=\"#fdf4ed\" stroke=\"#000000\" points=\"5654.5,-573 5457.5,-573 5457.5,-505 5654.5,-505 5654.5,-573\"/>\n<text text-anchor=\"start\" x=\"5465.5\" y=\"-557.8\" font-family=\"Helvetica,sans-Serif\" font-size=\"14.00\" fill=\"#000000\">公寓(5樓含以下無電梯) ≤ 0.5</text>\n<text text-anchor=\"start\" x=\"5483.5\" y=\"-542.8\" font-family=\"Helvetica,sans-Serif\" font-size=\"14.00\" fill=\"#000000\">squared_error = 0.101</text>\n<text text-anchor=\"start\" x=\"5508\" y=\"-527.8\" font-family=\"Helvetica,sans-Serif\" font-size=\"14.00\" fill=\"#000000\">samples = 162</text>\n<text text-anchor=\"start\" x=\"5509.5\" y=\"-512.8\" font-family=\"Helvetica,sans-Serif\" font-size=\"14.00\" fill=\"#000000\">value = &#45;0.308</text>\n</g>\n<!-- 2&#45;&gt;56 -->\n<g id=\"edge56\" class=\"edge\">\n<title>2&#45;&gt;56</title>\n<path fill=\"none\" stroke=\"#000000\" d=\"M5556,-608.9465C5556,-600.776 5556,-591.9318 5556,-583.3697\"/>\n<polygon fill=\"#000000\" stroke=\"#000000\" points=\"5559.5001,-583.13 5556,-573.13 5552.5001,-583.13 5559.5001,-583.13\"/>\n</g>\n<!-- 4 -->\n<g id=\"node5\" class=\"node\">\n<title>4</title>\n<polygon fill=\"#fefcfa\" stroke=\"#000000\" points=\"1037.5,-469 876.5,-469 876.5,-401 1037.5,-401 1037.5,-469\"/>\n<text text-anchor=\"start\" x=\"901\" y=\"-453.8\" font-family=\"Helvetica,sans-Serif\" font-size=\"14.00\" fill=\"#000000\">totalbm2 ≤ &#45;0.646</text>\n<text text-anchor=\"start\" x=\"884.5\" y=\"-438.8\" font-family=\"Helvetica,sans-Serif\" font-size=\"14.00\" fill=\"#000000\">squared_error = 0.016</text>\n<text text-anchor=\"start\" x=\"913\" y=\"-423.8\" font-family=\"Helvetica,sans-Serif\" font-size=\"14.00\" fill=\"#000000\">samples = 24</text>\n<text text-anchor=\"start\" x=\"910.5\" y=\"-408.8\" font-family=\"Helvetica,sans-Serif\" font-size=\"14.00\" fill=\"#000000\">value = &#45;0.891</text>\n</g>\n<!-- 3&#45;&gt;4 -->\n<g id=\"edge4\" class=\"edge\">\n<title>3&#45;&gt;4</title>\n<path fill=\"none\" stroke=\"#000000\" d=\"M2576.4339,-534.0713C2293.6166,-516.7695 1347.1221,-458.8663 1048.2501,-440.5824\"/>\n<polygon fill=\"#000000\" stroke=\"#000000\" points=\"1048.0887,-437.066 1037.8936,-439.9488 1047.6612,-444.053 1048.0887,-437.066\"/>\n</g>\n<!-- 27 -->\n<g id=\"node28\" class=\"node\">\n<title>27</title>\n<polygon fill=\"#fef8f4\" stroke=\"#000000\" points=\"2737.5,-469 2576.5,-469 2576.5,-401 2737.5,-401 2737.5,-469\"/>\n<text text-anchor=\"start\" x=\"2622.5\" y=\"-453.8\" font-family=\"Helvetica,sans-Serif\" font-size=\"14.00\" fill=\"#000000\">age ≤ 19.0</text>\n<text text-anchor=\"start\" x=\"2584.5\" y=\"-438.8\" font-family=\"Helvetica,sans-Serif\" font-size=\"14.00\" fill=\"#000000\">squared_error = 0.029</text>\n<text text-anchor=\"start\" x=\"2613\" y=\"-423.8\" font-family=\"Helvetica,sans-Serif\" font-size=\"14.00\" fill=\"#000000\">samples = 68</text>\n<text text-anchor=\"start\" x=\"2610.5\" y=\"-408.8\" font-family=\"Helvetica,sans-Serif\" font-size=\"14.00\" fill=\"#000000\">value = &#45;0.603</text>\n</g>\n<!-- 3&#45;&gt;27 -->\n<g id=\"edge27\" class=\"edge\">\n<title>3&#45;&gt;27</title>\n<path fill=\"none\" stroke=\"#000000\" d=\"M2657,-504.9465C2657,-496.776 2657,-487.9318 2657,-479.3697\"/>\n<polygon fill=\"#000000\" stroke=\"#000000\" points=\"2660.5001,-479.13 2657,-469.13 2653.5001,-479.13 2660.5001,-479.13\"/>\n</g>\n<!-- 5 -->\n<g id=\"node6\" class=\"node\">\n<title>5</title>\n<polygon fill=\"#fffefd\" stroke=\"#000000\" points=\"476.5,-365 315.5,-365 315.5,-297 476.5,-297 476.5,-365\"/>\n<text text-anchor=\"start\" x=\"344\" y=\"-349.8\" font-family=\"Helvetica,sans-Serif\" font-size=\"14.00\" fill=\"#000000\">totalm2 ≤ &#45;0.611</text>\n<text text-anchor=\"start\" x=\"323.5\" y=\"-334.8\" font-family=\"Helvetica,sans-Serif\" font-size=\"14.00\" fill=\"#000000\">squared_error = 0.004</text>\n<text text-anchor=\"start\" x=\"356.5\" y=\"-319.8\" font-family=\"Helvetica,sans-Serif\" font-size=\"14.00\" fill=\"#000000\">samples = 6</text>\n<text text-anchor=\"start\" x=\"349.5\" y=\"-304.8\" font-family=\"Helvetica,sans-Serif\" font-size=\"14.00\" fill=\"#000000\">value = &#45;1.024</text>\n</g>\n<!-- 4&#45;&gt;5 -->\n<g id=\"edge5\" class=\"edge\">\n<title>4&#45;&gt;5</title>\n<path fill=\"none\" stroke=\"#000000\" d=\"M876.3239,-420.044C772.9743,-400.8847 594.3484,-367.7705 486.4806,-347.7736\"/>\n<polygon fill=\"#000000\" stroke=\"#000000\" points=\"487.06,-344.3214 476.5895,-345.9399 485.784,-351.2042 487.06,-344.3214\"/>\n</g>\n<!-- 12 -->\n<g id=\"node13\" class=\"node\">\n<title>12</title>\n<polygon fill=\"#fefbf9\" stroke=\"#000000\" points=\"1037.5,-365 876.5,-365 876.5,-297 1037.5,-297 1037.5,-365\"/>\n<text text-anchor=\"start\" x=\"922.5\" y=\"-349.8\" font-family=\"Helvetica,sans-Serif\" font-size=\"14.00\" fill=\"#000000\">age ≤ 20.5</text>\n<text text-anchor=\"start\" x=\"884.5\" y=\"-334.8\" font-family=\"Helvetica,sans-Serif\" font-size=\"14.00\" fill=\"#000000\">squared_error = 0.012</text>\n<text text-anchor=\"start\" x=\"913\" y=\"-319.8\" font-family=\"Helvetica,sans-Serif\" font-size=\"14.00\" fill=\"#000000\">samples = 18</text>\n<text text-anchor=\"start\" x=\"910.5\" y=\"-304.8\" font-family=\"Helvetica,sans-Serif\" font-size=\"14.00\" fill=\"#000000\">value = &#45;0.847</text>\n</g>\n<!-- 4&#45;&gt;12 -->\n<g id=\"edge12\" class=\"edge\">\n<title>4&#45;&gt;12</title>\n<path fill=\"none\" stroke=\"#000000\" d=\"M957,-400.9465C957,-392.776 957,-383.9318 957,-375.3697\"/>\n<polygon fill=\"#000000\" stroke=\"#000000\" points=\"960.5001,-375.13 957,-365.13 953.5001,-375.13 960.5001,-375.13\"/>\n</g>\n<!-- 6 -->\n<g id=\"node7\" class=\"node\">\n<title>6</title>\n<polygon fill=\"#ffffff\" stroke=\"#000000\" points=\"297,-253.5 153,-253.5 153,-200.5 297,-200.5 297,-253.5\"/>\n<text text-anchor=\"start\" x=\"161\" y=\"-238.3\" font-family=\"Helvetica,sans-Serif\" font-size=\"14.00\" fill=\"#000000\">squared_error = 0.0</text>\n<text text-anchor=\"start\" x=\"185.5\" y=\"-223.3\" font-family=\"Helvetica,sans-Serif\" font-size=\"14.00\" fill=\"#000000\">samples = 2</text>\n<text text-anchor=\"start\" x=\"178.5\" y=\"-208.3\" font-family=\"Helvetica,sans-Serif\" font-size=\"14.00\" fill=\"#000000\">value = &#45;1.097</text>\n</g>\n<!-- 5&#45;&gt;6 -->\n<g id=\"edge6\" class=\"edge\">\n<title>5&#45;&gt;6</title>\n<path fill=\"none\" stroke=\"#000000\" d=\"M340.0082,-296.9465C319.8144,-284.6649 297.1174,-270.8609 277.2555,-258.7811\"/>\n<polygon fill=\"#000000\" stroke=\"#000000\" points=\"279.0041,-255.7481 268.6414,-253.5422 275.3667,-261.7289 279.0041,-255.7481\"/>\n</g>\n<!-- 7 -->\n<g id=\"node8\" class=\"node\">\n<title>7</title>\n<polygon fill=\"#fffdfd\" stroke=\"#000000\" points=\"476.5,-261 315.5,-261 315.5,-193 476.5,-193 476.5,-261\"/>\n<text text-anchor=\"start\" x=\"355.5\" y=\"-245.8\" font-family=\"Helvetica,sans-Serif\" font-size=\"14.00\" fill=\"#000000\">tradef ≤ 53.0</text>\n<text text-anchor=\"start\" x=\"323.5\" y=\"-230.8\" font-family=\"Helvetica,sans-Serif\" font-size=\"14.00\" fill=\"#000000\">squared_error = 0.001</text>\n<text text-anchor=\"start\" x=\"356.5\" y=\"-215.8\" font-family=\"Helvetica,sans-Serif\" font-size=\"14.00\" fill=\"#000000\">samples = 4</text>\n<text text-anchor=\"start\" x=\"349.5\" y=\"-200.8\" font-family=\"Helvetica,sans-Serif\" font-size=\"14.00\" fill=\"#000000\">value = &#45;0.987</text>\n</g>\n<!-- 5&#45;&gt;7 -->\n<g id=\"edge7\" class=\"edge\">\n<title>5&#45;&gt;7</title>\n<path fill=\"none\" stroke=\"#000000\" d=\"M396,-296.9465C396,-288.776 396,-279.9318 396,-271.3697\"/>\n<polygon fill=\"#000000\" stroke=\"#000000\" points=\"399.5001,-271.13 396,-261.13 392.5001,-271.13 399.5001,-271.13\"/>\n</g>\n<!-- 8 -->\n<g id=\"node9\" class=\"node\">\n<title>8</title>\n<polygon fill=\"#fffefd\" stroke=\"#000000\" points=\"303,-157 159,-157 159,-89 303,-89 303,-157\"/>\n<text text-anchor=\"start\" x=\"202.5\" y=\"-141.8\" font-family=\"Helvetica,sans-Serif\" font-size=\"14.00\" fill=\"#000000\">org ≤ 0.5</text>\n<text text-anchor=\"start\" x=\"167\" y=\"-126.8\" font-family=\"Helvetica,sans-Serif\" font-size=\"14.00\" fill=\"#000000\">squared_error = 0.0</text>\n<text text-anchor=\"start\" x=\"191.5\" y=\"-111.8\" font-family=\"Helvetica,sans-Serif\" font-size=\"14.00\" fill=\"#000000\">samples = 3</text>\n<text text-anchor=\"start\" x=\"184.5\" y=\"-96.8\" font-family=\"Helvetica,sans-Serif\" font-size=\"14.00\" fill=\"#000000\">value = &#45;1.008</text>\n</g>\n<!-- 7&#45;&gt;8 -->\n<g id=\"edge8\" class=\"edge\">\n<title>7&#45;&gt;8</title>\n<path fill=\"none\" stroke=\"#000000\" d=\"M341.9728,-192.9465C326.5885,-183.2497 309.6984,-172.6039 293.8379,-162.6069\"/>\n<polygon fill=\"#000000\" stroke=\"#000000\" points=\"295.4746,-159.5013 285.1486,-157.13 291.742,-165.4232 295.4746,-159.5013\"/>\n</g>\n<!-- 11 -->\n<g id=\"node12\" class=\"node\">\n<title>11</title>\n<polygon fill=\"#fefdfb\" stroke=\"#000000\" points=\"470.5,-149.5 321.5,-149.5 321.5,-96.5 470.5,-96.5 470.5,-149.5\"/>\n<text text-anchor=\"start\" x=\"329.5\" y=\"-134.3\" font-family=\"Helvetica,sans-Serif\" font-size=\"14.00\" fill=\"#000000\">squared_error = &#45;0.0</text>\n<text text-anchor=\"start\" x=\"356.5\" y=\"-119.3\" font-family=\"Helvetica,sans-Serif\" font-size=\"14.00\" fill=\"#000000\">samples = 1</text>\n<text text-anchor=\"start\" x=\"349.5\" y=\"-104.3\" font-family=\"Helvetica,sans-Serif\" font-size=\"14.00\" fill=\"#000000\">value = &#45;0.923</text>\n</g>\n<!-- 7&#45;&gt;11 -->\n<g id=\"edge11\" class=\"edge\">\n<title>7&#45;&gt;11</title>\n<path fill=\"none\" stroke=\"#000000\" d=\"M396,-192.9465C396,-182.2621 396,-170.4254 396,-159.5742\"/>\n<polygon fill=\"#000000\" stroke=\"#000000\" points=\"399.5001,-159.5421 396,-149.5422 392.5001,-159.5422 399.5001,-159.5421\"/>\n</g>\n<!-- 9 -->\n<g id=\"node10\" class=\"node\">\n<title>9</title>\n<polygon fill=\"#fffefd\" stroke=\"#000000\" points=\"144,-53 0,-53 0,0 144,0 144,-53\"/>\n<text text-anchor=\"start\" x=\"8\" y=\"-37.8\" font-family=\"Helvetica,sans-Serif\" font-size=\"14.00\" fill=\"#000000\">squared_error = 0.0</text>\n<text text-anchor=\"start\" x=\"32.5\" y=\"-22.8\" font-family=\"Helvetica,sans-Serif\" font-size=\"14.00\" fill=\"#000000\">samples = 1</text>\n<text text-anchor=\"start\" x=\"25.5\" y=\"-7.8\" font-family=\"Helvetica,sans-Serif\" font-size=\"14.00\" fill=\"#000000\">value = &#45;1.002</text>\n</g>\n<!-- 8&#45;&gt;9 -->\n<g id=\"edge9\" class=\"edge\">\n<title>8&#45;&gt;9</title>\n<path fill=\"none\" stroke=\"#000000\" d=\"M174.9425,-88.9777C158.5724,-79.0424 140.746,-68.2232 124.5982,-58.4228\"/>\n<polygon fill=\"#000000\" stroke=\"#000000\" points=\"126.1845,-55.2914 115.8198,-53.095 122.5526,-61.2755 126.1845,-55.2914\"/>\n</g>\n<!-- 10 -->\n<g id=\"node11\" class=\"node\">\n<title>10</title>\n<polygon fill=\"#fffefd\" stroke=\"#000000\" points=\"306,-53 162,-53 162,0 306,0 306,-53\"/>\n<text text-anchor=\"start\" x=\"170\" y=\"-37.8\" font-family=\"Helvetica,sans-Serif\" font-size=\"14.00\" fill=\"#000000\">squared_error = 0.0</text>\n<text text-anchor=\"start\" x=\"194.5\" y=\"-22.8\" font-family=\"Helvetica,sans-Serif\" font-size=\"14.00\" fill=\"#000000\">samples = 2</text>\n<text text-anchor=\"start\" x=\"187.5\" y=\"-7.8\" font-family=\"Helvetica,sans-Serif\" font-size=\"14.00\" fill=\"#000000\">value = &#45;1.012</text>\n</g>\n<!-- 8&#45;&gt;10 -->\n<g id=\"edge10\" class=\"edge\">\n<title>8&#45;&gt;10</title>\n<path fill=\"none\" stroke=\"#000000\" d=\"M232.0577,-88.9777C232.3139,-80.7364 232.589,-71.887 232.8493,-63.5153\"/>\n<polygon fill=\"#000000\" stroke=\"#000000\" points=\"236.3559,-63.3524 233.1684,-53.2485 229.3593,-63.1349 236.3559,-63.3524\"/>\n</g>\n<!-- 13 -->\n<g id=\"node14\" class=\"node\">\n<title>13</title>\n<polygon fill=\"#fefaf7\" stroke=\"#000000\" points=\"905,-261 753,-261 753,-193 905,-193 905,-261\"/>\n<text text-anchor=\"start\" x=\"773\" y=\"-245.8\" font-family=\"Helvetica,sans-Serif\" font-size=\"14.00\" fill=\"#000000\">totalbm2 ≤ &#45;0.585</text>\n<text text-anchor=\"start\" x=\"761\" y=\"-230.8\" font-family=\"Helvetica,sans-Serif\" font-size=\"14.00\" fill=\"#000000\">squared_error = 0.02</text>\n<text text-anchor=\"start\" x=\"789.5\" y=\"-215.8\" font-family=\"Helvetica,sans-Serif\" font-size=\"14.00\" fill=\"#000000\">samples = 5</text>\n<text text-anchor=\"start\" x=\"782.5\" y=\"-200.8\" font-family=\"Helvetica,sans-Serif\" font-size=\"14.00\" fill=\"#000000\">value = &#45;0.733</text>\n</g>\n<!-- 12&#45;&gt;13 -->\n<g id=\"edge13\" class=\"edge\">\n<title>12&#45;&gt;13</title>\n<path fill=\"none\" stroke=\"#000000\" d=\"M915.088,-296.9465C903.485,-287.519 890.7779,-277.1946 878.7741,-267.4415\"/>\n<polygon fill=\"#000000\" stroke=\"#000000\" points=\"880.9744,-264.7196 871.0061,-261.13 876.5602,-270.1524 880.9744,-264.7196\"/>\n</g>\n<!-- 20 -->\n<g id=\"node21\" class=\"node\">\n<title>20</title>\n<polygon fill=\"#fefcfa\" stroke=\"#000000\" points=\"1229.5,-261 1068.5,-261 1068.5,-193 1229.5,-193 1229.5,-261\"/>\n<text text-anchor=\"start\" x=\"1097\" y=\"-245.8\" font-family=\"Helvetica,sans-Serif\" font-size=\"14.00\" fill=\"#000000\">totalm2 ≤ &#45;0.511</text>\n<text text-anchor=\"start\" x=\"1076.5\" y=\"-230.8\" font-family=\"Helvetica,sans-Serif\" font-size=\"14.00\" fill=\"#000000\">squared_error = 0.002</text>\n<text text-anchor=\"start\" x=\"1105\" y=\"-215.8\" font-family=\"Helvetica,sans-Serif\" font-size=\"14.00\" fill=\"#000000\">samples = 13</text>\n<text text-anchor=\"start\" x=\"1102.5\" y=\"-200.8\" font-family=\"Helvetica,sans-Serif\" font-size=\"14.00\" fill=\"#000000\">value = &#45;0.891</text>\n</g>\n<!-- 12&#45;&gt;20 -->\n<g id=\"edge20\" class=\"edge\">\n<title>12&#45;&gt;20</title>\n<path fill=\"none\" stroke=\"#000000\" d=\"M1019.868,-296.9465C1038.1842,-287.0252 1058.3345,-276.1105 1077.1592,-265.9138\"/>\n<polygon fill=\"#000000\" stroke=\"#000000\" points=\"1078.8649,-268.9704 1085.9908,-261.13 1075.5308,-262.8154 1078.8649,-268.9704\"/>\n</g>\n<!-- 14 -->\n<g id=\"node15\" class=\"node\">\n<title>14</title>\n<polygon fill=\"#fefbf9\" stroke=\"#000000\" points=\"649.5,-157 488.5,-157 488.5,-89 649.5,-89 649.5,-157\"/>\n<text text-anchor=\"start\" x=\"514.5\" y=\"-141.8\" font-family=\"Helvetica,sans-Serif\" font-size=\"14.00\" fill=\"#000000\">auxbm2 ≤ &#45;0.239</text>\n<text text-anchor=\"start\" x=\"496.5\" y=\"-126.8\" font-family=\"Helvetica,sans-Serif\" font-size=\"14.00\" fill=\"#000000\">squared_error = 0.013</text>\n<text text-anchor=\"start\" x=\"529.5\" y=\"-111.8\" font-family=\"Helvetica,sans-Serif\" font-size=\"14.00\" fill=\"#000000\">samples = 3</text>\n<text text-anchor=\"start\" x=\"522.5\" y=\"-96.8\" font-family=\"Helvetica,sans-Serif\" font-size=\"14.00\" fill=\"#000000\">value = &#45;0.819</text>\n</g>\n<!-- 13&#45;&gt;14 -->\n<g id=\"edge14\" class=\"edge\">\n<title>13&#45;&gt;14</title>\n<path fill=\"none\" stroke=\"#000000\" d=\"M752.7482,-196.4993C723.4168,-184.7667 689.6549,-171.2619 659.1375,-159.055\"/>\n<polygon fill=\"#000000\" stroke=\"#000000\" points=\"660.364,-155.776 649.7793,-155.3117 657.7642,-162.2754 660.364,-155.776\"/>\n</g>\n<!-- 17 -->\n<g id=\"node18\" class=\"node\">\n<title>17</title>\n<polygon fill=\"#fef8f4\" stroke=\"#000000\" points=\"926,-157 732,-157 732,-89 926,-89 926,-157\"/>\n<text text-anchor=\"start\" x=\"740\" y=\"-141.8\" font-family=\"Helvetica,sans-Serif\" font-size=\"14.00\" fill=\"#000000\">其他都市土地使用分區 ≤ 0.5</text>\n<text text-anchor=\"start\" x=\"756.5\" y=\"-126.8\" font-family=\"Helvetica,sans-Serif\" font-size=\"14.00\" fill=\"#000000\">squared_error = 0.002</text>\n<text text-anchor=\"start\" x=\"789.5\" y=\"-111.8\" font-family=\"Helvetica,sans-Serif\" font-size=\"14.00\" fill=\"#000000\">samples = 2</text>\n<text text-anchor=\"start\" x=\"782.5\" y=\"-96.8\" font-family=\"Helvetica,sans-Serif\" font-size=\"14.00\" fill=\"#000000\">value = &#45;0.603</text>\n</g>\n<!-- 13&#45;&gt;17 -->\n<g id=\"edge17\" class=\"edge\">\n<title>13&#45;&gt;17</title>\n<path fill=\"none\" stroke=\"#000000\" d=\"M829,-192.9465C829,-184.776 829,-175.9318 829,-167.3697\"/>\n<polygon fill=\"#000000\" stroke=\"#000000\" points=\"832.5001,-167.13 829,-157.13 825.5001,-167.13 832.5001,-167.13\"/>\n</g>\n<!-- 15 -->\n<g id=\"node16\" class=\"node\">\n<title>15</title>\n<polygon fill=\"#fef9f5\" stroke=\"#000000\" points=\"475,-53 331,-53 331,0 475,0 475,-53\"/>\n<text text-anchor=\"start\" x=\"339\" y=\"-37.8\" font-family=\"Helvetica,sans-Serif\" font-size=\"14.00\" fill=\"#000000\">squared_error = 0.0</text>\n<text text-anchor=\"start\" x=\"363.5\" y=\"-22.8\" font-family=\"Helvetica,sans-Serif\" font-size=\"14.00\" fill=\"#000000\">samples = 1</text>\n<text text-anchor=\"start\" x=\"360.5\" y=\"-7.8\" font-family=\"Helvetica,sans-Serif\" font-size=\"14.00\" fill=\"#000000\">value = &#45;0.66</text>\n</g>\n<!-- 14&#45;&gt;15 -->\n<g id=\"edge15\" class=\"edge\">\n<title>14&#45;&gt;15</title>\n<path fill=\"none\" stroke=\"#000000\" d=\"M510.4746,-88.9777C493.2256,-78.9504 474.4277,-68.0228 457.446,-58.1508\"/>\n<polygon fill=\"#000000\" stroke=\"#000000\" points=\"459.1533,-55.095 448.749,-53.095 455.6353,-61.1467 459.1533,-55.095\"/>\n</g>\n<!-- 16 -->\n<g id=\"node17\" class=\"node\">\n<title>16</title>\n<polygon fill=\"#fefcfb\" stroke=\"#000000\" points=\"637,-53 493,-53 493,0 637,0 637,-53\"/>\n<text text-anchor=\"start\" x=\"501\" y=\"-37.8\" font-family=\"Helvetica,sans-Serif\" font-size=\"14.00\" fill=\"#000000\">squared_error = 0.0</text>\n<text text-anchor=\"start\" x=\"525.5\" y=\"-22.8\" font-family=\"Helvetica,sans-Serif\" font-size=\"14.00\" fill=\"#000000\">samples = 2</text>\n<text text-anchor=\"start\" x=\"518.5\" y=\"-7.8\" font-family=\"Helvetica,sans-Serif\" font-size=\"14.00\" fill=\"#000000\">value = &#45;0.899</text>\n</g>\n<!-- 14&#45;&gt;16 -->\n<g id=\"edge16\" class=\"edge\">\n<title>14&#45;&gt;16</title>\n<path fill=\"none\" stroke=\"#000000\" d=\"M567.5897,-88.9777C567.2481,-80.7364 566.8813,-71.887 566.5343,-63.5153\"/>\n<polygon fill=\"#000000\" stroke=\"#000000\" points=\"570.02,-63.0949 566.1087,-53.2485 563.026,-63.3849 570.02,-63.0949\"/>\n</g>\n<!-- 18 -->\n<g id=\"node19\" class=\"node\">\n<title>18</title>\n<polygon fill=\"#fdf7f3\" stroke=\"#000000\" points=\"799,-53 655,-53 655,0 799,0 799,-53\"/>\n<text text-anchor=\"start\" x=\"663\" y=\"-37.8\" font-family=\"Helvetica,sans-Serif\" font-size=\"14.00\" fill=\"#000000\">squared_error = 0.0</text>\n<text text-anchor=\"start\" x=\"687.5\" y=\"-22.8\" font-family=\"Helvetica,sans-Serif\" font-size=\"14.00\" fill=\"#000000\">samples = 1</text>\n<text text-anchor=\"start\" x=\"680.5\" y=\"-7.8\" font-family=\"Helvetica,sans-Serif\" font-size=\"14.00\" fill=\"#000000\">value = &#45;0.559</text>\n</g>\n<!-- 17&#45;&gt;18 -->\n<g id=\"edge18\" class=\"edge\">\n<title>17&#45;&gt;18</title>\n<path fill=\"none\" stroke=\"#000000\" d=\"M793.0386,-88.9777C783.1662,-79.6376 772.468,-69.5163 762.6151,-60.1947\"/>\n<polygon fill=\"#000000\" stroke=\"#000000\" points=\"764.9426,-57.5785 755.273,-53.2485 760.1318,-62.6635 764.9426,-57.5785\"/>\n</g>\n<!-- 19 -->\n<g id=\"node20\" class=\"node\">\n<title>19</title>\n<polygon fill=\"#fef9f5\" stroke=\"#000000\" points=\"966.5,-53 817.5,-53 817.5,0 966.5,0 966.5,-53\"/>\n<text text-anchor=\"start\" x=\"825.5\" y=\"-37.8\" font-family=\"Helvetica,sans-Serif\" font-size=\"14.00\" fill=\"#000000\">squared_error = &#45;0.0</text>\n<text text-anchor=\"start\" x=\"852.5\" y=\"-22.8\" font-family=\"Helvetica,sans-Serif\" font-size=\"14.00\" fill=\"#000000\">samples = 1</text>\n<text text-anchor=\"start\" x=\"845.5\" y=\"-7.8\" font-family=\"Helvetica,sans-Serif\" font-size=\"14.00\" fill=\"#000000\">value = &#45;0.647</text>\n</g>\n<!-- 17&#45;&gt;19 -->\n<g id=\"edge19\" class=\"edge\">\n<title>17&#45;&gt;19</title>\n<path fill=\"none\" stroke=\"#000000\" d=\"M851.2114,-88.9777C856.9504,-80.187 863.1412,-70.7044 868.9233,-61.8477\"/>\n<polygon fill=\"#000000\" stroke=\"#000000\" points=\"872.0013,-63.5354 874.5373,-53.2485 866.1398,-59.7087 872.0013,-63.5354\"/>\n</g>\n<!-- 21 -->\n<g id=\"node22\" class=\"node\">\n<title>21</title>\n<polygon fill=\"#fffdfb\" stroke=\"#000000\" points=\"1229.5,-157 1068.5,-157 1068.5,-89 1229.5,-89 1229.5,-157\"/>\n<text text-anchor=\"start\" x=\"1114.5\" y=\"-141.8\" font-family=\"Helvetica,sans-Serif\" font-size=\"14.00\" fill=\"#000000\">age ≤ 41.0</text>\n<text text-anchor=\"start\" x=\"1076.5\" y=\"-126.8\" font-family=\"Helvetica,sans-Serif\" font-size=\"14.00\" fill=\"#000000\">squared_error = 0.001</text>\n<text text-anchor=\"start\" x=\"1109.5\" y=\"-111.8\" font-family=\"Helvetica,sans-Serif\" font-size=\"14.00\" fill=\"#000000\">samples = 6</text>\n<text text-anchor=\"start\" x=\"1102.5\" y=\"-96.8\" font-family=\"Helvetica,sans-Serif\" font-size=\"14.00\" fill=\"#000000\">value = &#45;0.933</text>\n</g>\n<!-- 20&#45;&gt;21 -->\n<g id=\"edge21\" class=\"edge\">\n<title>20&#45;&gt;21</title>\n<path fill=\"none\" stroke=\"#000000\" d=\"M1149,-192.9465C1149,-184.776 1149,-175.9318 1149,-167.3697\"/>\n<polygon fill=\"#000000\" stroke=\"#000000\" points=\"1152.5001,-167.13 1149,-157.13 1145.5001,-167.13 1152.5001,-167.13\"/>\n</g>\n<!-- 24 -->\n<g id=\"node25\" class=\"node\">\n<title>24</title>\n<polygon fill=\"#fefcfa\" stroke=\"#000000\" points=\"1453,-157 1309,-157 1309,-89 1453,-89 1453,-157\"/>\n<text text-anchor=\"start\" x=\"1344.5\" y=\"-141.8\" font-family=\"Helvetica,sans-Serif\" font-size=\"14.00\" fill=\"#000000\">tradef ≤ 2.0</text>\n<text text-anchor=\"start\" x=\"1317\" y=\"-126.8\" font-family=\"Helvetica,sans-Serif\" font-size=\"14.00\" fill=\"#000000\">squared_error = 0.0</text>\n<text text-anchor=\"start\" x=\"1341.5\" y=\"-111.8\" font-family=\"Helvetica,sans-Serif\" font-size=\"14.00\" fill=\"#000000\">samples = 7</text>\n<text text-anchor=\"start\" x=\"1334.5\" y=\"-96.8\" font-family=\"Helvetica,sans-Serif\" font-size=\"14.00\" fill=\"#000000\">value = &#45;0.855</text>\n</g>\n<!-- 20&#45;&gt;24 -->\n<g id=\"edge24\" class=\"edge\">\n<title>20&#45;&gt;24</title>\n<path fill=\"none\" stroke=\"#000000\" d=\"M1224.9655,-192.9465C1248.8702,-182.2306 1275.3604,-170.3557 1299.6252,-159.4783\"/>\n<polygon fill=\"#000000\" stroke=\"#000000\" points=\"1301.1126,-162.6472 1308.806,-155.3628 1298.2492,-156.2597 1301.1126,-162.6472\"/>\n</g>\n<!-- 22 -->\n<g id=\"node23\" class=\"node\">\n<title>22</title>\n<polygon fill=\"#fefcfa\" stroke=\"#000000\" points=\"1129,-53 985,-53 985,0 1129,0 1129,-53\"/>\n<text text-anchor=\"start\" x=\"993\" y=\"-37.8\" font-family=\"Helvetica,sans-Serif\" font-size=\"14.00\" fill=\"#000000\">squared_error = 0.0</text>\n<text text-anchor=\"start\" x=\"1017.5\" y=\"-22.8\" font-family=\"Helvetica,sans-Serif\" font-size=\"14.00\" fill=\"#000000\">samples = 1</text>\n<text text-anchor=\"start\" x=\"1010.5\" y=\"-7.8\" font-family=\"Helvetica,sans-Serif\" font-size=\"14.00\" fill=\"#000000\">value = &#45;0.879</text>\n</g>\n<!-- 21&#45;&gt;22 -->\n<g id=\"edge22\" class=\"edge\">\n<title>21&#45;&gt;22</title>\n<path fill=\"none\" stroke=\"#000000\" d=\"M1116.5642,-88.9777C1107.8343,-79.8207 1098.3885,-69.9129 1089.6471,-60.744\"/>\n<polygon fill=\"#000000\" stroke=\"#000000\" points=\"1091.9347,-58.0712 1082.5011,-53.2485 1086.8682,-62.9014 1091.9347,-58.0712\"/>\n</g>\n<!-- 23 -->\n<g id=\"node24\" class=\"node\">\n<title>23</title>\n<polygon fill=\"#fffdfc\" stroke=\"#000000\" points=\"1291,-53 1147,-53 1147,0 1291,0 1291,-53\"/>\n<text text-anchor=\"start\" x=\"1155\" y=\"-37.8\" font-family=\"Helvetica,sans-Serif\" font-size=\"14.00\" fill=\"#000000\">squared_error = 0.0</text>\n<text text-anchor=\"start\" x=\"1179.5\" y=\"-22.8\" font-family=\"Helvetica,sans-Serif\" font-size=\"14.00\" fill=\"#000000\">samples = 5</text>\n<text text-anchor=\"start\" x=\"1172.5\" y=\"-7.8\" font-family=\"Helvetica,sans-Serif\" font-size=\"14.00\" fill=\"#000000\">value = &#45;0.943</text>\n</g>\n<!-- 21&#45;&gt;23 -->\n<g id=\"edge23\" class=\"edge\">\n<title>21&#45;&gt;23</title>\n<path fill=\"none\" stroke=\"#000000\" d=\"M1173.6794,-88.9777C1180.1225,-80.0954 1187.078,-70.5067 1193.5598,-61.5711\"/>\n<polygon fill=\"#000000\" stroke=\"#000000\" points=\"1196.5583,-63.3982 1199.597,-53.2485 1190.8921,-59.288 1196.5583,-63.3982\"/>\n</g>\n<!-- 25 -->\n<g id=\"node26\" class=\"node\">\n<title>25</title>\n<polygon fill=\"#fefbf9\" stroke=\"#000000\" points=\"1453,-53 1309,-53 1309,0 1453,0 1453,-53\"/>\n<text text-anchor=\"start\" x=\"1317\" y=\"-37.8\" font-family=\"Helvetica,sans-Serif\" font-size=\"14.00\" fill=\"#000000\">squared_error = 0.0</text>\n<text text-anchor=\"start\" x=\"1341.5\" y=\"-22.8\" font-family=\"Helvetica,sans-Serif\" font-size=\"14.00\" fill=\"#000000\">samples = 2</text>\n<text text-anchor=\"start\" x=\"1338.5\" y=\"-7.8\" font-family=\"Helvetica,sans-Serif\" font-size=\"14.00\" fill=\"#000000\">value = &#45;0.83</text>\n</g>\n<!-- 24&#45;&gt;25 -->\n<g id=\"edge25\" class=\"edge\">\n<title>24&#45;&gt;25</title>\n<path fill=\"none\" stroke=\"#000000\" d=\"M1381,-88.9777C1381,-80.7364 1381,-71.887 1381,-63.5153\"/>\n<polygon fill=\"#000000\" stroke=\"#000000\" points=\"1384.5001,-63.2484 1381,-53.2485 1377.5001,-63.2485 1384.5001,-63.2484\"/>\n</g>\n<!-- 26 -->\n<g id=\"node27\" class=\"node\">\n<title>26</title>\n<polygon fill=\"#fefcfa\" stroke=\"#000000\" points=\"1615,-53 1471,-53 1471,0 1615,0 1615,-53\"/>\n<text text-anchor=\"start\" x=\"1479\" y=\"-37.8\" font-family=\"Helvetica,sans-Serif\" font-size=\"14.00\" fill=\"#000000\">squared_error = 0.0</text>\n<text text-anchor=\"start\" x=\"1503.5\" y=\"-22.8\" font-family=\"Helvetica,sans-Serif\" font-size=\"14.00\" fill=\"#000000\">samples = 5</text>\n<text text-anchor=\"start\" x=\"1496.5\" y=\"-7.8\" font-family=\"Helvetica,sans-Serif\" font-size=\"14.00\" fill=\"#000000\">value = &#45;0.865</text>\n</g>\n<!-- 24&#45;&gt;26 -->\n<g id=\"edge26\" class=\"edge\">\n<title>24&#45;&gt;26</title>\n<path fill=\"none\" stroke=\"#000000\" d=\"M1438.1151,-88.9777C1454.7941,-79.0424 1472.9569,-68.2232 1489.4094,-58.4228\"/>\n<polygon fill=\"#000000\" stroke=\"#000000\" points=\"1491.5533,-61.2197 1498.3534,-53.095 1487.971,-55.2058 1491.5533,-61.2197\"/>\n</g>\n<!-- 28 -->\n<g id=\"node29\" class=\"node\">\n<title>28</title>\n<polygon fill=\"#fdf6f1\" stroke=\"#000000\" points=\"2408.5,-365 2247.5,-365 2247.5,-297 2408.5,-297 2408.5,-365\"/>\n<text text-anchor=\"start\" x=\"2269.5\" y=\"-349.8\" font-family=\"Helvetica,sans-Serif\" font-size=\"14.00\" fill=\"#000000\">mainbm2 ≤ &#45;0.387</text>\n<text text-anchor=\"start\" x=\"2255.5\" y=\"-334.8\" font-family=\"Helvetica,sans-Serif\" font-size=\"14.00\" fill=\"#000000\">squared_error = 0.024</text>\n<text text-anchor=\"start\" x=\"2284\" y=\"-319.8\" font-family=\"Helvetica,sans-Serif\" font-size=\"14.00\" fill=\"#000000\">samples = 27</text>\n<text text-anchor=\"start\" x=\"2281.5\" y=\"-304.8\" font-family=\"Helvetica,sans-Serif\" font-size=\"14.00\" fill=\"#000000\">value = &#45;0.472</text>\n</g>\n<!-- 27&#45;&gt;28 -->\n<g id=\"edge28\" class=\"edge\">\n<title>27&#45;&gt;28</title>\n<path fill=\"none\" stroke=\"#000000\" d=\"M2576.0962,-409.4255C2528.293,-394.3145 2467.6623,-375.1486 2418.305,-359.5463\"/>\n<polygon fill=\"#000000\" stroke=\"#000000\" points=\"2419.1809,-356.1525 2408.591,-356.4756 2417.071,-362.827 2419.1809,-356.1525\"/>\n</g>\n<!-- 41 -->\n<g id=\"node42\" class=\"node\">\n<title>41</title>\n<polygon fill=\"#fef9f6\" stroke=\"#000000\" points=\"3074.5,-365 2913.5,-365 2913.5,-297 3074.5,-297 3074.5,-365\"/>\n<text text-anchor=\"start\" x=\"2959.5\" y=\"-349.8\" font-family=\"Helvetica,sans-Serif\" font-size=\"14.00\" fill=\"#000000\">age ≤ 27.5</text>\n<text text-anchor=\"start\" x=\"2921.5\" y=\"-334.8\" font-family=\"Helvetica,sans-Serif\" font-size=\"14.00\" fill=\"#000000\">squared_error = 0.014</text>\n<text text-anchor=\"start\" x=\"2950\" y=\"-319.8\" font-family=\"Helvetica,sans-Serif\" font-size=\"14.00\" fill=\"#000000\">samples = 41</text>\n<text text-anchor=\"start\" x=\"2947.5\" y=\"-304.8\" font-family=\"Helvetica,sans-Serif\" font-size=\"14.00\" fill=\"#000000\">value = &#45;0.689</text>\n</g>\n<!-- 27&#45;&gt;41 -->\n<g id=\"edge41\" class=\"edge\">\n<title>27&#45;&gt;41</title>\n<path fill=\"none\" stroke=\"#000000\" d=\"M2737.7199,-410.0894C2787.6608,-394.6774 2851.8748,-374.8606 2903.5314,-358.9191\"/>\n<polygon fill=\"#000000\" stroke=\"#000000\" points=\"2904.8322,-362.1806 2913.3554,-355.8873 2902.768,-355.4919 2904.8322,-362.1806\"/>\n</g>\n<!-- 29 -->\n<g id=\"node30\" class=\"node\">\n<title>29</title>\n<polygon fill=\"#fdf6f2\" stroke=\"#000000\" points=\"2147.5,-261 1986.5,-261 1986.5,-193 2147.5,-193 2147.5,-261\"/>\n<text text-anchor=\"start\" x=\"2032.5\" y=\"-245.8\" font-family=\"Helvetica,sans-Serif\" font-size=\"14.00\" fill=\"#000000\">room ≤ 0.5</text>\n<text text-anchor=\"start\" x=\"1994.5\" y=\"-230.8\" font-family=\"Helvetica,sans-Serif\" font-size=\"14.00\" fill=\"#000000\">squared_error = 0.014</text>\n<text text-anchor=\"start\" x=\"2023\" y=\"-215.8\" font-family=\"Helvetica,sans-Serif\" font-size=\"14.00\" fill=\"#000000\">samples = 24</text>\n<text text-anchor=\"start\" x=\"2020.5\" y=\"-200.8\" font-family=\"Helvetica,sans-Serif\" font-size=\"14.00\" fill=\"#000000\">value = &#45;0.504</text>\n</g>\n<!-- 28&#45;&gt;29 -->\n<g id=\"edge29\" class=\"edge\">\n<title>28&#45;&gt;29</title>\n<path fill=\"none\" stroke=\"#000000\" d=\"M2247.2054,-298.806C2218.7009,-287.4479 2186.4766,-274.6075 2157.2408,-262.958\"/>\n<polygon fill=\"#000000\" stroke=\"#000000\" points=\"2158.4474,-259.6712 2147.8622,-259.2209 2155.8562,-266.174 2158.4474,-259.6712\"/>\n</g>\n<!-- 36 -->\n<g id=\"node37\" class=\"node\">\n<title>36</title>\n<polygon fill=\"#fcf2eb\" stroke=\"#000000\" points=\"2408.5,-261 2247.5,-261 2247.5,-193 2408.5,-193 2408.5,-261\"/>\n<text text-anchor=\"start\" x=\"2280\" y=\"-245.8\" font-family=\"Helvetica,sans-Serif\" font-size=\"14.00\" fill=\"#000000\">totalm2 ≤ &#45;0.51</text>\n<text text-anchor=\"start\" x=\"2255.5\" y=\"-230.8\" font-family=\"Helvetica,sans-Serif\" font-size=\"14.00\" fill=\"#000000\">squared_error = 0.029</text>\n<text text-anchor=\"start\" x=\"2288.5\" y=\"-215.8\" font-family=\"Helvetica,sans-Serif\" font-size=\"14.00\" fill=\"#000000\">samples = 3</text>\n<text text-anchor=\"start\" x=\"2281.5\" y=\"-200.8\" font-family=\"Helvetica,sans-Serif\" font-size=\"14.00\" fill=\"#000000\">value = &#45;0.217</text>\n</g>\n<!-- 28&#45;&gt;36 -->\n<g id=\"edge36\" class=\"edge\">\n<title>28&#45;&gt;36</title>\n<path fill=\"none\" stroke=\"#000000\" d=\"M2328,-296.9465C2328,-288.776 2328,-279.9318 2328,-271.3697\"/>\n<polygon fill=\"#000000\" stroke=\"#000000\" points=\"2331.5001,-271.13 2328,-261.13 2324.5001,-271.13 2331.5001,-271.13\"/>\n</g>\n<!-- 30 -->\n<g id=\"node31\" class=\"node\">\n<title>30</title>\n<polygon fill=\"#fef8f4\" stroke=\"#000000\" points=\"1967.5,-157 1806.5,-157 1806.5,-89 1967.5,-89 1967.5,-157\"/>\n<text text-anchor=\"start\" x=\"1847.5\" y=\"-141.8\" font-family=\"Helvetica,sans-Serif\" font-size=\"14.00\" fill=\"#000000\">辦公用 ≤ 0.5</text>\n<text text-anchor=\"start\" x=\"1814.5\" y=\"-126.8\" font-family=\"Helvetica,sans-Serif\" font-size=\"14.00\" fill=\"#000000\">squared_error = 0.005</text>\n<text text-anchor=\"start\" x=\"1847.5\" y=\"-111.8\" font-family=\"Helvetica,sans-Serif\" font-size=\"14.00\" fill=\"#000000\">samples = 5</text>\n<text text-anchor=\"start\" x=\"1844.5\" y=\"-96.8\" font-family=\"Helvetica,sans-Serif\" font-size=\"14.00\" fill=\"#000000\">value = &#45;0.63</text>\n</g>\n<!-- 29&#45;&gt;30 -->\n<g id=\"edge30\" class=\"edge\">\n<title>29&#45;&gt;30</title>\n<path fill=\"none\" stroke=\"#000000\" d=\"M2008.0613,-192.9465C1991.1229,-183.1599 1972.5115,-172.4066 1955.0701,-162.3294\"/>\n<polygon fill=\"#000000\" stroke=\"#000000\" points=\"1956.4808,-159.1023 1946.0711,-157.13 1952.9788,-165.1634 1956.4808,-159.1023\"/>\n</g>\n<!-- 33 -->\n<g id=\"node34\" class=\"node\">\n<title>33</title>\n<polygon fill=\"#fdf6f1\" stroke=\"#000000\" points=\"2147.5,-157 1986.5,-157 1986.5,-89 2147.5,-89 2147.5,-157\"/>\n<text text-anchor=\"start\" x=\"2015\" y=\"-141.8\" font-family=\"Helvetica,sans-Serif\" font-size=\"14.00\" fill=\"#000000\">totalm2 ≤ &#45;0.532</text>\n<text text-anchor=\"start\" x=\"1994.5\" y=\"-126.8\" font-family=\"Helvetica,sans-Serif\" font-size=\"14.00\" fill=\"#000000\">squared_error = 0.011</text>\n<text text-anchor=\"start\" x=\"2023\" y=\"-111.8\" font-family=\"Helvetica,sans-Serif\" font-size=\"14.00\" fill=\"#000000\">samples = 19</text>\n<text text-anchor=\"start\" x=\"2020.5\" y=\"-96.8\" font-family=\"Helvetica,sans-Serif\" font-size=\"14.00\" fill=\"#000000\">value = &#45;0.471</text>\n</g>\n<!-- 29&#45;&gt;33 -->\n<g id=\"edge33\" class=\"edge\">\n<title>29&#45;&gt;33</title>\n<path fill=\"none\" stroke=\"#000000\" d=\"M2067,-192.9465C2067,-184.776 2067,-175.9318 2067,-167.3697\"/>\n<polygon fill=\"#000000\" stroke=\"#000000\" points=\"2070.5001,-167.13 2067,-157.13 2063.5001,-167.13 2070.5001,-167.13\"/>\n</g>\n<!-- 31 -->\n<g id=\"node32\" class=\"node\">\n<title>31</title>\n<polygon fill=\"#fef9f5\" stroke=\"#000000\" points=\"1794.5,-53 1633.5,-53 1633.5,0 1794.5,0 1794.5,-53\"/>\n<text text-anchor=\"start\" x=\"1641.5\" y=\"-37.8\" font-family=\"Helvetica,sans-Serif\" font-size=\"14.00\" fill=\"#000000\">squared_error = 0.003</text>\n<text text-anchor=\"start\" x=\"1674.5\" y=\"-22.8\" font-family=\"Helvetica,sans-Serif\" font-size=\"14.00\" fill=\"#000000\">samples = 4</text>\n<text text-anchor=\"start\" x=\"1667.5\" y=\"-7.8\" font-family=\"Helvetica,sans-Serif\" font-size=\"14.00\" fill=\"#000000\">value = &#45;0.655</text>\n</g>\n<!-- 30&#45;&gt;31 -->\n<g id=\"edge31\" class=\"edge\">\n<title>30&#45;&gt;31</title>\n<path fill=\"none\" stroke=\"#000000\" d=\"M1826.0067,-88.9777C1808.0303,-78.9504 1788.4398,-68.0228 1770.7419,-58.1508\"/>\n<polygon fill=\"#000000\" stroke=\"#000000\" points=\"1772.1164,-54.9099 1761.6781,-53.095 1768.7064,-61.0231 1772.1164,-54.9099\"/>\n</g>\n<!-- 32 -->\n<g id=\"node33\" class=\"node\">\n<title>32</title>\n<polygon fill=\"#fdf7f2\" stroke=\"#000000\" points=\"1961.5,-53 1812.5,-53 1812.5,0 1961.5,0 1961.5,-53\"/>\n<text text-anchor=\"start\" x=\"1820.5\" y=\"-37.8\" font-family=\"Helvetica,sans-Serif\" font-size=\"14.00\" fill=\"#000000\">squared_error = &#45;0.0</text>\n<text text-anchor=\"start\" x=\"1847.5\" y=\"-22.8\" font-family=\"Helvetica,sans-Serif\" font-size=\"14.00\" fill=\"#000000\">samples = 1</text>\n<text text-anchor=\"start\" x=\"1840.5\" y=\"-7.8\" font-family=\"Helvetica,sans-Serif\" font-size=\"14.00\" fill=\"#000000\">value = &#45;0.528</text>\n</g>\n<!-- 30&#45;&gt;32 -->\n<g id=\"edge32\" class=\"edge\">\n<title>30&#45;&gt;32</title>\n<path fill=\"none\" stroke=\"#000000\" d=\"M1887,-88.9777C1887,-80.7364 1887,-71.887 1887,-63.5153\"/>\n<polygon fill=\"#000000\" stroke=\"#000000\" points=\"1890.5001,-63.2484 1887,-53.2485 1883.5001,-63.2485 1890.5001,-63.2484\"/>\n</g>\n<!-- 34 -->\n<g id=\"node35\" class=\"node\">\n<title>34</title>\n<polygon fill=\"#fdf7f3\" stroke=\"#000000\" points=\"2140.5,-53 1979.5,-53 1979.5,0 2140.5,0 2140.5,-53\"/>\n<text text-anchor=\"start\" x=\"1987.5\" y=\"-37.8\" font-family=\"Helvetica,sans-Serif\" font-size=\"14.00\" fill=\"#000000\">squared_error = 0.007</text>\n<text text-anchor=\"start\" x=\"2020.5\" y=\"-22.8\" font-family=\"Helvetica,sans-Serif\" font-size=\"14.00\" fill=\"#000000\">samples = 7</text>\n<text text-anchor=\"start\" x=\"2013.5\" y=\"-7.8\" font-family=\"Helvetica,sans-Serif\" font-size=\"14.00\" fill=\"#000000\">value = &#45;0.558</text>\n</g>\n<!-- 33&#45;&gt;34 -->\n<g id=\"edge34\" class=\"edge\">\n<title>33&#45;&gt;34</title>\n<path fill=\"none\" stroke=\"#000000\" d=\"M2064.5321,-88.9777C2063.9276,-80.6449 2063.278,-71.6903 2062.6648,-63.2364\"/>\n<polygon fill=\"#000000\" stroke=\"#000000\" points=\"2066.1547,-62.969 2061.9403,-53.2485 2059.1731,-63.4755 2066.1547,-62.969\"/>\n</g>\n<!-- 35 -->\n<g id=\"node36\" class=\"node\">\n<title>35</title>\n<polygon fill=\"#fdf5f0\" stroke=\"#000000\" points=\"2319.5,-53 2158.5,-53 2158.5,0 2319.5,0 2319.5,-53\"/>\n<text text-anchor=\"start\" x=\"2166.5\" y=\"-37.8\" font-family=\"Helvetica,sans-Serif\" font-size=\"14.00\" fill=\"#000000\">squared_error = 0.007</text>\n<text text-anchor=\"start\" x=\"2195\" y=\"-22.8\" font-family=\"Helvetica,sans-Serif\" font-size=\"14.00\" fill=\"#000000\">samples = 12</text>\n<text text-anchor=\"start\" x=\"2196.5\" y=\"-7.8\" font-family=\"Helvetica,sans-Serif\" font-size=\"14.00\" fill=\"#000000\">value = &#45;0.42</text>\n</g>\n<!-- 33&#45;&gt;35 -->\n<g id=\"edge35\" class=\"edge\">\n<title>33&#45;&gt;35</title>\n<path fill=\"none\" stroke=\"#000000\" d=\"M2127.6408,-88.9777C2145.5133,-78.9504 2164.9905,-68.0228 2182.5861,-58.1508\"/>\n<polygon fill=\"#000000\" stroke=\"#000000\" points=\"2184.5888,-61.0405 2191.5975,-53.095 2181.1637,-54.9356 2184.5888,-61.0405\"/>\n</g>\n<!-- 37 -->\n<g id=\"node38\" class=\"node\">\n<title>37</title>\n<polygon fill=\"#fdf6f0\" stroke=\"#000000\" points=\"2355,-149.5 2211,-149.5 2211,-96.5 2355,-96.5 2355,-149.5\"/>\n<text text-anchor=\"start\" x=\"2219\" y=\"-134.3\" font-family=\"Helvetica,sans-Serif\" font-size=\"14.00\" fill=\"#000000\">squared_error = 0.0</text>\n<text text-anchor=\"start\" x=\"2243.5\" y=\"-119.3\" font-family=\"Helvetica,sans-Serif\" font-size=\"14.00\" fill=\"#000000\">samples = 1</text>\n<text text-anchor=\"start\" x=\"2236.5\" y=\"-104.3\" font-family=\"Helvetica,sans-Serif\" font-size=\"14.00\" fill=\"#000000\">value = &#45;0.453</text>\n</g>\n<!-- 36&#45;&gt;37 -->\n<g id=\"edge37\" class=\"edge\">\n<title>36&#45;&gt;37</title>\n<path fill=\"none\" stroke=\"#000000\" d=\"M2313.2653,-192.9465C2308.5469,-182.0418 2303.3092,-169.9368 2298.5355,-158.9043\"/>\n<polygon fill=\"#000000\" stroke=\"#000000\" points=\"2301.668,-157.33 2294.4846,-149.5422 2295.2436,-160.1098 2301.668,-157.33\"/>\n</g>\n<!-- 38 -->\n<g id=\"node39\" class=\"node\">\n<title>38</title>\n<polygon fill=\"#fcf1e9\" stroke=\"#000000\" points=\"2534.5,-157 2373.5,-157 2373.5,-89 2534.5,-89 2534.5,-157\"/>\n<text text-anchor=\"start\" x=\"2405.5\" y=\"-141.8\" font-family=\"Helvetica,sans-Serif\" font-size=\"14.00\" fill=\"#000000\">balm2 ≤ &#45;0.779</text>\n<text text-anchor=\"start\" x=\"2381.5\" y=\"-126.8\" font-family=\"Helvetica,sans-Serif\" font-size=\"14.00\" fill=\"#000000\">squared_error = 0.001</text>\n<text text-anchor=\"start\" x=\"2414.5\" y=\"-111.8\" font-family=\"Helvetica,sans-Serif\" font-size=\"14.00\" fill=\"#000000\">samples = 2</text>\n<text text-anchor=\"start\" x=\"2407.5\" y=\"-96.8\" font-family=\"Helvetica,sans-Serif\" font-size=\"14.00\" fill=\"#000000\">value = &#45;0.099</text>\n</g>\n<!-- 36&#45;&gt;38 -->\n<g id=\"edge38\" class=\"edge\">\n<title>36&#45;&gt;38</title>\n<path fill=\"none\" stroke=\"#000000\" d=\"M2369.2571,-192.9465C2380.5701,-183.6088 2392.9492,-173.3911 2404.6658,-163.7203\"/>\n<polygon fill=\"#000000\" stroke=\"#000000\" points=\"2407.1659,-166.195 2412.6502,-157.13 2402.71,-160.7964 2407.1659,-166.195\"/>\n</g>\n<!-- 39 -->\n<g id=\"node40\" class=\"node\">\n<title>39</title>\n<polygon fill=\"#fcf0e8\" stroke=\"#000000\" points=\"2482,-53 2338,-53 2338,0 2482,0 2482,-53\"/>\n<text text-anchor=\"start\" x=\"2346\" y=\"-37.8\" font-family=\"Helvetica,sans-Serif\" font-size=\"14.00\" fill=\"#000000\">squared_error = 0.0</text>\n<text text-anchor=\"start\" x=\"2370.5\" y=\"-22.8\" font-family=\"Helvetica,sans-Serif\" font-size=\"14.00\" fill=\"#000000\">samples = 1</text>\n<text text-anchor=\"start\" x=\"2363.5\" y=\"-7.8\" font-family=\"Helvetica,sans-Serif\" font-size=\"14.00\" fill=\"#000000\">value = &#45;0.065</text>\n</g>\n<!-- 38&#45;&gt;39 -->\n<g id=\"edge39\" class=\"edge\">\n<title>38&#45;&gt;39</title>\n<path fill=\"none\" stroke=\"#000000\" d=\"M2438.4872,-88.9777C2434.5626,-80.3702 2430.3354,-71.0992 2426.3698,-62.402\"/>\n<polygon fill=\"#000000\" stroke=\"#000000\" points=\"2429.5295,-60.8952 2422.1962,-53.2485 2423.1603,-63.7994 2429.5295,-60.8952\"/>\n</g>\n<!-- 40 -->\n<g id=\"node41\" class=\"node\">\n<title>40</title>\n<polygon fill=\"#fcf1e9\" stroke=\"#000000\" points=\"2644,-53 2500,-53 2500,0 2644,0 2644,-53\"/>\n<text text-anchor=\"start\" x=\"2508\" y=\"-37.8\" font-family=\"Helvetica,sans-Serif\" font-size=\"14.00\" fill=\"#000000\">squared_error = 0.0</text>\n<text text-anchor=\"start\" x=\"2532.5\" y=\"-22.8\" font-family=\"Helvetica,sans-Serif\" font-size=\"14.00\" fill=\"#000000\">samples = 1</text>\n<text text-anchor=\"start\" x=\"2525.5\" y=\"-7.8\" font-family=\"Helvetica,sans-Serif\" font-size=\"14.00\" fill=\"#000000\">value = &#45;0.133</text>\n</g>\n<!-- 38&#45;&gt;40 -->\n<g id=\"edge40\" class=\"edge\">\n<title>38&#45;&gt;40</title>\n<path fill=\"none\" stroke=\"#000000\" d=\"M2495.6024,-88.9777C2507.2474,-79.4545 2519.8854,-69.1191 2531.4675,-59.6473\"/>\n<polygon fill=\"#000000\" stroke=\"#000000\" points=\"2533.7667,-62.2885 2539.292,-53.2485 2529.3352,-56.8697 2533.7667,-62.2885\"/>\n</g>\n<!-- 42 -->\n<g id=\"node43\" class=\"node\">\n<title>42</title>\n<polygon fill=\"#fef8f4\" stroke=\"#000000\" points=\"3074.5,-261 2913.5,-261 2913.5,-193 3074.5,-193 3074.5,-261\"/>\n<text text-anchor=\"start\" x=\"2954.5\" y=\"-245.8\" font-family=\"Helvetica,sans-Serif\" font-size=\"14.00\" fill=\"#000000\">住家用 ≤ 0.5</text>\n<text text-anchor=\"start\" x=\"2921.5\" y=\"-230.8\" font-family=\"Helvetica,sans-Serif\" font-size=\"14.00\" fill=\"#000000\">squared_error = 0.008</text>\n<text text-anchor=\"start\" x=\"2950\" y=\"-215.8\" font-family=\"Helvetica,sans-Serif\" font-size=\"14.00\" fill=\"#000000\">samples = 15</text>\n<text text-anchor=\"start\" x=\"2951.5\" y=\"-200.8\" font-family=\"Helvetica,sans-Serif\" font-size=\"14.00\" fill=\"#000000\">value = &#45;0.62</text>\n</g>\n<!-- 41&#45;&gt;42 -->\n<g id=\"edge42\" class=\"edge\">\n<title>41&#45;&gt;42</title>\n<path fill=\"none\" stroke=\"#000000\" d=\"M2994,-296.9465C2994,-288.776 2994,-279.9318 2994,-271.3697\"/>\n<polygon fill=\"#000000\" stroke=\"#000000\" points=\"2997.5001,-271.13 2994,-261.13 2990.5001,-271.13 2997.5001,-271.13\"/>\n</g>\n<!-- 49 -->\n<g id=\"node50\" class=\"node\">\n<title>49</title>\n<polygon fill=\"#fefaf7\" stroke=\"#000000\" points=\"3576.5,-261 3415.5,-261 3415.5,-193 3576.5,-193 3576.5,-261\"/>\n<text text-anchor=\"start\" x=\"3444\" y=\"-245.8\" font-family=\"Helvetica,sans-Serif\" font-size=\"14.00\" fill=\"#000000\">totalm2 ≤ &#45;0.547</text>\n<text text-anchor=\"start\" x=\"3423.5\" y=\"-230.8\" font-family=\"Helvetica,sans-Serif\" font-size=\"14.00\" fill=\"#000000\">squared_error = 0.014</text>\n<text text-anchor=\"start\" x=\"3452\" y=\"-215.8\" font-family=\"Helvetica,sans-Serif\" font-size=\"14.00\" fill=\"#000000\">samples = 26</text>\n<text text-anchor=\"start\" x=\"3449.5\" y=\"-200.8\" font-family=\"Helvetica,sans-Serif\" font-size=\"14.00\" fill=\"#000000\">value = &#45;0.729</text>\n</g>\n<!-- 41&#45;&gt;49 -->\n<g id=\"edge49\" class=\"edge\">\n<title>41&#45;&gt;49</title>\n<path fill=\"none\" stroke=\"#000000\" d=\"M3074.655,-314.2906C3164.9979,-295.5741 3311.0878,-265.3085 3405.3241,-245.7854\"/>\n<polygon fill=\"#000000\" stroke=\"#000000\" points=\"3406.0474,-249.21 3415.1294,-243.7541 3404.6273,-242.3556 3406.0474,-249.21\"/>\n</g>\n<!-- 43 -->\n<g id=\"node44\" class=\"node\">\n<title>43</title>\n<polygon fill=\"#fef9f5\" stroke=\"#000000\" points=\"2985.5,-157 2824.5,-157 2824.5,-89 2985.5,-89 2985.5,-157\"/>\n<text text-anchor=\"start\" x=\"2849\" y=\"-141.8\" font-family=\"Helvetica,sans-Serif\" font-size=\"14.00\" fill=\"#000000\">totalbm2 ≤ &#45;0.529</text>\n<text text-anchor=\"start\" x=\"2832.5\" y=\"-126.8\" font-family=\"Helvetica,sans-Serif\" font-size=\"14.00\" fill=\"#000000\">squared_error = 0.005</text>\n<text text-anchor=\"start\" x=\"2865.5\" y=\"-111.8\" font-family=\"Helvetica,sans-Serif\" font-size=\"14.00\" fill=\"#000000\">samples = 9</text>\n<text text-anchor=\"start\" x=\"2858.5\" y=\"-96.8\" font-family=\"Helvetica,sans-Serif\" font-size=\"14.00\" fill=\"#000000\">value = &#45;0.664</text>\n</g>\n<!-- 42&#45;&gt;43 -->\n<g id=\"edge43\" class=\"edge\">\n<title>42&#45;&gt;43</title>\n<path fill=\"none\" stroke=\"#000000\" d=\"M2964.8581,-192.9465C2957.1745,-183.968 2948.7947,-174.1758 2940.8041,-164.8385\"/>\n<polygon fill=\"#000000\" stroke=\"#000000\" points=\"2943.3685,-162.4521 2934.2074,-157.13 2938.0501,-167.0034 2943.3685,-162.4521\"/>\n</g>\n<!-- 46 -->\n<g id=\"node47\" class=\"node\">\n<title>46</title>\n<polygon fill=\"#fdf7f3\" stroke=\"#000000\" points=\"3164.5,-157 3003.5,-157 3003.5,-89 3164.5,-89 3164.5,-157\"/>\n<text text-anchor=\"start\" x=\"3029.5\" y=\"-141.8\" font-family=\"Helvetica,sans-Serif\" font-size=\"14.00\" fill=\"#000000\">auxbm2 ≤ &#45;0.111</text>\n<text text-anchor=\"start\" x=\"3011.5\" y=\"-126.8\" font-family=\"Helvetica,sans-Serif\" font-size=\"14.00\" fill=\"#000000\">squared_error = 0.004</text>\n<text text-anchor=\"start\" x=\"3044.5\" y=\"-111.8\" font-family=\"Helvetica,sans-Serif\" font-size=\"14.00\" fill=\"#000000\">samples = 6</text>\n<text text-anchor=\"start\" x=\"3037.5\" y=\"-96.8\" font-family=\"Helvetica,sans-Serif\" font-size=\"14.00\" fill=\"#000000\">value = &#45;0.555</text>\n</g>\n<!-- 42&#45;&gt;46 -->\n<g id=\"edge46\" class=\"edge\">\n<title>42&#45;&gt;46</title>\n<path fill=\"none\" stroke=\"#000000\" d=\"M3023.4694,-192.9465C3031.2393,-183.968 3039.7132,-174.1758 3047.7936,-164.8385\"/>\n<polygon fill=\"#000000\" stroke=\"#000000\" points=\"3050.5672,-166.982 3054.4644,-157.13 3045.274,-162.4014 3050.5672,-166.982\"/>\n</g>\n<!-- 44 -->\n<g id=\"node45\" class=\"node\">\n<title>44</title>\n<polygon fill=\"#fefaf7\" stroke=\"#000000\" points=\"2806,-53 2662,-53 2662,0 2806,0 2806,-53\"/>\n<text text-anchor=\"start\" x=\"2670\" y=\"-37.8\" font-family=\"Helvetica,sans-Serif\" font-size=\"14.00\" fill=\"#000000\">squared_error = 0.0</text>\n<text text-anchor=\"start\" x=\"2694.5\" y=\"-22.8\" font-family=\"Helvetica,sans-Serif\" font-size=\"14.00\" fill=\"#000000\">samples = 3</text>\n<text text-anchor=\"start\" x=\"2691.5\" y=\"-7.8\" font-family=\"Helvetica,sans-Serif\" font-size=\"14.00\" fill=\"#000000\">value = &#45;0.74</text>\n</g>\n<!-- 43&#45;&gt;44 -->\n<g id=\"edge44\" class=\"edge\">\n<title>43&#45;&gt;44</title>\n<path fill=\"none\" stroke=\"#000000\" d=\"M2844.7118,-88.9777C2826.9432,-78.9504 2807.5792,-68.0228 2790.0859,-58.1508\"/>\n<polygon fill=\"#000000\" stroke=\"#000000\" points=\"2791.5561,-54.9616 2781.1269,-53.095 2788.1157,-61.0579 2791.5561,-54.9616\"/>\n</g>\n<!-- 45 -->\n<g id=\"node46\" class=\"node\">\n<title>45</title>\n<polygon fill=\"#fef8f4\" stroke=\"#000000\" points=\"2985.5,-53 2824.5,-53 2824.5,0 2985.5,0 2985.5,-53\"/>\n<text text-anchor=\"start\" x=\"2832.5\" y=\"-37.8\" font-family=\"Helvetica,sans-Serif\" font-size=\"14.00\" fill=\"#000000\">squared_error = 0.003</text>\n<text text-anchor=\"start\" x=\"2865.5\" y=\"-22.8\" font-family=\"Helvetica,sans-Serif\" font-size=\"14.00\" fill=\"#000000\">samples = 6</text>\n<text text-anchor=\"start\" x=\"2858.5\" y=\"-7.8\" font-family=\"Helvetica,sans-Serif\" font-size=\"14.00\" fill=\"#000000\">value = &#45;0.625</text>\n</g>\n<!-- 43&#45;&gt;45 -->\n<g id=\"edge45\" class=\"edge\">\n<title>43&#45;&gt;45</title>\n<path fill=\"none\" stroke=\"#000000\" d=\"M2905,-88.9777C2905,-80.7364 2905,-71.887 2905,-63.5153\"/>\n<polygon fill=\"#000000\" stroke=\"#000000\" points=\"2908.5001,-63.2484 2905,-53.2485 2901.5001,-63.2485 2908.5001,-63.2484\"/>\n</g>\n<!-- 47 -->\n<g id=\"node48\" class=\"node\">\n<title>47</title>\n<polygon fill=\"#fef8f4\" stroke=\"#000000\" points=\"3164.5,-53 3003.5,-53 3003.5,0 3164.5,0 3164.5,-53\"/>\n<text text-anchor=\"start\" x=\"3011.5\" y=\"-37.8\" font-family=\"Helvetica,sans-Serif\" font-size=\"14.00\" fill=\"#000000\">squared_error = 0.001</text>\n<text text-anchor=\"start\" x=\"3044.5\" y=\"-22.8\" font-family=\"Helvetica,sans-Serif\" font-size=\"14.00\" fill=\"#000000\">samples = 4</text>\n<text text-anchor=\"start\" x=\"3037.5\" y=\"-7.8\" font-family=\"Helvetica,sans-Serif\" font-size=\"14.00\" fill=\"#000000\">value = &#45;0.592</text>\n</g>\n<!-- 46&#45;&gt;47 -->\n<g id=\"edge47\" class=\"edge\">\n<title>46&#45;&gt;47</title>\n<path fill=\"none\" stroke=\"#000000\" d=\"M3084,-88.9777C3084,-80.7364 3084,-71.887 3084,-63.5153\"/>\n<polygon fill=\"#000000\" stroke=\"#000000\" points=\"3087.5001,-63.2484 3084,-53.2485 3080.5001,-63.2485 3087.5001,-63.2484\"/>\n</g>\n<!-- 48 -->\n<g id=\"node49\" class=\"node\">\n<title>48</title>\n<polygon fill=\"#fdf6f1\" stroke=\"#000000\" points=\"3327,-53 3183,-53 3183,0 3327,0 3327,-53\"/>\n<text text-anchor=\"start\" x=\"3191\" y=\"-37.8\" font-family=\"Helvetica,sans-Serif\" font-size=\"14.00\" fill=\"#000000\">squared_error = 0.0</text>\n<text text-anchor=\"start\" x=\"3215.5\" y=\"-22.8\" font-family=\"Helvetica,sans-Serif\" font-size=\"14.00\" fill=\"#000000\">samples = 2</text>\n<text text-anchor=\"start\" x=\"3208.5\" y=\"-7.8\" font-family=\"Helvetica,sans-Serif\" font-size=\"14.00\" fill=\"#000000\">value = &#45;0.479</text>\n</g>\n<!-- 46&#45;&gt;48 -->\n<g id=\"edge48\" class=\"edge\">\n<title>46&#45;&gt;48</title>\n<path fill=\"none\" stroke=\"#000000\" d=\"M3144.2882,-88.9777C3162.0568,-78.9504 3181.4208,-68.0228 3198.9141,-58.1508\"/>\n<polygon fill=\"#000000\" stroke=\"#000000\" points=\"3200.8843,-61.0579 3207.8731,-53.095 3197.4439,-54.9616 3200.8843,-61.0579\"/>\n</g>\n<!-- 50 -->\n<g id=\"node51\" class=\"node\">\n<title>50</title>\n<polygon fill=\"#fefcfb\" stroke=\"#000000\" points=\"3576.5,-157 3415.5,-157 3415.5,-89 3576.5,-89 3576.5,-157\"/>\n<text text-anchor=\"start\" x=\"3467.5\" y=\"-141.8\" font-family=\"Helvetica,sans-Serif\" font-size=\"14.00\" fill=\"#000000\">org ≤ 0.5</text>\n<text text-anchor=\"start\" x=\"3423.5\" y=\"-126.8\" font-family=\"Helvetica,sans-Serif\" font-size=\"14.00\" fill=\"#000000\">squared_error = 0.006</text>\n<text text-anchor=\"start\" x=\"3456.5\" y=\"-111.8\" font-family=\"Helvetica,sans-Serif\" font-size=\"14.00\" fill=\"#000000\">samples = 2</text>\n<text text-anchor=\"start\" x=\"3449.5\" y=\"-96.8\" font-family=\"Helvetica,sans-Serif\" font-size=\"14.00\" fill=\"#000000\">value = &#45;0.912</text>\n</g>\n<!-- 49&#45;&gt;50 -->\n<g id=\"edge50\" class=\"edge\">\n<title>49&#45;&gt;50</title>\n<path fill=\"none\" stroke=\"#000000\" d=\"M3496,-192.9465C3496,-184.776 3496,-175.9318 3496,-167.3697\"/>\n<polygon fill=\"#000000\" stroke=\"#000000\" points=\"3499.5001,-167.13 3496,-157.13 3492.5001,-167.13 3499.5001,-167.13\"/>\n</g>\n<!-- 53 -->\n<g id=\"node54\" class=\"node\">\n<title>53</title>\n<polygon fill=\"#fefaf6\" stroke=\"#000000\" points=\"3835.5,-157 3674.5,-157 3674.5,-89 3835.5,-89 3835.5,-157\"/>\n<text text-anchor=\"start\" x=\"3699\" y=\"-141.8\" font-family=\"Helvetica,sans-Serif\" font-size=\"14.00\" fill=\"#000000\">totalbm2 ≤ &#45;0.515</text>\n<text text-anchor=\"start\" x=\"3682.5\" y=\"-126.8\" font-family=\"Helvetica,sans-Serif\" font-size=\"14.00\" fill=\"#000000\">squared_error = 0.011</text>\n<text text-anchor=\"start\" x=\"3711\" y=\"-111.8\" font-family=\"Helvetica,sans-Serif\" font-size=\"14.00\" fill=\"#000000\">samples = 24</text>\n<text text-anchor=\"start\" x=\"3708.5\" y=\"-96.8\" font-family=\"Helvetica,sans-Serif\" font-size=\"14.00\" fill=\"#000000\">value = &#45;0.714</text>\n</g>\n<!-- 49&#45;&gt;53 -->\n<g id=\"edge53\" class=\"edge\">\n<title>49&#45;&gt;53</title>\n<path fill=\"none\" stroke=\"#000000\" d=\"M3576.5295,-194.6638C3604.4131,-183.4673 3635.849,-170.8444 3664.4812,-159.3473\"/>\n<polygon fill=\"#000000\" stroke=\"#000000\" points=\"3666.099,-162.4694 3674.0746,-155.4951 3663.4906,-155.9735 3666.099,-162.4694\"/>\n</g>\n<!-- 51 -->\n<g id=\"node52\" class=\"node\">\n<title>51</title>\n<polygon fill=\"#fffdfd\" stroke=\"#000000\" points=\"3489,-53 3345,-53 3345,0 3489,0 3489,-53\"/>\n<text text-anchor=\"start\" x=\"3353\" y=\"-37.8\" font-family=\"Helvetica,sans-Serif\" font-size=\"14.00\" fill=\"#000000\">squared_error = 0.0</text>\n<text text-anchor=\"start\" x=\"3377.5\" y=\"-22.8\" font-family=\"Helvetica,sans-Serif\" font-size=\"14.00\" fill=\"#000000\">samples = 1</text>\n<text text-anchor=\"start\" x=\"3370.5\" y=\"-7.8\" font-family=\"Helvetica,sans-Serif\" font-size=\"14.00\" fill=\"#000000\">value = &#45;0.989</text>\n</g>\n<!-- 50&#45;&gt;51 -->\n<g id=\"edge51\" class=\"edge\">\n<title>50&#45;&gt;51</title>\n<path fill=\"none\" stroke=\"#000000\" d=\"M3468.1476,-88.9777C3460.7261,-79.9123 3452.7023,-70.111 3445.2593,-61.0192\"/>\n<polygon fill=\"#000000\" stroke=\"#000000\" points=\"3447.9405,-58.7692 3438.8977,-53.2485 3442.5241,-63.2034 3447.9405,-58.7692\"/>\n</g>\n<!-- 52 -->\n<g id=\"node53\" class=\"node\">\n<title>52</title>\n<polygon fill=\"#fefbf9\" stroke=\"#000000\" points=\"3656.5,-53 3507.5,-53 3507.5,0 3656.5,0 3656.5,-53\"/>\n<text text-anchor=\"start\" x=\"3515.5\" y=\"-37.8\" font-family=\"Helvetica,sans-Serif\" font-size=\"14.00\" fill=\"#000000\">squared_error = &#45;0.0</text>\n<text text-anchor=\"start\" x=\"3542.5\" y=\"-22.8\" font-family=\"Helvetica,sans-Serif\" font-size=\"14.00\" fill=\"#000000\">samples = 1</text>\n<text text-anchor=\"start\" x=\"3535.5\" y=\"-7.8\" font-family=\"Helvetica,sans-Serif\" font-size=\"14.00\" fill=\"#000000\">value = &#45;0.835</text>\n</g>\n<!-- 50&#45;&gt;52 -->\n<g id=\"edge52\" class=\"edge\">\n<title>50&#45;&gt;52</title>\n<path fill=\"none\" stroke=\"#000000\" d=\"M3526.3204,-88.9777C3534.481,-79.8207 3543.3108,-69.9129 3551.4821,-60.744\"/>\n<polygon fill=\"#000000\" stroke=\"#000000\" points=\"3554.1217,-63.0427 3558.162,-53.2485 3548.8958,-58.3854 3554.1217,-63.0427\"/>\n</g>\n<!-- 54 -->\n<g id=\"node55\" class=\"node\">\n<title>54</title>\n<polygon fill=\"#fefbf8\" stroke=\"#000000\" points=\"3835.5,-53 3674.5,-53 3674.5,0 3835.5,0 3835.5,-53\"/>\n<text text-anchor=\"start\" x=\"3682.5\" y=\"-37.8\" font-family=\"Helvetica,sans-Serif\" font-size=\"14.00\" fill=\"#000000\">squared_error = 0.003</text>\n<text text-anchor=\"start\" x=\"3715.5\" y=\"-22.8\" font-family=\"Helvetica,sans-Serif\" font-size=\"14.00\" fill=\"#000000\">samples = 7</text>\n<text text-anchor=\"start\" x=\"3717\" y=\"-7.8\" font-family=\"Helvetica,sans-Serif\" font-size=\"14.00\" fill=\"#000000\">value = &#45;0.8</text>\n</g>\n<!-- 53&#45;&gt;54 -->\n<g id=\"edge54\" class=\"edge\">\n<title>53&#45;&gt;54</title>\n<path fill=\"none\" stroke=\"#000000\" d=\"M3755,-88.9777C3755,-80.7364 3755,-71.887 3755,-63.5153\"/>\n<polygon fill=\"#000000\" stroke=\"#000000\" points=\"3758.5001,-63.2484 3755,-53.2485 3751.5001,-63.2485 3758.5001,-63.2484\"/>\n</g>\n<!-- 55 -->\n<g id=\"node56\" class=\"node\">\n<title>55</title>\n<polygon fill=\"#fef9f6\" stroke=\"#000000\" points=\"4006,-53 3854,-53 3854,0 4006,0 4006,-53\"/>\n<text text-anchor=\"start\" x=\"3862\" y=\"-37.8\" font-family=\"Helvetica,sans-Serif\" font-size=\"14.00\" fill=\"#000000\">squared_error = 0.01</text>\n<text text-anchor=\"start\" x=\"3886\" y=\"-22.8\" font-family=\"Helvetica,sans-Serif\" font-size=\"14.00\" fill=\"#000000\">samples = 17</text>\n<text text-anchor=\"start\" x=\"3883.5\" y=\"-7.8\" font-family=\"Helvetica,sans-Serif\" font-size=\"14.00\" fill=\"#000000\">value = &#45;0.678</text>\n</g>\n<!-- 53&#45;&gt;55 -->\n<g id=\"edge55\" class=\"edge\">\n<title>53&#45;&gt;55</title>\n<path fill=\"none\" stroke=\"#000000\" d=\"M3816.6985,-88.9777C3834.8827,-78.9504 3854.6997,-68.0228 3872.6021,-58.1508\"/>\n<polygon fill=\"#000000\" stroke=\"#000000\" points=\"3874.7039,-60.9888 3881.7707,-53.095 3871.3237,-54.859 3874.7039,-60.9888\"/>\n</g>\n<!-- 57 -->\n<g id=\"node58\" class=\"node\">\n<title>57</title>\n<polygon fill=\"#fcf2ea\" stroke=\"#000000\" points=\"5027.5,-469 4866.5,-469 4866.5,-401 5027.5,-401 5027.5,-469\"/>\n<text text-anchor=\"start\" x=\"4888.5\" y=\"-453.8\" font-family=\"Helvetica,sans-Serif\" font-size=\"14.00\" fill=\"#000000\">mainbm2 ≤ &#45;0.094</text>\n<text text-anchor=\"start\" x=\"4874.5\" y=\"-438.8\" font-family=\"Helvetica,sans-Serif\" font-size=\"14.00\" fill=\"#000000\">squared_error = 0.128</text>\n<text text-anchor=\"start\" x=\"4903\" y=\"-423.8\" font-family=\"Helvetica,sans-Serif\" font-size=\"14.00\" fill=\"#000000\">samples = 76</text>\n<text text-anchor=\"start\" x=\"4900.5\" y=\"-408.8\" font-family=\"Helvetica,sans-Serif\" font-size=\"14.00\" fill=\"#000000\">value = &#45;0.175</text>\n</g>\n<!-- 56&#45;&gt;57 -->\n<g id=\"edge57\" class=\"edge\">\n<title>56&#45;&gt;57</title>\n<path fill=\"none\" stroke=\"#000000\" d=\"M5457.4768,-522.175C5341.4704,-502.3644 5150.3779,-469.7312 5037.822,-450.5098\"/>\n<polygon fill=\"#000000\" stroke=\"#000000\" points=\"5038.2961,-447.0402 5027.8496,-448.8068 5037.1177,-453.9403 5038.2961,-447.0402\"/>\n</g>\n<!-- 76 -->\n<g id=\"node77\" class=\"node\">\n<title>76</title>\n<polygon fill=\"#fdf5f0\" stroke=\"#000000\" points=\"6097.5,-469 5936.5,-469 5936.5,-401 6097.5,-401 6097.5,-469\"/>\n<text text-anchor=\"start\" x=\"5961\" y=\"-453.8\" font-family=\"Helvetica,sans-Serif\" font-size=\"14.00\" fill=\"#000000\">mainbm2 ≤ 0.076</text>\n<text text-anchor=\"start\" x=\"5944.5\" y=\"-438.8\" font-family=\"Helvetica,sans-Serif\" font-size=\"14.00\" fill=\"#000000\">squared_error = 0.047</text>\n<text text-anchor=\"start\" x=\"5973\" y=\"-423.8\" font-family=\"Helvetica,sans-Serif\" font-size=\"14.00\" fill=\"#000000\">samples = 86</text>\n<text text-anchor=\"start\" x=\"5970.5\" y=\"-408.8\" font-family=\"Helvetica,sans-Serif\" font-size=\"14.00\" fill=\"#000000\">value = &#45;0.425</text>\n</g>\n<!-- 56&#45;&gt;76 -->\n<g id=\"edge76\" class=\"edge\">\n<title>56&#45;&gt;76</title>\n<path fill=\"none\" stroke=\"#000000\" d=\"M5654.6132,-516.7532C5735.1476,-498.5849 5848.0543,-473.1136 5926.3501,-455.4503\"/>\n<polygon fill=\"#000000\" stroke=\"#000000\" points=\"5927.2164,-458.8429 5936.201,-453.228 5925.6759,-452.0145 5927.2164,-458.8429\"/>\n</g>\n<!-- 58 -->\n<g id=\"node59\" class=\"node\">\n<title>58</title>\n<polygon fill=\"#fdf3ed\" stroke=\"#000000\" points=\"4808.5,-365 4647.5,-365 4647.5,-297 4808.5,-297 4808.5,-365\"/>\n<text text-anchor=\"start\" x=\"4693.5\" y=\"-349.8\" font-family=\"Helvetica,sans-Serif\" font-size=\"14.00\" fill=\"#000000\">age ≤ 46.0</text>\n<text text-anchor=\"start\" x=\"4655.5\" y=\"-334.8\" font-family=\"Helvetica,sans-Serif\" font-size=\"14.00\" fill=\"#000000\">squared_error = 0.055</text>\n<text text-anchor=\"start\" x=\"4684\" y=\"-319.8\" font-family=\"Helvetica,sans-Serif\" font-size=\"14.00\" fill=\"#000000\">samples = 58</text>\n<text text-anchor=\"start\" x=\"4681.5\" y=\"-304.8\" font-family=\"Helvetica,sans-Serif\" font-size=\"14.00\" fill=\"#000000\">value = &#45;0.277</text>\n</g>\n<!-- 57&#45;&gt;58 -->\n<g id=\"edge58\" class=\"edge\">\n<title>57&#45;&gt;58</title>\n<path fill=\"none\" stroke=\"#000000\" d=\"M4875.2912,-400.9465C4854.1157,-390.8906 4830.791,-379.814 4809.0698,-369.4989\"/>\n<polygon fill=\"#000000\" stroke=\"#000000\" points=\"4810.4045,-366.2582 4799.8699,-365.13 4807.4017,-372.5814 4810.4045,-366.2582\"/>\n</g>\n<!-- 67 -->\n<g id=\"node68\" class=\"node\">\n<title>67</title>\n<polygon fill=\"#fbede3\" stroke=\"#000000\" points=\"5027.5,-365 4866.5,-365 4866.5,-297 5027.5,-297 5027.5,-365\"/>\n<text text-anchor=\"start\" x=\"4891\" y=\"-349.8\" font-family=\"Helvetica,sans-Serif\" font-size=\"14.00\" fill=\"#000000\">totalbm2 ≤ &#45;0.229</text>\n<text text-anchor=\"start\" x=\"4874.5\" y=\"-334.8\" font-family=\"Helvetica,sans-Serif\" font-size=\"14.00\" fill=\"#000000\">squared_error = 0.222</text>\n<text text-anchor=\"start\" x=\"4903\" y=\"-319.8\" font-family=\"Helvetica,sans-Serif\" font-size=\"14.00\" fill=\"#000000\">samples = 18</text>\n<text text-anchor=\"start\" x=\"4903\" y=\"-304.8\" font-family=\"Helvetica,sans-Serif\" font-size=\"14.00\" fill=\"#000000\">value = 0.153</text>\n</g>\n<!-- 57&#45;&gt;67 -->\n<g id=\"edge67\" class=\"edge\">\n<title>57&#45;&gt;67</title>\n<path fill=\"none\" stroke=\"#000000\" d=\"M4947,-400.9465C4947,-392.776 4947,-383.9318 4947,-375.3697\"/>\n<polygon fill=\"#000000\" stroke=\"#000000\" points=\"4950.5001,-375.13 4947,-365.13 4943.5001,-375.13 4950.5001,-375.13\"/>\n</g>\n<!-- 59 -->\n<g id=\"node60\" class=\"node\">\n<title>59</title>\n<polygon fill=\"#fdf3ed\" stroke=\"#000000\" points=\"4605.5,-261 4444.5,-261 4444.5,-193 4605.5,-193 4605.5,-261\"/>\n<text text-anchor=\"start\" x=\"4485.5\" y=\"-245.8\" font-family=\"Helvetica,sans-Serif\" font-size=\"14.00\" fill=\"#000000\">鋼骨造 ≤ 0.5</text>\n<text text-anchor=\"start\" x=\"4452.5\" y=\"-230.8\" font-family=\"Helvetica,sans-Serif\" font-size=\"14.00\" fill=\"#000000\">squared_error = 0.048</text>\n<text text-anchor=\"start\" x=\"4481\" y=\"-215.8\" font-family=\"Helvetica,sans-Serif\" font-size=\"14.00\" fill=\"#000000\">samples = 57</text>\n<text text-anchor=\"start\" x=\"4478.5\" y=\"-200.8\" font-family=\"Helvetica,sans-Serif\" font-size=\"14.00\" fill=\"#000000\">value = &#45;0.289</text>\n</g>\n<!-- 58&#45;&gt;59 -->\n<g id=\"edge59\" class=\"edge\">\n<title>58&#45;&gt;59</title>\n<path fill=\"none\" stroke=\"#000000\" d=\"M4661.5302,-296.9465C4642.077,-286.9803 4620.6671,-276.0117 4600.6866,-265.7754\"/>\n<polygon fill=\"#000000\" stroke=\"#000000\" points=\"4602.115,-262.5747 4591.6191,-261.13 4598.9233,-268.8047 4602.115,-262.5747\"/>\n</g>\n<!-- 66 -->\n<g id=\"node67\" class=\"node\">\n<title>66</title>\n<polygon fill=\"#fbeadd\" stroke=\"#000000\" points=\"4802.5,-253.5 4653.5,-253.5 4653.5,-200.5 4802.5,-200.5 4802.5,-253.5\"/>\n<text text-anchor=\"start\" x=\"4661.5\" y=\"-238.3\" font-family=\"Helvetica,sans-Serif\" font-size=\"14.00\" fill=\"#000000\">squared_error = &#45;0.0</text>\n<text text-anchor=\"start\" x=\"4688.5\" y=\"-223.3\" font-family=\"Helvetica,sans-Serif\" font-size=\"14.00\" fill=\"#000000\">samples = 1</text>\n<text text-anchor=\"start\" x=\"4684\" y=\"-208.3\" font-family=\"Helvetica,sans-Serif\" font-size=\"14.00\" fill=\"#000000\">value = 0.392</text>\n</g>\n<!-- 58&#45;&gt;66 -->\n<g id=\"edge66\" class=\"edge\">\n<title>58&#45;&gt;66</title>\n<path fill=\"none\" stroke=\"#000000\" d=\"M4728,-296.9465C4728,-286.2621 4728,-274.4254 4728,-263.5742\"/>\n<polygon fill=\"#000000\" stroke=\"#000000\" points=\"4731.5001,-263.5421 4728,-253.5422 4724.5001,-263.5422 4731.5001,-263.5421\"/>\n</g>\n<!-- 60 -->\n<g id=\"node61\" class=\"node\">\n<title>60</title>\n<polygon fill=\"#fdf4ed\" stroke=\"#000000\" points=\"4352,-157 4200,-157 4200,-89 4352,-89 4352,-157\"/>\n<text text-anchor=\"start\" x=\"4226\" y=\"-141.8\" font-family=\"Helvetica,sans-Serif\" font-size=\"14.00\" fill=\"#000000\">mainbm2 ≤ &#45;0.1</text>\n<text text-anchor=\"start\" x=\"4208\" y=\"-126.8\" font-family=\"Helvetica,sans-Serif\" font-size=\"14.00\" fill=\"#000000\">squared_error = 0.04</text>\n<text text-anchor=\"start\" x=\"4232\" y=\"-111.8\" font-family=\"Helvetica,sans-Serif\" font-size=\"14.00\" fill=\"#000000\">samples = 53</text>\n<text text-anchor=\"start\" x=\"4229.5\" y=\"-96.8\" font-family=\"Helvetica,sans-Serif\" font-size=\"14.00\" fill=\"#000000\">value = &#45;0.314</text>\n</g>\n<!-- 59&#45;&gt;60 -->\n<g id=\"edge60\" class=\"edge\">\n<title>59&#45;&gt;60</title>\n<path fill=\"none\" stroke=\"#000000\" d=\"M4444.1568,-193.2342C4417.7351,-182.1986 4388.3097,-169.9085 4361.5531,-158.733\"/>\n<polygon fill=\"#000000\" stroke=\"#000000\" points=\"4362.786,-155.455 4352.2095,-154.8305 4360.0881,-161.9142 4362.786,-155.455\"/>\n</g>\n<!-- 63 -->\n<g id=\"node64\" class=\"node\">\n<title>63</title>\n<polygon fill=\"#fcefe5\" stroke=\"#000000\" points=\"4605.5,-157 4444.5,-157 4444.5,-89 4605.5,-89 4605.5,-157\"/>\n<text text-anchor=\"start\" x=\"4473\" y=\"-141.8\" font-family=\"Helvetica,sans-Serif\" font-size=\"14.00\" fill=\"#000000\">totalm2 ≤ &#45;0.494</text>\n<text text-anchor=\"start\" x=\"4452.5\" y=\"-126.8\" font-family=\"Helvetica,sans-Serif\" font-size=\"14.00\" fill=\"#000000\">squared_error = 0.026</text>\n<text text-anchor=\"start\" x=\"4485.5\" y=\"-111.8\" font-family=\"Helvetica,sans-Serif\" font-size=\"14.00\" fill=\"#000000\">samples = 4</text>\n<text text-anchor=\"start\" x=\"4481\" y=\"-96.8\" font-family=\"Helvetica,sans-Serif\" font-size=\"14.00\" fill=\"#000000\">value = 0.045</text>\n</g>\n<!-- 59&#45;&gt;63 -->\n<g id=\"edge63\" class=\"edge\">\n<title>59&#45;&gt;63</title>\n<path fill=\"none\" stroke=\"#000000\" d=\"M4525,-192.9465C4525,-184.776 4525,-175.9318 4525,-167.3697\"/>\n<polygon fill=\"#000000\" stroke=\"#000000\" points=\"4528.5001,-167.13 4525,-157.13 4521.5001,-167.13 4528.5001,-167.13\"/>\n</g>\n<!-- 61 -->\n<g id=\"node62\" class=\"node\">\n<title>61</title>\n<polygon fill=\"#fdf4ed\" stroke=\"#000000\" points=\"4185.5,-53 4024.5,-53 4024.5,0 4185.5,0 4185.5,-53\"/>\n<text text-anchor=\"start\" x=\"4032.5\" y=\"-37.8\" font-family=\"Helvetica,sans-Serif\" font-size=\"14.00\" fill=\"#000000\">squared_error = 0.035</text>\n<text text-anchor=\"start\" x=\"4061\" y=\"-22.8\" font-family=\"Helvetica,sans-Serif\" font-size=\"14.00\" fill=\"#000000\">samples = 52</text>\n<text text-anchor=\"start\" x=\"4058.5\" y=\"-7.8\" font-family=\"Helvetica,sans-Serif\" font-size=\"14.00\" fill=\"#000000\">value = &#45;0.303</text>\n</g>\n<!-- 60&#45;&gt;61 -->\n<g id=\"edge61\" class=\"edge\">\n<title>60&#45;&gt;61</title>\n<path fill=\"none\" stroke=\"#000000\" d=\"M4215.7118,-88.9777C4197.9432,-78.9504 4178.5792,-68.0228 4161.0859,-58.1508\"/>\n<polygon fill=\"#000000\" stroke=\"#000000\" points=\"4162.5561,-54.9616 4152.1269,-53.095 4159.1157,-61.0579 4162.5561,-54.9616\"/>\n</g>\n<!-- 62 -->\n<g id=\"node63\" class=\"node\">\n<title>62</title>\n<polygon fill=\"#fefcfa\" stroke=\"#000000\" points=\"4348,-53 4204,-53 4204,0 4348,0 4348,-53\"/>\n<text text-anchor=\"start\" x=\"4212\" y=\"-37.8\" font-family=\"Helvetica,sans-Serif\" font-size=\"14.00\" fill=\"#000000\">squared_error = 0.0</text>\n<text text-anchor=\"start\" x=\"4236.5\" y=\"-22.8\" font-family=\"Helvetica,sans-Serif\" font-size=\"14.00\" fill=\"#000000\">samples = 1</text>\n<text text-anchor=\"start\" x=\"4229.5\" y=\"-7.8\" font-family=\"Helvetica,sans-Serif\" font-size=\"14.00\" fill=\"#000000\">value = &#45;0.879</text>\n</g>\n<!-- 60&#45;&gt;62 -->\n<g id=\"edge62\" class=\"edge\">\n<title>60&#45;&gt;62</title>\n<path fill=\"none\" stroke=\"#000000\" d=\"M4276,-88.9777C4276,-80.7364 4276,-71.887 4276,-63.5153\"/>\n<polygon fill=\"#000000\" stroke=\"#000000\" points=\"4279.5001,-63.2484 4276,-53.2485 4272.5001,-63.2485 4279.5001,-63.2484\"/>\n</g>\n<!-- 64 -->\n<g id=\"node65\" class=\"node\">\n<title>64</title>\n<polygon fill=\"#fcf3ec\" stroke=\"#000000\" points=\"4510,-53 4366,-53 4366,0 4510,0 4510,-53\"/>\n<text text-anchor=\"start\" x=\"4374\" y=\"-37.8\" font-family=\"Helvetica,sans-Serif\" font-size=\"14.00\" fill=\"#000000\">squared_error = 0.0</text>\n<text text-anchor=\"start\" x=\"4398.5\" y=\"-22.8\" font-family=\"Helvetica,sans-Serif\" font-size=\"14.00\" fill=\"#000000\">samples = 1</text>\n<text text-anchor=\"start\" x=\"4391.5\" y=\"-7.8\" font-family=\"Helvetica,sans-Serif\" font-size=\"14.00\" fill=\"#000000\">value = &#45;0.235</text>\n</g>\n<!-- 63&#45;&gt;64 -->\n<g id=\"edge64\" class=\"edge\">\n<title>63&#45;&gt;64</title>\n<path fill=\"none\" stroke=\"#000000\" d=\"M4494.3271,-88.9777C4486.0715,-79.8207 4477.1391,-69.9129 4468.8728,-60.744\"/>\n<polygon fill=\"#000000\" stroke=\"#000000\" points=\"4471.4108,-58.3321 4462.1152,-53.2485 4466.2117,-63.0193 4471.4108,-58.3321\"/>\n</g>\n<!-- 65 -->\n<g id=\"node66\" class=\"node\">\n<title>65</title>\n<polygon fill=\"#fbede3\" stroke=\"#000000\" points=\"4672,-53 4528,-53 4528,0 4672,0 4672,-53\"/>\n<text text-anchor=\"start\" x=\"4536\" y=\"-37.8\" font-family=\"Helvetica,sans-Serif\" font-size=\"14.00\" fill=\"#000000\">squared_error = 0.0</text>\n<text text-anchor=\"start\" x=\"4560.5\" y=\"-22.8\" font-family=\"Helvetica,sans-Serif\" font-size=\"14.00\" fill=\"#000000\">samples = 3</text>\n<text text-anchor=\"start\" x=\"4556\" y=\"-7.8\" font-family=\"Helvetica,sans-Serif\" font-size=\"14.00\" fill=\"#000000\">value = 0.138</text>\n</g>\n<!-- 63&#45;&gt;65 -->\n<g id=\"edge65\" class=\"edge\">\n<title>63&#45;&gt;65</title>\n<path fill=\"none\" stroke=\"#000000\" d=\"M4551.4422,-88.9777C4558.4167,-80.0039 4565.9516,-70.3089 4572.9573,-61.295\"/>\n<polygon fill=\"#000000\" stroke=\"#000000\" points=\"4575.8379,-63.292 4579.211,-53.2485 4570.3109,-58.9964 4575.8379,-63.292\"/>\n</g>\n<!-- 68 -->\n<g id=\"node69\" class=\"node\">\n<title>68</title>\n<polygon fill=\"#f7d8c1\" stroke=\"#000000\" points=\"4992,-253.5 4848,-253.5 4848,-200.5 4992,-200.5 4992,-253.5\"/>\n<text text-anchor=\"start\" x=\"4856\" y=\"-238.3\" font-family=\"Helvetica,sans-Serif\" font-size=\"14.00\" fill=\"#000000\">squared_error = 0.0</text>\n<text text-anchor=\"start\" x=\"4880.5\" y=\"-223.3\" font-family=\"Helvetica,sans-Serif\" font-size=\"14.00\" fill=\"#000000\">samples = 1</text>\n<text text-anchor=\"start\" x=\"4876\" y=\"-208.3\" font-family=\"Helvetica,sans-Serif\" font-size=\"14.00\" fill=\"#000000\">value = 1.633</text>\n</g>\n<!-- 67&#45;&gt;68 -->\n<g id=\"edge68\" class=\"edge\">\n<title>67&#45;&gt;68</title>\n<path fill=\"none\" stroke=\"#000000\" d=\"M4938.1592,-296.9465C4935.3567,-286.1519 4932.249,-274.1813 4929.4082,-263.2389\"/>\n<polygon fill=\"#000000\" stroke=\"#000000\" points=\"4932.7914,-262.3418 4926.8908,-253.5422 4926.016,-264.1008 4932.7914,-262.3418\"/>\n</g>\n<!-- 69 -->\n<g id=\"node70\" class=\"node\">\n<title>69</title>\n<polygon fill=\"#fceee5\" stroke=\"#000000\" points=\"5171.5,-261 5010.5,-261 5010.5,-193 5171.5,-193 5171.5,-261\"/>\n<text text-anchor=\"start\" x=\"5039\" y=\"-245.8\" font-family=\"Helvetica,sans-Serif\" font-size=\"14.00\" fill=\"#000000\">totalm2 ≤ &#45;0.089</text>\n<text text-anchor=\"start\" x=\"5018.5\" y=\"-230.8\" font-family=\"Helvetica,sans-Serif\" font-size=\"14.00\" fill=\"#000000\">squared_error = 0.098</text>\n<text text-anchor=\"start\" x=\"5047\" y=\"-215.8\" font-family=\"Helvetica,sans-Serif\" font-size=\"14.00\" fill=\"#000000\">samples = 17</text>\n<text text-anchor=\"start\" x=\"5047\" y=\"-200.8\" font-family=\"Helvetica,sans-Serif\" font-size=\"14.00\" fill=\"#000000\">value = 0.066</text>\n</g>\n<!-- 67&#45;&gt;69 -->\n<g id=\"edge69\" class=\"edge\">\n<title>67&#45;&gt;69</title>\n<path fill=\"none\" stroke=\"#000000\" d=\"M4994.151,-296.9465C5007.3287,-287.4293 5021.7722,-276.9978 5035.3897,-267.163\"/>\n<polygon fill=\"#000000\" stroke=\"#000000\" points=\"5037.6855,-269.8223 5043.7431,-261.13 5033.587,-264.1476 5037.6855,-269.8223\"/>\n</g>\n<!-- 70 -->\n<g id=\"node71\" class=\"node\">\n<title>70</title>\n<polygon fill=\"#fbede2\" stroke=\"#000000\" points=\"5026.5,-157 4865.5,-157 4865.5,-89 5026.5,-89 5026.5,-157\"/>\n<text text-anchor=\"start\" x=\"4911.5\" y=\"-141.8\" font-family=\"Helvetica,sans-Serif\" font-size=\"14.00\" fill=\"#000000\">age ≤ 44.5</text>\n<text text-anchor=\"start\" x=\"4873.5\" y=\"-126.8\" font-family=\"Helvetica,sans-Serif\" font-size=\"14.00\" fill=\"#000000\">squared_error = 0.064</text>\n<text text-anchor=\"start\" x=\"4902\" y=\"-111.8\" font-family=\"Helvetica,sans-Serif\" font-size=\"14.00\" fill=\"#000000\">samples = 13</text>\n<text text-anchor=\"start\" x=\"4902\" y=\"-96.8\" font-family=\"Helvetica,sans-Serif\" font-size=\"14.00\" fill=\"#000000\">value = 0.178</text>\n</g>\n<!-- 69&#45;&gt;70 -->\n<g id=\"edge70\" class=\"edge\">\n<title>69&#45;&gt;70</title>\n<path fill=\"none\" stroke=\"#000000\" d=\"M5043.5216,-192.9465C5030.2523,-183.4293 5015.7085,-172.9978 5001.9965,-163.163\"/>\n<polygon fill=\"#000000\" stroke=\"#000000\" points=\"5003.751,-160.1142 4993.5851,-157.13 4999.6712,-165.8024 5003.751,-160.1142\"/>\n</g>\n<!-- 73 -->\n<g id=\"node74\" class=\"node\">\n<title>73</title>\n<polygon fill=\"#fdf4ed\" stroke=\"#000000\" points=\"5205.5,-157 5044.5,-157 5044.5,-89 5205.5,-89 5205.5,-157\"/>\n<text text-anchor=\"start\" x=\"5073\" y=\"-141.8\" font-family=\"Helvetica,sans-Serif\" font-size=\"14.00\" fill=\"#000000\">totalm2 ≤ &#45;0.066</text>\n<text text-anchor=\"start\" x=\"5052.5\" y=\"-126.8\" font-family=\"Helvetica,sans-Serif\" font-size=\"14.00\" fill=\"#000000\">squared_error = 0.038</text>\n<text text-anchor=\"start\" x=\"5085.5\" y=\"-111.8\" font-family=\"Helvetica,sans-Serif\" font-size=\"14.00\" fill=\"#000000\">samples = 4</text>\n<text text-anchor=\"start\" x=\"5078.5\" y=\"-96.8\" font-family=\"Helvetica,sans-Serif\" font-size=\"14.00\" fill=\"#000000\">value = &#45;0.296</text>\n</g>\n<!-- 69&#45;&gt;73 -->\n<g id=\"edge73\" class=\"edge\">\n<title>69&#45;&gt;73</title>\n<path fill=\"none\" stroke=\"#000000\" d=\"M5102.1329,-192.9465C5104.8627,-184.5965 5107.8226,-175.5427 5110.6789,-166.8056\"/>\n<polygon fill=\"#000000\" stroke=\"#000000\" points=\"5114.0614,-167.7226 5113.8421,-157.13 5107.4079,-165.5473 5114.0614,-167.7226\"/>\n</g>\n<!-- 71 -->\n<g id=\"node72\" class=\"node\">\n<title>71</title>\n<polygon fill=\"#fceee5\" stroke=\"#000000\" points=\"4851.5,-53 4690.5,-53 4690.5,0 4851.5,0 4851.5,-53\"/>\n<text text-anchor=\"start\" x=\"4698.5\" y=\"-37.8\" font-family=\"Helvetica,sans-Serif\" font-size=\"14.00\" fill=\"#000000\">squared_error = 0.032</text>\n<text text-anchor=\"start\" x=\"4727\" y=\"-22.8\" font-family=\"Helvetica,sans-Serif\" font-size=\"14.00\" fill=\"#000000\">samples = 10</text>\n<text text-anchor=\"start\" x=\"4731\" y=\"-7.8\" font-family=\"Helvetica,sans-Serif\" font-size=\"14.00\" fill=\"#000000\">value = 0.07</text>\n</g>\n<!-- 70&#45;&gt;71 -->\n<g id=\"edge71\" class=\"edge\">\n<title>70&#45;&gt;71</title>\n<path fill=\"none\" stroke=\"#000000\" d=\"M4884.3015,-88.9777C4866.1173,-78.9504 4846.3003,-68.0228 4828.3979,-58.1508\"/>\n<polygon fill=\"#000000\" stroke=\"#000000\" points=\"4829.6763,-54.859 4819.2293,-53.095 4826.2961,-60.9888 4829.6763,-54.859\"/>\n</g>\n<!-- 72 -->\n<g id=\"node73\" class=\"node\">\n<title>72</title>\n<polygon fill=\"#fae8da\" stroke=\"#000000\" points=\"5030.5,-53 4869.5,-53 4869.5,0 5030.5,0 5030.5,-53\"/>\n<text text-anchor=\"start\" x=\"4877.5\" y=\"-37.8\" font-family=\"Helvetica,sans-Serif\" font-size=\"14.00\" fill=\"#000000\">squared_error = 0.004</text>\n<text text-anchor=\"start\" x=\"4910.5\" y=\"-22.8\" font-family=\"Helvetica,sans-Serif\" font-size=\"14.00\" fill=\"#000000\">samples = 3</text>\n<text text-anchor=\"start\" x=\"4906\" y=\"-7.8\" font-family=\"Helvetica,sans-Serif\" font-size=\"14.00\" fill=\"#000000\">value = 0.536</text>\n</g>\n<!-- 70&#45;&gt;72 -->\n<g id=\"edge72\" class=\"edge\">\n<title>70&#45;&gt;72</title>\n<path fill=\"none\" stroke=\"#000000\" d=\"M4947.4103,-88.9777C4947.7519,-80.7364 4948.1187,-71.887 4948.4657,-63.5153\"/>\n<polygon fill=\"#000000\" stroke=\"#000000\" points=\"4951.974,-63.3849 4948.8913,-53.2485 4944.98,-63.0949 4951.974,-63.3849\"/>\n</g>\n<!-- 74 -->\n<g id=\"node75\" class=\"node\">\n<title>74</title>\n<polygon fill=\"#fdf7f3\" stroke=\"#000000\" points=\"5193,-53 5049,-53 5049,0 5193,0 5193,-53\"/>\n<text text-anchor=\"start\" x=\"5057\" y=\"-37.8\" font-family=\"Helvetica,sans-Serif\" font-size=\"14.00\" fill=\"#000000\">squared_error = 0.0</text>\n<text text-anchor=\"start\" x=\"5081.5\" y=\"-22.8\" font-family=\"Helvetica,sans-Serif\" font-size=\"14.00\" fill=\"#000000\">samples = 1</text>\n<text text-anchor=\"start\" x=\"5074.5\" y=\"-7.8\" font-family=\"Helvetica,sans-Serif\" font-size=\"14.00\" fill=\"#000000\">value = &#45;0.572</text>\n</g>\n<!-- 73&#45;&gt;74 -->\n<g id=\"edge74\" class=\"edge\">\n<title>73&#45;&gt;74</title>\n<path fill=\"none\" stroke=\"#000000\" d=\"M5123.5897,-88.9777C5123.2481,-80.7364 5122.8813,-71.887 5122.5343,-63.5153\"/>\n<polygon fill=\"#000000\" stroke=\"#000000\" points=\"5126.02,-63.0949 5122.1087,-53.2485 5119.026,-63.3849 5126.02,-63.0949\"/>\n</g>\n<!-- 75 -->\n<g id=\"node76\" class=\"node\">\n<title>75</title>\n<polygon fill=\"#fcf2eb\" stroke=\"#000000\" points=\"5372.5,-53 5211.5,-53 5211.5,0 5372.5,0 5372.5,-53\"/>\n<text text-anchor=\"start\" x=\"5219.5\" y=\"-37.8\" font-family=\"Helvetica,sans-Serif\" font-size=\"14.00\" fill=\"#000000\">squared_error = 0.017</text>\n<text text-anchor=\"start\" x=\"5252.5\" y=\"-22.8\" font-family=\"Helvetica,sans-Serif\" font-size=\"14.00\" fill=\"#000000\">samples = 3</text>\n<text text-anchor=\"start\" x=\"5245.5\" y=\"-7.8\" font-family=\"Helvetica,sans-Serif\" font-size=\"14.00\" fill=\"#000000\">value = &#45;0.205</text>\n</g>\n<!-- 73&#45;&gt;75 -->\n<g id=\"edge75\" class=\"edge\">\n<title>73&#45;&gt;75</title>\n<path fill=\"none\" stroke=\"#000000\" d=\"M5183.878,-88.9777C5201.2309,-78.9504 5220.142,-68.0228 5237.226,-58.1508\"/>\n<polygon fill=\"#000000\" stroke=\"#000000\" points=\"5239.0682,-61.1287 5245.9754,-53.095 5235.5659,-55.0678 5239.0682,-61.1287\"/>\n</g>\n<!-- 77 -->\n<g id=\"node78\" class=\"node\">\n<title>77</title>\n<polygon fill=\"#fdf6f1\" stroke=\"#000000\" points=\"6097.5,-365 5936.5,-365 5936.5,-297 6097.5,-297 6097.5,-365\"/>\n<text text-anchor=\"start\" x=\"5962.5\" y=\"-349.8\" font-family=\"Helvetica,sans-Serif\" font-size=\"14.00\" fill=\"#000000\">mainbm2 ≤ &#45;0.08</text>\n<text text-anchor=\"start\" x=\"5944.5\" y=\"-334.8\" font-family=\"Helvetica,sans-Serif\" font-size=\"14.00\" fill=\"#000000\">squared_error = 0.035</text>\n<text text-anchor=\"start\" x=\"5973\" y=\"-319.8\" font-family=\"Helvetica,sans-Serif\" font-size=\"14.00\" fill=\"#000000\">samples = 64</text>\n<text text-anchor=\"start\" x=\"5970.5\" y=\"-304.8\" font-family=\"Helvetica,sans-Serif\" font-size=\"14.00\" fill=\"#000000\">value = &#45;0.492</text>\n</g>\n<!-- 76&#45;&gt;77 -->\n<g id=\"edge77\" class=\"edge\">\n<title>76&#45;&gt;77</title>\n<path fill=\"none\" stroke=\"#000000\" d=\"M6017,-400.9465C6017,-392.776 6017,-383.9318 6017,-375.3697\"/>\n<polygon fill=\"#000000\" stroke=\"#000000\" points=\"6020.5001,-375.13 6017,-365.13 6013.5001,-375.13 6020.5001,-375.13\"/>\n</g>\n<!-- 92 -->\n<g id=\"node93\" class=\"node\">\n<title>92</title>\n<polygon fill=\"#fcf3eb\" stroke=\"#000000\" points=\"6931.5,-365 6770.5,-365 6770.5,-297 6931.5,-297 6931.5,-365\"/>\n<text text-anchor=\"start\" x=\"6795\" y=\"-349.8\" font-family=\"Helvetica,sans-Serif\" font-size=\"14.00\" fill=\"#000000\">mainbm2 ≤ 0.124</text>\n<text text-anchor=\"start\" x=\"6778.5\" y=\"-334.8\" font-family=\"Helvetica,sans-Serif\" font-size=\"14.00\" fill=\"#000000\">squared_error = 0.032</text>\n<text text-anchor=\"start\" x=\"6807\" y=\"-319.8\" font-family=\"Helvetica,sans-Serif\" font-size=\"14.00\" fill=\"#000000\">samples = 22</text>\n<text text-anchor=\"start\" x=\"6804.5\" y=\"-304.8\" font-family=\"Helvetica,sans-Serif\" font-size=\"14.00\" fill=\"#000000\">value = &#45;0.232</text>\n</g>\n<!-- 76&#45;&gt;92 -->\n<g id=\"edge92\" class=\"edge\">\n<title>76&#45;&gt;92</title>\n<path fill=\"none\" stroke=\"#000000\" d=\"M6097.7252,-424.9335C6253.8849,-405.4604 6596.343,-362.7558 6760.1778,-342.3255\"/>\n<polygon fill=\"#000000\" stroke=\"#000000\" points=\"6760.7403,-345.7826 6770.2303,-341.072 6759.874,-338.8364 6760.7403,-345.7826\"/>\n</g>\n<!-- 78 -->\n<g id=\"node79\" class=\"node\">\n<title>78</title>\n<polygon fill=\"#fef9f5\" stroke=\"#000000\" points=\"5961.5,-261 5800.5,-261 5800.5,-193 5961.5,-193 5961.5,-261\"/>\n<text text-anchor=\"start\" x=\"5822.5\" y=\"-245.8\" font-family=\"Helvetica,sans-Serif\" font-size=\"14.00\" fill=\"#000000\">mainbm2 ≤ &#45;0.208</text>\n<text text-anchor=\"start\" x=\"5808.5\" y=\"-230.8\" font-family=\"Helvetica,sans-Serif\" font-size=\"14.00\" fill=\"#000000\">squared_error = 0.026</text>\n<text text-anchor=\"start\" x=\"5837\" y=\"-215.8\" font-family=\"Helvetica,sans-Serif\" font-size=\"14.00\" fill=\"#000000\">samples = 17</text>\n<text text-anchor=\"start\" x=\"5834.5\" y=\"-200.8\" font-family=\"Helvetica,sans-Serif\" font-size=\"14.00\" fill=\"#000000\">value = &#45;0.647</text>\n</g>\n<!-- 77&#45;&gt;78 -->\n<g id=\"edge78\" class=\"edge\">\n<title>77&#45;&gt;78</title>\n<path fill=\"none\" stroke=\"#000000\" d=\"M5972.4685,-296.9465C5960.1403,-287.519 5946.6391,-277.1946 5933.885,-267.4415\"/>\n<polygon fill=\"#000000\" stroke=\"#000000\" points=\"5935.7012,-264.4243 5925.6315,-261.13 5931.449,-269.9848 5935.7012,-264.4243\"/>\n</g>\n<!-- 85 -->\n<g id=\"node86\" class=\"node\">\n<title>85</title>\n<polygon fill=\"#fdf6f0\" stroke=\"#000000\" points=\"6309.5,-261 6148.5,-261 6148.5,-193 6309.5,-193 6309.5,-261\"/>\n<text text-anchor=\"start\" x=\"6192.5\" y=\"-245.8\" font-family=\"Helvetica,sans-Serif\" font-size=\"14.00\" fill=\"#000000\">tradef ≤ 1.5</text>\n<text text-anchor=\"start\" x=\"6156.5\" y=\"-230.8\" font-family=\"Helvetica,sans-Serif\" font-size=\"14.00\" fill=\"#000000\">squared_error = 0.027</text>\n<text text-anchor=\"start\" x=\"6185\" y=\"-215.8\" font-family=\"Helvetica,sans-Serif\" font-size=\"14.00\" fill=\"#000000\">samples = 47</text>\n<text text-anchor=\"start\" x=\"6182.5\" y=\"-200.8\" font-family=\"Helvetica,sans-Serif\" font-size=\"14.00\" fill=\"#000000\">value = &#45;0.435</text>\n</g>\n<!-- 77&#45;&gt;85 -->\n<g id=\"edge85\" class=\"edge\">\n<title>77&#45;&gt;85</title>\n<path fill=\"none\" stroke=\"#000000\" d=\"M6086.4167,-296.9465C6106.8239,-286.9354 6129.293,-275.9129 6150.2397,-265.6371\"/>\n<polygon fill=\"#000000\" stroke=\"#000000\" points=\"6151.9909,-268.6766 6159.4273,-261.13 6148.9079,-262.392 6151.9909,-268.6766\"/>\n</g>\n<!-- 79 -->\n<g id=\"node80\" class=\"node\">\n<title>79</title>\n<polygon fill=\"#fdf4ee\" stroke=\"#000000\" points=\"5705.5,-157 5544.5,-157 5544.5,-89 5705.5,-89 5705.5,-157\"/>\n<text text-anchor=\"start\" x=\"5579.5\" y=\"-141.8\" font-family=\"Helvetica,sans-Serif\" font-size=\"14.00\" fill=\"#000000\">totalm2 ≤ 0.09</text>\n<text text-anchor=\"start\" x=\"5552.5\" y=\"-126.8\" font-family=\"Helvetica,sans-Serif\" font-size=\"14.00\" fill=\"#000000\">squared_error = 0.075</text>\n<text text-anchor=\"start\" x=\"5585.5\" y=\"-111.8\" font-family=\"Helvetica,sans-Serif\" font-size=\"14.00\" fill=\"#000000\">samples = 2</text>\n<text text-anchor=\"start\" x=\"5578.5\" y=\"-96.8\" font-family=\"Helvetica,sans-Serif\" font-size=\"14.00\" fill=\"#000000\">value = &#45;0.341</text>\n</g>\n<!-- 78&#45;&gt;79 -->\n<g id=\"edge79\" class=\"edge\">\n<title>78&#45;&gt;79</title>\n<path fill=\"none\" stroke=\"#000000\" d=\"M5800.3514,-194.2365C5773.2264,-183.217 5742.7988,-170.8558 5715.0007,-159.5628\"/>\n<polygon fill=\"#000000\" stroke=\"#000000\" points=\"5716.2649,-156.2986 5705.6829,-155.7774 5713.6303,-162.7839 5716.2649,-156.2986\"/>\n</g>\n<!-- 82 -->\n<g id=\"node83\" class=\"node\">\n<title>82</title>\n<polygon fill=\"#fef9f6\" stroke=\"#000000\" points=\"5961.5,-157 5800.5,-157 5800.5,-89 5961.5,-89 5961.5,-157\"/>\n<text text-anchor=\"start\" x=\"5847.5\" y=\"-141.8\" font-family=\"Helvetica,sans-Serif\" font-size=\"14.00\" fill=\"#000000\">totalf ≤ 4.5</text>\n<text text-anchor=\"start\" x=\"5808.5\" y=\"-126.8\" font-family=\"Helvetica,sans-Serif\" font-size=\"14.00\" fill=\"#000000\">squared_error = 0.005</text>\n<text text-anchor=\"start\" x=\"5837\" y=\"-111.8\" font-family=\"Helvetica,sans-Serif\" font-size=\"14.00\" fill=\"#000000\">samples = 15</text>\n<text text-anchor=\"start\" x=\"5834.5\" y=\"-96.8\" font-family=\"Helvetica,sans-Serif\" font-size=\"14.00\" fill=\"#000000\">value = &#45;0.688</text>\n</g>\n<!-- 78&#45;&gt;82 -->\n<g id=\"edge82\" class=\"edge\">\n<title>78&#45;&gt;82</title>\n<path fill=\"none\" stroke=\"#000000\" d=\"M5881,-192.9465C5881,-184.776 5881,-175.9318 5881,-167.3697\"/>\n<polygon fill=\"#000000\" stroke=\"#000000\" points=\"5884.5001,-167.13 5881,-157.13 5877.5001,-167.13 5884.5001,-167.13\"/>\n</g>\n<!-- 80 -->\n<g id=\"node81\" class=\"node\">\n<title>80</title>\n<polygon fill=\"#fcf0e8\" stroke=\"#000000\" points=\"5535,-53 5391,-53 5391,0 5535,0 5535,-53\"/>\n<text text-anchor=\"start\" x=\"5399\" y=\"-37.8\" font-family=\"Helvetica,sans-Serif\" font-size=\"14.00\" fill=\"#000000\">squared_error = 0.0</text>\n<text text-anchor=\"start\" x=\"5423.5\" y=\"-22.8\" font-family=\"Helvetica,sans-Serif\" font-size=\"14.00\" fill=\"#000000\">samples = 1</text>\n<text text-anchor=\"start\" x=\"5416.5\" y=\"-7.8\" font-family=\"Helvetica,sans-Serif\" font-size=\"14.00\" fill=\"#000000\">value = &#45;0.067</text>\n</g>\n<!-- 79&#45;&gt;80 -->\n<g id=\"edge80\" class=\"edge\">\n<title>79&#45;&gt;80</title>\n<path fill=\"none\" stroke=\"#000000\" d=\"M5567.8849,-88.9777C5551.2059,-79.0424 5533.0431,-68.2232 5516.5906,-58.4228\"/>\n<polygon fill=\"#000000\" stroke=\"#000000\" points=\"5518.029,-55.2058 5507.6466,-53.095 5514.4467,-61.2197 5518.029,-55.2058\"/>\n</g>\n<!-- 81 -->\n<g id=\"node82\" class=\"node\">\n<title>81</title>\n<polygon fill=\"#fef8f4\" stroke=\"#000000\" points=\"5697,-53 5553,-53 5553,0 5697,0 5697,-53\"/>\n<text text-anchor=\"start\" x=\"5561\" y=\"-37.8\" font-family=\"Helvetica,sans-Serif\" font-size=\"14.00\" fill=\"#000000\">squared_error = 0.0</text>\n<text text-anchor=\"start\" x=\"5585.5\" y=\"-22.8\" font-family=\"Helvetica,sans-Serif\" font-size=\"14.00\" fill=\"#000000\">samples = 1</text>\n<text text-anchor=\"start\" x=\"5578.5\" y=\"-7.8\" font-family=\"Helvetica,sans-Serif\" font-size=\"14.00\" fill=\"#000000\">value = &#45;0.616</text>\n</g>\n<!-- 79&#45;&gt;81 -->\n<g id=\"edge81\" class=\"edge\">\n<title>79&#45;&gt;81</title>\n<path fill=\"none\" stroke=\"#000000\" d=\"M5625,-88.9777C5625,-80.7364 5625,-71.887 5625,-63.5153\"/>\n<polygon fill=\"#000000\" stroke=\"#000000\" points=\"5628.5001,-63.2484 5625,-53.2485 5621.5001,-63.2485 5628.5001,-63.2484\"/>\n</g>\n<!-- 83 -->\n<g id=\"node84\" class=\"node\">\n<title>83</title>\n<polygon fill=\"#fefaf7\" stroke=\"#000000\" points=\"5876.5,-53 5715.5,-53 5715.5,0 5876.5,0 5876.5,-53\"/>\n<text text-anchor=\"start\" x=\"5723.5\" y=\"-37.8\" font-family=\"Helvetica,sans-Serif\" font-size=\"14.00\" fill=\"#000000\">squared_error = 0.002</text>\n<text text-anchor=\"start\" x=\"5756.5\" y=\"-22.8\" font-family=\"Helvetica,sans-Serif\" font-size=\"14.00\" fill=\"#000000\">samples = 7</text>\n<text text-anchor=\"start\" x=\"5749.5\" y=\"-7.8\" font-family=\"Helvetica,sans-Serif\" font-size=\"14.00\" fill=\"#000000\">value = &#45;0.749</text>\n</g>\n<!-- 82&#45;&gt;83 -->\n<g id=\"edge83\" class=\"edge\">\n<title>82&#45;&gt;83</title>\n<path fill=\"none\" stroke=\"#000000\" d=\"M5851.0322,-88.9777C5843.0471,-79.9123 5834.4138,-70.111 5826.4056,-61.0192\"/>\n<polygon fill=\"#000000\" stroke=\"#000000\" points=\"5828.7971,-58.4391 5819.5608,-53.2485 5823.5442,-63.066 5828.7971,-58.4391\"/>\n</g>\n<!-- 84 -->\n<g id=\"node85\" class=\"node\">\n<title>84</title>\n<polygon fill=\"#fef8f5\" stroke=\"#000000\" points=\"6055.5,-53 5894.5,-53 5894.5,0 6055.5,0 6055.5,-53\"/>\n<text text-anchor=\"start\" x=\"5902.5\" y=\"-37.8\" font-family=\"Helvetica,sans-Serif\" font-size=\"14.00\" fill=\"#000000\">squared_error = 0.001</text>\n<text text-anchor=\"start\" x=\"5935.5\" y=\"-22.8\" font-family=\"Helvetica,sans-Serif\" font-size=\"14.00\" fill=\"#000000\">samples = 8</text>\n<text text-anchor=\"start\" x=\"5928.5\" y=\"-7.8\" font-family=\"Helvetica,sans-Serif\" font-size=\"14.00\" fill=\"#000000\">value = &#45;0.634</text>\n</g>\n<!-- 82&#45;&gt;84 -->\n<g id=\"edge84\" class=\"edge\">\n<title>82&#45;&gt;84</title>\n<path fill=\"none\" stroke=\"#000000\" d=\"M5914.1409,-88.9777C5923.1498,-79.7292 5932.9048,-69.7147 5941.9109,-60.4691\"/>\n<polygon fill=\"#000000\" stroke=\"#000000\" points=\"5944.4739,-62.8539 5948.9445,-53.2485 5939.4596,-57.9696 5944.4739,-62.8539\"/>\n</g>\n<!-- 86 -->\n<g id=\"node87\" class=\"node\">\n<title>86</title>\n<polygon fill=\"#fcf2ea\" stroke=\"#000000\" points=\"6326,-157 6132,-157 6132,-89 6326,-89 6326,-157\"/>\n<text text-anchor=\"start\" x=\"6140\" y=\"-141.8\" font-family=\"Helvetica,sans-Serif\" font-size=\"14.00\" fill=\"#000000\">其他都市土地使用分區 ≤ 0.5</text>\n<text text-anchor=\"start\" x=\"6156.5\" y=\"-126.8\" font-family=\"Helvetica,sans-Serif\" font-size=\"14.00\" fill=\"#000000\">squared_error = 0.045</text>\n<text text-anchor=\"start\" x=\"6189.5\" y=\"-111.8\" font-family=\"Helvetica,sans-Serif\" font-size=\"14.00\" fill=\"#000000\">samples = 5</text>\n<text text-anchor=\"start\" x=\"6182.5\" y=\"-96.8\" font-family=\"Helvetica,sans-Serif\" font-size=\"14.00\" fill=\"#000000\">value = &#45;0.164</text>\n</g>\n<!-- 85&#45;&gt;86 -->\n<g id=\"edge86\" class=\"edge\">\n<title>85&#45;&gt;86</title>\n<path fill=\"none\" stroke=\"#000000\" d=\"M6229,-192.9465C6229,-184.776 6229,-175.9318 6229,-167.3697\"/>\n<polygon fill=\"#000000\" stroke=\"#000000\" points=\"6232.5001,-167.13 6229,-157.13 6225.5001,-167.13 6232.5001,-167.13\"/>\n</g>\n<!-- 89 -->\n<g id=\"node90\" class=\"node\">\n<title>89</title>\n<polygon fill=\"#fdf6f1\" stroke=\"#000000\" points=\"6580.5,-157 6419.5,-157 6419.5,-89 6580.5,-89 6580.5,-157\"/>\n<text text-anchor=\"start\" x=\"6441.5\" y=\"-141.8\" font-family=\"Helvetica,sans-Serif\" font-size=\"14.00\" fill=\"#000000\">mainbm2 ≤ &#45;0.067</text>\n<text text-anchor=\"start\" x=\"6427.5\" y=\"-126.8\" font-family=\"Helvetica,sans-Serif\" font-size=\"14.00\" fill=\"#000000\">squared_error = 0.015</text>\n<text text-anchor=\"start\" x=\"6456\" y=\"-111.8\" font-family=\"Helvetica,sans-Serif\" font-size=\"14.00\" fill=\"#000000\">samples = 42</text>\n<text text-anchor=\"start\" x=\"6453.5\" y=\"-96.8\" font-family=\"Helvetica,sans-Serif\" font-size=\"14.00\" fill=\"#000000\">value = &#45;0.468</text>\n</g>\n<!-- 85&#45;&gt;89 -->\n<g id=\"edge89\" class=\"edge\">\n<title>85&#45;&gt;89</title>\n<path fill=\"none\" stroke=\"#000000\" d=\"M6309.5752,-196.0782C6341.1002,-183.98 6377.3999,-170.0495 6409.7961,-157.617\"/>\n<polygon fill=\"#000000\" stroke=\"#000000\" points=\"6411.1852,-160.8329 6419.2673,-153.9823 6408.6772,-154.2976 6411.1852,-160.8329\"/>\n</g>\n<!-- 87 -->\n<g id=\"node88\" class=\"node\">\n<title>87</title>\n<polygon fill=\"#fdf3ec\" stroke=\"#000000\" points=\"6234.5,-53 6073.5,-53 6073.5,0 6234.5,0 6234.5,-53\"/>\n<text text-anchor=\"start\" x=\"6081.5\" y=\"-37.8\" font-family=\"Helvetica,sans-Serif\" font-size=\"14.00\" fill=\"#000000\">squared_error = 0.003</text>\n<text text-anchor=\"start\" x=\"6114.5\" y=\"-22.8\" font-family=\"Helvetica,sans-Serif\" font-size=\"14.00\" fill=\"#000000\">samples = 4</text>\n<text text-anchor=\"start\" x=\"6107.5\" y=\"-7.8\" font-family=\"Helvetica,sans-Serif\" font-size=\"14.00\" fill=\"#000000\">value = &#45;0.267</text>\n</g>\n<!-- 86&#45;&gt;87 -->\n<g id=\"edge87\" class=\"edge\">\n<title>86&#45;&gt;87</title>\n<path fill=\"none\" stroke=\"#000000\" d=\"M6202.5578,-88.9777C6195.5833,-80.0039 6188.0484,-70.3089 6181.0427,-61.295\"/>\n<polygon fill=\"#000000\" stroke=\"#000000\" points=\"6183.6891,-58.9964 6174.789,-53.2485 6178.1621,-63.292 6183.6891,-58.9964\"/>\n</g>\n<!-- 88 -->\n<g id=\"node89\" class=\"node\">\n<title>88</title>\n<polygon fill=\"#fbece1\" stroke=\"#000000\" points=\"6401.5,-53 6252.5,-53 6252.5,0 6401.5,0 6401.5,-53\"/>\n<text text-anchor=\"start\" x=\"6260.5\" y=\"-37.8\" font-family=\"Helvetica,sans-Serif\" font-size=\"14.00\" fill=\"#000000\">squared_error = &#45;0.0</text>\n<text text-anchor=\"start\" x=\"6287.5\" y=\"-22.8\" font-family=\"Helvetica,sans-Serif\" font-size=\"14.00\" fill=\"#000000\">samples = 1</text>\n<text text-anchor=\"start\" x=\"6283\" y=\"-7.8\" font-family=\"Helvetica,sans-Serif\" font-size=\"14.00\" fill=\"#000000\">value = 0.248</text>\n</g>\n<!-- 86&#45;&gt;88 -->\n<g id=\"edge88\" class=\"edge\">\n<title>86&#45;&gt;88</title>\n<path fill=\"none\" stroke=\"#000000\" d=\"M6263.5511,-88.9777C6272.9434,-79.7292 6283.1136,-69.7147 6292.5029,-60.4691\"/>\n<polygon fill=\"#000000\" stroke=\"#000000\" points=\"6295.1661,-62.7587 6299.8357,-53.2485 6290.2546,-57.7709 6295.1661,-62.7587\"/>\n</g>\n<!-- 90 -->\n<g id=\"node91\" class=\"node\">\n<title>90</title>\n<polygon fill=\"#fcf3eb\" stroke=\"#000000\" points=\"6580.5,-53 6419.5,-53 6419.5,0 6580.5,0 6580.5,-53\"/>\n<text text-anchor=\"start\" x=\"6427.5\" y=\"-37.8\" font-family=\"Helvetica,sans-Serif\" font-size=\"14.00\" fill=\"#000000\">squared_error = 0.004</text>\n<text text-anchor=\"start\" x=\"6460.5\" y=\"-22.8\" font-family=\"Helvetica,sans-Serif\" font-size=\"14.00\" fill=\"#000000\">samples = 2</text>\n<text text-anchor=\"start\" x=\"6453.5\" y=\"-7.8\" font-family=\"Helvetica,sans-Serif\" font-size=\"14.00\" fill=\"#000000\">value = &#45;0.229</text>\n</g>\n<!-- 89&#45;&gt;90 -->\n<g id=\"edge90\" class=\"edge\">\n<title>89&#45;&gt;90</title>\n<path fill=\"none\" stroke=\"#000000\" d=\"M6500,-88.9777C6500,-80.7364 6500,-71.887 6500,-63.5153\"/>\n<polygon fill=\"#000000\" stroke=\"#000000\" points=\"6503.5001,-63.2484 6500,-53.2485 6496.5001,-63.2485 6503.5001,-63.2484\"/>\n</g>\n<!-- 91 -->\n<g id=\"node92\" class=\"node\">\n<title>91</title>\n<polygon fill=\"#fdf6f1\" stroke=\"#000000\" points=\"6759.5,-53 6598.5,-53 6598.5,0 6759.5,0 6759.5,-53\"/>\n<text text-anchor=\"start\" x=\"6606.5\" y=\"-37.8\" font-family=\"Helvetica,sans-Serif\" font-size=\"14.00\" fill=\"#000000\">squared_error = 0.013</text>\n<text text-anchor=\"start\" x=\"6635\" y=\"-22.8\" font-family=\"Helvetica,sans-Serif\" font-size=\"14.00\" fill=\"#000000\">samples = 40</text>\n<text text-anchor=\"start\" x=\"6636.5\" y=\"-7.8\" font-family=\"Helvetica,sans-Serif\" font-size=\"14.00\" fill=\"#000000\">value = &#45;0.48</text>\n</g>\n<!-- 89&#45;&gt;91 -->\n<g id=\"edge91\" class=\"edge\">\n<title>89&#45;&gt;91</title>\n<path fill=\"none\" stroke=\"#000000\" d=\"M6563.1087,-88.9777C6581.8792,-78.8584 6602.3506,-67.8222 6620.7937,-57.8794\"/>\n<polygon fill=\"#000000\" stroke=\"#000000\" points=\"6622.5268,-60.9213 6629.6683,-53.095 6619.205,-54.7597 6622.5268,-60.9213\"/>\n</g>\n<!-- 93 -->\n<g id=\"node94\" class=\"node\">\n<title>93</title>\n<polygon fill=\"#fdf3ed\" stroke=\"#000000\" points=\"6931.5,-261 6770.5,-261 6770.5,-193 6931.5,-193 6931.5,-261\"/>\n<text text-anchor=\"start\" x=\"6816.5\" y=\"-245.8\" font-family=\"Helvetica,sans-Serif\" font-size=\"14.00\" fill=\"#000000\">room ≤ 2.0</text>\n<text text-anchor=\"start\" x=\"6778.5\" y=\"-230.8\" font-family=\"Helvetica,sans-Serif\" font-size=\"14.00\" fill=\"#000000\">squared_error = 0.021</text>\n<text text-anchor=\"start\" x=\"6807\" y=\"-215.8\" font-family=\"Helvetica,sans-Serif\" font-size=\"14.00\" fill=\"#000000\">samples = 17</text>\n<text text-anchor=\"start\" x=\"6804.5\" y=\"-200.8\" font-family=\"Helvetica,sans-Serif\" font-size=\"14.00\" fill=\"#000000\">value = &#45;0.295</text>\n</g>\n<!-- 92&#45;&gt;93 -->\n<g id=\"edge93\" class=\"edge\">\n<title>92&#45;&gt;93</title>\n<path fill=\"none\" stroke=\"#000000\" d=\"M6851,-296.9465C6851,-288.776 6851,-279.9318 6851,-271.3697\"/>\n<polygon fill=\"#000000\" stroke=\"#000000\" points=\"6854.5001,-271.13 6851,-261.13 6847.5001,-271.13 6854.5001,-271.13\"/>\n</g>\n<!-- 98 -->\n<g id=\"node99\" class=\"node\">\n<title>98</title>\n<polygon fill=\"#fcefe7\" stroke=\"#000000\" points=\"7338.5,-261 7177.5,-261 7177.5,-193 7338.5,-193 7338.5,-261\"/>\n<text text-anchor=\"start\" x=\"7208\" y=\"-245.8\" font-family=\"Helvetica,sans-Serif\" font-size=\"14.00\" fill=\"#000000\">totalm2 ≤ 0.187</text>\n<text text-anchor=\"start\" x=\"7185.5\" y=\"-230.8\" font-family=\"Helvetica,sans-Serif\" font-size=\"14.00\" fill=\"#000000\">squared_error = 0.007</text>\n<text text-anchor=\"start\" x=\"7218.5\" y=\"-215.8\" font-family=\"Helvetica,sans-Serif\" font-size=\"14.00\" fill=\"#000000\">samples = 5</text>\n<text text-anchor=\"start\" x=\"7211.5\" y=\"-200.8\" font-family=\"Helvetica,sans-Serif\" font-size=\"14.00\" fill=\"#000000\">value = &#45;0.016</text>\n</g>\n<!-- 92&#45;&gt;98 -->\n<g id=\"edge98\" class=\"edge\">\n<title>92&#45;&gt;98</title>\n<path fill=\"none\" stroke=\"#000000\" d=\"M6931.8967,-310.3286C6999.8694,-292.9597 7096.937,-268.1561 7167.4838,-250.1295\"/>\n<polygon fill=\"#000000\" stroke=\"#000000\" points=\"7168.4342,-253.4991 7177.2564,-247.6323 7166.7012,-246.717 7168.4342,-253.4991\"/>\n</g>\n<!-- 94 -->\n<g id=\"node95\" class=\"node\">\n<title>94</title>\n<polygon fill=\"#fef9f6\" stroke=\"#000000\" points=\"6838,-149.5 6694,-149.5 6694,-96.5 6838,-96.5 6838,-149.5\"/>\n<text text-anchor=\"start\" x=\"6702\" y=\"-134.3\" font-family=\"Helvetica,sans-Serif\" font-size=\"14.00\" fill=\"#000000\">squared_error = 0.0</text>\n<text text-anchor=\"start\" x=\"6726.5\" y=\"-119.3\" font-family=\"Helvetica,sans-Serif\" font-size=\"14.00\" fill=\"#000000\">samples = 1</text>\n<text text-anchor=\"start\" x=\"6719.5\" y=\"-104.3\" font-family=\"Helvetica,sans-Serif\" font-size=\"14.00\" fill=\"#000000\">value = &#45;0.682</text>\n</g>\n<!-- 93&#45;&gt;94 -->\n<g id=\"edge94\" class=\"edge\">\n<title>93&#45;&gt;94</title>\n<path fill=\"none\" stroke=\"#000000\" d=\"M6823.1678,-192.9465C6813.8952,-181.6012 6803.5608,-168.9567 6794.2563,-157.5724\"/>\n<polygon fill=\"#000000\" stroke=\"#000000\" points=\"6796.7315,-155.0701 6787.6931,-149.5422 6791.3115,-159.5 6796.7315,-155.0701\"/>\n</g>\n<!-- 95 -->\n<g id=\"node96\" class=\"node\">\n<title>95</title>\n<polygon fill=\"#fdf3ec\" stroke=\"#000000\" points=\"7017.5,-157 6856.5,-157 6856.5,-89 7017.5,-89 7017.5,-157\"/>\n<text text-anchor=\"start\" x=\"6884.5\" y=\"-141.8\" font-family=\"Helvetica,sans-Serif\" font-size=\"14.00\" fill=\"#000000\">auxbm2 ≤ 0.474</text>\n<text text-anchor=\"start\" x=\"6864.5\" y=\"-126.8\" font-family=\"Helvetica,sans-Serif\" font-size=\"14.00\" fill=\"#000000\">squared_error = 0.013</text>\n<text text-anchor=\"start\" x=\"6893\" y=\"-111.8\" font-family=\"Helvetica,sans-Serif\" font-size=\"14.00\" fill=\"#000000\">samples = 16</text>\n<text text-anchor=\"start\" x=\"6890.5\" y=\"-96.8\" font-family=\"Helvetica,sans-Serif\" font-size=\"14.00\" fill=\"#000000\">value = &#45;0.271</text>\n</g>\n<!-- 93&#45;&gt;95 -->\n<g id=\"edge95\" class=\"edge\">\n<title>93&#45;&gt;95</title>\n<path fill=\"none\" stroke=\"#000000\" d=\"M6879.1596,-192.9465C6886.5842,-183.968 6894.6815,-174.1758 6902.4028,-164.8385\"/>\n<polygon fill=\"#000000\" stroke=\"#000000\" points=\"6905.1017,-167.0669 6908.7771,-157.13 6899.7072,-162.606 6905.1017,-167.0669\"/>\n</g>\n<!-- 96 -->\n<g id=\"node97\" class=\"node\">\n<title>96</title>\n<polygon fill=\"#fdf3ed\" stroke=\"#000000\" points=\"6930,-53 6778,-53 6778,0 6930,0 6930,-53\"/>\n<text text-anchor=\"start\" x=\"6786\" y=\"-37.8\" font-family=\"Helvetica,sans-Serif\" font-size=\"14.00\" fill=\"#000000\">squared_error = 0.01</text>\n<text text-anchor=\"start\" x=\"6810\" y=\"-22.8\" font-family=\"Helvetica,sans-Serif\" font-size=\"14.00\" fill=\"#000000\">samples = 14</text>\n<text text-anchor=\"start\" x=\"6807.5\" y=\"-7.8\" font-family=\"Helvetica,sans-Serif\" font-size=\"14.00\" fill=\"#000000\">value = &#45;0.294</text>\n</g>\n<!-- 95&#45;&gt;96 -->\n<g id=\"edge96\" class=\"edge\">\n<title>95&#45;&gt;96</title>\n<path fill=\"none\" stroke=\"#000000\" d=\"M6907.7373,-88.9777C6899.9401,-79.9123 6891.51,-70.111 6883.6901,-61.0192\"/>\n<polygon fill=\"#000000\" stroke=\"#000000\" points=\"6886.1809,-58.5477 6877.0065,-53.2485 6880.8738,-63.1123 6886.1809,-58.5477\"/>\n</g>\n<!-- 97 -->\n<g id=\"node98\" class=\"node\">\n<title>97</title>\n<polygon fill=\"#fcf1e9\" stroke=\"#000000\" points=\"7092,-53 6948,-53 6948,0 7092,0 7092,-53\"/>\n<text text-anchor=\"start\" x=\"6956\" y=\"-37.8\" font-family=\"Helvetica,sans-Serif\" font-size=\"14.00\" fill=\"#000000\">squared_error = 0.0</text>\n<text text-anchor=\"start\" x=\"6980.5\" y=\"-22.8\" font-family=\"Helvetica,sans-Serif\" font-size=\"14.00\" fill=\"#000000\">samples = 2</text>\n<text text-anchor=\"start\" x=\"6973.5\" y=\"-7.8\" font-family=\"Helvetica,sans-Serif\" font-size=\"14.00\" fill=\"#000000\">value = &#45;0.106</text>\n</g>\n<!-- 95&#45;&gt;97 -->\n<g id=\"edge97\" class=\"edge\">\n<title>95&#45;&gt;97</title>\n<path fill=\"none\" stroke=\"#000000\" d=\"M6966.2627,-88.9777C6974.0599,-79.9123 6982.49,-70.111 6990.3099,-61.0192\"/>\n<polygon fill=\"#000000\" stroke=\"#000000\" points=\"6993.1262,-63.1123 6996.9935,-53.2485 6987.8191,-58.5477 6993.1262,-63.1123\"/>\n</g>\n<!-- 99 -->\n<g id=\"node100\" class=\"node\">\n<title>99</title>\n<polygon fill=\"#fcf1e9\" stroke=\"#000000\" points=\"7338.5,-157 7177.5,-157 7177.5,-89 7338.5,-89 7338.5,-157\"/>\n<text text-anchor=\"start\" x=\"7202\" y=\"-141.8\" font-family=\"Helvetica,sans-Serif\" font-size=\"14.00\" fill=\"#000000\">mainbm2 ≤ 0.128</text>\n<text text-anchor=\"start\" x=\"7185.5\" y=\"-126.8\" font-family=\"Helvetica,sans-Serif\" font-size=\"14.00\" fill=\"#000000\">squared_error = 0.002</text>\n<text text-anchor=\"start\" x=\"7218.5\" y=\"-111.8\" font-family=\"Helvetica,sans-Serif\" font-size=\"14.00\" fill=\"#000000\">samples = 2</text>\n<text text-anchor=\"start\" x=\"7211.5\" y=\"-96.8\" font-family=\"Helvetica,sans-Serif\" font-size=\"14.00\" fill=\"#000000\">value = &#45;0.104</text>\n</g>\n<!-- 98&#45;&gt;99 -->\n<g id=\"edge99\" class=\"edge\">\n<title>98&#45;&gt;99</title>\n<path fill=\"none\" stroke=\"#000000\" d=\"M7258,-192.9465C7258,-184.776 7258,-175.9318 7258,-167.3697\"/>\n<polygon fill=\"#000000\" stroke=\"#000000\" points=\"7261.5001,-167.13 7258,-157.13 7254.5001,-167.13 7261.5001,-167.13\"/>\n</g>\n<!-- 102 -->\n<g id=\"node103\" class=\"node\">\n<title>102</title>\n<polygon fill=\"#fcefe5\" stroke=\"#000000\" points=\"7578.5,-157 7417.5,-157 7417.5,-89 7578.5,-89 7578.5,-157\"/>\n<text text-anchor=\"start\" x=\"7442\" y=\"-141.8\" font-family=\"Helvetica,sans-Serif\" font-size=\"14.00\" fill=\"#000000\">mainbm2 ≤ 0.145</text>\n<text text-anchor=\"start\" x=\"7425.5\" y=\"-126.8\" font-family=\"Helvetica,sans-Serif\" font-size=\"14.00\" fill=\"#000000\">squared_error = 0.001</text>\n<text text-anchor=\"start\" x=\"7458.5\" y=\"-111.8\" font-family=\"Helvetica,sans-Serif\" font-size=\"14.00\" fill=\"#000000\">samples = 3</text>\n<text text-anchor=\"start\" x=\"7454\" y=\"-96.8\" font-family=\"Helvetica,sans-Serif\" font-size=\"14.00\" fill=\"#000000\">value = 0.043</text>\n</g>\n<!-- 98&#45;&gt;102 -->\n<g id=\"edge102\" class=\"edge\">\n<title>98&#45;&gt;102</title>\n<path fill=\"none\" stroke=\"#000000\" d=\"M7336.585,-192.9465C7359.9982,-182.8008 7385.809,-171.6161 7409.7935,-161.2228\"/>\n<polygon fill=\"#000000\" stroke=\"#000000\" points=\"7411.4546,-164.3176 7419.2385,-157.13 7408.6713,-157.8947 7411.4546,-164.3176\"/>\n</g>\n<!-- 100 -->\n<g id=\"node101\" class=\"node\">\n<title>100</title>\n<polygon fill=\"#fcf1ea\" stroke=\"#000000\" points=\"7254,-53 7110,-53 7110,0 7254,0 7254,-53\"/>\n<text text-anchor=\"start\" x=\"7118\" y=\"-37.8\" font-family=\"Helvetica,sans-Serif\" font-size=\"14.00\" fill=\"#000000\">squared_error = 0.0</text>\n<text text-anchor=\"start\" x=\"7142.5\" y=\"-22.8\" font-family=\"Helvetica,sans-Serif\" font-size=\"14.00\" fill=\"#000000\">samples = 1</text>\n<text text-anchor=\"start\" x=\"7135.5\" y=\"-7.8\" font-family=\"Helvetica,sans-Serif\" font-size=\"14.00\" fill=\"#000000\">value = &#45;0.146</text>\n</g>\n<!-- 99&#45;&gt;100 -->\n<g id=\"edge100\" class=\"edge\">\n<title>99&#45;&gt;100</title>\n<path fill=\"none\" stroke=\"#000000\" d=\"M7231.2052,-88.9777C7224.1378,-80.0039 7216.5024,-70.3089 7209.4033,-61.295\"/>\n<polygon fill=\"#000000\" stroke=\"#000000\" points=\"7212.003,-58.9391 7203.0662,-53.2485 7206.5037,-63.2701 7212.003,-58.9391\"/>\n</g>\n<!-- 101 -->\n<g id=\"node102\" class=\"node\">\n<title>101</title>\n<polygon fill=\"#fcf0e8\" stroke=\"#000000\" points=\"7421.5,-53 7272.5,-53 7272.5,0 7421.5,0 7421.5,-53\"/>\n<text text-anchor=\"start\" x=\"7280.5\" y=\"-37.8\" font-family=\"Helvetica,sans-Serif\" font-size=\"14.00\" fill=\"#000000\">squared_error = &#45;0.0</text>\n<text text-anchor=\"start\" x=\"7307.5\" y=\"-22.8\" font-family=\"Helvetica,sans-Serif\" font-size=\"14.00\" fill=\"#000000\">samples = 1</text>\n<text text-anchor=\"start\" x=\"7300.5\" y=\"-7.8\" font-family=\"Helvetica,sans-Serif\" font-size=\"14.00\" fill=\"#000000\">value = &#45;0.063</text>\n</g>\n<!-- 99&#45;&gt;101 -->\n<g id=\"edge101\" class=\"edge\">\n<title>99&#45;&gt;101</title>\n<path fill=\"none\" stroke=\"#000000\" d=\"M7289.3781,-88.9777C7297.8234,-79.8207 7306.9611,-69.9129 7315.4175,-60.744\"/>\n<polygon fill=\"#000000\" stroke=\"#000000\" points=\"7318.1236,-62.9723 7322.3304,-53.2485 7312.9779,-58.2266 7318.1236,-62.9723\"/>\n</g>\n<!-- 103 -->\n<g id=\"node104\" class=\"node\">\n<title>103</title>\n<polygon fill=\"#fcefe6\" stroke=\"#000000\" points=\"7584,-53 7440,-53 7440,0 7584,0 7584,-53\"/>\n<text text-anchor=\"start\" x=\"7448\" y=\"-37.8\" font-family=\"Helvetica,sans-Serif\" font-size=\"14.00\" fill=\"#000000\">squared_error = 0.0</text>\n<text text-anchor=\"start\" x=\"7472.5\" y=\"-22.8\" font-family=\"Helvetica,sans-Serif\" font-size=\"14.00\" fill=\"#000000\">samples = 2</text>\n<text text-anchor=\"start\" x=\"7468\" y=\"-7.8\" font-family=\"Helvetica,sans-Serif\" font-size=\"14.00\" fill=\"#000000\">value = 0.021</text>\n</g>\n<!-- 102&#45;&gt;103 -->\n<g id=\"edge103\" class=\"edge\">\n<title>102&#45;&gt;103</title>\n<path fill=\"none\" stroke=\"#000000\" d=\"M7502.9359,-88.9777C7504.1448,-80.6449 7505.4439,-71.6903 7506.6704,-63.2364\"/>\n<polygon fill=\"#000000\" stroke=\"#000000\" points=\"7510.1473,-63.6474 7508.1194,-53.2485 7503.2198,-62.6423 7510.1473,-63.6474\"/>\n</g>\n<!-- 104 -->\n<g id=\"node105\" class=\"node\">\n<title>104</title>\n<polygon fill=\"#fbeee4\" stroke=\"#000000\" points=\"7746,-53 7602,-53 7602,0 7746,0 7746,-53\"/>\n<text text-anchor=\"start\" x=\"7610\" y=\"-37.8\" font-family=\"Helvetica,sans-Serif\" font-size=\"14.00\" fill=\"#000000\">squared_error = 0.0</text>\n<text text-anchor=\"start\" x=\"7634.5\" y=\"-22.8\" font-family=\"Helvetica,sans-Serif\" font-size=\"14.00\" fill=\"#000000\">samples = 1</text>\n<text text-anchor=\"start\" x=\"7630\" y=\"-7.8\" font-family=\"Helvetica,sans-Serif\" font-size=\"14.00\" fill=\"#000000\">value = 0.087</text>\n</g>\n<!-- 102&#45;&gt;104 -->\n<g id=\"edge104\" class=\"edge\">\n<title>102&#45;&gt;104</title>\n<path fill=\"none\" stroke=\"#000000\" d=\"M7560.051,-88.9777C7578.3392,-78.9504 7598.2694,-68.0228 7616.2741,-58.1508\"/>\n<polygon fill=\"#000000\" stroke=\"#000000\" points=\"7618.4093,-60.9718 7625.4951,-53.095 7615.0439,-54.8338 7618.4093,-60.9718\"/>\n</g>\n<!-- 106 -->\n<g id=\"node107\" class=\"node\">\n<title>106</title>\n<polygon fill=\"#fbece1\" stroke=\"#000000\" points=\"9872.5,-573 9711.5,-573 9711.5,-505 9872.5,-505 9872.5,-573\"/>\n<text text-anchor=\"start\" x=\"9761.5\" y=\"-557.8\" font-family=\"Helvetica,sans-Serif\" font-size=\"14.00\" fill=\"#000000\">age ≤ 5.5</text>\n<text text-anchor=\"start\" x=\"9719.5\" y=\"-542.8\" font-family=\"Helvetica,sans-Serif\" font-size=\"14.00\" fill=\"#000000\">squared_error = 0.191</text>\n<text text-anchor=\"start\" x=\"9748\" y=\"-527.8\" font-family=\"Helvetica,sans-Serif\" font-size=\"14.00\" fill=\"#000000\">samples = 93</text>\n<text text-anchor=\"start\" x=\"9748\" y=\"-512.8\" font-family=\"Helvetica,sans-Serif\" font-size=\"14.00\" fill=\"#000000\">value = 0.218</text>\n</g>\n<!-- 105&#45;&gt;106 -->\n<g id=\"edge106\" class=\"edge\">\n<title>105&#45;&gt;106</title>\n<path fill=\"none\" stroke=\"#000000\" d=\"M10419.4727,-631.1711C10286.6129,-611.655 10022.35,-572.8367 9882.9508,-552.36\"/>\n<polygon fill=\"#000000\" stroke=\"#000000\" points=\"9883.1265,-548.8483 9872.724,-550.8578 9882.1091,-555.774 9883.1265,-548.8483\"/>\n</g>\n<!-- 149 -->\n<g id=\"node150\" class=\"node\">\n<title>149</title>\n<polygon fill=\"#f9e1d0\" stroke=\"#000000\" points=\"11556.5,-573 11395.5,-573 11395.5,-505 11556.5,-505 11556.5,-573\"/>\n<text text-anchor=\"start\" x=\"11415.5\" y=\"-557.8\" font-family=\"Helvetica,sans-Serif\" font-size=\"14.00\" fill=\"#000000\">其他車位類別 ≤ 0.5</text>\n<text text-anchor=\"start\" x=\"11403.5\" y=\"-542.8\" font-family=\"Helvetica,sans-Serif\" font-size=\"14.00\" fill=\"#000000\">squared_error = 0.437</text>\n<text text-anchor=\"start\" x=\"11432\" y=\"-527.8\" font-family=\"Helvetica,sans-Serif\" font-size=\"14.00\" fill=\"#000000\">samples = 45</text>\n<text text-anchor=\"start\" x=\"11432\" y=\"-512.8\" font-family=\"Helvetica,sans-Serif\" font-size=\"14.00\" fill=\"#000000\">value = 0.992</text>\n</g>\n<!-- 105&#45;&gt;149 -->\n<g id=\"edge149\" class=\"edge\">\n<title>105&#45;&gt;149</title>\n<path fill=\"none\" stroke=\"#000000\" d=\"M10580.7005,-634.4008C10760.9823,-615.1904 11195.443,-568.8954 11384.9944,-548.6973\"/>\n<polygon fill=\"#000000\" stroke=\"#000000\" points=\"11385.6324,-552.1492 11395.2052,-547.6093 11384.8906,-545.1886 11385.6324,-552.1492\"/>\n</g>\n<!-- 107 -->\n<g id=\"node108\" class=\"node\">\n<title>107</title>\n<polygon fill=\"#f9e4d5\" stroke=\"#000000\" points=\"8694.5,-469 8533.5,-469 8533.5,-401 8694.5,-401 8694.5,-469\"/>\n<text text-anchor=\"start\" x=\"8555.5\" y=\"-453.8\" font-family=\"Helvetica,sans-Serif\" font-size=\"14.00\" fill=\"#000000\">mainbm2 ≤ &#45;0.083</text>\n<text text-anchor=\"start\" x=\"8541.5\" y=\"-438.8\" font-family=\"Helvetica,sans-Serif\" font-size=\"14.00\" fill=\"#000000\">squared_error = 0.144</text>\n<text text-anchor=\"start\" x=\"8570\" y=\"-423.8\" font-family=\"Helvetica,sans-Serif\" font-size=\"14.00\" fill=\"#000000\">samples = 15</text>\n<text text-anchor=\"start\" x=\"8570\" y=\"-408.8\" font-family=\"Helvetica,sans-Serif\" font-size=\"14.00\" fill=\"#000000\">value = 0.776</text>\n</g>\n<!-- 106&#45;&gt;107 -->\n<g id=\"edge107\" class=\"edge\">\n<title>106&#45;&gt;107</title>\n<path fill=\"none\" stroke=\"#000000\" d=\"M9711.4949,-531.8926C9499.6952,-513.1938 8927.9464,-462.7168 8704.8787,-443.0233\"/>\n<polygon fill=\"#000000\" stroke=\"#000000\" points=\"8705.1123,-439.5303 8694.8432,-442.1373 8704.4966,-446.5032 8705.1123,-439.5303\"/>\n</g>\n<!-- 130 -->\n<g id=\"node131\" class=\"node\">\n<title>130</title>\n<polygon fill=\"#fbeee4\" stroke=\"#000000\" points=\"9872.5,-469 9711.5,-469 9711.5,-401 9872.5,-401 9872.5,-469\"/>\n<text text-anchor=\"start\" x=\"9738\" y=\"-453.8\" font-family=\"Helvetica,sans-Serif\" font-size=\"14.00\" fill=\"#000000\">totalbm2 ≤ 0.159</text>\n<text text-anchor=\"start\" x=\"9719.5\" y=\"-438.8\" font-family=\"Helvetica,sans-Serif\" font-size=\"14.00\" fill=\"#000000\">squared_error = 0.128</text>\n<text text-anchor=\"start\" x=\"9748\" y=\"-423.8\" font-family=\"Helvetica,sans-Serif\" font-size=\"14.00\" fill=\"#000000\">samples = 78</text>\n<text text-anchor=\"start\" x=\"9752\" y=\"-408.8\" font-family=\"Helvetica,sans-Serif\" font-size=\"14.00\" fill=\"#000000\">value = 0.11</text>\n</g>\n<!-- 106&#45;&gt;130 -->\n<g id=\"edge130\" class=\"edge\">\n<title>106&#45;&gt;130</title>\n<path fill=\"none\" stroke=\"#000000\" d=\"M9792,-504.9465C9792,-496.776 9792,-487.9318 9792,-479.3697\"/>\n<polygon fill=\"#000000\" stroke=\"#000000\" points=\"9795.5001,-479.13 9792,-469.13 9788.5001,-479.13 9795.5001,-479.13\"/>\n</g>\n<!-- 108 -->\n<g id=\"node109\" class=\"node\">\n<title>108</title>\n<polygon fill=\"#fae8db\" stroke=\"#000000\" points=\"8212,-365 7978,-365 7978,-297 8212,-297 8212,-365\"/>\n<text text-anchor=\"start\" x=\"7986\" y=\"-349.8\" font-family=\"Helvetica,sans-Serif\" font-size=\"14.00\" fill=\"#000000\">住宅大樓(11層含以上有電梯) ≤ 0.5</text>\n<text text-anchor=\"start\" x=\"8022.5\" y=\"-334.8\" font-family=\"Helvetica,sans-Serif\" font-size=\"14.00\" fill=\"#000000\">squared_error = 0.103</text>\n<text text-anchor=\"start\" x=\"8055.5\" y=\"-319.8\" font-family=\"Helvetica,sans-Serif\" font-size=\"14.00\" fill=\"#000000\">samples = 7</text>\n<text text-anchor=\"start\" x=\"8051\" y=\"-304.8\" font-family=\"Helvetica,sans-Serif\" font-size=\"14.00\" fill=\"#000000\">value = 0.518</text>\n</g>\n<!-- 107&#45;&gt;108 -->\n<g id=\"edge108\" class=\"edge\">\n<title>107&#45;&gt;108</title>\n<path fill=\"none\" stroke=\"#000000\" d=\"M8533.4757,-418.8641C8450.3448,-402.2059 8319.4359,-375.9737 8222.2745,-356.5039\"/>\n<polygon fill=\"#000000\" stroke=\"#000000\" points=\"8222.8794,-353.0557 8212.3866,-354.5226 8221.504,-359.9192 8222.8794,-353.0557\"/>\n</g>\n<!-- 117 -->\n<g id=\"node118\" class=\"node\">\n<title>117</title>\n<polygon fill=\"#f9e1d0\" stroke=\"#000000\" points=\"8694.5,-365 8533.5,-365 8533.5,-297 8694.5,-297 8694.5,-365\"/>\n<text text-anchor=\"start\" x=\"8576.5\" y=\"-349.8\" font-family=\"Helvetica,sans-Serif\" font-size=\"14.00\" fill=\"#000000\">totalf ≤ 13.5</text>\n<text text-anchor=\"start\" x=\"8541.5\" y=\"-334.8\" font-family=\"Helvetica,sans-Serif\" font-size=\"14.00\" fill=\"#000000\">squared_error = 0.072</text>\n<text text-anchor=\"start\" x=\"8574.5\" y=\"-319.8\" font-family=\"Helvetica,sans-Serif\" font-size=\"14.00\" fill=\"#000000\">samples = 8</text>\n<text text-anchor=\"start\" x=\"8570\" y=\"-304.8\" font-family=\"Helvetica,sans-Serif\" font-size=\"14.00\" fill=\"#000000\">value = 1.001</text>\n</g>\n<!-- 107&#45;&gt;117 -->\n<g id=\"edge117\" class=\"edge\">\n<title>107&#45;&gt;117</title>\n<path fill=\"none\" stroke=\"#000000\" d=\"M8614,-400.9465C8614,-392.776 8614,-383.9318 8614,-375.3697\"/>\n<polygon fill=\"#000000\" stroke=\"#000000\" points=\"8617.5001,-375.13 8614,-365.13 8610.5001,-375.13 8617.5001,-375.13\"/>\n</g>\n<!-- 109 -->\n<g id=\"node110\" class=\"node\">\n<title>109</title>\n<polygon fill=\"#f9e1d0\" stroke=\"#000000\" points=\"7914.5,-261 7753.5,-261 7753.5,-193 7914.5,-193 7914.5,-261\"/>\n<text text-anchor=\"start\" x=\"7805\" y=\"-245.8\" font-family=\"Helvetica,sans-Serif\" font-size=\"14.00\" fill=\"#000000\">hall ≤ 1.5</text>\n<text text-anchor=\"start\" x=\"7761.5\" y=\"-230.8\" font-family=\"Helvetica,sans-Serif\" font-size=\"14.00\" fill=\"#000000\">squared_error = 0.002</text>\n<text text-anchor=\"start\" x=\"7794.5\" y=\"-215.8\" font-family=\"Helvetica,sans-Serif\" font-size=\"14.00\" fill=\"#000000\">samples = 2</text>\n<text text-anchor=\"start\" x=\"7790\" y=\"-200.8\" font-family=\"Helvetica,sans-Serif\" font-size=\"14.00\" fill=\"#000000\">value = 1.003</text>\n</g>\n<!-- 108&#45;&gt;109 -->\n<g id=\"edge109\" class=\"edge\">\n<title>108&#45;&gt;109</title>\n<path fill=\"none\" stroke=\"#000000\" d=\"M8009.5388,-296.9465C7982.276,-286.0832 7952.0241,-274.0288 7924.4215,-263.03\"/>\n<polygon fill=\"#000000\" stroke=\"#000000\" points=\"7925.3632,-259.6377 7914.7779,-259.1874 7922.772,-266.1404 7925.3632,-259.6377\"/>\n</g>\n<!-- 112 -->\n<g id=\"node113\" class=\"node\">\n<title>112</title>\n<polygon fill=\"#fbebdf\" stroke=\"#000000\" points=\"8175.5,-261 8014.5,-261 8014.5,-193 8175.5,-193 8175.5,-261\"/>\n<text text-anchor=\"start\" x=\"8064.5\" y=\"-245.8\" font-family=\"Helvetica,sans-Serif\" font-size=\"14.00\" fill=\"#000000\">age ≤ 2.0</text>\n<text text-anchor=\"start\" x=\"8022.5\" y=\"-230.8\" font-family=\"Helvetica,sans-Serif\" font-size=\"14.00\" fill=\"#000000\">squared_error = 0.012</text>\n<text text-anchor=\"start\" x=\"8055.5\" y=\"-215.8\" font-family=\"Helvetica,sans-Serif\" font-size=\"14.00\" fill=\"#000000\">samples = 5</text>\n<text text-anchor=\"start\" x=\"8051\" y=\"-200.8\" font-family=\"Helvetica,sans-Serif\" font-size=\"14.00\" fill=\"#000000\">value = 0.324</text>\n</g>\n<!-- 108&#45;&gt;112 -->\n<g id=\"edge112\" class=\"edge\">\n<title>108&#45;&gt;112</title>\n<path fill=\"none\" stroke=\"#000000\" d=\"M8095,-296.9465C8095,-288.776 8095,-279.9318 8095,-271.3697\"/>\n<polygon fill=\"#000000\" stroke=\"#000000\" points=\"8098.5001,-271.13 8095,-261.13 8091.5001,-271.13 8098.5001,-271.13\"/>\n</g>\n<!-- 110 -->\n<g id=\"node111\" class=\"node\">\n<title>110</title>\n<polygon fill=\"#f9e0cf\" stroke=\"#000000\" points=\"7741,-149.5 7597,-149.5 7597,-96.5 7741,-96.5 7741,-149.5\"/>\n<text text-anchor=\"start\" x=\"7605\" y=\"-134.3\" font-family=\"Helvetica,sans-Serif\" font-size=\"14.00\" fill=\"#000000\">squared_error = 0.0</text>\n<text text-anchor=\"start\" x=\"7629.5\" y=\"-119.3\" font-family=\"Helvetica,sans-Serif\" font-size=\"14.00\" fill=\"#000000\">samples = 1</text>\n<text text-anchor=\"start\" x=\"7625\" y=\"-104.3\" font-family=\"Helvetica,sans-Serif\" font-size=\"14.00\" fill=\"#000000\">value = 1.052</text>\n</g>\n<!-- 109&#45;&gt;110 -->\n<g id=\"edge110\" class=\"edge\">\n<title>109&#45;&gt;110</title>\n<path fill=\"none\" stroke=\"#000000\" d=\"M7779.9728,-192.9465C7760.5749,-180.72 7738.7834,-166.9847 7719.68,-154.9437\"/>\n<polygon fill=\"#000000\" stroke=\"#000000\" points=\"7721.4362,-151.9135 7711.1102,-149.5422 7717.7036,-157.8353 7721.4362,-151.9135\"/>\n</g>\n<!-- 111 -->\n<g id=\"node112\" class=\"node\">\n<title>111</title>\n<polygon fill=\"#f9e2d1\" stroke=\"#000000\" points=\"7908.5,-149.5 7759.5,-149.5 7759.5,-96.5 7908.5,-96.5 7908.5,-149.5\"/>\n<text text-anchor=\"start\" x=\"7767.5\" y=\"-134.3\" font-family=\"Helvetica,sans-Serif\" font-size=\"14.00\" fill=\"#000000\">squared_error = &#45;0.0</text>\n<text text-anchor=\"start\" x=\"7794.5\" y=\"-119.3\" font-family=\"Helvetica,sans-Serif\" font-size=\"14.00\" fill=\"#000000\">samples = 1</text>\n<text text-anchor=\"start\" x=\"7790\" y=\"-104.3\" font-family=\"Helvetica,sans-Serif\" font-size=\"14.00\" fill=\"#000000\">value = 0.955</text>\n</g>\n<!-- 109&#45;&gt;111 -->\n<g id=\"edge111\" class=\"edge\">\n<title>109&#45;&gt;111</title>\n<path fill=\"none\" stroke=\"#000000\" d=\"M7834,-192.9465C7834,-182.2621 7834,-170.4254 7834,-159.5742\"/>\n<polygon fill=\"#000000\" stroke=\"#000000\" points=\"7837.5001,-159.5421 7834,-149.5422 7830.5001,-159.5422 7837.5001,-159.5421\"/>\n</g>\n<!-- 113 -->\n<g id=\"node114\" class=\"node\">\n<title>113</title>\n<polygon fill=\"#fbebe0\" stroke=\"#000000\" points=\"8087.5,-157 7926.5,-157 7926.5,-89 8087.5,-89 8087.5,-157\"/>\n<text text-anchor=\"start\" x=\"7969.5\" y=\"-141.8\" font-family=\"Helvetica,sans-Serif\" font-size=\"14.00\" fill=\"#000000\">totalf ≤ 14.0</text>\n<text text-anchor=\"start\" x=\"7934.5\" y=\"-126.8\" font-family=\"Helvetica,sans-Serif\" font-size=\"14.00\" fill=\"#000000\">squared_error = 0.003</text>\n<text text-anchor=\"start\" x=\"7967.5\" y=\"-111.8\" font-family=\"Helvetica,sans-Serif\" font-size=\"14.00\" fill=\"#000000\">samples = 4</text>\n<text text-anchor=\"start\" x=\"7963\" y=\"-96.8\" font-family=\"Helvetica,sans-Serif\" font-size=\"14.00\" fill=\"#000000\">value = 0.275</text>\n</g>\n<!-- 112&#45;&gt;113 -->\n<g id=\"edge113\" class=\"edge\">\n<title>112&#45;&gt;113</title>\n<path fill=\"none\" stroke=\"#000000\" d=\"M8066.1855,-192.9465C8058.5883,-183.968 8050.3026,-174.1758 8042.4018,-164.8385\"/>\n<polygon fill=\"#000000\" stroke=\"#000000\" points=\"8045.0105,-162.5031 8035.8792,-157.13 8039.6668,-167.0247 8045.0105,-162.5031\"/>\n</g>\n<!-- 116 -->\n<g id=\"node117\" class=\"node\">\n<title>116</title>\n<polygon fill=\"#fae8db\" stroke=\"#000000\" points=\"8250,-149.5 8106,-149.5 8106,-96.5 8250,-96.5 8250,-149.5\"/>\n<text text-anchor=\"start\" x=\"8114\" y=\"-134.3\" font-family=\"Helvetica,sans-Serif\" font-size=\"14.00\" fill=\"#000000\">squared_error = 0.0</text>\n<text text-anchor=\"start\" x=\"8138.5\" y=\"-119.3\" font-family=\"Helvetica,sans-Serif\" font-size=\"14.00\" fill=\"#000000\">samples = 1</text>\n<text text-anchor=\"start\" x=\"8134\" y=\"-104.3\" font-family=\"Helvetica,sans-Serif\" font-size=\"14.00\" fill=\"#000000\">value = 0.521</text>\n</g>\n<!-- 112&#45;&gt;116 -->\n<g id=\"edge116\" class=\"edge\">\n<title>112&#45;&gt;116</title>\n<path fill=\"none\" stroke=\"#000000\" d=\"M8122.1773,-192.9465C8131.2318,-181.6012 8141.323,-168.9567 8150.4086,-157.5724\"/>\n<polygon fill=\"#000000\" stroke=\"#000000\" points=\"8153.3151,-159.5414 8156.8173,-149.5422 8147.8439,-155.175 8153.3151,-159.5414\"/>\n</g>\n<!-- 114 -->\n<g id=\"node115\" class=\"node\">\n<title>114</title>\n<polygon fill=\"#fbeade\" stroke=\"#000000\" points=\"7919,-53 7775,-53 7775,0 7919,0 7919,-53\"/>\n<text text-anchor=\"start\" x=\"7783\" y=\"-37.8\" font-family=\"Helvetica,sans-Serif\" font-size=\"14.00\" fill=\"#000000\">squared_error = 0.0</text>\n<text text-anchor=\"start\" x=\"7807.5\" y=\"-22.8\" font-family=\"Helvetica,sans-Serif\" font-size=\"14.00\" fill=\"#000000\">samples = 1</text>\n<text text-anchor=\"start\" x=\"7803\" y=\"-7.8\" font-family=\"Helvetica,sans-Serif\" font-size=\"14.00\" fill=\"#000000\">value = 0.368</text>\n</g>\n<!-- 113&#45;&gt;114 -->\n<g id=\"edge114\" class=\"edge\">\n<title>113&#45;&gt;114</title>\n<path fill=\"none\" stroke=\"#000000\" d=\"M7950.59,-88.9777C7934.1169,-79.0424 7916.1783,-68.2232 7899.929,-58.4228\"/>\n<polygon fill=\"#000000\" stroke=\"#000000\" points=\"7901.4661,-55.2626 7891.0954,-53.095 7897.8509,-61.2568 7901.4661,-55.2626\"/>\n</g>\n<!-- 115 -->\n<g id=\"node116\" class=\"node\">\n<title>115</title>\n<polygon fill=\"#fbece1\" stroke=\"#000000\" points=\"8081,-53 7937,-53 7937,0 8081,0 8081,-53\"/>\n<text text-anchor=\"start\" x=\"7945\" y=\"-37.8\" font-family=\"Helvetica,sans-Serif\" font-size=\"14.00\" fill=\"#000000\">squared_error = 0.0</text>\n<text text-anchor=\"start\" x=\"7969.5\" y=\"-22.8\" font-family=\"Helvetica,sans-Serif\" font-size=\"14.00\" fill=\"#000000\">samples = 3</text>\n<text text-anchor=\"start\" x=\"7965\" y=\"-7.8\" font-family=\"Helvetica,sans-Serif\" font-size=\"14.00\" fill=\"#000000\">value = 0.245</text>\n</g>\n<!-- 113&#45;&gt;115 -->\n<g id=\"edge115\" class=\"edge\">\n<title>113&#45;&gt;115</title>\n<path fill=\"none\" stroke=\"#000000\" d=\"M8007.7051,-88.9777C8007.8759,-80.7364 8008.0593,-71.887 8008.2328,-63.5153\"/>\n<polygon fill=\"#000000\" stroke=\"#000000\" points=\"8011.7376,-63.3189 8008.4456,-53.2485 8004.7391,-63.1738 8011.7376,-63.3189\"/>\n</g>\n<!-- 118 -->\n<g id=\"node119\" class=\"node\">\n<title>118</title>\n<polygon fill=\"#f9e3d4\" stroke=\"#000000\" points=\"8604.5,-261 8443.5,-261 8443.5,-193 8604.5,-193 8604.5,-261\"/>\n<text text-anchor=\"start\" x=\"8472\" y=\"-245.8\" font-family=\"Helvetica,sans-Serif\" font-size=\"14.00\" fill=\"#000000\">totalm2 ≤ &#45;0.103</text>\n<text text-anchor=\"start\" x=\"8451.5\" y=\"-230.8\" font-family=\"Helvetica,sans-Serif\" font-size=\"14.00\" fill=\"#000000\">squared_error = 0.014</text>\n<text text-anchor=\"start\" x=\"8484.5\" y=\"-215.8\" font-family=\"Helvetica,sans-Serif\" font-size=\"14.00\" fill=\"#000000\">samples = 5</text>\n<text text-anchor=\"start\" x=\"8480\" y=\"-200.8\" font-family=\"Helvetica,sans-Serif\" font-size=\"14.00\" fill=\"#000000\">value = 0.824</text>\n</g>\n<!-- 117&#45;&gt;118 -->\n<g id=\"edge118\" class=\"edge\">\n<title>117&#45;&gt;118</title>\n<path fill=\"none\" stroke=\"#000000\" d=\"M8584.5306,-296.9465C8576.7607,-287.968 8568.2868,-278.1758 8560.2064,-268.8385\"/>\n<polygon fill=\"#000000\" stroke=\"#000000\" points=\"8562.726,-266.4014 8553.5356,-261.13 8557.4328,-270.982 8562.726,-266.4014\"/>\n</g>\n<!-- 125 -->\n<g id=\"node126\" class=\"node\">\n<title>125</title>\n<polygon fill=\"#f8ddc9\" stroke=\"#000000\" points=\"8783.5,-261 8622.5,-261 8622.5,-193 8783.5,-193 8783.5,-261\"/>\n<text text-anchor=\"start\" x=\"8650.5\" y=\"-245.8\" font-family=\"Helvetica,sans-Serif\" font-size=\"14.00\" fill=\"#000000\">auxbm2 ≤ 0.002</text>\n<text text-anchor=\"start\" x=\"8630.5\" y=\"-230.8\" font-family=\"Helvetica,sans-Serif\" font-size=\"14.00\" fill=\"#000000\">squared_error = 0.027</text>\n<text text-anchor=\"start\" x=\"8663.5\" y=\"-215.8\" font-family=\"Helvetica,sans-Serif\" font-size=\"14.00\" fill=\"#000000\">samples = 3</text>\n<text text-anchor=\"start\" x=\"8659\" y=\"-200.8\" font-family=\"Helvetica,sans-Serif\" font-size=\"14.00\" fill=\"#000000\">value = 1.297</text>\n</g>\n<!-- 117&#45;&gt;125 -->\n<g id=\"edge125\" class=\"edge\">\n<title>117&#45;&gt;125</title>\n<path fill=\"none\" stroke=\"#000000\" d=\"M8643.1419,-296.9465C8650.8255,-287.968 8659.2053,-278.1758 8667.1959,-268.8385\"/>\n<polygon fill=\"#000000\" stroke=\"#000000\" points=\"8669.9499,-271.0034 8673.7926,-261.13 8664.6315,-266.4521 8669.9499,-271.0034\"/>\n</g>\n<!-- 119 -->\n<g id=\"node120\" class=\"node\">\n<title>119</title>\n<polygon fill=\"#fae5d5\" stroke=\"#000000\" points=\"8429.5,-157 8268.5,-157 8268.5,-89 8429.5,-89 8429.5,-157\"/>\n<text text-anchor=\"start\" x=\"8314.5\" y=\"-141.8\" font-family=\"Helvetica,sans-Serif\" font-size=\"14.00\" fill=\"#000000\">room ≤ 2.0</text>\n<text text-anchor=\"start\" x=\"8276.5\" y=\"-126.8\" font-family=\"Helvetica,sans-Serif\" font-size=\"14.00\" fill=\"#000000\">squared_error = 0.006</text>\n<text text-anchor=\"start\" x=\"8309.5\" y=\"-111.8\" font-family=\"Helvetica,sans-Serif\" font-size=\"14.00\" fill=\"#000000\">samples = 3</text>\n<text text-anchor=\"start\" x=\"8305\" y=\"-96.8\" font-family=\"Helvetica,sans-Serif\" font-size=\"14.00\" fill=\"#000000\">value = 0.744</text>\n</g>\n<!-- 118&#45;&gt;119 -->\n<g id=\"edge119\" class=\"edge\">\n<title>118&#45;&gt;119</title>\n<path fill=\"none\" stroke=\"#000000\" d=\"M8466.6985,-192.9465C8450.2306,-183.1599 8432.1362,-172.4066 8415.1793,-162.3294\"/>\n<polygon fill=\"#000000\" stroke=\"#000000\" points=\"8416.8149,-159.23 8406.4303,-157.13 8413.2387,-165.2476 8416.8149,-159.23\"/>\n</g>\n<!-- 122 -->\n<g id=\"node123\" class=\"node\">\n<title>122</title>\n<polygon fill=\"#f9e2d1\" stroke=\"#000000\" points=\"8608.5,-157 8447.5,-157 8447.5,-89 8608.5,-89 8608.5,-157\"/>\n<text text-anchor=\"start\" x=\"8474\" y=\"-141.8\" font-family=\"Helvetica,sans-Serif\" font-size=\"14.00\" fill=\"#000000\">totalbm2 ≤ 0.286</text>\n<text text-anchor=\"start\" x=\"8455.5\" y=\"-126.8\" font-family=\"Helvetica,sans-Serif\" font-size=\"14.00\" fill=\"#000000\">squared_error = 0.002</text>\n<text text-anchor=\"start\" x=\"8488.5\" y=\"-111.8\" font-family=\"Helvetica,sans-Serif\" font-size=\"14.00\" fill=\"#000000\">samples = 2</text>\n<text text-anchor=\"start\" x=\"8484\" y=\"-96.8\" font-family=\"Helvetica,sans-Serif\" font-size=\"14.00\" fill=\"#000000\">value = 0.943</text>\n</g>\n<!-- 118&#45;&gt;122 -->\n<g id=\"edge122\" class=\"edge\">\n<title>118&#45;&gt;122</title>\n<path fill=\"none\" stroke=\"#000000\" d=\"M8525.3097,-192.9465C8525.624,-184.776 8525.9642,-175.9318 8526.2935,-167.3697\"/>\n<polygon fill=\"#000000\" stroke=\"#000000\" points=\"8529.8003,-167.2572 8526.6873,-157.13 8522.8055,-166.9881 8529.8003,-167.2572\"/>\n</g>\n<!-- 120 -->\n<g id=\"node121\" class=\"node\">\n<title>120</title>\n<polygon fill=\"#f9e3d3\" stroke=\"#000000\" points=\"8247,-53 8103,-53 8103,0 8247,0 8247,-53\"/>\n<text text-anchor=\"start\" x=\"8111\" y=\"-37.8\" font-family=\"Helvetica,sans-Serif\" font-size=\"14.00\" fill=\"#000000\">squared_error = 0.0</text>\n<text text-anchor=\"start\" x=\"8135.5\" y=\"-22.8\" font-family=\"Helvetica,sans-Serif\" font-size=\"14.00\" fill=\"#000000\">samples = 1</text>\n<text text-anchor=\"start\" x=\"8131\" y=\"-7.8\" font-family=\"Helvetica,sans-Serif\" font-size=\"14.00\" fill=\"#000000\">value = 0.842</text>\n</g>\n<!-- 119&#45;&gt;120 -->\n<g id=\"edge120\" class=\"edge\">\n<title>119&#45;&gt;120</title>\n<path fill=\"none\" stroke=\"#000000\" d=\"M8287.6541,-88.9777C8269.5738,-78.9504 8249.87,-68.0228 8232.0699,-58.1508\"/>\n<polygon fill=\"#000000\" stroke=\"#000000\" points=\"8233.3964,-54.8843 8222.9537,-53.095 8230.0013,-61.0059 8233.3964,-54.8843\"/>\n</g>\n<!-- 121 -->\n<g id=\"node122\" class=\"node\">\n<title>121</title>\n<polygon fill=\"#fae5d7\" stroke=\"#000000\" points=\"8426.5,-53 8265.5,-53 8265.5,0 8426.5,0 8426.5,-53\"/>\n<text text-anchor=\"start\" x=\"8273.5\" y=\"-37.8\" font-family=\"Helvetica,sans-Serif\" font-size=\"14.00\" fill=\"#000000\">squared_error = 0.002</text>\n<text text-anchor=\"start\" x=\"8306.5\" y=\"-22.8\" font-family=\"Helvetica,sans-Serif\" font-size=\"14.00\" fill=\"#000000\">samples = 2</text>\n<text text-anchor=\"start\" x=\"8302\" y=\"-7.8\" font-family=\"Helvetica,sans-Serif\" font-size=\"14.00\" fill=\"#000000\">value = 0.695</text>\n</g>\n<!-- 119&#45;&gt;121 -->\n<g id=\"edge121\" class=\"edge\">\n<title>119&#45;&gt;121</title>\n<path fill=\"none\" stroke=\"#000000\" d=\"M8347.9423,-88.9777C8347.6861,-80.7364 8347.411,-71.887 8347.1507,-63.5153\"/>\n<polygon fill=\"#000000\" stroke=\"#000000\" points=\"8350.6407,-63.1349 8346.8316,-53.2485 8343.6441,-63.3524 8350.6407,-63.1349\"/>\n</g>\n<!-- 123 -->\n<g id=\"node124\" class=\"node\">\n<title>123</title>\n<polygon fill=\"#f9e2d2\" stroke=\"#000000\" points=\"8589,-53 8445,-53 8445,0 8589,0 8589,-53\"/>\n<text text-anchor=\"start\" x=\"8453\" y=\"-37.8\" font-family=\"Helvetica,sans-Serif\" font-size=\"14.00\" fill=\"#000000\">squared_error = 0.0</text>\n<text text-anchor=\"start\" x=\"8477.5\" y=\"-22.8\" font-family=\"Helvetica,sans-Serif\" font-size=\"14.00\" fill=\"#000000\">samples = 1</text>\n<text text-anchor=\"start\" x=\"8473\" y=\"-7.8\" font-family=\"Helvetica,sans-Serif\" font-size=\"14.00\" fill=\"#000000\">value = 0.899</text>\n</g>\n<!-- 122&#45;&gt;123 -->\n<g id=\"edge123\" class=\"edge\">\n<title>122&#45;&gt;123</title>\n<path fill=\"none\" stroke=\"#000000\" d=\"M8524.1218,-88.9777C8523.172,-80.6449 8522.1512,-71.6903 8521.1876,-63.2364\"/>\n<polygon fill=\"#000000\" stroke=\"#000000\" points=\"8524.6592,-62.7877 8520.049,-53.2485 8517.7042,-63.5806 8524.6592,-62.7877\"/>\n</g>\n<!-- 124 -->\n<g id=\"node125\" class=\"node\">\n<title>124</title>\n<polygon fill=\"#f9e1d0\" stroke=\"#000000\" points=\"8756.5,-53 8607.5,-53 8607.5,0 8756.5,0 8756.5,-53\"/>\n<text text-anchor=\"start\" x=\"8615.5\" y=\"-37.8\" font-family=\"Helvetica,sans-Serif\" font-size=\"14.00\" fill=\"#000000\">squared_error = &#45;0.0</text>\n<text text-anchor=\"start\" x=\"8642.5\" y=\"-22.8\" font-family=\"Helvetica,sans-Serif\" font-size=\"14.00\" fill=\"#000000\">samples = 1</text>\n<text text-anchor=\"start\" x=\"8638\" y=\"-7.8\" font-family=\"Helvetica,sans-Serif\" font-size=\"14.00\" fill=\"#000000\">value = 0.987</text>\n</g>\n<!-- 122&#45;&gt;124 -->\n<g id=\"edge124\" class=\"edge\">\n<title>122&#45;&gt;124</title>\n<path fill=\"none\" stroke=\"#000000\" d=\"M8582.2946,-88.9777C8597.9308,-79.1798 8614.9387,-68.5222 8630.4063,-58.8298\"/>\n<polygon fill=\"#000000\" stroke=\"#000000\" points=\"8632.698,-61.5242 8639.3133,-53.2485 8628.981,-55.5926 8632.698,-61.5242\"/>\n</g>\n<!-- 126 -->\n<g id=\"node127\" class=\"node\">\n<title>126</title>\n<polygon fill=\"#f7dac4\" stroke=\"#000000\" points=\"8773,-149.5 8629,-149.5 8629,-96.5 8773,-96.5 8773,-149.5\"/>\n<text text-anchor=\"start\" x=\"8637\" y=\"-134.3\" font-family=\"Helvetica,sans-Serif\" font-size=\"14.00\" fill=\"#000000\">squared_error = 0.0</text>\n<text text-anchor=\"start\" x=\"8661.5\" y=\"-119.3\" font-family=\"Helvetica,sans-Serif\" font-size=\"14.00\" fill=\"#000000\">samples = 1</text>\n<text text-anchor=\"start\" x=\"8657\" y=\"-104.3\" font-family=\"Helvetica,sans-Serif\" font-size=\"14.00\" fill=\"#000000\">value = 1.514</text>\n</g>\n<!-- 125&#45;&gt;126 -->\n<g id=\"edge126\" class=\"edge\">\n<title>125&#45;&gt;126</title>\n<path fill=\"none\" stroke=\"#000000\" d=\"M8702.3451,-192.9465C8702.1397,-182.2621 8701.912,-170.4254 8701.7034,-159.5742\"/>\n<polygon fill=\"#000000\" stroke=\"#000000\" points=\"8705.2021,-159.473 8701.5104,-149.5422 8698.2034,-159.6076 8705.2021,-159.473\"/>\n</g>\n<!-- 127 -->\n<g id=\"node128\" class=\"node\">\n<title>127</title>\n<polygon fill=\"#f8decb\" stroke=\"#000000\" points=\"8985,-157 8791,-157 8791,-89 8985,-89 8985,-157\"/>\n<text text-anchor=\"start\" x=\"8799\" y=\"-141.8\" font-family=\"Helvetica,sans-Serif\" font-size=\"14.00\" fill=\"#000000\">其他都市土地使用分區 ≤ 0.5</text>\n<text text-anchor=\"start\" x=\"8815.5\" y=\"-126.8\" font-family=\"Helvetica,sans-Serif\" font-size=\"14.00\" fill=\"#000000\">squared_error = 0.006</text>\n<text text-anchor=\"start\" x=\"8848.5\" y=\"-111.8\" font-family=\"Helvetica,sans-Serif\" font-size=\"14.00\" fill=\"#000000\">samples = 2</text>\n<text text-anchor=\"start\" x=\"8844\" y=\"-96.8\" font-family=\"Helvetica,sans-Serif\" font-size=\"14.00\" fill=\"#000000\">value = 1.189</text>\n</g>\n<!-- 125&#45;&gt;127 -->\n<g id=\"edge127\" class=\"edge\">\n<title>125&#45;&gt;127</title>\n<path fill=\"none\" stroke=\"#000000\" d=\"M8763.5759,-192.9465C8781.1445,-183.0701 8800.4643,-172.2093 8818.5321,-162.0522\"/>\n<polygon fill=\"#000000\" stroke=\"#000000\" points=\"8820.2861,-165.0814 8827.288,-157.13 8816.8558,-158.9795 8820.2861,-165.0814\"/>\n</g>\n<!-- 128 -->\n<g id=\"node129\" class=\"node\">\n<title>128</title>\n<polygon fill=\"#f8dfcd\" stroke=\"#000000\" points=\"8919,-53 8775,-53 8775,0 8919,0 8919,-53\"/>\n<text text-anchor=\"start\" x=\"8783\" y=\"-37.8\" font-family=\"Helvetica,sans-Serif\" font-size=\"14.00\" fill=\"#000000\">squared_error = 0.0</text>\n<text text-anchor=\"start\" x=\"8807.5\" y=\"-22.8\" font-family=\"Helvetica,sans-Serif\" font-size=\"14.00\" fill=\"#000000\">samples = 1</text>\n<text text-anchor=\"start\" x=\"8803\" y=\"-7.8\" font-family=\"Helvetica,sans-Serif\" font-size=\"14.00\" fill=\"#000000\">value = 1.113</text>\n</g>\n<!-- 127&#45;&gt;128 -->\n<g id=\"edge128\" class=\"edge\">\n<title>127&#45;&gt;128</title>\n<path fill=\"none\" stroke=\"#000000\" d=\"M8873.5449,-88.9777C8869.9267,-80.4617 8866.0326,-71.2963 8862.3717,-62.6798\"/>\n<polygon fill=\"#000000\" stroke=\"#000000\" points=\"8865.4964,-61.0836 8858.3646,-53.2485 8859.0538,-63.8209 8865.4964,-61.0836\"/>\n</g>\n<!-- 129 -->\n<g id=\"node130\" class=\"node\">\n<title>129</title>\n<polygon fill=\"#f8ddca\" stroke=\"#000000\" points=\"9081,-53 8937,-53 8937,0 9081,0 9081,-53\"/>\n<text text-anchor=\"start\" x=\"8945\" y=\"-37.8\" font-family=\"Helvetica,sans-Serif\" font-size=\"14.00\" fill=\"#000000\">squared_error = 0.0</text>\n<text text-anchor=\"start\" x=\"8969.5\" y=\"-22.8\" font-family=\"Helvetica,sans-Serif\" font-size=\"14.00\" fill=\"#000000\">samples = 1</text>\n<text text-anchor=\"start\" x=\"8965\" y=\"-7.8\" font-family=\"Helvetica,sans-Serif\" font-size=\"14.00\" fill=\"#000000\">value = 1.264</text>\n</g>\n<!-- 127&#45;&gt;129 -->\n<g id=\"edge129\" class=\"edge\">\n<title>127&#45;&gt;129</title>\n<path fill=\"none\" stroke=\"#000000\" d=\"M8930.6601,-88.9777C8942.6011,-79.4545 8955.5605,-69.1191 8967.437,-59.6473\"/>\n<polygon fill=\"#000000\" stroke=\"#000000\" points=\"8969.8246,-62.22 8975.4605,-53.2485 8965.46,-56.7473 8969.8246,-62.22\"/>\n</g>\n<!-- 131 -->\n<g id=\"node132\" class=\"node\">\n<title>131</title>\n<polygon fill=\"#fcefe6\" stroke=\"#000000\" points=\"9783.5,-365 9622.5,-365 9622.5,-297 9783.5,-297 9783.5,-365\"/>\n<text text-anchor=\"start\" x=\"9674\" y=\"-349.8\" font-family=\"Helvetica,sans-Serif\" font-size=\"14.00\" fill=\"#000000\">hall ≤ 3.5</text>\n<text text-anchor=\"start\" x=\"9630.5\" y=\"-334.8\" font-family=\"Helvetica,sans-Serif\" font-size=\"14.00\" fill=\"#000000\">squared_error = 0.112</text>\n<text text-anchor=\"start\" x=\"9659\" y=\"-319.8\" font-family=\"Helvetica,sans-Serif\" font-size=\"14.00\" fill=\"#000000\">samples = 50</text>\n<text text-anchor=\"start\" x=\"9659\" y=\"-304.8\" font-family=\"Helvetica,sans-Serif\" font-size=\"14.00\" fill=\"#000000\">value = 0.019</text>\n</g>\n<!-- 130&#45;&gt;131 -->\n<g id=\"edge131\" class=\"edge\">\n<title>130&#45;&gt;131</title>\n<path fill=\"none\" stroke=\"#000000\" d=\"M9762.8581,-400.9465C9755.1745,-391.968 9746.7947,-382.1758 9738.8041,-372.8385\"/>\n<polygon fill=\"#000000\" stroke=\"#000000\" points=\"9741.3685,-370.4521 9732.2074,-365.13 9736.0501,-375.0034 9741.3685,-370.4521\"/>\n</g>\n<!-- 140 -->\n<g id=\"node141\" class=\"node\">\n<title>140</title>\n<polygon fill=\"#fbebe0\" stroke=\"#000000\" points=\"9962.5,-365 9801.5,-365 9801.5,-297 9962.5,-297 9962.5,-365\"/>\n<text text-anchor=\"start\" x=\"9830\" y=\"-349.8\" font-family=\"Helvetica,sans-Serif\" font-size=\"14.00\" fill=\"#000000\">totalm2 ≤ &#45;0.503</text>\n<text text-anchor=\"start\" x=\"9809.5\" y=\"-334.8\" font-family=\"Helvetica,sans-Serif\" font-size=\"14.00\" fill=\"#000000\">squared_error = 0.115</text>\n<text text-anchor=\"start\" x=\"9838\" y=\"-319.8\" font-family=\"Helvetica,sans-Serif\" font-size=\"14.00\" fill=\"#000000\">samples = 28</text>\n<text text-anchor=\"start\" x=\"9838\" y=\"-304.8\" font-family=\"Helvetica,sans-Serif\" font-size=\"14.00\" fill=\"#000000\">value = 0.273</text>\n</g>\n<!-- 130&#45;&gt;140 -->\n<g id=\"edge140\" class=\"edge\">\n<title>130&#45;&gt;140</title>\n<path fill=\"none\" stroke=\"#000000\" d=\"M9821.4694,-400.9465C9829.2393,-391.968 9837.7132,-382.1758 9845.7936,-372.8385\"/>\n<polygon fill=\"#000000\" stroke=\"#000000\" points=\"9848.5672,-374.982 9852.4644,-365.13 9843.274,-370.4014 9848.5672,-374.982\"/>\n</g>\n<!-- 132 -->\n<g id=\"node133\" class=\"node\">\n<title>132</title>\n<polygon fill=\"#fcefe6\" stroke=\"#000000\" points=\"9614.5,-261 9453.5,-261 9453.5,-193 9614.5,-193 9614.5,-261\"/>\n<text text-anchor=\"start\" x=\"9484\" y=\"-245.8\" font-family=\"Helvetica,sans-Serif\" font-size=\"14.00\" fill=\"#000000\">totalm2 ≤ 0.183</text>\n<text text-anchor=\"start\" x=\"9461.5\" y=\"-230.8\" font-family=\"Helvetica,sans-Serif\" font-size=\"14.00\" fill=\"#000000\">squared_error = 0.096</text>\n<text text-anchor=\"start\" x=\"9490\" y=\"-215.8\" font-family=\"Helvetica,sans-Serif\" font-size=\"14.00\" fill=\"#000000\">samples = 49</text>\n<text text-anchor=\"start\" x=\"9496\" y=\"-200.8\" font-family=\"Helvetica,sans-Serif\" font-size=\"14.00\" fill=\"#000000\">value = &#45;0.0</text>\n</g>\n<!-- 131&#45;&gt;132 -->\n<g id=\"edge132\" class=\"edge\">\n<title>131&#45;&gt;132</title>\n<path fill=\"none\" stroke=\"#000000\" d=\"M9647.6631,-296.9465C9631.9058,-287.2497 9614.6063,-276.6039 9598.3613,-266.6069\"/>\n<polygon fill=\"#000000\" stroke=\"#000000\" points=\"9599.8122,-263.3902 9589.4612,-261.13 9596.1435,-269.3518 9599.8122,-263.3902\"/>\n</g>\n<!-- 139 -->\n<g id=\"node140\" class=\"node\">\n<title>139</title>\n<polygon fill=\"#f9e1d1\" stroke=\"#000000\" points=\"9781.5,-253.5 9632.5,-253.5 9632.5,-200.5 9781.5,-200.5 9781.5,-253.5\"/>\n<text text-anchor=\"start\" x=\"9640.5\" y=\"-238.3\" font-family=\"Helvetica,sans-Serif\" font-size=\"14.00\" fill=\"#000000\">squared_error = &#45;0.0</text>\n<text text-anchor=\"start\" x=\"9667.5\" y=\"-223.3\" font-family=\"Helvetica,sans-Serif\" font-size=\"14.00\" fill=\"#000000\">samples = 1</text>\n<text text-anchor=\"start\" x=\"9663\" y=\"-208.3\" font-family=\"Helvetica,sans-Serif\" font-size=\"14.00\" fill=\"#000000\">value = 0.965</text>\n</g>\n<!-- 131&#45;&gt;139 -->\n<g id=\"edge139\" class=\"edge\">\n<title>131&#45;&gt;139</title>\n<path fill=\"none\" stroke=\"#000000\" d=\"M9704.3097,-296.9465C9704.7207,-286.2621 9705.1759,-274.4254 9705.5933,-263.5742\"/>\n<polygon fill=\"#000000\" stroke=\"#000000\" points=\"9709.0921,-263.6693 9705.9791,-253.5422 9702.0973,-263.4002 9709.0921,-263.6693\"/>\n</g>\n<!-- 133 -->\n<g id=\"node134\" class=\"node\">\n<title>133</title>\n<polygon fill=\"#fceee5\" stroke=\"#000000\" points=\"9439.5,-157 9278.5,-157 9278.5,-89 9439.5,-89 9439.5,-157\"/>\n<text text-anchor=\"start\" x=\"9330\" y=\"-141.8\" font-family=\"Helvetica,sans-Serif\" font-size=\"14.00\" fill=\"#000000\">hall ≤ 1.5</text>\n<text text-anchor=\"start\" x=\"9286.5\" y=\"-126.8\" font-family=\"Helvetica,sans-Serif\" font-size=\"14.00\" fill=\"#000000\">squared_error = 0.078</text>\n<text text-anchor=\"start\" x=\"9315\" y=\"-111.8\" font-family=\"Helvetica,sans-Serif\" font-size=\"14.00\" fill=\"#000000\">samples = 38</text>\n<text text-anchor=\"start\" x=\"9315\" y=\"-96.8\" font-family=\"Helvetica,sans-Serif\" font-size=\"14.00\" fill=\"#000000\">value = 0.061</text>\n</g>\n<!-- 132&#45;&gt;133 -->\n<g id=\"edge133\" class=\"edge\">\n<title>132&#45;&gt;133</title>\n<path fill=\"none\" stroke=\"#000000\" d=\"M9476.6985,-192.9465C9460.2306,-183.1599 9442.1362,-172.4066 9425.1793,-162.3294\"/>\n<polygon fill=\"#000000\" stroke=\"#000000\" points=\"9426.8149,-159.23 9416.4303,-157.13 9423.2387,-165.2476 9426.8149,-159.23\"/>\n</g>\n<!-- 136 -->\n<g id=\"node137\" class=\"node\">\n<title>136</title>\n<polygon fill=\"#fcf2eb\" stroke=\"#000000\" points=\"9618.5,-157 9457.5,-157 9457.5,-89 9618.5,-89 9618.5,-157\"/>\n<text text-anchor=\"start\" x=\"9503.5\" y=\"-141.8\" font-family=\"Helvetica,sans-Serif\" font-size=\"14.00\" fill=\"#000000\">age ≤ 30.0</text>\n<text text-anchor=\"start\" x=\"9465.5\" y=\"-126.8\" font-family=\"Helvetica,sans-Serif\" font-size=\"14.00\" fill=\"#000000\">squared_error = 0.102</text>\n<text text-anchor=\"start\" x=\"9494\" y=\"-111.8\" font-family=\"Helvetica,sans-Serif\" font-size=\"14.00\" fill=\"#000000\">samples = 11</text>\n<text text-anchor=\"start\" x=\"9491.5\" y=\"-96.8\" font-family=\"Helvetica,sans-Serif\" font-size=\"14.00\" fill=\"#000000\">value = &#45;0.212</text>\n</g>\n<!-- 132&#45;&gt;136 -->\n<g id=\"edge136\" class=\"edge\">\n<title>132&#45;&gt;136</title>\n<path fill=\"none\" stroke=\"#000000\" d=\"M9535.3097,-192.9465C9535.624,-184.776 9535.9642,-175.9318 9536.2935,-167.3697\"/>\n<polygon fill=\"#000000\" stroke=\"#000000\" points=\"9539.8003,-167.2572 9536.6873,-157.13 9532.8055,-166.9881 9539.8003,-167.2572\"/>\n</g>\n<!-- 134 -->\n<g id=\"node135\" class=\"node\">\n<title>134</title>\n<polygon fill=\"#fdf3ec\" stroke=\"#000000\" points=\"9260.5,-53 9099.5,-53 9099.5,0 9260.5,0 9260.5,-53\"/>\n<text text-anchor=\"start\" x=\"9107.5\" y=\"-37.8\" font-family=\"Helvetica,sans-Serif\" font-size=\"14.00\" fill=\"#000000\">squared_error = 0.028</text>\n<text text-anchor=\"start\" x=\"9140.5\" y=\"-22.8\" font-family=\"Helvetica,sans-Serif\" font-size=\"14.00\" fill=\"#000000\">samples = 5</text>\n<text text-anchor=\"start\" x=\"9133.5\" y=\"-7.8\" font-family=\"Helvetica,sans-Serif\" font-size=\"14.00\" fill=\"#000000\">value = &#45;0.257</text>\n</g>\n<!-- 133&#45;&gt;134 -->\n<g id=\"edge134\" class=\"edge\">\n<title>133&#45;&gt;134</title>\n<path fill=\"none\" stroke=\"#000000\" d=\"M9295.8913,-88.9777C9277.1208,-78.8584 9256.6494,-67.8222 9238.2063,-57.8794\"/>\n<polygon fill=\"#000000\" stroke=\"#000000\" points=\"9239.795,-54.7597 9229.3317,-53.095 9236.4732,-60.9213 9239.795,-54.7597\"/>\n</g>\n<!-- 135 -->\n<g id=\"node136\" class=\"node\">\n<title>135</title>\n<polygon fill=\"#fbeee4\" stroke=\"#000000\" points=\"9439.5,-53 9278.5,-53 9278.5,0 9439.5,0 9439.5,-53\"/>\n<text text-anchor=\"start\" x=\"9286.5\" y=\"-37.8\" font-family=\"Helvetica,sans-Serif\" font-size=\"14.00\" fill=\"#000000\">squared_error = 0.067</text>\n<text text-anchor=\"start\" x=\"9315\" y=\"-22.8\" font-family=\"Helvetica,sans-Serif\" font-size=\"14.00\" fill=\"#000000\">samples = 33</text>\n<text text-anchor=\"start\" x=\"9315\" y=\"-7.8\" font-family=\"Helvetica,sans-Serif\" font-size=\"14.00\" fill=\"#000000\">value = 0.109</text>\n</g>\n<!-- 133&#45;&gt;135 -->\n<g id=\"edge135\" class=\"edge\">\n<title>133&#45;&gt;135</title>\n<path fill=\"none\" stroke=\"#000000\" d=\"M9359,-88.9777C9359,-80.7364 9359,-71.887 9359,-63.5153\"/>\n<polygon fill=\"#000000\" stroke=\"#000000\" points=\"9362.5001,-63.2484 9359,-53.2485 9355.5001,-63.2485 9362.5001,-63.2484\"/>\n</g>\n<!-- 137 -->\n<g id=\"node138\" class=\"node\">\n<title>137</title>\n<polygon fill=\"#fcf0e8\" stroke=\"#000000\" points=\"9618.5,-53 9457.5,-53 9457.5,0 9618.5,0 9618.5,-53\"/>\n<text text-anchor=\"start\" x=\"9465.5\" y=\"-37.8\" font-family=\"Helvetica,sans-Serif\" font-size=\"14.00\" fill=\"#000000\">squared_error = 0.072</text>\n<text text-anchor=\"start\" x=\"9498.5\" y=\"-22.8\" font-family=\"Helvetica,sans-Serif\" font-size=\"14.00\" fill=\"#000000\">samples = 8</text>\n<text text-anchor=\"start\" x=\"9491.5\" y=\"-7.8\" font-family=\"Helvetica,sans-Serif\" font-size=\"14.00\" fill=\"#000000\">value = &#45;0.075</text>\n</g>\n<!-- 136&#45;&gt;137 -->\n<g id=\"edge137\" class=\"edge\">\n<title>136&#45;&gt;137</title>\n<path fill=\"none\" stroke=\"#000000\" d=\"M9538,-88.9777C9538,-80.7364 9538,-71.887 9538,-63.5153\"/>\n<polygon fill=\"#000000\" stroke=\"#000000\" points=\"9541.5001,-63.2484 9538,-53.2485 9534.5001,-63.2485 9541.5001,-63.2484\"/>\n</g>\n<!-- 138 -->\n<g id=\"node139\" class=\"node\">\n<title>138</title>\n<polygon fill=\"#fdf8f3\" stroke=\"#000000\" points=\"9797.5,-53 9636.5,-53 9636.5,0 9797.5,0 9797.5,-53\"/>\n<text text-anchor=\"start\" x=\"9644.5\" y=\"-37.8\" font-family=\"Helvetica,sans-Serif\" font-size=\"14.00\" fill=\"#000000\">squared_error = 0.001</text>\n<text text-anchor=\"start\" x=\"9677.5\" y=\"-22.8\" font-family=\"Helvetica,sans-Serif\" font-size=\"14.00\" fill=\"#000000\">samples = 3</text>\n<text text-anchor=\"start\" x=\"9670.5\" y=\"-7.8\" font-family=\"Helvetica,sans-Serif\" font-size=\"14.00\" fill=\"#000000\">value = &#45;0.576</text>\n</g>\n<!-- 136&#45;&gt;138 -->\n<g id=\"edge138\" class=\"edge\">\n<title>136&#45;&gt;138</title>\n<path fill=\"none\" stroke=\"#000000\" d=\"M9601.1087,-88.9777C9619.8792,-78.8584 9640.3506,-67.8222 9658.7937,-57.8794\"/>\n<polygon fill=\"#000000\" stroke=\"#000000\" points=\"9660.5268,-60.9213 9667.6683,-53.095 9657.205,-54.7597 9660.5268,-60.9213\"/>\n</g>\n<!-- 141 -->\n<g id=\"node142\" class=\"node\">\n<title>141</title>\n<polygon fill=\"#fef9f6\" stroke=\"#000000\" points=\"9951,-253.5 9807,-253.5 9807,-200.5 9951,-200.5 9951,-253.5\"/>\n<text text-anchor=\"start\" x=\"9815\" y=\"-238.3\" font-family=\"Helvetica,sans-Serif\" font-size=\"14.00\" fill=\"#000000\">squared_error = 0.0</text>\n<text text-anchor=\"start\" x=\"9839.5\" y=\"-223.3\" font-family=\"Helvetica,sans-Serif\" font-size=\"14.00\" fill=\"#000000\">samples = 1</text>\n<text text-anchor=\"start\" x=\"9832.5\" y=\"-208.3\" font-family=\"Helvetica,sans-Serif\" font-size=\"14.00\" fill=\"#000000\">value = &#45;0.704</text>\n</g>\n<!-- 140&#45;&gt;141 -->\n<g id=\"edge141\" class=\"edge\">\n<title>140&#45;&gt;141</title>\n<path fill=\"none\" stroke=\"#000000\" d=\"M9881.0177,-296.9465C9880.7095,-286.2621 9880.368,-274.4254 9880.055,-263.5742\"/>\n<polygon fill=\"#000000\" stroke=\"#000000\" points=\"9883.5526,-263.4371 9879.7656,-253.5422 9876.5555,-263.639 9883.5526,-263.4371\"/>\n</g>\n<!-- 142 -->\n<g id=\"node143\" class=\"node\">\n<title>142</title>\n<polygon fill=\"#fbebdf\" stroke=\"#000000\" points=\"10130.5,-261 9969.5,-261 9969.5,-193 10130.5,-193 10130.5,-261\"/>\n<text text-anchor=\"start\" x=\"9998\" y=\"-245.8\" font-family=\"Helvetica,sans-Serif\" font-size=\"14.00\" fill=\"#000000\">totalm2 ≤ &#45;0.319</text>\n<text text-anchor=\"start\" x=\"9977.5\" y=\"-230.8\" font-family=\"Helvetica,sans-Serif\" font-size=\"14.00\" fill=\"#000000\">squared_error = 0.083</text>\n<text text-anchor=\"start\" x=\"10006\" y=\"-215.8\" font-family=\"Helvetica,sans-Serif\" font-size=\"14.00\" fill=\"#000000\">samples = 27</text>\n<text text-anchor=\"start\" x=\"10006\" y=\"-200.8\" font-family=\"Helvetica,sans-Serif\" font-size=\"14.00\" fill=\"#000000\">value = 0.309</text>\n</g>\n<!-- 140&#45;&gt;142 -->\n<g id=\"edge142\" class=\"edge\">\n<title>140&#45;&gt;142</title>\n<path fill=\"none\" stroke=\"#000000\" d=\"M9937.0095,-296.9465C9952.6736,-287.2497 9969.8707,-276.6039 9986.0196,-266.6069\"/>\n<polygon fill=\"#000000\" stroke=\"#000000\" points=\"9988.2065,-269.3695 9994.8669,-261.13 9984.522,-263.4177 9988.2065,-269.3695\"/>\n</g>\n<!-- 143 -->\n<g id=\"node144\" class=\"node\">\n<title>143</title>\n<polygon fill=\"#f9e3d3\" stroke=\"#000000\" points=\"10126.5,-157 9965.5,-157 9965.5,-89 10126.5,-89 10126.5,-157\"/>\n<text text-anchor=\"start\" x=\"9999.5\" y=\"-141.8\" font-family=\"Helvetica,sans-Serif\" font-size=\"14.00\" fill=\"#000000\">坡道平面 ≤ 0.5</text>\n<text text-anchor=\"start\" x=\"9973.5\" y=\"-126.8\" font-family=\"Helvetica,sans-Serif\" font-size=\"14.00\" fill=\"#000000\">squared_error = 0.019</text>\n<text text-anchor=\"start\" x=\"10006.5\" y=\"-111.8\" font-family=\"Helvetica,sans-Serif\" font-size=\"14.00\" fill=\"#000000\">samples = 2</text>\n<text text-anchor=\"start\" x=\"10002\" y=\"-96.8\" font-family=\"Helvetica,sans-Serif\" font-size=\"14.00\" fill=\"#000000\">value = 0.868</text>\n</g>\n<!-- 142&#45;&gt;143 -->\n<g id=\"edge143\" class=\"edge\">\n<title>142&#45;&gt;143</title>\n<path fill=\"none\" stroke=\"#000000\" d=\"M10048.6903,-192.9465C10048.376,-184.776 10048.0358,-175.9318 10047.7065,-167.3697\"/>\n<polygon fill=\"#000000\" stroke=\"#000000\" points=\"10051.1945,-166.9881 10047.3127,-157.13 10044.1997,-167.2572 10051.1945,-166.9881\"/>\n</g>\n<!-- 146 -->\n<g id=\"node147\" class=\"node\">\n<title>146</title>\n<polygon fill=\"#fbebe0\" stroke=\"#000000\" points=\"10305.5,-157 10144.5,-157 10144.5,-89 10305.5,-89 10305.5,-157\"/>\n<text text-anchor=\"start\" x=\"10176.5\" y=\"-141.8\" font-family=\"Helvetica,sans-Serif\" font-size=\"14.00\" fill=\"#000000\">balm2 ≤ &#45;0.033</text>\n<text text-anchor=\"start\" x=\"10152.5\" y=\"-126.8\" font-family=\"Helvetica,sans-Serif\" font-size=\"14.00\" fill=\"#000000\">squared_error = 0.061</text>\n<text text-anchor=\"start\" x=\"10181\" y=\"-111.8\" font-family=\"Helvetica,sans-Serif\" font-size=\"14.00\" fill=\"#000000\">samples = 25</text>\n<text text-anchor=\"start\" x=\"10181\" y=\"-96.8\" font-family=\"Helvetica,sans-Serif\" font-size=\"14.00\" fill=\"#000000\">value = 0.264</text>\n</g>\n<!-- 142&#45;&gt;146 -->\n<g id=\"edge146\" class=\"edge\">\n<title>142&#45;&gt;146</title>\n<path fill=\"none\" stroke=\"#000000\" d=\"M10107.3015,-192.9465C10123.7694,-183.1599 10141.8638,-172.4066 10158.8207,-162.3294\"/>\n<polygon fill=\"#000000\" stroke=\"#000000\" points=\"10160.7613,-165.2476 10167.5697,-157.13 10157.1851,-159.23 10160.7613,-165.2476\"/>\n</g>\n<!-- 144 -->\n<g id=\"node145\" class=\"node\">\n<title>144</title>\n<polygon fill=\"#f9e1d0\" stroke=\"#000000\" points=\"9960,-53 9816,-53 9816,0 9960,0 9960,-53\"/>\n<text text-anchor=\"start\" x=\"9824\" y=\"-37.8\" font-family=\"Helvetica,sans-Serif\" font-size=\"14.00\" fill=\"#000000\">squared_error = 0.0</text>\n<text text-anchor=\"start\" x=\"9848.5\" y=\"-22.8\" font-family=\"Helvetica,sans-Serif\" font-size=\"14.00\" fill=\"#000000\">samples = 1</text>\n<text text-anchor=\"start\" x=\"9844\" y=\"-7.8\" font-family=\"Helvetica,sans-Serif\" font-size=\"14.00\" fill=\"#000000\">value = 1.004</text>\n</g>\n<!-- 143&#45;&gt;144 -->\n<g id=\"edge144\" class=\"edge\">\n<title>143&#45;&gt;144</title>\n<path fill=\"none\" stroke=\"#000000\" d=\"M9990.2951,-88.9777C9974.028,-79.0424 9956.3136,-68.2232 9940.2674,-58.4228\"/>\n<polygon fill=\"#000000\" stroke=\"#000000\" points=\"9941.9027,-55.3204 9931.5442,-53.095 9938.254,-61.2943 9941.9027,-55.3204\"/>\n</g>\n<!-- 145 -->\n<g id=\"node146\" class=\"node\">\n<title>145</title>\n<polygon fill=\"#fae5d6\" stroke=\"#000000\" points=\"10122,-53 9978,-53 9978,0 10122,0 10122,-53\"/>\n<text text-anchor=\"start\" x=\"9986\" y=\"-37.8\" font-family=\"Helvetica,sans-Serif\" font-size=\"14.00\" fill=\"#000000\">squared_error = 0.0</text>\n<text text-anchor=\"start\" x=\"10010.5\" y=\"-22.8\" font-family=\"Helvetica,sans-Serif\" font-size=\"14.00\" fill=\"#000000\">samples = 1</text>\n<text text-anchor=\"start\" x=\"10006\" y=\"-7.8\" font-family=\"Helvetica,sans-Serif\" font-size=\"14.00\" fill=\"#000000\">value = 0.731</text>\n</g>\n<!-- 143&#45;&gt;145 -->\n<g id=\"edge145\" class=\"edge\">\n<title>143&#45;&gt;145</title>\n<path fill=\"none\" stroke=\"#000000\" d=\"M10047.4103,-88.9777C10047.7519,-80.7364 10048.1187,-71.887 10048.4657,-63.5153\"/>\n<polygon fill=\"#000000\" stroke=\"#000000\" points=\"10051.974,-63.3849 10048.8913,-53.2485 10044.98,-63.0949 10051.974,-63.3849\"/>\n</g>\n<!-- 147 -->\n<g id=\"node148\" class=\"node\">\n<title>147</title>\n<polygon fill=\"#fae9dd\" stroke=\"#000000\" points=\"10301.5,-53 10140.5,-53 10140.5,0 10301.5,0 10301.5,-53\"/>\n<text text-anchor=\"start\" x=\"10148.5\" y=\"-37.8\" font-family=\"Helvetica,sans-Serif\" font-size=\"14.00\" fill=\"#000000\">squared_error = 0.034</text>\n<text text-anchor=\"start\" x=\"10181.5\" y=\"-22.8\" font-family=\"Helvetica,sans-Serif\" font-size=\"14.00\" fill=\"#000000\">samples = 9</text>\n<text text-anchor=\"start\" x=\"10177\" y=\"-7.8\" font-family=\"Helvetica,sans-Serif\" font-size=\"14.00\" fill=\"#000000\">value = 0.424</text>\n</g>\n<!-- 146&#45;&gt;147 -->\n<g id=\"edge147\" class=\"edge\">\n<title>146&#45;&gt;147</title>\n<path fill=\"none\" stroke=\"#000000\" d=\"M10223.5897,-88.9777C10223.2481,-80.7364 10222.8813,-71.887 10222.5343,-63.5153\"/>\n<polygon fill=\"#000000\" stroke=\"#000000\" points=\"10226.02,-63.0949 10222.1087,-53.2485 10219.026,-63.3849 10226.02,-63.0949\"/>\n</g>\n<!-- 148 -->\n<g id=\"node149\" class=\"node\">\n<title>148</title>\n<polygon fill=\"#fbede2\" stroke=\"#000000\" points=\"10480.5,-53 10319.5,-53 10319.5,0 10480.5,0 10480.5,-53\"/>\n<text text-anchor=\"start\" x=\"10327.5\" y=\"-37.8\" font-family=\"Helvetica,sans-Serif\" font-size=\"14.00\" fill=\"#000000\">squared_error = 0.053</text>\n<text text-anchor=\"start\" x=\"10356\" y=\"-22.8\" font-family=\"Helvetica,sans-Serif\" font-size=\"14.00\" fill=\"#000000\">samples = 16</text>\n<text text-anchor=\"start\" x=\"10356\" y=\"-7.8\" font-family=\"Helvetica,sans-Serif\" font-size=\"14.00\" fill=\"#000000\">value = 0.174</text>\n</g>\n<!-- 146&#45;&gt;148 -->\n<g id=\"edge148\" class=\"edge\">\n<title>146&#45;&gt;148</title>\n<path fill=\"none\" stroke=\"#000000\" d=\"M10286.6985,-88.9777C10304.8827,-78.9504 10324.6997,-68.0228 10342.6021,-58.1508\"/>\n<polygon fill=\"#000000\" stroke=\"#000000\" points=\"10344.7039,-60.9888 10351.7707,-53.095 10341.3237,-54.859 10344.7039,-60.9888\"/>\n</g>\n<!-- 150 -->\n<g id=\"node151\" class=\"node\">\n<title>150</title>\n<polygon fill=\"#f9e2d2\" stroke=\"#000000\" points=\"11556.5,-469 11395.5,-469 11395.5,-401 11556.5,-401 11556.5,-469\"/>\n<text text-anchor=\"start\" x=\"11438.5\" y=\"-453.8\" font-family=\"Helvetica,sans-Serif\" font-size=\"14.00\" fill=\"#000000\">totalf ≤ 19.5</text>\n<text text-anchor=\"start\" x=\"11403.5\" y=\"-438.8\" font-family=\"Helvetica,sans-Serif\" font-size=\"14.00\" fill=\"#000000\">squared_error = 0.378</text>\n<text text-anchor=\"start\" x=\"11432\" y=\"-423.8\" font-family=\"Helvetica,sans-Serif\" font-size=\"14.00\" fill=\"#000000\">samples = 42</text>\n<text text-anchor=\"start\" x=\"11432\" y=\"-408.8\" font-family=\"Helvetica,sans-Serif\" font-size=\"14.00\" fill=\"#000000\">value = 0.919</text>\n</g>\n<!-- 149&#45;&gt;150 -->\n<g id=\"edge150\" class=\"edge\">\n<title>149&#45;&gt;150</title>\n<path fill=\"none\" stroke=\"#000000\" d=\"M11476,-504.9465C11476,-496.776 11476,-487.9318 11476,-479.3697\"/>\n<polygon fill=\"#000000\" stroke=\"#000000\" points=\"11479.5001,-479.13 11476,-469.13 11472.5001,-479.13 11479.5001,-479.13\"/>\n</g>\n<!-- 173 -->\n<g id=\"node174\" class=\"node\">\n<title>173</title>\n<polygon fill=\"#f6d2b9\" stroke=\"#000000\" points=\"11859,-469 11707,-469 11707,-401 11859,-401 11859,-469\"/>\n<text text-anchor=\"start\" x=\"11729\" y=\"-453.8\" font-family=\"Helvetica,sans-Serif\" font-size=\"14.00\" fill=\"#000000\">totalbm2 ≤ 0.527</text>\n<text text-anchor=\"start\" x=\"11715\" y=\"-438.8\" font-family=\"Helvetica,sans-Serif\" font-size=\"14.00\" fill=\"#000000\">squared_error = 0.13</text>\n<text text-anchor=\"start\" x=\"11743.5\" y=\"-423.8\" font-family=\"Helvetica,sans-Serif\" font-size=\"14.00\" fill=\"#000000\">samples = 3</text>\n<text text-anchor=\"start\" x=\"11739\" y=\"-408.8\" font-family=\"Helvetica,sans-Serif\" font-size=\"14.00\" fill=\"#000000\">value = 2.017</text>\n</g>\n<!-- 149&#45;&gt;173 -->\n<g id=\"edge173\" class=\"edge\">\n<title>149&#45;&gt;173</title>\n<path fill=\"none\" stroke=\"#000000\" d=\"M11556.6606,-511.6752C11599.9414,-497.0133 11653.2798,-478.9443 11697.3051,-464.0302\"/>\n<polygon fill=\"#000000\" stroke=\"#000000\" points=\"11698.4899,-467.3243 11706.8382,-460.8008 11696.2438,-460.6944 11698.4899,-467.3243\"/>\n</g>\n<!-- 151 -->\n<g id=\"node152\" class=\"node\">\n<title>151</title>\n<polygon fill=\"#f9e3d3\" stroke=\"#000000\" points=\"11424.5,-365 11263.5,-365 11263.5,-297 11424.5,-297 11424.5,-365\"/>\n<text text-anchor=\"start\" x=\"11306.5\" y=\"-349.8\" font-family=\"Helvetica,sans-Serif\" font-size=\"14.00\" fill=\"#000000\">totalf ≤ 14.5</text>\n<text text-anchor=\"start\" x=\"11271.5\" y=\"-334.8\" font-family=\"Helvetica,sans-Serif\" font-size=\"14.00\" fill=\"#000000\">squared_error = 0.315</text>\n<text text-anchor=\"start\" x=\"11300\" y=\"-319.8\" font-family=\"Helvetica,sans-Serif\" font-size=\"14.00\" fill=\"#000000\">samples = 38</text>\n<text text-anchor=\"start\" x=\"11300\" y=\"-304.8\" font-family=\"Helvetica,sans-Serif\" font-size=\"14.00\" fill=\"#000000\">value = 0.834</text>\n</g>\n<!-- 150&#45;&gt;151 -->\n<g id=\"edge151\" class=\"edge\">\n<title>150&#45;&gt;151</title>\n<path fill=\"none\" stroke=\"#000000\" d=\"M11432.7783,-400.9465C11420.8126,-391.519 11407.7085,-381.1946 11395.3296,-371.4415\"/>\n<polygon fill=\"#000000\" stroke=\"#000000\" points=\"11397.3398,-368.5695 11387.3188,-365.13 11393.0077,-374.068 11397.3398,-368.5695\"/>\n</g>\n<!-- 166 -->\n<g id=\"node167\" class=\"node\">\n<title>166</title>\n<polygon fill=\"#f7d7bf\" stroke=\"#000000\" points=\"11688.5,-365 11527.5,-365 11527.5,-297 11688.5,-297 11688.5,-365\"/>\n<text text-anchor=\"start\" x=\"11554\" y=\"-349.8\" font-family=\"Helvetica,sans-Serif\" font-size=\"14.00\" fill=\"#000000\">totalbm2 ≤ 0.755</text>\n<text text-anchor=\"start\" x=\"11535.5\" y=\"-334.8\" font-family=\"Helvetica,sans-Serif\" font-size=\"14.00\" fill=\"#000000\">squared_error = 0.266</text>\n<text text-anchor=\"start\" x=\"11568.5\" y=\"-319.8\" font-family=\"Helvetica,sans-Serif\" font-size=\"14.00\" fill=\"#000000\">samples = 4</text>\n<text text-anchor=\"start\" x=\"11568\" y=\"-304.8\" font-family=\"Helvetica,sans-Serif\" font-size=\"14.00\" fill=\"#000000\">value = 1.72</text>\n</g>\n<!-- 150&#45;&gt;166 -->\n<g id=\"edge166\" class=\"edge\">\n<title>150&#45;&gt;166</title>\n<path fill=\"none\" stroke=\"#000000\" d=\"M11519.2217,-400.9465C11531.1874,-391.519 11544.2915,-381.1946 11556.6704,-371.4415\"/>\n<polygon fill=\"#000000\" stroke=\"#000000\" points=\"11558.9923,-374.068 11564.6812,-365.13 11554.6602,-368.5695 11558.9923,-374.068\"/>\n</g>\n<!-- 152 -->\n<g id=\"node153\" class=\"node\">\n<title>152</title>\n<polygon fill=\"#f9e1d0\" stroke=\"#000000\" points=\"11080.5,-261 10919.5,-261 10919.5,-193 11080.5,-193 11080.5,-261\"/>\n<text text-anchor=\"start\" x=\"10954\" y=\"-245.8\" font-family=\"Helvetica,sans-Serif\" font-size=\"14.00\" fill=\"#000000\">balm2 ≤ 2.442</text>\n<text text-anchor=\"start\" x=\"10927.5\" y=\"-230.8\" font-family=\"Helvetica,sans-Serif\" font-size=\"14.00\" fill=\"#000000\">squared_error = 0.276</text>\n<text text-anchor=\"start\" x=\"10956\" y=\"-215.8\" font-family=\"Helvetica,sans-Serif\" font-size=\"14.00\" fill=\"#000000\">samples = 27</text>\n<text text-anchor=\"start\" x=\"10956\" y=\"-200.8\" font-family=\"Helvetica,sans-Serif\" font-size=\"14.00\" fill=\"#000000\">value = 0.976</text>\n</g>\n<!-- 151&#45;&gt;152 -->\n<g id=\"edge152\" class=\"edge\">\n<title>151&#45;&gt;152</title>\n<path fill=\"none\" stroke=\"#000000\" d=\"M11263.3473,-306.6166C11211.5621,-290.9606 11144.214,-270.5996 11090.5891,-254.3874\"/>\n<polygon fill=\"#000000\" stroke=\"#000000\" points=\"11091.3277,-250.9543 11080.7427,-251.4106 11089.3019,-257.6548 11091.3277,-250.9543\"/>\n</g>\n<!-- 159 -->\n<g id=\"node160\" class=\"node\">\n<title>159</title>\n<polygon fill=\"#fae8db\" stroke=\"#000000\" points=\"11420,-261 11268,-261 11268,-193 11420,-193 11420,-261\"/>\n<text text-anchor=\"start\" x=\"11294\" y=\"-245.8\" font-family=\"Helvetica,sans-Serif\" font-size=\"14.00\" fill=\"#000000\">totalm2 ≤ 0.254</text>\n<text text-anchor=\"start\" x=\"11276\" y=\"-230.8\" font-family=\"Helvetica,sans-Serif\" font-size=\"14.00\" fill=\"#000000\">squared_error = 0.24</text>\n<text text-anchor=\"start\" x=\"11300\" y=\"-215.8\" font-family=\"Helvetica,sans-Serif\" font-size=\"14.00\" fill=\"#000000\">samples = 11</text>\n<text text-anchor=\"start\" x=\"11300\" y=\"-200.8\" font-family=\"Helvetica,sans-Serif\" font-size=\"14.00\" fill=\"#000000\">value = 0.486</text>\n</g>\n<!-- 151&#45;&gt;159 -->\n<g id=\"edge159\" class=\"edge\">\n<title>151&#45;&gt;159</title>\n<path fill=\"none\" stroke=\"#000000\" d=\"M11344,-296.9465C11344,-288.776 11344,-279.9318 11344,-271.3697\"/>\n<polygon fill=\"#000000\" stroke=\"#000000\" points=\"11347.5001,-271.13 11344,-261.13 11340.5001,-271.13 11347.5001,-271.13\"/>\n</g>\n<!-- 153 -->\n<g id=\"node154\" class=\"node\">\n<title>153</title>\n<polygon fill=\"#f9e0ce\" stroke=\"#000000\" points=\"10821.5,-157 10660.5,-157 10660.5,-89 10821.5,-89 10821.5,-157\"/>\n<text text-anchor=\"start\" x=\"10700.5\" y=\"-141.8\" font-family=\"Helvetica,sans-Serif\" font-size=\"14.00\" fill=\"#000000\">tradef ≤ 12.0</text>\n<text text-anchor=\"start\" x=\"10668.5\" y=\"-126.8\" font-family=\"Helvetica,sans-Serif\" font-size=\"14.00\" fill=\"#000000\">squared_error = 0.208</text>\n<text text-anchor=\"start\" x=\"10697\" y=\"-111.8\" font-family=\"Helvetica,sans-Serif\" font-size=\"14.00\" fill=\"#000000\">samples = 23</text>\n<text text-anchor=\"start\" x=\"10701\" y=\"-96.8\" font-family=\"Helvetica,sans-Serif\" font-size=\"14.00\" fill=\"#000000\">value = 1.09</text>\n</g>\n<!-- 152&#45;&gt;153 -->\n<g id=\"edge153\" class=\"edge\">\n<title>152&#45;&gt;153</title>\n<path fill=\"none\" stroke=\"#000000\" d=\"M10919.4705,-194.6638C10891.5869,-183.4673 10860.151,-170.8444 10831.5188,-159.3473\"/>\n<polygon fill=\"#000000\" stroke=\"#000000\" points=\"10832.5094,-155.9735 10821.9254,-155.4951 10829.901,-162.4694 10832.5094,-155.9735\"/>\n</g>\n<!-- 156 -->\n<g id=\"node157\" class=\"node\">\n<title>156</title>\n<polygon fill=\"#fbebdf\" stroke=\"#000000\" points=\"11080.5,-157 10919.5,-157 10919.5,-89 11080.5,-89 11080.5,-157\"/>\n<text text-anchor=\"start\" x=\"10946\" y=\"-141.8\" font-family=\"Helvetica,sans-Serif\" font-size=\"14.00\" fill=\"#000000\">totalbm2 ≤ 0.647</text>\n<text text-anchor=\"start\" x=\"10927.5\" y=\"-126.8\" font-family=\"Helvetica,sans-Serif\" font-size=\"14.00\" fill=\"#000000\">squared_error = 0.167</text>\n<text text-anchor=\"start\" x=\"10960.5\" y=\"-111.8\" font-family=\"Helvetica,sans-Serif\" font-size=\"14.00\" fill=\"#000000\">samples = 4</text>\n<text text-anchor=\"start\" x=\"10956\" y=\"-96.8\" font-family=\"Helvetica,sans-Serif\" font-size=\"14.00\" fill=\"#000000\">value = 0.325</text>\n</g>\n<!-- 152&#45;&gt;156 -->\n<g id=\"edge156\" class=\"edge\">\n<title>152&#45;&gt;156</title>\n<path fill=\"none\" stroke=\"#000000\" d=\"M11000,-192.9465C11000,-184.776 11000,-175.9318 11000,-167.3697\"/>\n<polygon fill=\"#000000\" stroke=\"#000000\" points=\"11003.5001,-167.13 11000,-157.13 10996.5001,-167.13 11003.5001,-167.13\"/>\n</g>\n<!-- 154 -->\n<g id=\"node155\" class=\"node\">\n<title>154</title>\n<polygon fill=\"#f9e1cf\" stroke=\"#000000\" points=\"10651,-53 10499,-53 10499,0 10651,0 10651,-53\"/>\n<text text-anchor=\"start\" x=\"10507\" y=\"-37.8\" font-family=\"Helvetica,sans-Serif\" font-size=\"14.00\" fill=\"#000000\">squared_error = 0.12</text>\n<text text-anchor=\"start\" x=\"10531\" y=\"-22.8\" font-family=\"Helvetica,sans-Serif\" font-size=\"14.00\" fill=\"#000000\">samples = 22</text>\n<text text-anchor=\"start\" x=\"10531\" y=\"-7.8\" font-family=\"Helvetica,sans-Serif\" font-size=\"14.00\" fill=\"#000000\">value = 1.024</text>\n</g>\n<!-- 153&#45;&gt;154 -->\n<g id=\"edge154\" class=\"edge\">\n<title>153&#45;&gt;154</title>\n<path fill=\"none\" stroke=\"#000000\" d=\"M10682.4746,-88.9777C10665.2256,-78.9504 10646.4277,-68.0228 10629.446,-58.1508\"/>\n<polygon fill=\"#000000\" stroke=\"#000000\" points=\"10631.1533,-55.095 10620.749,-53.095 10627.6353,-61.1467 10631.1533,-55.095\"/>\n</g>\n<!-- 155 -->\n<g id=\"node156\" class=\"node\">\n<title>155</title>\n<polygon fill=\"#f4cbad\" stroke=\"#000000\" points=\"10813,-53 10669,-53 10669,0 10813,0 10813,-53\"/>\n<text text-anchor=\"start\" x=\"10677\" y=\"-37.8\" font-family=\"Helvetica,sans-Serif\" font-size=\"14.00\" fill=\"#000000\">squared_error = 0.0</text>\n<text text-anchor=\"start\" x=\"10701.5\" y=\"-22.8\" font-family=\"Helvetica,sans-Serif\" font-size=\"14.00\" fill=\"#000000\">samples = 1</text>\n<text text-anchor=\"start\" x=\"10697\" y=\"-7.8\" font-family=\"Helvetica,sans-Serif\" font-size=\"14.00\" fill=\"#000000\">value = 2.524</text>\n</g>\n<!-- 153&#45;&gt;155 -->\n<g id=\"edge155\" class=\"edge\">\n<title>153&#45;&gt;155</title>\n<path fill=\"none\" stroke=\"#000000\" d=\"M10741,-88.9777C10741,-80.7364 10741,-71.887 10741,-63.5153\"/>\n<polygon fill=\"#000000\" stroke=\"#000000\" points=\"10744.5001,-63.2484 10741,-53.2485 10737.5001,-63.2485 10744.5001,-63.2484\"/>\n</g>\n<!-- 157 -->\n<g id=\"node158\" class=\"node\">\n<title>157</title>\n<polygon fill=\"#fae7da\" stroke=\"#000000\" points=\"10992.5,-53 10831.5,-53 10831.5,0 10992.5,0 10992.5,-53\"/>\n<text text-anchor=\"start\" x=\"10839.5\" y=\"-37.8\" font-family=\"Helvetica,sans-Serif\" font-size=\"14.00\" fill=\"#000000\">squared_error = 0.035</text>\n<text text-anchor=\"start\" x=\"10872.5\" y=\"-22.8\" font-family=\"Helvetica,sans-Serif\" font-size=\"14.00\" fill=\"#000000\">samples = 3</text>\n<text text-anchor=\"start\" x=\"10868\" y=\"-7.8\" font-family=\"Helvetica,sans-Serif\" font-size=\"14.00\" fill=\"#000000\">value = 0.542</text>\n</g>\n<!-- 156&#45;&gt;157 -->\n<g id=\"edge157\" class=\"edge\">\n<title>156&#45;&gt;157</title>\n<path fill=\"none\" stroke=\"#000000\" d=\"M10968.9745,-88.9777C10960.6241,-79.8207 10951.589,-69.9129 10943.2276,-60.744\"/>\n<polygon fill=\"#000000\" stroke=\"#000000\" points=\"10945.7167,-58.2791 10936.3924,-53.2485 10940.5444,-62.9959 10945.7167,-58.2791\"/>\n</g>\n<!-- 158 -->\n<g id=\"node159\" class=\"node\">\n<title>158</title>\n<polygon fill=\"#fdf4ee\" stroke=\"#000000\" points=\"11159.5,-53 11010.5,-53 11010.5,0 11159.5,0 11159.5,-53\"/>\n<text text-anchor=\"start\" x=\"11018.5\" y=\"-37.8\" font-family=\"Helvetica,sans-Serif\" font-size=\"14.00\" fill=\"#000000\">squared_error = &#45;0.0</text>\n<text text-anchor=\"start\" x=\"11045.5\" y=\"-22.8\" font-family=\"Helvetica,sans-Serif\" font-size=\"14.00\" fill=\"#000000\">samples = 1</text>\n<text text-anchor=\"start\" x=\"11038.5\" y=\"-7.8\" font-family=\"Helvetica,sans-Serif\" font-size=\"14.00\" fill=\"#000000\">value = &#45;0.326</text>\n</g>\n<!-- 156&#45;&gt;158 -->\n<g id=\"edge158\" class=\"edge\">\n<title>156&#45;&gt;158</title>\n<path fill=\"none\" stroke=\"#000000\" d=\"M11029.9678,-88.9777C11037.9529,-79.9123 11046.5862,-70.111 11054.5944,-61.0192\"/>\n<polygon fill=\"#000000\" stroke=\"#000000\" points=\"11057.4558,-63.066 11061.4392,-53.2485 11052.2029,-58.4391 11057.4558,-63.066\"/>\n</g>\n<!-- 160 -->\n<g id=\"node161\" class=\"node\">\n<title>160</title>\n<polygon fill=\"#f9e4d4\" stroke=\"#000000\" points=\"11338.5,-157 11177.5,-157 11177.5,-89 11338.5,-89 11338.5,-157\"/>\n<text text-anchor=\"start\" x=\"11221.5\" y=\"-141.8\" font-family=\"Helvetica,sans-Serif\" font-size=\"14.00\" fill=\"#000000\">tradef ≤ 8.0</text>\n<text text-anchor=\"start\" x=\"11185.5\" y=\"-126.8\" font-family=\"Helvetica,sans-Serif\" font-size=\"14.00\" fill=\"#000000\">squared_error = 0.072</text>\n<text text-anchor=\"start\" x=\"11218.5\" y=\"-111.8\" font-family=\"Helvetica,sans-Serif\" font-size=\"14.00\" fill=\"#000000\">samples = 7</text>\n<text text-anchor=\"start\" x=\"11222\" y=\"-96.8\" font-family=\"Helvetica,sans-Serif\" font-size=\"14.00\" fill=\"#000000\">value = 0.8</text>\n</g>\n<!-- 159&#45;&gt;160 -->\n<g id=\"edge160\" class=\"edge\">\n<title>159&#45;&gt;160</title>\n<path fill=\"none\" stroke=\"#000000\" d=\"M11315.8404,-192.9465C11308.4158,-183.968 11300.3185,-174.1758 11292.5972,-164.8385\"/>\n<polygon fill=\"#000000\" stroke=\"#000000\" points=\"11295.2928,-162.606 11286.2229,-157.13 11289.8983,-167.0669 11295.2928,-162.606\"/>\n</g>\n<!-- 163 -->\n<g id=\"node164\" class=\"node\">\n<title>163</title>\n<polygon fill=\"#fcf0e8\" stroke=\"#000000\" points=\"11517.5,-157 11356.5,-157 11356.5,-89 11517.5,-89 11517.5,-157\"/>\n<text text-anchor=\"start\" x=\"11387\" y=\"-141.8\" font-family=\"Helvetica,sans-Serif\" font-size=\"14.00\" fill=\"#000000\">totalm2 ≤ 0.735</text>\n<text text-anchor=\"start\" x=\"11364.5\" y=\"-126.8\" font-family=\"Helvetica,sans-Serif\" font-size=\"14.00\" fill=\"#000000\">squared_error = 0.059</text>\n<text text-anchor=\"start\" x=\"11397.5\" y=\"-111.8\" font-family=\"Helvetica,sans-Serif\" font-size=\"14.00\" fill=\"#000000\">samples = 4</text>\n<text text-anchor=\"start\" x=\"11390.5\" y=\"-96.8\" font-family=\"Helvetica,sans-Serif\" font-size=\"14.00\" fill=\"#000000\">value = &#45;0.065</text>\n</g>\n<!-- 159&#45;&gt;163 -->\n<g id=\"edge163\" class=\"edge\">\n<title>159&#45;&gt;163</title>\n<path fill=\"none\" stroke=\"#000000\" d=\"M11374.4517,-192.9465C11382.4806,-183.968 11391.237,-174.1758 11399.5867,-164.8385\"/>\n<polygon fill=\"#000000\" stroke=\"#000000\" points=\"11402.423,-166.9174 11406.4799,-157.13 11397.205,-162.2512 11402.423,-166.9174\"/>\n</g>\n<!-- 161 -->\n<g id=\"node162\" class=\"node\">\n<title>161</title>\n<polygon fill=\"#fae8da\" stroke=\"#000000\" points=\"11338.5,-53 11177.5,-53 11177.5,0 11338.5,0 11338.5,-53\"/>\n<text text-anchor=\"start\" x=\"11185.5\" y=\"-37.8\" font-family=\"Helvetica,sans-Serif\" font-size=\"14.00\" fill=\"#000000\">squared_error = 0.033</text>\n<text text-anchor=\"start\" x=\"11218.5\" y=\"-22.8\" font-family=\"Helvetica,sans-Serif\" font-size=\"14.00\" fill=\"#000000\">samples = 3</text>\n<text text-anchor=\"start\" x=\"11214\" y=\"-7.8\" font-family=\"Helvetica,sans-Serif\" font-size=\"14.00\" fill=\"#000000\">value = 0.533</text>\n</g>\n<!-- 160&#45;&gt;161 -->\n<g id=\"edge161\" class=\"edge\">\n<title>160&#45;&gt;161</title>\n<path fill=\"none\" stroke=\"#000000\" d=\"M11258,-88.9777C11258,-80.7364 11258,-71.887 11258,-63.5153\"/>\n<polygon fill=\"#000000\" stroke=\"#000000\" points=\"11261.5001,-63.2484 11258,-53.2485 11254.5001,-63.2485 11261.5001,-63.2484\"/>\n</g>\n<!-- 162 -->\n<g id=\"node163\" class=\"node\">\n<title>162</title>\n<polygon fill=\"#f9e1d0\" stroke=\"#000000\" points=\"11517.5,-53 11356.5,-53 11356.5,0 11517.5,0 11517.5,-53\"/>\n<text text-anchor=\"start\" x=\"11364.5\" y=\"-37.8\" font-family=\"Helvetica,sans-Serif\" font-size=\"14.00\" fill=\"#000000\">squared_error = 0.007</text>\n<text text-anchor=\"start\" x=\"11397.5\" y=\"-22.8\" font-family=\"Helvetica,sans-Serif\" font-size=\"14.00\" fill=\"#000000\">samples = 4</text>\n<text text-anchor=\"start\" x=\"11393\" y=\"-7.8\" font-family=\"Helvetica,sans-Serif\" font-size=\"14.00\" fill=\"#000000\">value = 1.001</text>\n</g>\n<!-- 160&#45;&gt;162 -->\n<g id=\"edge162\" class=\"edge\">\n<title>160&#45;&gt;162</title>\n<path fill=\"none\" stroke=\"#000000\" d=\"M11321.1087,-88.9777C11339.8792,-78.8584 11360.3506,-67.8222 11378.7937,-57.8794\"/>\n<polygon fill=\"#000000\" stroke=\"#000000\" points=\"11380.5268,-60.9213 11387.6683,-53.095 11377.205,-54.7597 11380.5268,-60.9213\"/>\n</g>\n<!-- 164 -->\n<g id=\"node165\" class=\"node\">\n<title>164</title>\n<polygon fill=\"#fdf3ed\" stroke=\"#000000\" points=\"11680,-53 11536,-53 11536,0 11680,0 11680,-53\"/>\n<text text-anchor=\"start\" x=\"11544\" y=\"-37.8\" font-family=\"Helvetica,sans-Serif\" font-size=\"14.00\" fill=\"#000000\">squared_error = 0.0</text>\n<text text-anchor=\"start\" x=\"11568.5\" y=\"-22.8\" font-family=\"Helvetica,sans-Serif\" font-size=\"14.00\" fill=\"#000000\">samples = 2</text>\n<text text-anchor=\"start\" x=\"11561.5\" y=\"-7.8\" font-family=\"Helvetica,sans-Serif\" font-size=\"14.00\" fill=\"#000000\">value = &#45;0.293</text>\n</g>\n<!-- 163&#45;&gt;164 -->\n<g id=\"edge164\" class=\"edge\">\n<title>163&#45;&gt;164</title>\n<path fill=\"none\" stroke=\"#000000\" d=\"M11497.2882,-88.9777C11515.0568,-78.9504 11534.4208,-68.0228 11551.9141,-58.1508\"/>\n<polygon fill=\"#000000\" stroke=\"#000000\" points=\"11553.8843,-61.0579 11560.8731,-53.095 11550.4439,-54.9616 11553.8843,-61.0579\"/>\n</g>\n<!-- 165 -->\n<g id=\"node166\" class=\"node\">\n<title>165</title>\n<polygon fill=\"#fbede3\" stroke=\"#000000\" points=\"11859.5,-53 11698.5,-53 11698.5,0 11859.5,0 11859.5,-53\"/>\n<text text-anchor=\"start\" x=\"11706.5\" y=\"-37.8\" font-family=\"Helvetica,sans-Serif\" font-size=\"14.00\" fill=\"#000000\">squared_error = 0.015</text>\n<text text-anchor=\"start\" x=\"11739.5\" y=\"-22.8\" font-family=\"Helvetica,sans-Serif\" font-size=\"14.00\" fill=\"#000000\">samples = 2</text>\n<text text-anchor=\"start\" x=\"11735\" y=\"-7.8\" font-family=\"Helvetica,sans-Serif\" font-size=\"14.00\" fill=\"#000000\">value = 0.163</text>\n</g>\n<!-- 163&#45;&gt;165 -->\n<g id=\"edge165\" class=\"edge\">\n<title>163&#45;&gt;165</title>\n<path fill=\"none\" stroke=\"#000000\" d=\"M11517.7671,-91.8669C11520.8735,-90.8672 11523.9589,-89.9073 11527,-89 11594.641,-68.8198 11615.7783,-71.1705 11688.064,-53.15\"/>\n<polygon fill=\"#000000\" stroke=\"#000000\" points=\"11689.2883,-56.4503 11698.1186,-50.5957 11687.5647,-49.6658 11689.2883,-56.4503\"/>\n</g>\n<!-- 167 -->\n<g id=\"node168\" class=\"node\">\n<title>167</title>\n<polygon fill=\"#f5d0b6\" stroke=\"#000000\" points=\"11688.5,-261 11527.5,-261 11527.5,-193 11688.5,-193 11688.5,-261\"/>\n<text text-anchor=\"start\" x=\"11562\" y=\"-245.8\" font-family=\"Helvetica,sans-Serif\" font-size=\"14.00\" fill=\"#000000\">balm2 ≤ 0.756</text>\n<text text-anchor=\"start\" x=\"11535.5\" y=\"-230.8\" font-family=\"Helvetica,sans-Serif\" font-size=\"14.00\" fill=\"#000000\">squared_error = 0.088</text>\n<text text-anchor=\"start\" x=\"11568.5\" y=\"-215.8\" font-family=\"Helvetica,sans-Serif\" font-size=\"14.00\" fill=\"#000000\">samples = 2</text>\n<text text-anchor=\"start\" x=\"11564\" y=\"-200.8\" font-family=\"Helvetica,sans-Serif\" font-size=\"14.00\" fill=\"#000000\">value = 2.162</text>\n</g>\n<!-- 166&#45;&gt;167 -->\n<g id=\"edge167\" class=\"edge\">\n<title>166&#45;&gt;167</title>\n<path fill=\"none\" stroke=\"#000000\" d=\"M11608,-296.9465C11608,-288.776 11608,-279.9318 11608,-271.3697\"/>\n<polygon fill=\"#000000\" stroke=\"#000000\" points=\"11611.5001,-271.13 11608,-261.13 11604.5001,-271.13 11611.5001,-271.13\"/>\n</g>\n<!-- 170 -->\n<g id=\"node171\" class=\"node\">\n<title>170</title>\n<polygon fill=\"#f8ddc9\" stroke=\"#000000\" points=\"11867.5,-261 11706.5,-261 11706.5,-193 11867.5,-193 11867.5,-261\"/>\n<text text-anchor=\"start\" x=\"11762\" y=\"-245.8\" font-family=\"Helvetica,sans-Serif\" font-size=\"14.00\" fill=\"#000000\">住 ≤ 0.5</text>\n<text text-anchor=\"start\" x=\"11714.5\" y=\"-230.8\" font-family=\"Helvetica,sans-Serif\" font-size=\"14.00\" fill=\"#000000\">squared_error = 0.055</text>\n<text text-anchor=\"start\" x=\"11747.5\" y=\"-215.8\" font-family=\"Helvetica,sans-Serif\" font-size=\"14.00\" fill=\"#000000\">samples = 2</text>\n<text text-anchor=\"start\" x=\"11743\" y=\"-200.8\" font-family=\"Helvetica,sans-Serif\" font-size=\"14.00\" fill=\"#000000\">value = 1.279</text>\n</g>\n<!-- 166&#45;&gt;170 -->\n<g id=\"edge170\" class=\"edge\">\n<title>166&#45;&gt;170</title>\n<path fill=\"none\" stroke=\"#000000\" d=\"M11666.6113,-296.9465C11683.4555,-287.1599 11701.9636,-276.4066 11719.308,-266.3294\"/>\n<polygon fill=\"#000000\" stroke=\"#000000\" points=\"11721.3688,-269.18 11728.257,-261.13 11717.8522,-263.1274 11721.3688,-269.18\"/>\n</g>\n<!-- 168 -->\n<g id=\"node169\" class=\"node\">\n<title>168</title>\n<polygon fill=\"#f4ccaf\" stroke=\"#000000\" points=\"11680,-149.5 11536,-149.5 11536,-96.5 11680,-96.5 11680,-149.5\"/>\n<text text-anchor=\"start\" x=\"11544\" y=\"-134.3\" font-family=\"Helvetica,sans-Serif\" font-size=\"14.00\" fill=\"#000000\">squared_error = 0.0</text>\n<text text-anchor=\"start\" x=\"11568.5\" y=\"-119.3\" font-family=\"Helvetica,sans-Serif\" font-size=\"14.00\" fill=\"#000000\">samples = 1</text>\n<text text-anchor=\"start\" x=\"11564\" y=\"-104.3\" font-family=\"Helvetica,sans-Serif\" font-size=\"14.00\" fill=\"#000000\">value = 2.458</text>\n</g>\n<!-- 167&#45;&gt;168 -->\n<g id=\"edge168\" class=\"edge\">\n<title>167&#45;&gt;168</title>\n<path fill=\"none\" stroke=\"#000000\" d=\"M11608,-192.9465C11608,-182.2621 11608,-170.4254 11608,-159.5742\"/>\n<polygon fill=\"#000000\" stroke=\"#000000\" points=\"11611.5001,-159.5421 11608,-149.5422 11604.5001,-159.5422 11611.5001,-159.5421\"/>\n</g>\n<!-- 169 -->\n<g id=\"node170\" class=\"node\">\n<title>169</title>\n<polygon fill=\"#f6d4bc\" stroke=\"#000000\" points=\"11842,-149.5 11698,-149.5 11698,-96.5 11842,-96.5 11842,-149.5\"/>\n<text text-anchor=\"start\" x=\"11706\" y=\"-134.3\" font-family=\"Helvetica,sans-Serif\" font-size=\"14.00\" fill=\"#000000\">squared_error = 0.0</text>\n<text text-anchor=\"start\" x=\"11730.5\" y=\"-119.3\" font-family=\"Helvetica,sans-Serif\" font-size=\"14.00\" fill=\"#000000\">samples = 1</text>\n<text text-anchor=\"start\" x=\"11726\" y=\"-104.3\" font-family=\"Helvetica,sans-Serif\" font-size=\"14.00\" fill=\"#000000\">value = 1.865</text>\n</g>\n<!-- 167&#45;&gt;169 -->\n<g id=\"edge169\" class=\"edge\">\n<title>167&#45;&gt;169</title>\n<path fill=\"none\" stroke=\"#000000\" d=\"M11661.0449,-192.9465C11680.0043,-180.775 11701.2927,-167.1084 11719.9879,-155.1066\"/>\n<polygon fill=\"#000000\" stroke=\"#000000\" points=\"11722.1311,-157.8898 11728.6555,-149.5422 11718.3495,-151.9992 11722.1311,-157.8898\"/>\n</g>\n<!-- 171 -->\n<g id=\"node172\" class=\"node\">\n<title>171</title>\n<polygon fill=\"#f9e0cf\" stroke=\"#000000\" points=\"12004,-149.5 11860,-149.5 11860,-96.5 12004,-96.5 12004,-149.5\"/>\n<text text-anchor=\"start\" x=\"11868\" y=\"-134.3\" font-family=\"Helvetica,sans-Serif\" font-size=\"14.00\" fill=\"#000000\">squared_error = 0.0</text>\n<text text-anchor=\"start\" x=\"11892.5\" y=\"-119.3\" font-family=\"Helvetica,sans-Serif\" font-size=\"14.00\" fill=\"#000000\">samples = 1</text>\n<text text-anchor=\"start\" x=\"11888\" y=\"-104.3\" font-family=\"Helvetica,sans-Serif\" font-size=\"14.00\" fill=\"#000000\">value = 1.044</text>\n</g>\n<!-- 170&#45;&gt;171 -->\n<g id=\"edge171\" class=\"edge\">\n<title>170&#45;&gt;171</title>\n<path fill=\"none\" stroke=\"#000000\" d=\"M11834.4784,-192.9465C11851.2179,-180.9403 11869.9858,-167.4791 11886.5533,-155.5962\"/>\n<polygon fill=\"#000000\" stroke=\"#000000\" points=\"11888.908,-158.2146 11894.9941,-149.5422 11884.8282,-152.5264 11888.908,-158.2146\"/>\n</g>\n<!-- 172 -->\n<g id=\"node173\" class=\"node\">\n<title>172</title>\n<polygon fill=\"#f7dac4\" stroke=\"#000000\" points=\"12166,-149.5 12022,-149.5 12022,-96.5 12166,-96.5 12166,-149.5\"/>\n<text text-anchor=\"start\" x=\"12030\" y=\"-134.3\" font-family=\"Helvetica,sans-Serif\" font-size=\"14.00\" fill=\"#000000\">squared_error = 0.0</text>\n<text text-anchor=\"start\" x=\"12054.5\" y=\"-119.3\" font-family=\"Helvetica,sans-Serif\" font-size=\"14.00\" fill=\"#000000\">samples = 1</text>\n<text text-anchor=\"start\" x=\"12050\" y=\"-104.3\" font-family=\"Helvetica,sans-Serif\" font-size=\"14.00\" fill=\"#000000\">value = 1.514</text>\n</g>\n<!-- 170&#45;&gt;172 -->\n<g id=\"edge172\" class=\"edge\">\n<title>170&#45;&gt;172</title>\n<path fill=\"none\" stroke=\"#000000\" d=\"M11867.8154,-196.0232C11870.9083,-194.9797 11873.9777,-193.9681 11877,-193 11936.5461,-173.9266 11953.809,-177.1484 12013,-157 12016.5282,-155.799 12020.1209,-154.5175 12023.7336,-153.1818\"/>\n<polygon fill=\"#000000\" stroke=\"#000000\" points=\"12025.2111,-156.3645 12033.313,-149.5375 12022.722,-149.8219 12025.2111,-156.3645\"/>\n</g>\n<!-- 174 -->\n<g id=\"node175\" class=\"node\">\n<title>174</title>\n<polygon fill=\"#f4cbad\" stroke=\"#000000\" points=\"11855,-357.5 11711,-357.5 11711,-304.5 11855,-304.5 11855,-357.5\"/>\n<text text-anchor=\"start\" x=\"11719\" y=\"-342.3\" font-family=\"Helvetica,sans-Serif\" font-size=\"14.00\" fill=\"#000000\">squared_error = 0.0</text>\n<text text-anchor=\"start\" x=\"11743.5\" y=\"-327.3\" font-family=\"Helvetica,sans-Serif\" font-size=\"14.00\" fill=\"#000000\">samples = 1</text>\n<text text-anchor=\"start\" x=\"11739\" y=\"-312.3\" font-family=\"Helvetica,sans-Serif\" font-size=\"14.00\" fill=\"#000000\">value = 2.524</text>\n</g>\n<!-- 173&#45;&gt;174 -->\n<g id=\"edge174\" class=\"edge\">\n<title>173&#45;&gt;174</title>\n<path fill=\"none\" stroke=\"#000000\" d=\"M11783,-400.9465C11783,-390.2621 11783,-378.4254 11783,-367.5742\"/>\n<polygon fill=\"#000000\" stroke=\"#000000\" points=\"11786.5001,-367.5421 11783,-357.5422 11779.5001,-367.5422 11786.5001,-367.5421\"/>\n</g>\n<!-- 175 -->\n<g id=\"node176\" class=\"node\">\n<title>175</title>\n<polygon fill=\"#f7d6bf\" stroke=\"#000000\" points=\"12038.5,-365 11877.5,-365 11877.5,-297 12038.5,-297 12038.5,-365\"/>\n<text text-anchor=\"start\" x=\"11908\" y=\"-349.8\" font-family=\"Helvetica,sans-Serif\" font-size=\"14.00\" fill=\"#000000\">totalm2 ≤ 0.314</text>\n<text text-anchor=\"start\" x=\"11885.5\" y=\"-334.8\" font-family=\"Helvetica,sans-Serif\" font-size=\"14.00\" fill=\"#000000\">squared_error = 0.002</text>\n<text text-anchor=\"start\" x=\"11918.5\" y=\"-319.8\" font-family=\"Helvetica,sans-Serif\" font-size=\"14.00\" fill=\"#000000\">samples = 2</text>\n<text text-anchor=\"start\" x=\"11914\" y=\"-304.8\" font-family=\"Helvetica,sans-Serif\" font-size=\"14.00\" fill=\"#000000\">value = 1.764</text>\n</g>\n<!-- 173&#45;&gt;175 -->\n<g id=\"edge175\" class=\"edge\">\n<title>173&#45;&gt;175</title>\n<path fill=\"none\" stroke=\"#000000\" d=\"M11840.3015,-400.9465C11856.7694,-391.1599 11874.8638,-380.4066 11891.8207,-370.3294\"/>\n<polygon fill=\"#000000\" stroke=\"#000000\" points=\"11893.7613,-373.2476 11900.5697,-365.13 11890.1851,-367.23 11893.7613,-373.2476\"/>\n</g>\n<!-- 176 -->\n<g id=\"node177\" class=\"node\">\n<title>176</title>\n<polygon fill=\"#f7d7bf\" stroke=\"#000000\" points=\"12030,-253.5 11886,-253.5 11886,-200.5 12030,-200.5 12030,-253.5\"/>\n<text text-anchor=\"start\" x=\"11894\" y=\"-238.3\" font-family=\"Helvetica,sans-Serif\" font-size=\"14.00\" fill=\"#000000\">squared_error = 0.0</text>\n<text text-anchor=\"start\" x=\"11918.5\" y=\"-223.3\" font-family=\"Helvetica,sans-Serif\" font-size=\"14.00\" fill=\"#000000\">samples = 1</text>\n<text text-anchor=\"start\" x=\"11914\" y=\"-208.3\" font-family=\"Helvetica,sans-Serif\" font-size=\"14.00\" fill=\"#000000\">value = 1.719</text>\n</g>\n<!-- 175&#45;&gt;176 -->\n<g id=\"edge176\" class=\"edge\">\n<title>175&#45;&gt;176</title>\n<path fill=\"none\" stroke=\"#000000\" d=\"M11958,-296.9465C11958,-286.2621 11958,-274.4254 11958,-263.5742\"/>\n<polygon fill=\"#000000\" stroke=\"#000000\" points=\"11961.5001,-263.5421 11958,-253.5422 11954.5001,-263.5422 11961.5001,-263.5421\"/>\n</g>\n<!-- 177 -->\n<g id=\"node178\" class=\"node\">\n<title>177</title>\n<polygon fill=\"#f6d5be\" stroke=\"#000000\" points=\"12197.5,-253.5 12048.5,-253.5 12048.5,-200.5 12197.5,-200.5 12197.5,-253.5\"/>\n<text text-anchor=\"start\" x=\"12056.5\" y=\"-238.3\" font-family=\"Helvetica,sans-Serif\" font-size=\"14.00\" fill=\"#000000\">squared_error = &#45;0.0</text>\n<text text-anchor=\"start\" x=\"12083.5\" y=\"-223.3\" font-family=\"Helvetica,sans-Serif\" font-size=\"14.00\" fill=\"#000000\">samples = 1</text>\n<text text-anchor=\"start\" x=\"12079\" y=\"-208.3\" font-family=\"Helvetica,sans-Serif\" font-size=\"14.00\" fill=\"#000000\">value = 1.808</text>\n</g>\n<!-- 175&#45;&gt;177 -->\n<g id=\"edge177\" class=\"edge\">\n<title>175&#45;&gt;177</title>\n<path fill=\"none\" stroke=\"#000000\" d=\"M12012.0272,-296.9465C12031.4251,-284.72 12053.2166,-270.9847 12072.32,-258.9437\"/>\n<polygon fill=\"#000000\" stroke=\"#000000\" points=\"12074.2964,-261.8353 12080.8898,-253.5422 12070.5638,-255.9135 12074.2964,-261.8353\"/>\n</g>\n<!-- 179 -->\n<g id=\"node180\" class=\"node\">\n<title>179</title>\n<polygon fill=\"#f3c6a6\" stroke=\"#000000\" points=\"12584.5,-677 12423.5,-677 12423.5,-609 12584.5,-609 12584.5,-677\"/>\n<text text-anchor=\"start\" x=\"12473.5\" y=\"-661.8\" font-family=\"Helvetica,sans-Serif\" font-size=\"14.00\" fill=\"#000000\">age ≤ 4.5</text>\n<text text-anchor=\"start\" x=\"12431.5\" y=\"-646.8\" font-family=\"Helvetica,sans-Serif\" font-size=\"14.00\" fill=\"#000000\">squared_error = 4.001</text>\n<text text-anchor=\"start\" x=\"12460\" y=\"-631.8\" font-family=\"Helvetica,sans-Serif\" font-size=\"14.00\" fill=\"#000000\">samples = 12</text>\n<text text-anchor=\"start\" x=\"12460\" y=\"-616.8\" font-family=\"Helvetica,sans-Serif\" font-size=\"14.00\" fill=\"#000000\">value = 2.852</text>\n</g>\n<!-- 178&#45;&gt;179 -->\n<g id=\"edge179\" class=\"edge\">\n<title>178&#45;&gt;179</title>\n<path fill=\"none\" stroke=\"#000000\" d=\"M12504,-712.9465C12504,-704.776 12504,-695.9318 12504,-687.3697\"/>\n<polygon fill=\"#000000\" stroke=\"#000000\" points=\"12507.5001,-687.13 12504,-677.13 12500.5001,-687.13 12507.5001,-687.13\"/>\n</g>\n<!-- 200 -->\n<g id=\"node201\" class=\"node\">\n<title>200</title>\n<polygon fill=\"#e58139\" stroke=\"#000000\" points=\"12834,-677 12690,-677 12690,-609 12834,-609 12834,-677\"/>\n<text text-anchor=\"start\" x=\"12733\" y=\"-661.8\" font-family=\"Helvetica,sans-Serif\" font-size=\"14.00\" fill=\"#000000\">hall ≤ 1.0</text>\n<text text-anchor=\"start\" x=\"12698\" y=\"-646.8\" font-family=\"Helvetica,sans-Serif\" font-size=\"14.00\" fill=\"#000000\">squared_error = 0.0</text>\n<text text-anchor=\"start\" x=\"12722.5\" y=\"-631.8\" font-family=\"Helvetica,sans-Serif\" font-size=\"14.00\" fill=\"#000000\">samples = 2</text>\n<text text-anchor=\"start\" x=\"12718\" y=\"-616.8\" font-family=\"Helvetica,sans-Serif\" font-size=\"14.00\" fill=\"#000000\">value = 7.684</text>\n</g>\n<!-- 178&#45;&gt;200 -->\n<g id=\"edge200\" class=\"edge\">\n<title>178&#45;&gt;200</title>\n<path fill=\"none\" stroke=\"#000000\" d=\"M12584.5716,-714.5215C12615.1214,-702.2069 12649.9104,-688.1834 12680.5414,-675.836\"/>\n<polygon fill=\"#000000\" stroke=\"#000000\" points=\"12681.9386,-679.0465 12689.9048,-672.0616 12679.3215,-672.5542 12681.9386,-679.0465\"/>\n</g>\n<!-- 180 -->\n<g id=\"node181\" class=\"node\">\n<title>180</title>\n<polygon fill=\"#ea975c\" stroke=\"#000000\" points=\"12492,-573 12340,-573 12340,-505 12492,-505 12492,-573\"/>\n<text text-anchor=\"start\" x=\"12370\" y=\"-557.8\" font-family=\"Helvetica,sans-Serif\" font-size=\"14.00\" fill=\"#000000\">balm2 ≤ 1.495</text>\n<text text-anchor=\"start\" x=\"12348\" y=\"-542.8\" font-family=\"Helvetica,sans-Serif\" font-size=\"14.00\" fill=\"#000000\">squared_error = 1.71</text>\n<text text-anchor=\"start\" x=\"12376.5\" y=\"-527.8\" font-family=\"Helvetica,sans-Serif\" font-size=\"14.00\" fill=\"#000000\">samples = 2</text>\n<text text-anchor=\"start\" x=\"12372\" y=\"-512.8\" font-family=\"Helvetica,sans-Serif\" font-size=\"14.00\" fill=\"#000000\">value = 6.133</text>\n</g>\n<!-- 179&#45;&gt;180 -->\n<g id=\"edge180\" class=\"edge\">\n<title>179&#45;&gt;180</title>\n<path fill=\"none\" stroke=\"#000000\" d=\"M12475.1855,-608.9465C12467.5883,-599.968 12459.3026,-590.1758 12451.4018,-580.8385\"/>\n<polygon fill=\"#000000\" stroke=\"#000000\" points=\"12454.0105,-578.5031 12444.8792,-573.13 12448.6668,-583.0247 12454.0105,-578.5031\"/>\n</g>\n<!-- 183 -->\n<g id=\"node184\" class=\"node\">\n<title>183</title>\n<polygon fill=\"#f5d0b5\" stroke=\"#000000\" points=\"12671.5,-573 12510.5,-573 12510.5,-505 12671.5,-505 12671.5,-573\"/>\n<text text-anchor=\"start\" x=\"12537\" y=\"-557.8\" font-family=\"Helvetica,sans-Serif\" font-size=\"14.00\" fill=\"#000000\">totalbm2 ≤ 2.215</text>\n<text text-anchor=\"start\" x=\"12518.5\" y=\"-542.8\" font-family=\"Helvetica,sans-Serif\" font-size=\"14.00\" fill=\"#000000\">squared_error = 1.876</text>\n<text text-anchor=\"start\" x=\"12547\" y=\"-527.8\" font-family=\"Helvetica,sans-Serif\" font-size=\"14.00\" fill=\"#000000\">samples = 10</text>\n<text text-anchor=\"start\" x=\"12547\" y=\"-512.8\" font-family=\"Helvetica,sans-Serif\" font-size=\"14.00\" fill=\"#000000\">value = 2.196</text>\n</g>\n<!-- 179&#45;&gt;183 -->\n<g id=\"edge183\" class=\"edge\">\n<title>179&#45;&gt;183</title>\n<path fill=\"none\" stroke=\"#000000\" d=\"M12532.4871,-608.9465C12539.9979,-599.968 12548.1895,-590.1758 12556.0005,-580.8385\"/>\n<polygon fill=\"#000000\" stroke=\"#000000\" points=\"12558.7171,-583.0459 12562.4489,-573.13 12553.348,-578.5544 12558.7171,-583.0459\"/>\n</g>\n<!-- 181 -->\n<g id=\"node182\" class=\"node\">\n<title>181</title>\n<polygon fill=\"#edaa79\" stroke=\"#000000\" points=\"12331,-461.5 12187,-461.5 12187,-408.5 12331,-408.5 12331,-461.5\"/>\n<text text-anchor=\"start\" x=\"12195\" y=\"-446.3\" font-family=\"Helvetica,sans-Serif\" font-size=\"14.00\" fill=\"#000000\">squared_error = 0.0</text>\n<text text-anchor=\"start\" x=\"12219.5\" y=\"-431.3\" font-family=\"Helvetica,sans-Serif\" font-size=\"14.00\" fill=\"#000000\">samples = 1</text>\n<text text-anchor=\"start\" x=\"12215\" y=\"-416.3\" font-family=\"Helvetica,sans-Serif\" font-size=\"14.00\" fill=\"#000000\">value = 4.825</text>\n</g>\n<!-- 180&#45;&gt;181 -->\n<g id=\"edge181\" class=\"edge\">\n<title>180&#45;&gt;181</title>\n<path fill=\"none\" stroke=\"#000000\" d=\"M12364.5923,-504.9465C12346.3012,-492.8301 12325.7734,-479.232 12307.7147,-467.2696\"/>\n<polygon fill=\"#000000\" stroke=\"#000000\" points=\"12309.3382,-464.1468 12299.0685,-461.5422 12305.4724,-469.9826 12309.3382,-464.1468\"/>\n</g>\n<!-- 182 -->\n<g id=\"node183\" class=\"node\">\n<title>182</title>\n<polygon fill=\"#e6843e\" stroke=\"#000000\" points=\"12493,-461.5 12349,-461.5 12349,-408.5 12493,-408.5 12493,-461.5\"/>\n<text text-anchor=\"start\" x=\"12357\" y=\"-446.3\" font-family=\"Helvetica,sans-Serif\" font-size=\"14.00\" fill=\"#000000\">squared_error = 0.0</text>\n<text text-anchor=\"start\" x=\"12381.5\" y=\"-431.3\" font-family=\"Helvetica,sans-Serif\" font-size=\"14.00\" fill=\"#000000\">samples = 1</text>\n<text text-anchor=\"start\" x=\"12381\" y=\"-416.3\" font-family=\"Helvetica,sans-Serif\" font-size=\"14.00\" fill=\"#000000\">value = 7.44</text>\n</g>\n<!-- 180&#45;&gt;182 -->\n<g id=\"edge182\" class=\"edge\">\n<title>180&#45;&gt;182</title>\n<path fill=\"none\" stroke=\"#000000\" d=\"M12417.6372,-504.9465C12418.1509,-494.2621 12418.7199,-482.4254 12419.2416,-471.5742\"/>\n<polygon fill=\"#000000\" stroke=\"#000000\" points=\"12422.7396,-471.6987 12419.7239,-461.5422 12415.7477,-471.3625 12422.7396,-471.6987\"/>\n</g>\n<!-- 184 -->\n<g id=\"node185\" class=\"node\">\n<title>184</title>\n<polygon fill=\"#f7d7c1\" stroke=\"#000000\" points=\"12667,-469 12515,-469 12515,-401 12667,-401 12667,-469\"/>\n<text text-anchor=\"start\" x=\"12537\" y=\"-453.8\" font-family=\"Helvetica,sans-Serif\" font-size=\"14.00\" fill=\"#000000\">totalbm2 ≤ 1.305</text>\n<text text-anchor=\"start\" x=\"12523\" y=\"-438.8\" font-family=\"Helvetica,sans-Serif\" font-size=\"14.00\" fill=\"#000000\">squared_error = 0.85</text>\n<text text-anchor=\"start\" x=\"12551.5\" y=\"-423.8\" font-family=\"Helvetica,sans-Serif\" font-size=\"14.00\" fill=\"#000000\">samples = 8</text>\n<text text-anchor=\"start\" x=\"12547\" y=\"-408.8\" font-family=\"Helvetica,sans-Serif\" font-size=\"14.00\" fill=\"#000000\">value = 1.668</text>\n</g>\n<!-- 183&#45;&gt;184 -->\n<g id=\"edge184\" class=\"edge\">\n<title>183&#45;&gt;184</title>\n<path fill=\"none\" stroke=\"#000000\" d=\"M12591,-504.9465C12591,-496.776 12591,-487.9318 12591,-479.3697\"/>\n<polygon fill=\"#000000\" stroke=\"#000000\" points=\"12594.5001,-479.13 12591,-469.13 12587.5001,-479.13 12594.5001,-479.13\"/>\n</g>\n<!-- 197 -->\n<g id=\"node198\" class=\"node\">\n<title>197</title>\n<polygon fill=\"#efb185\" stroke=\"#000000\" points=\"12933.5,-469 12772.5,-469 12772.5,-401 12933.5,-401 12933.5,-469\"/>\n<text text-anchor=\"start\" x=\"12824\" y=\"-453.8\" font-family=\"Helvetica,sans-Serif\" font-size=\"14.00\" fill=\"#000000\">hall ≤ 0.5</text>\n<text text-anchor=\"start\" x=\"12780.5\" y=\"-438.8\" font-family=\"Helvetica,sans-Serif\" font-size=\"14.00\" fill=\"#000000\">squared_error = 0.397</text>\n<text text-anchor=\"start\" x=\"12813.5\" y=\"-423.8\" font-family=\"Helvetica,sans-Serif\" font-size=\"14.00\" fill=\"#000000\">samples = 2</text>\n<text text-anchor=\"start\" x=\"12809\" y=\"-408.8\" font-family=\"Helvetica,sans-Serif\" font-size=\"14.00\" fill=\"#000000\">value = 4.309</text>\n</g>\n<!-- 183&#45;&gt;197 -->\n<g id=\"edge197\" class=\"edge\">\n<title>183&#45;&gt;197</title>\n<path fill=\"none\" stroke=\"#000000\" d=\"M12671.7465,-506.948C12700.5089,-495.5308 12733.081,-482.6014 12762.6007,-470.8837\"/>\n<polygon fill=\"#000000\" stroke=\"#000000\" points=\"12764.0659,-474.0678 12772.0691,-467.1252 12761.4833,-467.5616 12764.0659,-474.0678\"/>\n</g>\n<!-- 185 -->\n<g id=\"node186\" class=\"node\">\n<title>185</title>\n<polygon fill=\"#fae5d7\" stroke=\"#000000\" points=\"12561.5,-365 12400.5,-365 12400.5,-297 12561.5,-297 12561.5,-365\"/>\n<text text-anchor=\"start\" x=\"12431\" y=\"-349.8\" font-family=\"Helvetica,sans-Serif\" font-size=\"14.00\" fill=\"#000000\">totalm2 ≤ 0.145</text>\n<text text-anchor=\"start\" x=\"12408.5\" y=\"-334.8\" font-family=\"Helvetica,sans-Serif\" font-size=\"14.00\" fill=\"#000000\">squared_error = 0.039</text>\n<text text-anchor=\"start\" x=\"12441.5\" y=\"-319.8\" font-family=\"Helvetica,sans-Serif\" font-size=\"14.00\" fill=\"#000000\">samples = 3</text>\n<text text-anchor=\"start\" x=\"12437\" y=\"-304.8\" font-family=\"Helvetica,sans-Serif\" font-size=\"14.00\" fill=\"#000000\">value = 0.691</text>\n</g>\n<!-- 184&#45;&gt;185 -->\n<g id=\"edge185\" class=\"edge\">\n<title>184&#45;&gt;185</title>\n<path fill=\"none\" stroke=\"#000000\" d=\"M12554.9819,-400.9465C12545.2954,-391.7884 12534.7136,-381.7838 12524.6603,-372.2788\"/>\n<polygon fill=\"#000000\" stroke=\"#000000\" points=\"12526.7701,-369.4569 12517.099,-365.13 12521.961,-374.5434 12526.7701,-369.4569\"/>\n</g>\n<!-- 190 -->\n<g id=\"node191\" class=\"node\">\n<title>190</title>\n<polygon fill=\"#f5cfb3\" stroke=\"#000000\" points=\"12762.5,-365 12601.5,-365 12601.5,-297 12762.5,-297 12762.5,-365\"/>\n<text text-anchor=\"start\" x=\"12635.5\" y=\"-349.8\" font-family=\"Helvetica,sans-Serif\" font-size=\"14.00\" fill=\"#000000\">機械車位 ≤ 0.5</text>\n<text text-anchor=\"start\" x=\"12609.5\" y=\"-334.8\" font-family=\"Helvetica,sans-Serif\" font-size=\"14.00\" fill=\"#000000\">squared_error = 0.422</text>\n<text text-anchor=\"start\" x=\"12642.5\" y=\"-319.8\" font-family=\"Helvetica,sans-Serif\" font-size=\"14.00\" fill=\"#000000\">samples = 5</text>\n<text text-anchor=\"start\" x=\"12638\" y=\"-304.8\" font-family=\"Helvetica,sans-Serif\" font-size=\"14.00\" fill=\"#000000\">value = 2.253</text>\n</g>\n<!-- 184&#45;&gt;190 -->\n<g id=\"edge190\" class=\"edge\">\n<title>184&#45;&gt;190</title>\n<path fill=\"none\" stroke=\"#000000\" d=\"M12620.7968,-400.9465C12628.653,-391.968 12637.2212,-382.1758 12645.3913,-372.8385\"/>\n<polygon fill=\"#000000\" stroke=\"#000000\" points=\"12648.1852,-374.9606 12652.1363,-365.13 12642.9171,-370.351 12648.1852,-374.9606\"/>\n</g>\n<!-- 186 -->\n<g id=\"node187\" class=\"node\">\n<title>186</title>\n<polygon fill=\"#f9e1d0\" stroke=\"#000000\" points=\"12360,-253.5 12216,-253.5 12216,-200.5 12360,-200.5 12360,-253.5\"/>\n<text text-anchor=\"start\" x=\"12224\" y=\"-238.3\" font-family=\"Helvetica,sans-Serif\" font-size=\"14.00\" fill=\"#000000\">squared_error = 0.0</text>\n<text text-anchor=\"start\" x=\"12248.5\" y=\"-223.3\" font-family=\"Helvetica,sans-Serif\" font-size=\"14.00\" fill=\"#000000\">samples = 1</text>\n<text text-anchor=\"start\" x=\"12248\" y=\"-208.3\" font-family=\"Helvetica,sans-Serif\" font-size=\"14.00\" fill=\"#000000\">value = 0.97</text>\n</g>\n<!-- 185&#45;&gt;186 -->\n<g id=\"edge186\" class=\"edge\">\n<title>185&#45;&gt;186</title>\n<path fill=\"none\" stroke=\"#000000\" d=\"M12417.8046,-296.9465C12394.7061,-284.4997 12368.7059,-270.4892 12346.0755,-258.2946\"/>\n<polygon fill=\"#000000\" stroke=\"#000000\" points=\"12347.7197,-255.2048 12337.2561,-253.5422 12344.3991,-261.3671 12347.7197,-255.2048\"/>\n</g>\n<!-- 187 -->\n<g id=\"node188\" class=\"node\">\n<title>187</title>\n<polygon fill=\"#fae7da\" stroke=\"#000000\" points=\"12584,-261 12378,-261 12378,-193 12584,-193 12584,-261\"/>\n<text text-anchor=\"start\" x=\"12386\" y=\"-245.8\" font-family=\"Helvetica,sans-Serif\" font-size=\"14.00\" fill=\"#000000\">華廈(10層含以下有電梯) ≤ 0.5</text>\n<text text-anchor=\"start\" x=\"12417\" y=\"-230.8\" font-family=\"Helvetica,sans-Serif\" font-size=\"14.00\" fill=\"#000000\">squared_error = 0.0</text>\n<text text-anchor=\"start\" x=\"12441.5\" y=\"-215.8\" font-family=\"Helvetica,sans-Serif\" font-size=\"14.00\" fill=\"#000000\">samples = 2</text>\n<text text-anchor=\"start\" x=\"12437\" y=\"-200.8\" font-family=\"Helvetica,sans-Serif\" font-size=\"14.00\" fill=\"#000000\">value = 0.552</text>\n</g>\n<!-- 185&#45;&gt;187 -->\n<g id=\"edge187\" class=\"edge\">\n<title>185&#45;&gt;187</title>\n<path fill=\"none\" stroke=\"#000000\" d=\"M12481,-296.9465C12481,-288.776 12481,-279.9318 12481,-271.3697\"/>\n<polygon fill=\"#000000\" stroke=\"#000000\" points=\"12484.5001,-271.13 12481,-261.13 12477.5001,-271.13 12484.5001,-271.13\"/>\n</g>\n<!-- 188 -->\n<g id=\"node189\" class=\"node\">\n<title>188</title>\n<polygon fill=\"#fae7d9\" stroke=\"#000000\" points=\"12400,-149.5 12256,-149.5 12256,-96.5 12400,-96.5 12400,-149.5\"/>\n<text text-anchor=\"start\" x=\"12264\" y=\"-134.3\" font-family=\"Helvetica,sans-Serif\" font-size=\"14.00\" fill=\"#000000\">squared_error = 0.0</text>\n<text text-anchor=\"start\" x=\"12288.5\" y=\"-119.3\" font-family=\"Helvetica,sans-Serif\" font-size=\"14.00\" fill=\"#000000\">samples = 1</text>\n<text text-anchor=\"start\" x=\"12284\" y=\"-104.3\" font-family=\"Helvetica,sans-Serif\" font-size=\"14.00\" fill=\"#000000\">value = 0.573</text>\n</g>\n<!-- 187&#45;&gt;188 -->\n<g id=\"edge188\" class=\"edge\">\n<title>187&#45;&gt;188</title>\n<path fill=\"none\" stroke=\"#000000\" d=\"M12430.9021,-192.9465C12413.077,-180.8301 12393.0721,-167.232 12375.4735,-155.2696\"/>\n<polygon fill=\"#000000\" stroke=\"#000000\" points=\"12377.2855,-152.2692 12367.0476,-149.5422 12373.3503,-158.0584 12377.2855,-152.2692\"/>\n</g>\n<!-- 189 -->\n<g id=\"node190\" class=\"node\">\n<title>189</title>\n<polygon fill=\"#fae8da\" stroke=\"#000000\" points=\"12562,-149.5 12418,-149.5 12418,-96.5 12562,-96.5 12562,-149.5\"/>\n<text text-anchor=\"start\" x=\"12426\" y=\"-134.3\" font-family=\"Helvetica,sans-Serif\" font-size=\"14.00\" fill=\"#000000\">squared_error = 0.0</text>\n<text text-anchor=\"start\" x=\"12450.5\" y=\"-119.3\" font-family=\"Helvetica,sans-Serif\" font-size=\"14.00\" fill=\"#000000\">samples = 1</text>\n<text text-anchor=\"start\" x=\"12446\" y=\"-104.3\" font-family=\"Helvetica,sans-Serif\" font-size=\"14.00\" fill=\"#000000\">value = 0.531</text>\n</g>\n<!-- 187&#45;&gt;189 -->\n<g id=\"edge189\" class=\"edge\">\n<title>187&#45;&gt;189</title>\n<path fill=\"none\" stroke=\"#000000\" d=\"M12483.9469,-192.9465C12484.8716,-182.2621 12485.8959,-170.4254 12486.8349,-159.5742\"/>\n<polygon fill=\"#000000\" stroke=\"#000000\" points=\"12490.3278,-159.8067 12487.7031,-149.5422 12483.3539,-159.2031 12490.3278,-159.8067\"/>\n</g>\n<!-- 191 -->\n<g id=\"node192\" class=\"node\">\n<title>191</title>\n<polygon fill=\"#f6d3b9\" stroke=\"#000000\" points=\"12808,-261 12602,-261 12602,-193 12808,-193 12808,-261\"/>\n<text text-anchor=\"start\" x=\"12610\" y=\"-245.8\" font-family=\"Helvetica,sans-Serif\" font-size=\"14.00\" fill=\"#000000\">華廈(10層含以下有電梯) ≤ 0.5</text>\n<text text-anchor=\"start\" x=\"12632.5\" y=\"-230.8\" font-family=\"Helvetica,sans-Serif\" font-size=\"14.00\" fill=\"#000000\">squared_error = 0.191</text>\n<text text-anchor=\"start\" x=\"12665.5\" y=\"-215.8\" font-family=\"Helvetica,sans-Serif\" font-size=\"14.00\" fill=\"#000000\">samples = 4</text>\n<text text-anchor=\"start\" x=\"12661\" y=\"-200.8\" font-family=\"Helvetica,sans-Serif\" font-size=\"14.00\" fill=\"#000000\">value = 1.993</text>\n</g>\n<!-- 190&#45;&gt;191 -->\n<g id=\"edge191\" class=\"edge\">\n<title>190&#45;&gt;191</title>\n<path fill=\"none\" stroke=\"#000000\" d=\"M12689.5311,-296.9465C12691.3578,-288.6863 12693.3369,-279.7374 12695.2499,-271.0875\"/>\n<polygon fill=\"#000000\" stroke=\"#000000\" points=\"12698.71,-271.6499 12697.452,-261.13 12691.8752,-270.1383 12698.71,-271.6499\"/>\n</g>\n<!-- 196 -->\n<g id=\"node197\" class=\"node\">\n<title>196</title>\n<polygon fill=\"#f2c09c\" stroke=\"#000000\" points=\"12975.5,-253.5 12826.5,-253.5 12826.5,-200.5 12975.5,-200.5 12975.5,-253.5\"/>\n<text text-anchor=\"start\" x=\"12834.5\" y=\"-238.3\" font-family=\"Helvetica,sans-Serif\" font-size=\"14.00\" fill=\"#000000\">squared_error = &#45;0.0</text>\n<text text-anchor=\"start\" x=\"12861.5\" y=\"-223.3\" font-family=\"Helvetica,sans-Serif\" font-size=\"14.00\" fill=\"#000000\">samples = 1</text>\n<text text-anchor=\"start\" x=\"12857\" y=\"-208.3\" font-family=\"Helvetica,sans-Serif\" font-size=\"14.00\" fill=\"#000000\">value = 3.292</text>\n</g>\n<!-- 190&#45;&gt;196 -->\n<g id=\"edge196\" class=\"edge\">\n<title>190&#45;&gt;196</title>\n<path fill=\"none\" stroke=\"#000000\" d=\"M12753.7088,-296.9465C12780.1509,-284.3895 12809.9442,-270.2411 12835.7817,-257.9712\"/>\n<polygon fill=\"#000000\" stroke=\"#000000\" points=\"12837.5766,-260.9936 12845.1083,-253.5422 12834.5737,-254.6703 12837.5766,-260.9936\"/>\n</g>\n<!-- 192 -->\n<g id=\"node193\" class=\"node\">\n<title>192</title>\n<polygon fill=\"#f5cfb4\" stroke=\"#000000\" points=\"12792,-157 12598,-157 12598,-89 12792,-89 12792,-157\"/>\n<text text-anchor=\"start\" x=\"12606\" y=\"-141.8\" font-family=\"Helvetica,sans-Serif\" font-size=\"14.00\" fill=\"#000000\">其他都市土地使用分區 ≤ 0.5</text>\n<text text-anchor=\"start\" x=\"12622.5\" y=\"-126.8\" font-family=\"Helvetica,sans-Serif\" font-size=\"14.00\" fill=\"#000000\">squared_error = 0.017</text>\n<text text-anchor=\"start\" x=\"12655.5\" y=\"-111.8\" font-family=\"Helvetica,sans-Serif\" font-size=\"14.00\" fill=\"#000000\">samples = 3</text>\n<text text-anchor=\"start\" x=\"12651\" y=\"-96.8\" font-family=\"Helvetica,sans-Serif\" font-size=\"14.00\" fill=\"#000000\">value = 2.237</text>\n</g>\n<!-- 191&#45;&gt;192 -->\n<g id=\"edge192\" class=\"edge\">\n<title>191&#45;&gt;192</title>\n<path fill=\"none\" stroke=\"#000000\" d=\"M12701.7256,-192.9465C12700.9314,-184.6863 12700.0709,-175.7374 12699.2392,-167.0875\"/>\n<polygon fill=\"#000000\" stroke=\"#000000\" points=\"12702.7229,-166.7491 12698.2817,-157.13 12695.755,-167.4191 12702.7229,-166.7491\"/>\n</g>\n<!-- 195 -->\n<g id=\"node196\" class=\"node\">\n<title>195</title>\n<polygon fill=\"#f8ddca\" stroke=\"#000000\" points=\"12954,-149.5 12810,-149.5 12810,-96.5 12954,-96.5 12954,-149.5\"/>\n<text text-anchor=\"start\" x=\"12818\" y=\"-134.3\" font-family=\"Helvetica,sans-Serif\" font-size=\"14.00\" fill=\"#000000\">squared_error = 0.0</text>\n<text text-anchor=\"start\" x=\"12842.5\" y=\"-119.3\" font-family=\"Helvetica,sans-Serif\" font-size=\"14.00\" fill=\"#000000\">samples = 1</text>\n<text text-anchor=\"start\" x=\"12838\" y=\"-104.3\" font-family=\"Helvetica,sans-Serif\" font-size=\"14.00\" fill=\"#000000\">value = 1.263</text>\n</g>\n<!-- 191&#45;&gt;195 -->\n<g id=\"edge195\" class=\"edge\">\n<title>191&#45;&gt;195</title>\n<path fill=\"none\" stroke=\"#000000\" d=\"M12762.9564,-192.9465C12783.9525,-180.6098 12807.5629,-166.7371 12828.1874,-154.6187\"/>\n<polygon fill=\"#000000\" stroke=\"#000000\" points=\"12829.9785,-157.6258 12836.8273,-149.5422 12826.4323,-151.5905 12829.9785,-157.6258\"/>\n</g>\n<!-- 193 -->\n<g id=\"node194\" class=\"node\">\n<title>193</title>\n<polygon fill=\"#f5d0b6\" stroke=\"#000000\" points=\"12688.5,-53 12527.5,-53 12527.5,0 12688.5,0 12688.5,-53\"/>\n<text text-anchor=\"start\" x=\"12535.5\" y=\"-37.8\" font-family=\"Helvetica,sans-Serif\" font-size=\"14.00\" fill=\"#000000\">squared_error = 0.002</text>\n<text text-anchor=\"start\" x=\"12568.5\" y=\"-22.8\" font-family=\"Helvetica,sans-Serif\" font-size=\"14.00\" fill=\"#000000\">samples = 2</text>\n<text text-anchor=\"start\" x=\"12564\" y=\"-7.8\" font-family=\"Helvetica,sans-Serif\" font-size=\"14.00\" fill=\"#000000\">value = 2.148</text>\n</g>\n<!-- 192&#45;&gt;193 -->\n<g id=\"edge193\" class=\"edge\">\n<title>192&#45;&gt;193</title>\n<path fill=\"none\" stroke=\"#000000\" d=\"M12664.3271,-88.9777C12656.0715,-79.8207 12647.1391,-69.9129 12638.8728,-60.744\"/>\n<polygon fill=\"#000000\" stroke=\"#000000\" points=\"12641.4108,-58.3321 12632.1152,-53.2485 12636.2117,-63.0193 12641.4108,-58.3321\"/>\n</g>\n<!-- 194 -->\n<g id=\"node195\" class=\"node\">\n<title>194</title>\n<polygon fill=\"#f5cdb0\" stroke=\"#000000\" points=\"12855.5,-53 12706.5,-53 12706.5,0 12855.5,0 12855.5,-53\"/>\n<text text-anchor=\"start\" x=\"12714.5\" y=\"-37.8\" font-family=\"Helvetica,sans-Serif\" font-size=\"14.00\" fill=\"#000000\">squared_error = &#45;0.0</text>\n<text text-anchor=\"start\" x=\"12741.5\" y=\"-22.8\" font-family=\"Helvetica,sans-Serif\" font-size=\"14.00\" fill=\"#000000\">samples = 1</text>\n<text text-anchor=\"start\" x=\"12737\" y=\"-7.8\" font-family=\"Helvetica,sans-Serif\" font-size=\"14.00\" fill=\"#000000\">value = 2.414</text>\n</g>\n<!-- 192&#45;&gt;194 -->\n<g id=\"edge194\" class=\"edge\">\n<title>192&#45;&gt;194</title>\n<path fill=\"none\" stroke=\"#000000\" d=\"M12725.3204,-88.9777C12733.481,-79.8207 12742.3108,-69.9129 12750.4821,-60.744\"/>\n<polygon fill=\"#000000\" stroke=\"#000000\" points=\"12753.1217,-63.0427 12757.162,-53.2485 12747.8958,-58.3854 12753.1217,-63.0427\"/>\n</g>\n<!-- 198 -->\n<g id=\"node199\" class=\"node\">\n<title>198</title>\n<polygon fill=\"#eda877\" stroke=\"#000000\" points=\"12925,-357.5 12781,-357.5 12781,-304.5 12925,-304.5 12925,-357.5\"/>\n<text text-anchor=\"start\" x=\"12789\" y=\"-342.3\" font-family=\"Helvetica,sans-Serif\" font-size=\"14.00\" fill=\"#000000\">squared_error = 0.0</text>\n<text text-anchor=\"start\" x=\"12813.5\" y=\"-327.3\" font-family=\"Helvetica,sans-Serif\" font-size=\"14.00\" fill=\"#000000\">samples = 1</text>\n<text text-anchor=\"start\" x=\"12809\" y=\"-312.3\" font-family=\"Helvetica,sans-Serif\" font-size=\"14.00\" fill=\"#000000\">value = 4.939</text>\n</g>\n<!-- 197&#45;&gt;198 -->\n<g id=\"edge198\" class=\"edge\">\n<title>197&#45;&gt;198</title>\n<path fill=\"none\" stroke=\"#000000\" d=\"M12853,-400.9465C12853,-390.2621 12853,-378.4254 12853,-367.5742\"/>\n<polygon fill=\"#000000\" stroke=\"#000000\" points=\"12856.5001,-367.5421 12853,-357.5422 12849.5001,-367.5422 12856.5001,-367.5421\"/>\n</g>\n<!-- 199 -->\n<g id=\"node200\" class=\"node\">\n<title>199</title>\n<polygon fill=\"#f1ba93\" stroke=\"#000000\" points=\"13092.5,-357.5 12943.5,-357.5 12943.5,-304.5 13092.5,-304.5 13092.5,-357.5\"/>\n<text text-anchor=\"start\" x=\"12951.5\" y=\"-342.3\" font-family=\"Helvetica,sans-Serif\" font-size=\"14.00\" fill=\"#000000\">squared_error = &#45;0.0</text>\n<text text-anchor=\"start\" x=\"12978.5\" y=\"-327.3\" font-family=\"Helvetica,sans-Serif\" font-size=\"14.00\" fill=\"#000000\">samples = 1</text>\n<text text-anchor=\"start\" x=\"12974\" y=\"-312.3\" font-family=\"Helvetica,sans-Serif\" font-size=\"14.00\" fill=\"#000000\">value = 3.679</text>\n</g>\n<!-- 197&#45;&gt;199 -->\n<g id=\"edge199\" class=\"edge\">\n<title>197&#45;&gt;199</title>\n<path fill=\"none\" stroke=\"#000000\" d=\"M12907.0272,-400.9465C12926.4251,-388.72 12948.2166,-374.9847 12967.32,-362.9437\"/>\n<polygon fill=\"#000000\" stroke=\"#000000\" points=\"12969.2964,-365.8353 12975.8898,-357.5422 12965.5638,-359.9135 12969.2964,-365.8353\"/>\n</g>\n<!-- 201 -->\n<g id=\"node202\" class=\"node\">\n<title>201</title>\n<polygon fill=\"#e58139\" stroke=\"#000000\" points=\"12834,-565.5 12690,-565.5 12690,-512.5 12834,-512.5 12834,-565.5\"/>\n<text text-anchor=\"start\" x=\"12698\" y=\"-550.3\" font-family=\"Helvetica,sans-Serif\" font-size=\"14.00\" fill=\"#000000\">squared_error = 0.0</text>\n<text text-anchor=\"start\" x=\"12722.5\" y=\"-535.3\" font-family=\"Helvetica,sans-Serif\" font-size=\"14.00\" fill=\"#000000\">samples = 1</text>\n<text text-anchor=\"start\" x=\"12718\" y=\"-520.3\" font-family=\"Helvetica,sans-Serif\" font-size=\"14.00\" fill=\"#000000\">value = 7.684</text>\n</g>\n<!-- 200&#45;&gt;201 -->\n<g id=\"edge201\" class=\"edge\">\n<title>200&#45;&gt;201</title>\n<path fill=\"none\" stroke=\"#000000\" d=\"M12762,-608.9465C12762,-598.2621 12762,-586.4254 12762,-575.5742\"/>\n<polygon fill=\"#000000\" stroke=\"#000000\" points=\"12765.5001,-575.5421 12762,-565.5422 12758.5001,-575.5422 12765.5001,-575.5421\"/>\n</g>\n<!-- 202 -->\n<g id=\"node203\" class=\"node\">\n<title>202</title>\n<polygon fill=\"#e58139\" stroke=\"#000000\" points=\"12996,-565.5 12852,-565.5 12852,-512.5 12996,-512.5 12996,-565.5\"/>\n<text text-anchor=\"start\" x=\"12860\" y=\"-550.3\" font-family=\"Helvetica,sans-Serif\" font-size=\"14.00\" fill=\"#000000\">squared_error = 0.0</text>\n<text text-anchor=\"start\" x=\"12884.5\" y=\"-535.3\" font-family=\"Helvetica,sans-Serif\" font-size=\"14.00\" fill=\"#000000\">samples = 1</text>\n<text text-anchor=\"start\" x=\"12880\" y=\"-520.3\" font-family=\"Helvetica,sans-Serif\" font-size=\"14.00\" fill=\"#000000\">value = 7.684</text>\n</g>\n<!-- 200&#45;&gt;202 -->\n<g id=\"edge202\" class=\"edge\">\n<title>200&#45;&gt;202</title>\n<path fill=\"none\" stroke=\"#000000\" d=\"M12815.0449,-608.9465C12834.0043,-596.775 12855.2927,-583.1084 12873.9879,-571.1066\"/>\n<polygon fill=\"#000000\" stroke=\"#000000\" points=\"12876.1311,-573.8898 12882.6555,-565.5422 12872.3495,-567.9992 12876.1311,-573.8898\"/>\n</g>\n</g>\n</svg>\n"
          },
          "metadata": {},
          "execution_count": 30
        }
      ]
    },
    {
      "cell_type": "code",
      "source": [
        "f.to_csv(\"台北市房屋交易_1110_2_正規化.csv\", encoding = \"utf-8\", index=False)"
      ],
      "metadata": {
        "id": "Z3_3jWgf656F"
      },
      "execution_count": null,
      "outputs": []
    }
  ]
}