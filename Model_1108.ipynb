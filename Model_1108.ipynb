{
  "nbformat": 4,
  "nbformat_minor": 0,
  "metadata": {
    "colab": {
      "provenance": [],
      "collapsed_sections": [],
      "authorship_tag": "ABX9TyP+GTR54fhNvbbohhCBduXo",
      "include_colab_link": true
    },
    "kernelspec": {
      "name": "python3",
      "display_name": "Python 3"
    },
    "language_info": {
      "name": "python"
    }
  },
  "cells": [
    {
      "cell_type": "markdown",
      "metadata": {
        "id": "view-in-github",
        "colab_type": "text"
      },
      "source": [
        "<a href=\"https://colab.research.google.com/github/cool60334/Team_Project_Model/blob/main/Model_1108.ipynb\" target=\"_parent\"><img src=\"https://colab.research.google.com/assets/colab-badge.svg\" alt=\"Open In Colab\"/></a>"
      ]
    },
    {
      "cell_type": "code",
      "execution_count": 1,
      "metadata": {
        "id": "3rxA003vQEbC"
      },
      "outputs": [],
      "source": [
        "import pandas as pd"
      ]
    },
    {
      "cell_type": "markdown",
      "source": [
        "台北市房屋交易_1110_2.csv 在github\n"
      ],
      "metadata": {
        "id": "9_vXXWkAeFPd"
      }
    },
    {
      "cell_type": "code",
      "source": [
        "# 讀取csv檔案\n",
        "f = pd.read_csv(\"台北市房屋交易_1110_2.csv\", encoding = \"utf-8\")\n",
        "pd.set_option('display.max_columns', 200)  # 增加顯示的列數"
      ],
      "metadata": {
        "id": "oJCZtzKlQMeN"
      },
      "execution_count": 20,
      "outputs": []
    },
    {
      "cell_type": "code",
      "source": [
        "# 去除非數值欄位(鄉鎮市區、地址、交易年月日、建築完成年月、交易年分、建築年分、緯度、經度)\n",
        "# 去除已轉換成one-hot欄位(交易標的、土地使用分區、建築型態、主要用途、主要建材、車位類別)\n",
        "\n",
        "f = f.drop([\"dis\", \"sign\", \"add\", \"zone\", \"tradeymd\", \"state\", \"mainuse\", \"mater\", \"comy\", \"parkcat\", \"tradeyr\", \"buildyr\", \"lat\", \"lng\"], axis=1)"
      ],
      "metadata": {
        "id": "3ixgnf4xbrcG"
      },
      "execution_count": 22,
      "outputs": []
    },
    {
      "cell_type": "code",
      "source": [
        "f"
      ],
      "metadata": {
        "id": "qHrr7j-kiynx"
      },
      "execution_count": null,
      "outputs": []
    },
    {
      "cell_type": "code",
      "source": [
        "from sklearn.model_selection import train_test_split "
      ],
      "metadata": {
        "id": "H_muP-dLzGrz"
      },
      "execution_count": 24,
      "outputs": []
    },
    {
      "cell_type": "code",
      "source": [
        "import numpy as np"
      ],
      "metadata": {
        "id": "9t2YhPOuzS0F"
      },
      "execution_count": 25,
      "outputs": []
    },
    {
      "cell_type": "code",
      "source": [
        "# 特徵(去除總價元、單價元平方公尺、車位總價元)\n",
        "\n",
        "x = np.array(f.drop([\"tp\",\"unitp\",\"parkp\"], axis = 1))"
      ],
      "metadata": {
        "id": "hGjkKQQUzKFV"
      },
      "execution_count": 26,
      "outputs": []
    },
    {
      "cell_type": "code",
      "source": [
        "# 目標(取得總價元)\n",
        "\n",
        "y = np.array(f[\"tp\"])"
      ],
      "metadata": {
        "id": "be8nst1KzhR8"
      },
      "execution_count": 27,
      "outputs": []
    },
    {
      "cell_type": "code",
      "source": [
        "# 切分資料(特徵90%，特徵10%，目標90%，目標10%)\n",
        "\n",
        "x_train, x_test, y_train, y_test = train_test_split(x, y, test_size=0.1)"
      ],
      "metadata": {
        "id": "FSNpXBjMzq3c"
      },
      "execution_count": 28,
      "outputs": []
    },
    {
      "cell_type": "markdown",
      "source": [
        "#### 請找出max_depth為幾層的時候會有最好的r2_score\n",
        "####每一層至少跑5次並記錄下每次r2_score的數據"
      ],
      "metadata": {
        "id": "9iMzcafOlfvd"
      }
    },
    {
      "cell_type": "code",
      "source": [
        "from sklearn.tree import DecisionTreeRegressor\n",
        "\n",
        "# 建立迴歸決策樹\n",
        "reg = DecisionTreeRegressor(max_depth=5)\n",
        "\n",
        "# 訓練迴歸決策樹\n",
        "reg.fit(x_train, y_train)"
      ],
      "metadata": {
        "colab": {
          "base_uri": "https://localhost:8080/"
        },
        "id": "pD5s9G8vzw00",
        "outputId": "5d68a1b8-f6c9-4fb1-a156-56b49f3e51c2"
      },
      "execution_count": 51,
      "outputs": [
        {
          "output_type": "execute_result",
          "data": {
            "text/plain": [
              "DecisionTreeRegressor(max_depth=5)"
            ]
          },
          "metadata": {},
          "execution_count": 51
        }
      ]
    },
    {
      "cell_type": "code",
      "source": [
        "from sklearn.metrics import r2_score\n",
        "\n",
        "# 將測試用特徵帶入模型做預測\n",
        "pre = reg.predict(x_test)\n",
        "\n",
        "# 預測準確度\n",
        "r2_score(y_test, pre)"
      ],
      "metadata": {
        "colab": {
          "base_uri": "https://localhost:8080/"
        },
        "id": "B2OJaonSzzi1",
        "outputId": "22f93bb6-a65e-4fed-d4dc-86adb1d727c4"
      },
      "execution_count": 50,
      "outputs": [
        {
          "output_type": "execute_result",
          "data": {
            "text/plain": [
              "0.5457075866345642"
            ]
          },
          "metadata": {},
          "execution_count": 50
        }
      ]
    },
    {
      "cell_type": "code",
      "source": [
        "# from sklearn.tree import export_graphviz\n",
        "# import graphviz\n",
        "\n",
        "# g = export_graphviz(reg, out_file=None, \n",
        "#             feature_names=f.drop([\"tp\",\"unitp\",\"parkp\"], axis = 1).columns,     \n",
        "#             filled=True, special_characters=True)\n",
        "\n",
        "# graph = graphviz.Source(g)\n",
        "# graph"
      ],
      "metadata": {
        "id": "U2M5avZ3BcYX"
      },
      "execution_count": null,
      "outputs": []
    }
  ]
}