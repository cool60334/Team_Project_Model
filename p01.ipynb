{
  "nbformat": 4,
  "nbformat_minor": 0,
  "metadata": {
    "colab": {
      "provenance": [],
      "authorship_tag": "ABX9TyOQS5scFMxw1XSpVXx4YrCH",
      "include_colab_link": true
    },
    "kernelspec": {
      "name": "python3",
      "display_name": "Python 3"
    },
    "language_info": {
      "name": "python"
    }
  },
  "cells": [
    {
      "cell_type": "markdown",
      "metadata": {
        "id": "view-in-github",
        "colab_type": "text"
      },
      "source": [
        "<a href=\"https://colab.research.google.com/github/cool60334/Team_Project_Model/blob/main/p01.ipynb\" target=\"_parent\"><img src=\"https://colab.research.google.com/assets/colab-badge.svg\" alt=\"Open In Colab\"/></a>"
      ]
    },
    {
      "cell_type": "code",
      "execution_count": 2,
      "metadata": {
        "id": "hv5ipPDmFeYD"
      },
      "outputs": [],
      "source": [
        "import pandas as pd"
      ]
    },
    {
      "cell_type": "code",
      "execution_count": 3,
      "metadata": {
        "id": "JJCKwU-GFhpL"
      },
      "outputs": [],
      "source": [
        "# 讀取csv檔\n",
        "f = pd.read_csv(\"\", encoding = \"utf-8\")  # 輸入檔案名稱\n",
        "pd.set_option('display.max_columns', 100)"
      ]
    },
    {
      "cell_type": "code",
      "source": [
        "f"
      ],
      "metadata": {
        "id": "-BVKpsujkHPH"
      },
      "execution_count": null,
      "outputs": []
    },
    {
      "cell_type": "code",
      "source": [
        "f = f[f['備註'].isnull()] # 刪除有備註的欄位"
      ],
      "metadata": {
        "id": "KnO9GvwcNHCu"
      },
      "execution_count": 5,
      "outputs": []
    },
    {
      "cell_type": "code",
      "source": [
        "f"
      ],
      "metadata": {
        "id": "-ncZk6bmklTm"
      },
      "execution_count": null,
      "outputs": []
    },
    {
      "cell_type": "markdown",
      "source": [
        "# 移除不必要欄位"
      ],
      "metadata": {
        "id": "0yoV6tPNJCSk"
      }
    },
    {
      "cell_type": "code",
      "execution_count": 7,
      "metadata": {
        "id": "KyFZcvKqu31s"
      },
      "outputs": [],
      "source": [
        "# 移除不必要欄位\n",
        "f = f.drop([\"非都市土地使用分區\", \"非都市土地使用編定\", \"交易筆棟數\", \"建物現況格局-隔間\", \"備註\", \"移轉編號\", \"編號\"], axis = 1)"
      ]
    },
    {
      "cell_type": "code",
      "execution_count": 9,
      "metadata": {
        "id": "4qt1jkRi5zYt"
      },
      "outputs": [],
      "source": [
        "# 移除交易標的 土地\n",
        "f = f[f[\"交易標的\"] != \"土地\"]\n",
        "\n",
        "# 重設index\n",
        "f = f.reset_index(drop=True)"
      ]
    },
    {
      "cell_type": "code",
      "execution_count": 11,
      "metadata": {
        "id": "Pga1d_G76DxN"
      },
      "outputs": [],
      "source": [
        "# 移除交易標的 車位\n",
        "f = f[f[\"交易標的\"] != \"車位\"]\n",
        "\n",
        "# 重設index\n",
        "f = f.reset_index(drop=True)"
      ]
    },
    {
      "cell_type": "markdown",
      "source": [
        "# 處理都市土地使用分區"
      ],
      "metadata": {
        "id": "LDvUDy_4I8f1"
      }
    },
    {
      "cell_type": "code",
      "source": [
        "# 移除其它都市土地使用分區\n",
        "\n",
        "s = f[\"都市土地使用分區\"]\n",
        "for i in range(len(f)):\n",
        "  if \"其他\" in str(s[i]):\n",
        "    f = f.drop(i)\n",
        "\n",
        "# 重設index\n",
        "f = f.reset_index(drop=True)"
      ],
      "metadata": {
        "id": "acAEWE0KJFyI"
      },
      "execution_count": 29,
      "outputs": []
    },
    {
      "cell_type": "code",
      "source": [
        "# 填補空值\n",
        "\n",
        "f[\"都市土地使用分區\"] = f[\"都市土地使用分區\"].fillna(\"住\")"
      ],
      "metadata": {
        "id": "nd8w5FzsZJAQ"
      },
      "execution_count": null,
      "outputs": []
    },
    {
      "cell_type": "markdown",
      "source": [
        "# 處理樓層"
      ],
      "metadata": {
        "id": "KR5dwbkwJJQn"
      }
    },
    {
      "cell_type": "code",
      "execution_count": 31,
      "metadata": {
        "id": "KW_h4774GlTX"
      },
      "outputs": [],
      "source": [
        "column_dict = {\"--\":None, \"\":None, None:0, '陽台':1, '平台':1, '屋頂突出物':1, '夾層':1, '電梯樓梯間':1, '騎樓':1, '陽臺':1, '地下三層':0, '地下二層':0, '地下一層':0, '地下層':0, '全':100, '一層':1, '二層':2, '三層':3, '四層':4, '五層':5, '六層':6, '七層':7, '八層':8, '九層':9, '十層':10, '十一層':11, '十二層':12, '十三層':13, '十四層':14, '十五層':15, '十六層':16, '十七層':17, '十八層':18, '十九層':19, '二十層':20, '二十一層':21, '二十二層':22, '二十三層':23, '二十四層':24, '二十五層':25, '二十六層':26, '二十七層':27, '二十八層':28, '二十九層':29, '三十層':30, '三十一層':31, '三十二層':32, '三十三層':33, '三十四層':34, '三十五層':35, '三十六層':36, '三十七層':37, '三十八層':38, '三十九層':39, '四十層':40, '四十一層':41, '四十二層':42, '四十三層':43, '四十四層':44, '四十五層':45, '四十六層':46, '四十七層':47, '四十八層':48, '四十九層':49, '五十層':50}"
      ]
    },
    {
      "cell_type": "code",
      "execution_count": 32,
      "metadata": {
        "id": "CRr4-dmaG2Vu"
      },
      "outputs": [],
      "source": [
        "f = f.replace({\"總樓層數\": column_dict})"
      ]
    },
    {
      "cell_type": "code",
      "execution_count": 33,
      "metadata": {
        "id": "ETyOXw2MXH-a"
      },
      "outputs": [],
      "source": [
        "def change(n1):\n",
        "  if pd.isna(n1):\n",
        "    return n1\n",
        "  else:\n",
        "    x = n1.split(\"，\")[0].strip()\n",
        "    if x.find(\",\") != -1:\n",
        "      return x.split(\",\")[0].strip()\n",
        "    else:\n",
        "      return x"
      ]
    },
    {
      "cell_type": "code",
      "execution_count": 34,
      "metadata": {
        "id": "0bFPk1YJYDiX"
      },
      "outputs": [],
      "source": [
        "f[\"移轉層次\"] = f[\"移轉層次\"].apply(change)"
      ]
    },
    {
      "cell_type": "code",
      "execution_count": 35,
      "metadata": {
        "id": "sLmUNtesZR9v"
      },
      "outputs": [],
      "source": [
        "f = f.replace({\"移轉層次\": column_dict})"
      ]
    },
    {
      "cell_type": "markdown",
      "source": [
        "# 處理主要用途"
      ],
      "metadata": {
        "id": "76Lnd2_yKMP1"
      }
    },
    {
      "cell_type": "code",
      "execution_count": 36,
      "metadata": {
        "id": "gFdHa9JPHfW8"
      },
      "outputs": [],
      "source": [
        "# 填補主要用途缺失值\n",
        "\n",
        "f[\"主要用途\"] = f[\"主要用途\"].fillna(\"其他用途\")"
      ]
    },
    {
      "cell_type": "code",
      "source": [
        "# 將主要用途的其他合併到其他用途\n",
        "\n",
        "s = f[\"主要用途\"]\n",
        "for i in range(len(f)):\n",
        "  if s[i] == \"其他\":\n",
        "    s[i] = s[i].replace(\"其他\", \"其他用途\")"
      ],
      "metadata": {
        "id": "9Q-h-DxgZNo-",
        "colab": {
          "base_uri": "https://localhost:8080/"
        },
        "outputId": "417d97f5-3634-4be4-c2f8-09fd7781f811"
      },
      "execution_count": 39,
      "outputs": [
        {
          "output_type": "stream",
          "name": "stderr",
          "text": [
            "/usr/local/lib/python3.7/dist-packages/ipykernel_launcher.py:6: SettingWithCopyWarning: \n",
            "A value is trying to be set on a copy of a slice from a DataFrame\n",
            "\n",
            "See the caveats in the documentation: https://pandas.pydata.org/pandas-docs/stable/user_guide/indexing.html#returning-a-view-versus-a-copy\n",
            "  \n"
          ]
        }
      ]
    },
    {
      "cell_type": "markdown",
      "source": [
        "# 處理車位類別"
      ],
      "metadata": {
        "id": "zS-xGhU_LLaF"
      }
    },
    {
      "cell_type": "code",
      "execution_count": 42,
      "metadata": {
        "id": "y_RaEC9rqA0Y",
        "colab": {
          "base_uri": "https://localhost:8080/"
        },
        "outputId": "ca428a98-6145-4584-94d8-aa368a88762a"
      },
      "outputs": [
        {
          "output_type": "execute_result",
          "data": {
            "text/plain": [
              "1127"
            ]
          },
          "metadata": {},
          "execution_count": 42
        }
      ],
      "source": [
        "f[\"車位類別\"].isna().sum()"
      ]
    },
    {
      "cell_type": "code",
      "execution_count": 43,
      "metadata": {
        "id": "Bycd6a27SEi2"
      },
      "outputs": [],
      "source": [
        "f[\"車位類別\"] = f[\"車位類別\"].fillna(\"無車位\")"
      ]
    },
    {
      "cell_type": "code",
      "execution_count": 44,
      "metadata": {
        "id": "yrNKWAtFrQn3",
        "colab": {
          "base_uri": "https://localhost:8080/"
        },
        "outputId": "110d5246-d2c1-4eec-f036-6d14fdaa4e17"
      },
      "outputs": [
        {
          "output_type": "execute_result",
          "data": {
            "text/plain": [
              "無車位     1127\n",
              "坡道平面     547\n",
              "坡道機械      80\n",
              "塔式車位      50\n",
              "升降機械      44\n",
              "升降平面      39\n",
              "其他        32\n",
              "一樓平面       2\n",
              "Name: 車位類別, dtype: int64"
            ]
          },
          "metadata": {},
          "execution_count": 44
        }
      ],
      "source": [
        "f[\"車位類別\"].value_counts()"
      ]
    },
    {
      "cell_type": "code",
      "execution_count": 45,
      "metadata": {
        "id": "WR23HbN9su2S",
        "colab": {
          "base_uri": "https://localhost:8080/"
        },
        "outputId": "a8a174f1-70e2-4bfa-87dc-e1ee923ea798"
      },
      "outputs": [
        {
          "output_type": "stream",
          "name": "stderr",
          "text": [
            "/usr/local/lib/python3.7/dist-packages/ipykernel_launcher.py:6: SettingWithCopyWarning: \n",
            "A value is trying to be set on a copy of a slice from a DataFrame\n",
            "\n",
            "See the caveats in the documentation: https://pandas.pydata.org/pandas-docs/stable/user_guide/indexing.html#returning-a-view-versus-a-copy\n",
            "  \n"
          ]
        }
      ],
      "source": [
        "# 將車位類別的其他改成其他車位類別\n",
        "\n",
        "s = f[\"車位類別\"]\n",
        "for i in range(len(f)):\n",
        "  if s[i] == \"其他\":\n",
        "    s[i] = s[i].replace(\"其他\", \"其他車位類別\")"
      ]
    },
    {
      "cell_type": "markdown",
      "source": [
        "# 處理主要建材"
      ],
      "metadata": {
        "id": "PRvmwzb4LfIy"
      }
    },
    {
      "cell_type": "code",
      "source": [
        "f[\"主要建材\"].value_counts()"
      ],
      "metadata": {
        "colab": {
          "base_uri": "https://localhost:8080/"
        },
        "id": "3pba1Mt4rOam",
        "outputId": "a51d11b2-b94c-4138-d63a-50942d038fbe"
      },
      "execution_count": 47,
      "outputs": [
        {
          "output_type": "execute_result",
          "data": {
            "text/plain": [
              "鋼筋混凝土造      1670\n",
              "鋼骨造           94\n",
              "鋼骨鋼筋混凝土造      76\n",
              "加強磚造          50\n",
              "鋼骨混凝土造        10\n",
              "預力混凝土造         5\n",
              "磚造             5\n",
              "見使用執照          5\n",
              "土磚石混合造         2\n",
              "混凝土造           1\n",
              "︰鐵筋水泥磚造        1\n",
              "鋼骨ＲＣ造          1\n",
              "木造             1\n",
              "Name: 主要建材, dtype: int64"
            ]
          },
          "metadata": {},
          "execution_count": 47
        }
      ]
    },
    {
      "cell_type": "code",
      "source": [
        "# 填補主要建材缺失值\n",
        "\n",
        "most = f[\"主要建材\"].value_counts().idxmax()\n",
        "f[\"主要建材\"] = f[\"主要建材\"].fillna(most)"
      ],
      "metadata": {
        "id": "0XnN5mjWXCTb"
      },
      "execution_count": 48,
      "outputs": []
    },
    {
      "cell_type": "code",
      "source": [
        "# 將主要用途的其他合併到其他用途\n",
        "\n",
        "s = f[\"主要建材\"]\n",
        "for i in range(len(f)):\n",
        "  if s[i] != \"鋼筋混凝土造\":\n",
        "    f = f.drop(i)\n",
        "\n",
        "# 重設index\n",
        "f = f.reset_index(drop=True)"
      ],
      "metadata": {
        "id": "5XaMQj90L3ci"
      },
      "execution_count": 49,
      "outputs": []
    },
    {
      "cell_type": "markdown",
      "source": [
        "# 處理TF欄位(有無管理組織、電梯)"
      ],
      "metadata": {
        "id": "s_diXrUuM9im"
      }
    },
    {
      "cell_type": "code",
      "execution_count": null,
      "metadata": {
        "id": "hQw2LK7ZTIQi"
      },
      "outputs": [],
      "source": [
        "tf_dict = {\"有\":1, \"無\":0}\n",
        "\n",
        "# 將有無管理組織轉成0和1\n",
        "f = f.replace({\"有無管理組織\": tf_dict})\n",
        "\n",
        "# 將電梯轉成0和1\n",
        "f = f.replace({\"電梯\": tf_dict})"
      ]
    },
    {
      "cell_type": "markdown",
      "source": [
        "# 處理交易年月日、建築完成年月"
      ],
      "metadata": {
        "id": "Fz6-MbtlNgX9"
      }
    },
    {
      "cell_type": "code",
      "execution_count": 55,
      "metadata": {
        "id": "hgI_J9u5Vrg1"
      },
      "outputs": [],
      "source": [
        "# 將交易年份取出，新增到交易年欄位\n",
        "\n",
        "f[\"交易年\"] = 0\n",
        "for i in range(len(f)):\n",
        "  f.at[i, \"交易年\"] = f[\"交易年月日\"][i][0:3]"
      ]
    },
    {
      "cell_type": "code",
      "execution_count": 56,
      "metadata": {
        "id": "URFM05jIWleX"
      },
      "outputs": [],
      "source": [
        "# 如果有的話，將建築完成年份取出，新增到建築年欄位\n",
        "\n",
        "f[\"建築年\"] = 0\n",
        "for i in range(len(f)):\n",
        "  if f[\"建築完成年月\"].isna()[i] == False:\n",
        "   f.at[i, \"建築年\"] = f[\"建築完成年月\"][i][0:3]"
      ]
    },
    {
      "cell_type": "code",
      "source": [
        "# 將建築年=0的值帶入建築年的中位數\n",
        "\n",
        "for i in range(len(f)):\n",
        "  if f[\"建築年\"][i] == 0:\n",
        "    f.at[i, \"建築年\"] = f[\"建築年\"].median()"
      ],
      "metadata": {
        "id": "EtFC0uPNffQo"
      },
      "execution_count": 57,
      "outputs": []
    },
    {
      "cell_type": "code",
      "execution_count": 58,
      "metadata": {
        "id": "mTTPGyy0YgPp"
      },
      "outputs": [],
      "source": [
        "# 新增屋齡欄位，並將交易年-建築年，得到屋齡\n",
        "\n",
        "f[\"屋齡\"] = 0\n",
        "for i in range(len(f)):\n",
        "  f.at[i, \"屋齡\"] = int(f[\"交易年\"][i]) - int(f[\"建築年\"][i])"
      ]
    },
    {
      "cell_type": "code",
      "execution_count": 59,
      "metadata": {
        "id": "CAa_U9Qt_3vr"
      },
      "outputs": [],
      "source": [
        "# 去除屋齡<0的房屋\n",
        "\n",
        "for i in range(len(f)):\n",
        "  if f[\"屋齡\"][i] <= 0:\n",
        "    f = f.drop(i)\n",
        "\n",
        "f = f.reset_index(drop=True)"
      ]
    },
    {
      "cell_type": "markdown",
      "source": [
        "# 新增年平均CPI、CPI年增率欄位"
      ],
      "metadata": {
        "id": "oRs55KIbO0qP"
      }
    },
    {
      "cell_type": "code",
      "source": [
        "from google.colab import files\n",
        "import os\n",
        "from google.colab import drive\n",
        "\n",
        "drive.mount('/content/drive')\n",
        "os.chdir('/content/drive/My Drive/Tibame_03期_第二組團專/整理後的資料') #切換該目錄\n",
        "os.listdir()"
      ],
      "metadata": {
        "colab": {
          "base_uri": "https://localhost:8080/"
        },
        "id": "SmMpv_H3N-Ov",
        "outputId": "32ad8603-56b1-4d6b-ca7b-c937a9a9ce7e"
      },
      "execution_count": 77,
      "outputs": [
        {
          "output_type": "stream",
          "name": "stdout",
          "text": [
            "Drive already mounted at /content/drive; to attempt to forcibly remount, call drive.mount(\"/content/drive\", force_remount=True).\n"
          ]
        },
        {
          "output_type": "execute_result",
          "data": {
            "text/plain": [
              "['公費快篩診所.csv',\n",
              " '博物館.csv',\n",
              " '醫療 Final.csv',\n",
              " '教育 Final.csv',\n",
              " '消防 Final.csv',\n",
              " 'shilin_111_house.csv',\n",
              " '圖書館 Final.csv',\n",
              " '金融 Final.csv',\n",
              " '郵局 Final.csv',\n",
              " '機場 Final.csv',\n",
              " '禮儀 Final.csv',\n",
              " '廢棄物處理場 Final.csv',\n",
              " '所得.csv',\n",
              " '台北市房屋交易_1108_含通膨.csv',\n",
              " '捷運出口 Final.csv',\n",
              " '警察Final.csv',\n",
              " '公園Final.csv',\n",
              " '教育程度.csv',\n",
              " '消費者物價指數銜接表.csv']"
            ]
          },
          "metadata": {},
          "execution_count": 77
        }
      ]
    },
    {
      "cell_type": "code",
      "source": [
        "# 讀取消費者物價指數銜接表.csv檔案\n",
        "df = pd.read_csv(\"消費者物價指數銜接表.csv\", encoding = \"utf-8\")"
      ],
      "metadata": {
        "id": "kgKB3CCcmAiy"
      },
      "execution_count": 72,
      "outputs": []
    },
    {
      "cell_type": "code",
      "source": [
        "# 製作每年CPI字典\n",
        "\n",
        "cpi_dict = {}\n",
        "\n",
        "for i in range(len(df)):\n",
        "  cpi_dict[df[\"年\"][i]] = df[\"累計平均\"][i]"
      ],
      "metadata": {
        "id": "4F6SKAhWqH4s"
      },
      "execution_count": 73,
      "outputs": []
    },
    {
      "cell_type": "code",
      "source": [
        "# 新增年平均CPI欄位，將對應CPI加入f表格中\n",
        "\n",
        "f[\"年平均CPI\"] = 0.0\n",
        "\n",
        "for i in range (0, len(f)):\n",
        "  if int(f[\"交易年\"][i]) in cpi_dict:\n",
        "    f.at[i, \"年平均CPI\"] = float(cpi_dict[int(f[\"交易年\"][i])])"
      ],
      "metadata": {
        "id": "knQs4ZoDoIV1"
      },
      "execution_count": 74,
      "outputs": []
    },
    {
      "cell_type": "code",
      "execution_count": 78,
      "metadata": {
        "id": "Pyl7c5ySdF0m"
      },
      "outputs": [],
      "source": [
        "# 讀取消費者物價指數銜接表-年增率.csv檔案\n",
        "\n",
        "df2 = pd.read_csv(\"消費者物價指數銜接表-年增率.csv\", encoding = \"utf-8\")"
      ]
    },
    {
      "cell_type": "code",
      "source": [
        "# 製作每年CPI年增率字典\n",
        "\n",
        "cpi_dict_inc = {}\n",
        "\n",
        "for i in range(len(df2)):\n",
        "  cpi_dict_inc[df2[\"年\"][i]] = df2[\"全年\"][i]\n",
        "\n",
        "# 將111年的值從nan改成0\n",
        "\n",
        "cpi_dict_inc[111] =0"
      ],
      "metadata": {
        "id": "6Hi76Kkxtcj7"
      },
      "execution_count": 79,
      "outputs": []
    },
    {
      "cell_type": "code",
      "source": [
        "# 新增CPI年增率欄位，將對應CPI年增率加入f表格中\n",
        "\n",
        "f[\"CPI年增率\"] = 0.0\n",
        "\n",
        "for i in range (0, len(f)):\n",
        "  if int(f[\"交易年\"][i]) in cpi_dict_inc:\n",
        "    f.at[i, \"CPI年增率\"] = float(cpi_dict_inc[int(f[\"交易年\"][i])])"
      ],
      "metadata": {
        "id": "BNgnehHYt5Uy"
      },
      "execution_count": 80,
      "outputs": []
    },
    {
      "cell_type": "markdown",
      "source": [
        "# 新增各區所得中位數欄位"
      ],
      "metadata": {
        "id": "gwd1RIaBRN2Z"
      }
    },
    {
      "cell_type": "code",
      "source": [
        "# 讀取所得.csv檔案\n",
        "\n",
        "df3 = pd.read_csv(\"所得.csv\", encoding = \"utf-8\")"
      ],
      "metadata": {
        "id": "FwT9EK8VxTWi"
      },
      "execution_count": 81,
      "outputs": []
    },
    {
      "cell_type": "code",
      "execution_count": 83,
      "metadata": {
        "id": "H7RwKgf6eEqa"
      },
      "outputs": [],
      "source": [
        "# 留下合計欄位\n",
        "\n",
        "for i in range(len(df3)):\n",
        "  if df3[\"村里\"][i] != \"合計\":\n",
        "    df3 = df3.drop(i)\n",
        "\n",
        "# 重設index\n",
        "df3 = df3.reset_index(drop=True)"
      ]
    },
    {
      "cell_type": "code",
      "execution_count": 84,
      "metadata": {
        "id": "ozi4LF7Khr2r"
      },
      "outputs": [],
      "source": [
        "# 製作所得中位數字典\n",
        "\n",
        "med_dict = {}\n",
        "\n",
        "for i in range(len(df3)):\n",
        "  med_dict[df3[\"鄉鎮市區\"][i]] = int(df3[\"中位數\"][i]) * 1000"
      ]
    },
    {
      "cell_type": "code",
      "execution_count": 85,
      "metadata": {
        "id": "eolvBdRzfKzl"
      },
      "outputs": [],
      "source": [
        "# 新增所得中位數欄位，將對應所得中位數加入f表格中\n",
        "\n",
        "f[\"所得中位數\"] = 0\n",
        "\n",
        "for i in range(len(f)):\n",
        "  if f[\"鄉鎮市區\"][i] in med_dict:\n",
        "    f.at[i, \"所得中位數\"] = med_dict[f[\"鄉鎮市區\"][i]]"
      ]
    },
    {
      "cell_type": "markdown",
      "source": [
        "# 新增經度緯度欄位"
      ],
      "metadata": {
        "id": "EKQsPAZbR3Ui"
      }
    },
    {
      "cell_type": "code",
      "source": [
        "pip install googlemaps"
      ],
      "metadata": {
        "id": "vd-cqOHv0Dbd",
        "colab": {
          "base_uri": "https://localhost:8080/"
        },
        "outputId": "570ef204-206e-4dec-c5d0-428f297f301d"
      },
      "execution_count": 86,
      "outputs": [
        {
          "output_type": "stream",
          "name": "stdout",
          "text": [
            "Looking in indexes: https://pypi.org/simple, https://us-python.pkg.dev/colab-wheels/public/simple/\n",
            "Collecting googlemaps\n",
            "  Downloading googlemaps-4.7.3.tar.gz (32 kB)\n",
            "Requirement already satisfied: requests<3.0,>=2.20.0 in /usr/local/lib/python3.7/dist-packages (from googlemaps) (2.23.0)\n",
            "Requirement already satisfied: certifi>=2017.4.17 in /usr/local/lib/python3.7/dist-packages (from requests<3.0,>=2.20.0->googlemaps) (2022.9.24)\n",
            "Requirement already satisfied: idna<3,>=2.5 in /usr/local/lib/python3.7/dist-packages (from requests<3.0,>=2.20.0->googlemaps) (2.10)\n",
            "Requirement already satisfied: chardet<4,>=3.0.2 in /usr/local/lib/python3.7/dist-packages (from requests<3.0,>=2.20.0->googlemaps) (3.0.4)\n",
            "Requirement already satisfied: urllib3!=1.25.0,!=1.25.1,<1.26,>=1.21.1 in /usr/local/lib/python3.7/dist-packages (from requests<3.0,>=2.20.0->googlemaps) (1.24.3)\n",
            "Building wheels for collected packages: googlemaps\n",
            "  Building wheel for googlemaps (setup.py) ... \u001b[?25l\u001b[?25hdone\n",
            "  Created wheel for googlemaps: filename=googlemaps-4.7.3-py3-none-any.whl size=40341 sha256=121294c782fc1dedb07757c5cf09a29c40f71a1d1445a54fe91ba43a7f777a36\n",
            "  Stored in directory: /root/.cache/pip/wheels/e3/83/52/3aa3b54c0dd386c0f7e20c7af2748822d2cde581c7555939bd\n",
            "Successfully built googlemaps\n",
            "Installing collected packages: googlemaps\n",
            "Successfully installed googlemaps-4.7.3\n"
          ]
        }
      ]
    },
    {
      "cell_type": "code",
      "execution_count": 87,
      "metadata": {
        "id": "ET06R6CNc06t"
      },
      "outputs": [],
      "source": [
        "# 地址轉經緯度\n",
        "import googlemaps"
      ]
    },
    {
      "cell_type": "code",
      "execution_count": 88,
      "metadata": {
        "id": "wZkzFiLUcvg8",
        "colab": {
          "base_uri": "https://localhost:8080/"
        },
        "outputId": "b44ebc13-cb68-42e6-87c7-6526772be22d"
      },
      "outputs": [
        {
          "output_type": "stream",
          "name": "stderr",
          "text": [
            "/usr/local/lib/python3.7/dist-packages/ipykernel_launcher.py:10: SettingWithCopyWarning: \n",
            "A value is trying to be set on a copy of a slice from a DataFrame\n",
            "\n",
            "See the caveats in the documentation: https://pandas.pydata.org/pandas-docs/stable/user_guide/indexing.html#returning-a-view-versus-a-copy\n",
            "  # Remove the CWD from sys.path while we load stuff.\n",
            "/usr/local/lib/python3.7/dist-packages/ipykernel_launcher.py:11: SettingWithCopyWarning: \n",
            "A value is trying to be set on a copy of a slice from a DataFrame\n",
            "\n",
            "See the caveats in the documentation: https://pandas.pydata.org/pandas-docs/stable/user_guide/indexing.html#returning-a-view-versus-a-copy\n",
            "  # This is added back by InteractiveShellApp.init_path()\n"
          ]
        }
      ],
      "source": [
        "f[\"緯度\"] = 0.0\n",
        "f[\"經度\"] = 0.0\n",
        "\n",
        "for i in range(0, len(f)):  \n",
        "  gmaps = googlemaps.Client(key=\"\") # 輸入google maps API 金鑰\n",
        "  address = f[\"土地位置建物門牌\"][i]\n",
        "  geocode = gmaps.geocode(address=address)\n",
        "  (lat, lng) = map(geocode[0]['geometry']['location'].get, ('lat', 'lng'))\n",
        "\n",
        "  f[\"緯度\"][i] = (lat, lng)[0]\n",
        "  f[\"經度\"][i] = (lat, lng)[1]"
      ]
    },
    {
      "cell_type": "markdown",
      "source": [
        "# 儲存檔案"
      ],
      "metadata": {
        "id": "wBvad01CjFfp"
      }
    },
    {
      "cell_type": "code",
      "source": [
        "fname = input(\"請輸入文件年份季度，EX: 111S1 \")\n",
        "f.to_csv(\"/content/drive/My Drive/Tibame_03期_第二組團專/整理後的資料/每年每季房屋交易資料/台北市房屋交易_\"+str(fname)+\".csv\", encoding=\"utf-8\", index=False)"
      ],
      "metadata": {
        "id": "zF6TcFK_bwmn",
        "colab": {
          "base_uri": "https://localhost:8080/"
        },
        "outputId": "633742a9-5757-4926-ed6a-84191dd24fd1"
      },
      "execution_count": 101,
      "outputs": [
        {
          "name": "stdout",
          "output_type": "stream",
          "text": [
            "請輸入文件年份季度，EX: 111S1 111S1\n"
          ]
        }
      ]
    }
  ]
}