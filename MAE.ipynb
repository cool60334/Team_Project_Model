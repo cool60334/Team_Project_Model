{
  "nbformat": 4,
  "nbformat_minor": 0,
  "metadata": {
    "colab": {
      "provenance": [],
      "authorship_tag": "ABX9TyMLcqbCDltLJcCV8rP1+EQ2",
      "include_colab_link": true
    },
    "kernelspec": {
      "name": "python3",
      "display_name": "Python 3"
    },
    "language_info": {
      "name": "python"
    }
  },
  "cells": [
    {
      "cell_type": "markdown",
      "metadata": {
        "id": "view-in-github",
        "colab_type": "text"
      },
      "source": [
        "<a href=\"https://colab.research.google.com/github/cool60334/Team_Project_Model/blob/main/MAE.ipynb\" target=\"_parent\"><img src=\"https://colab.research.google.com/assets/colab-badge.svg\" alt=\"Open In Colab\"/></a>"
      ]
    },
    {
      "cell_type": "code",
      "execution_count": 1,
      "metadata": {
        "id": "DZ0O55Z7_gB0"
      },
      "outputs": [],
      "source": [
        "import pandas as pd\n",
        "import numpy as np\n",
        "from sklearn.model_selection import GridSearchCV\n",
        "from sklearn.tree import DecisionTreeRegressor\n",
        "from sklearn.model_selection import train_test_split\n",
        "from sklearn.metrics import mean_absolute_error\n",
        "import glob\n",
        "import os"
      ]
    },
    {
      "cell_type": "code",
      "source": [
        "import pandas as pd\n",
        "import geopy.distance\n",
        "from google.colab import files\n",
        "import os\n",
        "from google.colab import drive\n",
        "\n",
        "drive.mount('/content/drive')\n",
        "os.chdir('/content/drive/My Drive/Tibame_03期_第二組團專/訓練用資料/特徵檔案') #切換該目錄\n",
        "os.listdir()"
      ],
      "metadata": {
        "id": "t8x-RB1A7Y1s",
        "colab": {
          "base_uri": "https://localhost:8080/"
        },
        "outputId": "e4ecd0b6-9a72-4877-da7f-48224cb545a9"
      },
      "execution_count": 2,
      "outputs": [
        {
          "output_type": "stream",
          "name": "stdout",
          "text": [
            "Mounted at /content/drive\n"
          ]
        },
        {
          "output_type": "execute_result",
          "data": {
            "text/plain": [
              "['raw_data',\n",
              " '宗庭',\n",
              " '博翔',\n",
              " '俊佑',\n",
              " '聖評',\n",
              " '柏崴',\n",
              " '冠文',\n",
              " '設施座標表.xlsx',\n",
              " '設施座標表Ver2.xlsx']"
            ]
          },
          "metadata": {},
          "execution_count": 2
        }
      ]
    },
    {
      "cell_type": "code",
      "source": [
        "name = input(\"請輸入名字後兩字：\")"
      ],
      "metadata": {
        "id": "zKbJhwLu2iQa",
        "colab": {
          "base_uri": "https://localhost:8080/"
        },
        "outputId": "40d42227-1fe3-46d5-87c0-153c6270e8e4"
      },
      "execution_count": 3,
      "outputs": [
        {
          "name": "stdout",
          "output_type": "stream",
          "text": [
            "請輸入名字後兩字：宗庭\n"
          ]
        }
      ]
    },
    {
      "cell_type": "code",
      "source": [
        "f_test = pd.read_csv(str(name)+\"/台北市房屋交易_finish.csv\", encoding = \"utf-8\")\n",
        "pd.set_option('display.max_columns', 100)"
      ],
      "metadata": {
        "id": "9W65xb_EOJmK"
      },
      "execution_count": 4,
      "outputs": []
    },
    {
      "cell_type": "code",
      "source": [
        "f_test"
      ],
      "metadata": {
        "id": "3jl8RRlSTk4M"
      },
      "execution_count": null,
      "outputs": []
    },
    {
      "cell_type": "code",
      "source": [
        "f_test = f_test.drop([\"交易年月日\", \"建築完成年月\", \"交易年\", \"建築年\", \"緯度\", \"經度\"], axis=1)"
      ],
      "metadata": {
        "id": "Qcd-oO7gTrY7"
      },
      "execution_count": 6,
      "outputs": []
    },
    {
      "cell_type": "code",
      "source": [
        "f_test"
      ],
      "metadata": {
        "colab": {
          "base_uri": "https://localhost:8080/",
          "height": 457
        },
        "id": "pDAjEwlKQCtG",
        "outputId": "59162ddb-c801-4bd8-c3c5-ad2b76041c90"
      },
      "execution_count": 7,
      "outputs": [
        {
          "output_type": "execute_result",
          "data": {
            "text/plain": [
              "   土地移轉總面積平方公尺  移轉層次  總樓層數  建物移轉總面積平方公尺  建物現況格局-房  建物現況格局-廳  建物現況格局-衛  \\\n",
              "0        12.75     4     4        38.93         1         1         1   \n",
              "\n",
              "   建物現況格局-隔間       總價元   單價元平方公尺  車位移轉總面積(平方公尺)  車位總價元  主建物面積  附屬建物面積  陽台面積  \\\n",
              "0          1  0.013061  0.177403            0.0    0.0  38.93     0.0   0.0   \n",
              "\n",
              "   屋齡  年平均CPI  CPI年增率     所得中位數  鄉鎮市區_中山區  鄉鎮市區_中正區  鄉鎮市區_信義區  鄉鎮市區_內湖區  \\\n",
              "0  51  102.31   -0.23  0.515504         0         0         0         0   \n",
              "\n",
              "   鄉鎮市區_北投區  鄉鎮市區_南港區  鄉鎮市區_士林區  鄉鎮市區_大同區  鄉鎮市區_大安區  鄉鎮市區_文山區  鄉鎮市區_松山區  \\\n",
              "0         0         0         0         0         0         1         0   \n",
              "\n",
              "   鄉鎮市區_萬華區  交易標的_建物  交易標的_房地(土地+建物)  交易標的_房地(土地+建物)+車位  都市土地使用分區_住  \\\n",
              "0         0        0               1                  0           0   \n",
              "\n",
              "   都市土地使用分區_其他都市土地使用分區  都市土地使用分區_商  建物型態_住宅大樓(11層含以上有電梯)  建物型態_公寓(5樓含以下無電梯)  \\\n",
              "0                    0           1                     0                  1   \n",
              "\n",
              "   建物型態_套房(1房1廳1衛)  建物型態_店面(店鋪)  建物型態_廠辦  建物型態_華廈(10層含以下有電梯)  建物型態_透天厝  \\\n",
              "0                0            0        0                   0         0   \n",
              "\n",
              "   主要用途_住商用  主要用途_住家用  主要用途_住工用  主要用途_其他用途  主要用途_商業用  主要用途_工業用  主要用途_辦公用  \\\n",
              "0         0         1         0          0         0         0         0   \n",
              "\n",
              "   主要用途_農業用  主要建材_其他主要建材  主要建材_加強磚造  主要建材_鋼筋混凝土造  主要建材_鋼骨造  主要建材_鋼骨鋼筋混凝土造  \\\n",
              "0         0            0          1            0         0              0   \n",
              "\n",
              "   車位類別_一樓平面  車位類別_其他車位類別  車位類別_升降平面  車位類別_升降機械  車位類別_坡道平面  車位類別_坡道機械  \\\n",
              "0          0            0          0          0          0          0   \n",
              "\n",
              "   車位類別_塔式車位  車位類別_無車位  有無管理組織_0  有無管理組織_1  電梯_0.0  電梯_1.0  固定範圍(公園)  公園數量  \\\n",
              "0          0         1         1         0       1       0       1.8    55   \n",
              "\n",
              "   固定範圍(博物館)  博物館數量  固定範圍(圖書館)  圖書館數量  固定範圍(捷運出口)  捷運出口數量  固定範圍(學校)  學校數量  \\\n",
              "0        2.0      0        0.6      1         0.4       0       1.8    29   \n",
              "\n",
              "   固定範圍(消防局)  消防局數量  固定範圍(禮儀)  禮儀數量  固定範圍(警察局)  警察局數量  固定範圍(郵局)  郵局數量  \\\n",
              "0        2.0      5       1.0     0        1.6      4       1.2     5   \n",
              "\n",
              "   固定範圍(金融)  金融數量  固定範圍(醫院)  醫院數量  固定範圍(診所)  診所數量  固定範圍(藥局)  藥局數量  \n",
              "0       1.4    14       0.2     0       1.6    97       0.4     3  "
            ],
            "text/html": [
              "\n",
              "  <div id=\"df-89ad644e-c3d2-4a4f-bebf-9102f64fc560\">\n",
              "    <div class=\"colab-df-container\">\n",
              "      <div>\n",
              "<style scoped>\n",
              "    .dataframe tbody tr th:only-of-type {\n",
              "        vertical-align: middle;\n",
              "    }\n",
              "\n",
              "    .dataframe tbody tr th {\n",
              "        vertical-align: top;\n",
              "    }\n",
              "\n",
              "    .dataframe thead th {\n",
              "        text-align: right;\n",
              "    }\n",
              "</style>\n",
              "<table border=\"1\" class=\"dataframe\">\n",
              "  <thead>\n",
              "    <tr style=\"text-align: right;\">\n",
              "      <th></th>\n",
              "      <th>土地移轉總面積平方公尺</th>\n",
              "      <th>移轉層次</th>\n",
              "      <th>總樓層數</th>\n",
              "      <th>建物移轉總面積平方公尺</th>\n",
              "      <th>建物現況格局-房</th>\n",
              "      <th>建物現況格局-廳</th>\n",
              "      <th>建物現況格局-衛</th>\n",
              "      <th>建物現況格局-隔間</th>\n",
              "      <th>總價元</th>\n",
              "      <th>單價元平方公尺</th>\n",
              "      <th>車位移轉總面積(平方公尺)</th>\n",
              "      <th>車位總價元</th>\n",
              "      <th>主建物面積</th>\n",
              "      <th>附屬建物面積</th>\n",
              "      <th>陽台面積</th>\n",
              "      <th>屋齡</th>\n",
              "      <th>年平均CPI</th>\n",
              "      <th>CPI年增率</th>\n",
              "      <th>所得中位數</th>\n",
              "      <th>鄉鎮市區_中山區</th>\n",
              "      <th>鄉鎮市區_中正區</th>\n",
              "      <th>鄉鎮市區_信義區</th>\n",
              "      <th>鄉鎮市區_內湖區</th>\n",
              "      <th>鄉鎮市區_北投區</th>\n",
              "      <th>鄉鎮市區_南港區</th>\n",
              "      <th>鄉鎮市區_士林區</th>\n",
              "      <th>鄉鎮市區_大同區</th>\n",
              "      <th>鄉鎮市區_大安區</th>\n",
              "      <th>鄉鎮市區_文山區</th>\n",
              "      <th>鄉鎮市區_松山區</th>\n",
              "      <th>鄉鎮市區_萬華區</th>\n",
              "      <th>交易標的_建物</th>\n",
              "      <th>交易標的_房地(土地+建物)</th>\n",
              "      <th>交易標的_房地(土地+建物)+車位</th>\n",
              "      <th>都市土地使用分區_住</th>\n",
              "      <th>都市土地使用分區_其他都市土地使用分區</th>\n",
              "      <th>都市土地使用分區_商</th>\n",
              "      <th>建物型態_住宅大樓(11層含以上有電梯)</th>\n",
              "      <th>建物型態_公寓(5樓含以下無電梯)</th>\n",
              "      <th>建物型態_套房(1房1廳1衛)</th>\n",
              "      <th>建物型態_店面(店鋪)</th>\n",
              "      <th>建物型態_廠辦</th>\n",
              "      <th>建物型態_華廈(10層含以下有電梯)</th>\n",
              "      <th>建物型態_透天厝</th>\n",
              "      <th>主要用途_住商用</th>\n",
              "      <th>主要用途_住家用</th>\n",
              "      <th>主要用途_住工用</th>\n",
              "      <th>主要用途_其他用途</th>\n",
              "      <th>主要用途_商業用</th>\n",
              "      <th>主要用途_工業用</th>\n",
              "      <th>主要用途_辦公用</th>\n",
              "      <th>主要用途_農業用</th>\n",
              "      <th>主要建材_其他主要建材</th>\n",
              "      <th>主要建材_加強磚造</th>\n",
              "      <th>主要建材_鋼筋混凝土造</th>\n",
              "      <th>主要建材_鋼骨造</th>\n",
              "      <th>主要建材_鋼骨鋼筋混凝土造</th>\n",
              "      <th>車位類別_一樓平面</th>\n",
              "      <th>車位類別_其他車位類別</th>\n",
              "      <th>車位類別_升降平面</th>\n",
              "      <th>車位類別_升降機械</th>\n",
              "      <th>車位類別_坡道平面</th>\n",
              "      <th>車位類別_坡道機械</th>\n",
              "      <th>車位類別_塔式車位</th>\n",
              "      <th>車位類別_無車位</th>\n",
              "      <th>有無管理組織_0</th>\n",
              "      <th>有無管理組織_1</th>\n",
              "      <th>電梯_0.0</th>\n",
              "      <th>電梯_1.0</th>\n",
              "      <th>固定範圍(公園)</th>\n",
              "      <th>公園數量</th>\n",
              "      <th>固定範圍(博物館)</th>\n",
              "      <th>博物館數量</th>\n",
              "      <th>固定範圍(圖書館)</th>\n",
              "      <th>圖書館數量</th>\n",
              "      <th>固定範圍(捷運出口)</th>\n",
              "      <th>捷運出口數量</th>\n",
              "      <th>固定範圍(學校)</th>\n",
              "      <th>學校數量</th>\n",
              "      <th>固定範圍(消防局)</th>\n",
              "      <th>消防局數量</th>\n",
              "      <th>固定範圍(禮儀)</th>\n",
              "      <th>禮儀數量</th>\n",
              "      <th>固定範圍(警察局)</th>\n",
              "      <th>警察局數量</th>\n",
              "      <th>固定範圍(郵局)</th>\n",
              "      <th>郵局數量</th>\n",
              "      <th>固定範圍(金融)</th>\n",
              "      <th>金融數量</th>\n",
              "      <th>固定範圍(醫院)</th>\n",
              "      <th>醫院數量</th>\n",
              "      <th>固定範圍(診所)</th>\n",
              "      <th>診所數量</th>\n",
              "      <th>固定範圍(藥局)</th>\n",
              "      <th>藥局數量</th>\n",
              "    </tr>\n",
              "  </thead>\n",
              "  <tbody>\n",
              "    <tr>\n",
              "      <th>0</th>\n",
              "      <td>12.75</td>\n",
              "      <td>4</td>\n",
              "      <td>4</td>\n",
              "      <td>38.93</td>\n",
              "      <td>1</td>\n",
              "      <td>1</td>\n",
              "      <td>1</td>\n",
              "      <td>1</td>\n",
              "      <td>0.013061</td>\n",
              "      <td>0.177403</td>\n",
              "      <td>0.0</td>\n",
              "      <td>0.0</td>\n",
              "      <td>38.93</td>\n",
              "      <td>0.0</td>\n",
              "      <td>0.0</td>\n",
              "      <td>51</td>\n",
              "      <td>102.31</td>\n",
              "      <td>-0.23</td>\n",
              "      <td>0.515504</td>\n",
              "      <td>0</td>\n",
              "      <td>0</td>\n",
              "      <td>0</td>\n",
              "      <td>0</td>\n",
              "      <td>0</td>\n",
              "      <td>0</td>\n",
              "      <td>0</td>\n",
              "      <td>0</td>\n",
              "      <td>0</td>\n",
              "      <td>1</td>\n",
              "      <td>0</td>\n",
              "      <td>0</td>\n",
              "      <td>0</td>\n",
              "      <td>1</td>\n",
              "      <td>0</td>\n",
              "      <td>0</td>\n",
              "      <td>0</td>\n",
              "      <td>1</td>\n",
              "      <td>0</td>\n",
              "      <td>1</td>\n",
              "      <td>0</td>\n",
              "      <td>0</td>\n",
              "      <td>0</td>\n",
              "      <td>0</td>\n",
              "      <td>0</td>\n",
              "      <td>0</td>\n",
              "      <td>1</td>\n",
              "      <td>0</td>\n",
              "      <td>0</td>\n",
              "      <td>0</td>\n",
              "      <td>0</td>\n",
              "      <td>0</td>\n",
              "      <td>0</td>\n",
              "      <td>0</td>\n",
              "      <td>1</td>\n",
              "      <td>0</td>\n",
              "      <td>0</td>\n",
              "      <td>0</td>\n",
              "      <td>0</td>\n",
              "      <td>0</td>\n",
              "      <td>0</td>\n",
              "      <td>0</td>\n",
              "      <td>0</td>\n",
              "      <td>0</td>\n",
              "      <td>0</td>\n",
              "      <td>1</td>\n",
              "      <td>1</td>\n",
              "      <td>0</td>\n",
              "      <td>1</td>\n",
              "      <td>0</td>\n",
              "      <td>1.8</td>\n",
              "      <td>55</td>\n",
              "      <td>2.0</td>\n",
              "      <td>0</td>\n",
              "      <td>0.6</td>\n",
              "      <td>1</td>\n",
              "      <td>0.4</td>\n",
              "      <td>0</td>\n",
              "      <td>1.8</td>\n",
              "      <td>29</td>\n",
              "      <td>2.0</td>\n",
              "      <td>5</td>\n",
              "      <td>1.0</td>\n",
              "      <td>0</td>\n",
              "      <td>1.6</td>\n",
              "      <td>4</td>\n",
              "      <td>1.2</td>\n",
              "      <td>5</td>\n",
              "      <td>1.4</td>\n",
              "      <td>14</td>\n",
              "      <td>0.2</td>\n",
              "      <td>0</td>\n",
              "      <td>1.6</td>\n",
              "      <td>97</td>\n",
              "      <td>0.4</td>\n",
              "      <td>3</td>\n",
              "    </tr>\n",
              "  </tbody>\n",
              "</table>\n",
              "</div>\n",
              "      <button class=\"colab-df-convert\" onclick=\"convertToInteractive('df-89ad644e-c3d2-4a4f-bebf-9102f64fc560')\"\n",
              "              title=\"Convert this dataframe to an interactive table.\"\n",
              "              style=\"display:none;\">\n",
              "        \n",
              "  <svg xmlns=\"http://www.w3.org/2000/svg\" height=\"24px\"viewBox=\"0 0 24 24\"\n",
              "       width=\"24px\">\n",
              "    <path d=\"M0 0h24v24H0V0z\" fill=\"none\"/>\n",
              "    <path d=\"M18.56 5.44l.94 2.06.94-2.06 2.06-.94-2.06-.94-.94-2.06-.94 2.06-2.06.94zm-11 1L8.5 8.5l.94-2.06 2.06-.94-2.06-.94L8.5 2.5l-.94 2.06-2.06.94zm10 10l.94 2.06.94-2.06 2.06-.94-2.06-.94-.94-2.06-.94 2.06-2.06.94z\"/><path d=\"M17.41 7.96l-1.37-1.37c-.4-.4-.92-.59-1.43-.59-.52 0-1.04.2-1.43.59L10.3 9.45l-7.72 7.72c-.78.78-.78 2.05 0 2.83L4 21.41c.39.39.9.59 1.41.59.51 0 1.02-.2 1.41-.59l7.78-7.78 2.81-2.81c.8-.78.8-2.07 0-2.86zM5.41 20L4 18.59l7.72-7.72 1.47 1.35L5.41 20z\"/>\n",
              "  </svg>\n",
              "      </button>\n",
              "      \n",
              "  <style>\n",
              "    .colab-df-container {\n",
              "      display:flex;\n",
              "      flex-wrap:wrap;\n",
              "      gap: 12px;\n",
              "    }\n",
              "\n",
              "    .colab-df-convert {\n",
              "      background-color: #E8F0FE;\n",
              "      border: none;\n",
              "      border-radius: 50%;\n",
              "      cursor: pointer;\n",
              "      display: none;\n",
              "      fill: #1967D2;\n",
              "      height: 32px;\n",
              "      padding: 0 0 0 0;\n",
              "      width: 32px;\n",
              "    }\n",
              "\n",
              "    .colab-df-convert:hover {\n",
              "      background-color: #E2EBFA;\n",
              "      box-shadow: 0px 1px 2px rgba(60, 64, 67, 0.3), 0px 1px 3px 1px rgba(60, 64, 67, 0.15);\n",
              "      fill: #174EA6;\n",
              "    }\n",
              "\n",
              "    [theme=dark] .colab-df-convert {\n",
              "      background-color: #3B4455;\n",
              "      fill: #D2E3FC;\n",
              "    }\n",
              "\n",
              "    [theme=dark] .colab-df-convert:hover {\n",
              "      background-color: #434B5C;\n",
              "      box-shadow: 0px 1px 3px 1px rgba(0, 0, 0, 0.15);\n",
              "      filter: drop-shadow(0px 1px 2px rgba(0, 0, 0, 0.3));\n",
              "      fill: #FFFFFF;\n",
              "    }\n",
              "  </style>\n",
              "\n",
              "      <script>\n",
              "        const buttonEl =\n",
              "          document.querySelector('#df-89ad644e-c3d2-4a4f-bebf-9102f64fc560 button.colab-df-convert');\n",
              "        buttonEl.style.display =\n",
              "          google.colab.kernel.accessAllowed ? 'block' : 'none';\n",
              "\n",
              "        async function convertToInteractive(key) {\n",
              "          const element = document.querySelector('#df-89ad644e-c3d2-4a4f-bebf-9102f64fc560');\n",
              "          const dataTable =\n",
              "            await google.colab.kernel.invokeFunction('convertToInteractive',\n",
              "                                                     [key], {});\n",
              "          if (!dataTable) return;\n",
              "\n",
              "          const docLinkHtml = 'Like what you see? Visit the ' +\n",
              "            '<a target=\"_blank\" href=https://colab.research.google.com/notebooks/data_table.ipynb>data table notebook</a>'\n",
              "            + ' to learn more about interactive tables.';\n",
              "          element.innerHTML = '';\n",
              "          dataTable['output_type'] = 'display_data';\n",
              "          await google.colab.output.renderOutput(dataTable, element);\n",
              "          const docLink = document.createElement('div');\n",
              "          docLink.innerHTML = docLinkHtml;\n",
              "          element.appendChild(docLink);\n",
              "        }\n",
              "      </script>\n",
              "    </div>\n",
              "  </div>\n",
              "  "
            ]
          },
          "metadata": {},
          "execution_count": 7
        }
      ]
    },
    {
      "cell_type": "code",
      "source": [
        "f_test_x = f_test.drop([\"總價元\",\"單價元平方公尺\",\"車位總價元\"], axis = 1)"
      ],
      "metadata": {
        "id": "OcobgwilVfOu"
      },
      "execution_count": 8,
      "outputs": []
    },
    {
      "cell_type": "code",
      "source": [
        "f_test_y = f_test[\"總價元\"]"
      ],
      "metadata": {
        "id": "79EGy0p8QIWV"
      },
      "execution_count": 9,
      "outputs": []
    },
    {
      "cell_type": "code",
      "source": [
        "# 載入房屋交易csv檔\n",
        "\n",
        "f = pd.read_csv(str(name)+\"/台北市房屋交易_藥局400公尺.csv\", encoding = \"utf-8\")\n",
        "pd.set_option('display.max_columns', 100)"
      ],
      "metadata": {
        "id": "MqbaUiKt3Oc-"
      },
      "execution_count": 10,
      "outputs": []
    },
    {
      "cell_type": "code",
      "source": [
        "# f = pd.read_csv(str(name)+\"/\", encoding = \"utf-8\")  # 讀取csv檔案\n",
        "\n",
        "# 去除欄位(交易年月日、交易年分、建築年分)\n",
        "\n",
        "f = f.drop([\"交易年月日\", \"交易年\", \"建築年\", \"緯度\", \"經度\"], axis=1)\n",
        "\n",
        "x = f.drop([\"總價元\",\"單價元平方公尺\",\"車位總價元\"], axis = 1) # 特徵(去除總價元、單價元平方公尺、車位總價元)\n",
        "y = f[\"總價元\"]  # 目標(取得總價元)\n",
        "\n",
        "x_train, x_test, y_train, y_test = train_test_split(x, y, test_size=0.1)  # 切分資料\n",
        "\n",
        "p = {\"max_depth\": range(5, 13)}  # 設定要測試的參數及測試範圍\n",
        "\n",
        "reg = DecisionTreeRegressor()\n",
        "s = GridSearchCV(reg, p)  # 測試每個參數\n",
        "s.fit(x, y)  # 訓練模型\n",
        "\n",
        "ori_depth = s.best_params_\n",
        "ori_r2 = s.best_score_\n",
        "ori_r2"
      ],
      "metadata": {
        "colab": {
          "base_uri": "https://localhost:8080/"
        },
        "id": "p8TU9BfIAK36",
        "outputId": "761c61d2-077a-427b-d369-17b06ffed685"
      },
      "execution_count": 11,
      "outputs": [
        {
          "output_type": "execute_result",
          "data": {
            "text/plain": [
              "0.7396020577884823"
            ]
          },
          "metadata": {},
          "execution_count": 11
        }
      ]
    },
    {
      "cell_type": "code",
      "source": [
        "# 原資料MAE\n",
        "\n",
        "y_pre = s.predict(x_test)  # 帶入測試用資料進行預測，得到預測值y_pre\n",
        "raw_mae = mean_absolute_error(y_test, y_pre)  # 計算MAE\n",
        "raw_mae"
      ],
      "metadata": {
        "colab": {
          "base_uri": "https://localhost:8080/"
        },
        "id": "dlqppKikQo9q",
        "outputId": "82403214-4ffa-427d-86e9-67e7dffe08bf"
      },
      "execution_count": 14,
      "outputs": [
        {
          "output_type": "execute_result",
          "data": {
            "text/plain": [
              "0.01337063003909187"
            ]
          },
          "metadata": {},
          "execution_count": 14
        }
      ]
    },
    {
      "cell_type": "code",
      "source": [
        "# 一筆資料MAE\n",
        "\n",
        "f_test_y_pre = s.predict(f_test_x)  # 帶入一筆測試用資料進行預測，得到預測值f_test_y_pre\n",
        "one_mae = mean_absolute_error(f_test_y, f_test_y_pre)  # 計算MAE\n",
        "one_mae"
      ],
      "metadata": {
        "colab": {
          "base_uri": "https://localhost:8080/"
        },
        "id": "cytIrAbCErc1",
        "outputId": "cb9337b8-2fb2-496f-b0c3-183eacbe4ab6"
      },
      "execution_count": 15,
      "outputs": [
        {
          "output_type": "execute_result",
          "data": {
            "text/plain": [
              "0.008199478891365094"
            ]
          },
          "metadata": {},
          "execution_count": 15
        }
      ]
    }
  ]
}