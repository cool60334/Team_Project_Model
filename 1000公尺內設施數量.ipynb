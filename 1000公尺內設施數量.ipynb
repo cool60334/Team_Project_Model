{
  "nbformat": 4,
  "nbformat_minor": 0,
  "metadata": {
    "colab": {
      "provenance": [],
      "collapsed_sections": [],
      "authorship_tag": "ABX9TyOD7FbiSXQ32aFKpnru/z+0",
      "include_colab_link": true
    },
    "kernelspec": {
      "name": "python3",
      "display_name": "Python 3"
    },
    "language_info": {
      "name": "python"
    }
  },
  "cells": [
    {
      "cell_type": "markdown",
      "metadata": {
        "id": "view-in-github",
        "colab_type": "text"
      },
      "source": [
        "<a href=\"https://colab.research.google.com/github/cool60334/Team_Project_Model/blob/main/1000%E5%85%AC%E5%B0%BA%E5%85%A7%E8%A8%AD%E6%96%BD%E6%95%B8%E9%87%8F.ipynb\" target=\"_parent\"><img src=\"https://colab.research.google.com/assets/colab-badge.svg\" alt=\"Open In Colab\"/></a>"
      ]
    },
    {
      "cell_type": "code",
      "execution_count": 14,
      "metadata": {
        "id": "srxRplr5CfNT"
      },
      "outputs": [],
      "source": [
        "import pandas as pd\n",
        "import geopy.distance"
      ]
    },
    {
      "cell_type": "code",
      "source": [
        "# 載入房屋交易csv檔\n",
        "\n",
        "df = pd.read_csv(\"台北市房屋交易_1108_2.csv\", encoding = \"utf-8\")\n",
        "pd.set_option('display.max_columns', 100)"
      ],
      "metadata": {
        "id": "5VBxrwpsD6f2"
      },
      "execution_count": 9,
      "outputs": []
    },
    {
      "cell_type": "code",
      "source": [
        "# 載入設施csv檔\n",
        "\n",
        "f = pd.read_csv(\"金融 Final.csv\", encoding = \"utf-8\") # 輸入csv檔案名稱\n",
        "pd.set_option('display.max_columns', 100)"
      ],
      "metadata": {
        "id": "8v4fbn0kD9Cc"
      },
      "execution_count": 107,
      "outputs": []
    },
    {
      "cell_type": "code",
      "source": [
        "f"
      ],
      "metadata": {
        "id": "GzIlTN_YLdJS"
      },
      "execution_count": null,
      "outputs": []
    },
    {
      "cell_type": "code",
      "source": [
        "df[\"fin_d\"]=1\n",
        "df[\"fin_q\"]=\"\"\n",
        "for i in range(len(df)):\n",
        "    times = 0\n",
        "    origin_lat = str(df[\"lat\"][i])\n",
        "    origin_long = str(df[\"lng\"][i])\n",
        "    origin = (origin_lat, origin_long)\n",
        "    for j in range(len(f)):\n",
        "        destination_lat = str(f[\"lat\"][j])\n",
        "        destination_long = str(f[\"lng\"][j])\n",
        "        destination = (destination_lat, destination_long)\n",
        "        distance=geopy.distance.geodesic(origin, destination).km\n",
        "        try:\n",
        "            if distance <= 1:\n",
        "                times = times + 1\n",
        "                \n",
        "        except:\n",
        "            print(i,\"error\")\n",
        "    df.at[i,\"fin_q\"] = times"
      ],
      "metadata": {
        "id": "xJwrKEcxElBQ"
      },
      "execution_count": 109,
      "outputs": []
    },
    {
      "cell_type": "code",
      "source": [
        "# 一公里內，公園數(park_q)、博物館數(mu_q)、圖書館數(lib_q)、捷運出口數(mrt_q)、學校數(edu_q)、消防數(fire_q)、禮儀數(dead_q)、警局數(pol_q)、郵局數(post_q)、醫療(hosp_q)、金融(fin_q)"
      ],
      "metadata": {
        "id": "x_CIQqgTMKQ2"
      },
      "execution_count": null,
      "outputs": []
    },
    {
      "cell_type": "code",
      "source": [
        "df"
      ],
      "metadata": {
        "id": "OIyTtHInHFhb"
      },
      "execution_count": null,
      "outputs": []
    },
    {
      "cell_type": "code",
      "source": [
        "df.to_csv(\"台北市房屋交易_1110_2.csv\", encoding = \"utf-8\", index=False)"
      ],
      "metadata": {
        "id": "_VWCY6hfbngi"
      },
      "execution_count": 111,
      "outputs": []
    }
  ]
}